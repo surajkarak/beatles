{
 "cells": [
  {
   "cell_type": "code",
   "execution_count": 4,
   "metadata": {},
   "outputs": [],
   "source": [
    "import math\n",
    "import pandas as pd\n",
    "from dotenv import load_dotenv\n",
    "import os"
   ]
  },
  {
   "cell_type": "code",
   "execution_count": 5,
   "metadata": {},
   "outputs": [],
   "source": [
    "import requests\n",
    "from urllib.parse import urlencode\n",
    "import base64\n",
    "import webbrowser"
   ]
  },
  {
   "cell_type": "code",
   "execution_count": 6,
   "metadata": {},
   "outputs": [
    {
     "data": {
      "text/plain": [
       "True"
      ]
     },
     "execution_count": 6,
     "metadata": {},
     "output_type": "execute_result"
    }
   ],
   "source": [
    "load_dotenv()"
   ]
  },
  {
   "cell_type": "code",
   "execution_count": 7,
   "metadata": {},
   "outputs": [],
   "source": [
    "client_id = os.getenv('SPOTIFY_CLIENT_ID')\n",
    "client_secret = os.getenv('SPOTIFY_CLIENT_SECRET')"
   ]
  },
  {
   "cell_type": "code",
   "execution_count": 8,
   "metadata": {},
   "outputs": [
    {
     "name": "stdout",
     "output_type": "stream",
     "text": [
      "Access Token: BQDcwYWE1oj7kJnBZc6intgOjB3LxLREIOLY5saXOrylZfeqS3wyX8XfYZOdHva3jZE5MzkkloADA9f11WNClR9ph8i-ePlvNlHcHBVZxnv7kiBon9M\n"
     ]
    }
   ],
   "source": [
    "# Define the endpoint for obtaining access tokens\n",
    "token_url = 'https://accounts.spotify.com/api/token'\n",
    "\n",
    "# Define the payload for the request\n",
    "payload = {\n",
    "    'grant_type': 'client_credentials',\n",
    "    'client_id': client_id,\n",
    "    'client_secret': client_secret,\n",
    "}\n",
    "\n",
    "# Make the request to obtain the access token\n",
    "response = requests.post(token_url, data=payload)\n",
    "\n",
    "# Check if the request was successful\n",
    "if response.status_code == 200:\n",
    "    # Extract the access token from the response\n",
    "    access_token = response.json()['access_token']\n",
    "    print(\"Access Token:\", access_token)\n",
    "else:\n",
    "    print(\"Error:\", response.status_code, response.text)"
   ]
  },
  {
   "cell_type": "code",
   "execution_count": 9,
   "metadata": {},
   "outputs": [],
   "source": [
    "artist_id = '3WrFJ7ztbogyGnTHbHJFl2'  # The Beatles\n",
    "\n",
    "# Define the endpoint for fetching albums by the artist\n",
    "albums_url = f'https://api.spotify.com/v1/artists/{artist_id}/albums'\n",
    "\n",
    "# Define the headers with the access token\n",
    "headers = {\n",
    "    'Authorization': f'Bearer {access_token}'\n",
    "}"
   ]
  },
  {
   "cell_type": "code",
   "execution_count": 10,
   "metadata": {},
   "outputs": [],
   "source": [
    "# Initialize lists to store track details\n",
    "track_names = []\n",
    "album_names = []\n",
    "tempos = []\n",
    "keys = []\n",
    "modes = []\n",
    "release_dates = []\n",
    "energies = []\n",
    "danceabilities = []\n",
    "loudnesses = []\n",
    "speechinesses = []\n",
    "acousticnesses = []\n",
    "instrumentalnesses = []\n",
    "livenesses = []\n",
    "time_signatures = []\n",
    "valences = []\n",
    "durations = []\n"
   ]
  },
  {
   "cell_type": "code",
   "execution_count": 11,
   "metadata": {},
   "outputs": [
    {
     "data": {
      "text/html": [
       "<div>\n",
       "<style scoped>\n",
       "    .dataframe tbody tr th:only-of-type {\n",
       "        vertical-align: middle;\n",
       "    }\n",
       "\n",
       "    .dataframe tbody tr th {\n",
       "        vertical-align: top;\n",
       "    }\n",
       "\n",
       "    .dataframe thead th {\n",
       "        text-align: right;\n",
       "    }\n",
       "</style>\n",
       "<table border=\"1\" class=\"dataframe\">\n",
       "  <thead>\n",
       "    <tr style=\"text-align: right;\">\n",
       "      <th></th>\n",
       "      <th>Track Name</th>\n",
       "      <th>Album Name</th>\n",
       "      <th>Tempo</th>\n",
       "      <th>Key</th>\n",
       "      <th>Mode</th>\n",
       "      <th>Release Date</th>\n",
       "      <th>Energy</th>\n",
       "      <th>Danceability</th>\n",
       "      <th>Loudness</th>\n",
       "      <th>Speechiness</th>\n",
       "      <th>Acousticness</th>\n",
       "      <th>Instrumentalness</th>\n",
       "      <th>Liveness</th>\n",
       "      <th>Time Signature</th>\n",
       "      <th>Valence</th>\n",
       "      <th>Duration</th>\n",
       "    </tr>\n",
       "  </thead>\n",
       "  <tbody>\n",
       "    <tr>\n",
       "      <th>0</th>\n",
       "      <td>Strawberry Fields Forever - 2015 Mix</td>\n",
       "      <td>The Beatles 1967 – 1970 (2023 Edition)</td>\n",
       "      <td>96.221</td>\n",
       "      <td>10</td>\n",
       "      <td>1</td>\n",
       "      <td>2023-11-10</td>\n",
       "      <td>0.678</td>\n",
       "      <td>0.391</td>\n",
       "      <td>-8.773</td>\n",
       "      <td>0.3060</td>\n",
       "      <td>0.2730</td>\n",
       "      <td>0.000257</td>\n",
       "      <td>0.0965</td>\n",
       "      <td>4</td>\n",
       "      <td>0.245</td>\n",
       "      <td>252093</td>\n",
       "    </tr>\n",
       "    <tr>\n",
       "      <th>1</th>\n",
       "      <td>Penny Lane - 2017 Mix</td>\n",
       "      <td>The Beatles 1967 – 1970 (2023 Edition)</td>\n",
       "      <td>113.225</td>\n",
       "      <td>9</td>\n",
       "      <td>1</td>\n",
       "      <td>2023-11-10</td>\n",
       "      <td>0.505</td>\n",
       "      <td>0.647</td>\n",
       "      <td>-8.260</td>\n",
       "      <td>0.0351</td>\n",
       "      <td>0.0715</td>\n",
       "      <td>0.002810</td>\n",
       "      <td>0.1840</td>\n",
       "      <td>4</td>\n",
       "      <td>0.682</td>\n",
       "      <td>180947</td>\n",
       "    </tr>\n",
       "    <tr>\n",
       "      <th>2</th>\n",
       "      <td>Sgt. Pepper's Lonely Hearts Club Band - 2017 Mix</td>\n",
       "      <td>The Beatles 1967 – 1970 (2023 Edition)</td>\n",
       "      <td>95.686</td>\n",
       "      <td>7</td>\n",
       "      <td>1</td>\n",
       "      <td>2023-11-10</td>\n",
       "      <td>0.825</td>\n",
       "      <td>0.368</td>\n",
       "      <td>-7.758</td>\n",
       "      <td>0.0997</td>\n",
       "      <td>0.0308</td>\n",
       "      <td>0.020000</td>\n",
       "      <td>0.9080</td>\n",
       "      <td>4</td>\n",
       "      <td>0.524</td>\n",
       "      <td>122120</td>\n",
       "    </tr>\n",
       "    <tr>\n",
       "      <th>3</th>\n",
       "      <td>With A Little Help From My Friends - 2017 Mix</td>\n",
       "      <td>The Beatles 1967 – 1970 (2023 Edition)</td>\n",
       "      <td>112.240</td>\n",
       "      <td>4</td>\n",
       "      <td>1</td>\n",
       "      <td>2023-11-10</td>\n",
       "      <td>0.586</td>\n",
       "      <td>0.673</td>\n",
       "      <td>-7.946</td>\n",
       "      <td>0.0302</td>\n",
       "      <td>0.1330</td>\n",
       "      <td>0.000000</td>\n",
       "      <td>0.2520</td>\n",
       "      <td>4</td>\n",
       "      <td>0.732</td>\n",
       "      <td>164373</td>\n",
       "    </tr>\n",
       "    <tr>\n",
       "      <th>4</th>\n",
       "      <td>Lucy In The Sky With Diamonds - 2017 Mix</td>\n",
       "      <td>The Beatles 1967 – 1970 (2023 Edition)</td>\n",
       "      <td>187.861</td>\n",
       "      <td>11</td>\n",
       "      <td>0</td>\n",
       "      <td>2023-11-10</td>\n",
       "      <td>0.539</td>\n",
       "      <td>0.244</td>\n",
       "      <td>-6.984</td>\n",
       "      <td>0.0457</td>\n",
       "      <td>0.1540</td>\n",
       "      <td>0.000000</td>\n",
       "      <td>0.1820</td>\n",
       "      <td>4</td>\n",
       "      <td>0.429</td>\n",
       "      <td>210453</td>\n",
       "    </tr>\n",
       "  </tbody>\n",
       "</table>\n",
       "</div>"
      ],
      "text/plain": [
       "                                         Track Name  \\\n",
       "0              Strawberry Fields Forever - 2015 Mix   \n",
       "1                             Penny Lane - 2017 Mix   \n",
       "2  Sgt. Pepper's Lonely Hearts Club Band - 2017 Mix   \n",
       "3     With A Little Help From My Friends - 2017 Mix   \n",
       "4          Lucy In The Sky With Diamonds - 2017 Mix   \n",
       "\n",
       "                               Album Name    Tempo  Key  Mode Release Date  \\\n",
       "0  The Beatles 1967 – 1970 (2023 Edition)   96.221   10     1   2023-11-10   \n",
       "1  The Beatles 1967 – 1970 (2023 Edition)  113.225    9     1   2023-11-10   \n",
       "2  The Beatles 1967 – 1970 (2023 Edition)   95.686    7     1   2023-11-10   \n",
       "3  The Beatles 1967 – 1970 (2023 Edition)  112.240    4     1   2023-11-10   \n",
       "4  The Beatles 1967 – 1970 (2023 Edition)  187.861   11     0   2023-11-10   \n",
       "\n",
       "   Energy  Danceability  Loudness  Speechiness  Acousticness  \\\n",
       "0   0.678         0.391    -8.773       0.3060        0.2730   \n",
       "1   0.505         0.647    -8.260       0.0351        0.0715   \n",
       "2   0.825         0.368    -7.758       0.0997        0.0308   \n",
       "3   0.586         0.673    -7.946       0.0302        0.1330   \n",
       "4   0.539         0.244    -6.984       0.0457        0.1540   \n",
       "\n",
       "   Instrumentalness  Liveness  Time Signature  Valence  Duration  \n",
       "0          0.000257    0.0965               4    0.245    252093  \n",
       "1          0.002810    0.1840               4    0.682    180947  \n",
       "2          0.020000    0.9080               4    0.524    122120  \n",
       "3          0.000000    0.2520               4    0.732    164373  \n",
       "4          0.000000    0.1820               4    0.429    210453  "
      ]
     },
     "execution_count": 11,
     "metadata": {},
     "output_type": "execute_result"
    }
   ],
   "source": [
    "# Make the request to fetch albums by the artist\n",
    "response = requests.get(albums_url, headers=headers)\n",
    "\n",
    "# Check if the request was successful\n",
    "if response.status_code == 200:\n",
    "    # Extract album details\n",
    "    albums_data = response.json()['items']\n",
    "    \n",
    "    # Iterate over each album\n",
    "    for album in albums_data:\n",
    "        album_name = album['name']\n",
    "        \n",
    "        # Fetch tracks of the album\n",
    "        album_tracks_url = album['href']\n",
    "        album_response = requests.get(album_tracks_url, headers=headers)\n",
    "        \n",
    "        # Check if the request for album tracks was successful\n",
    "        if album_response.status_code == 200:\n",
    "            # Extract track details\n",
    "            tracks_data = album_response.json()['tracks']['items']\n",
    "            \n",
    "            # Iterate over each track\n",
    "            for track in tracks_data:\n",
    "                track_names.append(track['name'])\n",
    "                album_names.append(album_name)\n",
    "                \n",
    "                # Fetch audio features of the track\n",
    "                track_id = track['id']\n",
    "                audio_features_url = f'https://api.spotify.com/v1/audio-features/{track_id}'\n",
    "                audio_features_response = requests.get(audio_features_url, headers=headers)\n",
    "                \n",
    "                # Check if the request for audio features was successful\n",
    "                if audio_features_response.status_code == 200:\n",
    "                    # Extract audio features\n",
    "                    audio_features = audio_features_response.json()\n",
    "                    tempos.append(audio_features['tempo'])\n",
    "                    keys.append(audio_features['key'])\n",
    "                    modes.append(audio_features['mode'])\n",
    "                    energies.append(audio_features['energy'])\n",
    "                    danceabilities.append(audio_features['danceability'])\n",
    "                    loudnesses.append(audio_features['loudness'])\n",
    "                    speechinesses.append(audio_features['speechiness'])\n",
    "                    acousticnesses.append(audio_features['acousticness'])\n",
    "                    instrumentalnesses.append(audio_features['instrumentalness'])\n",
    "                    livenesses.append(audio_features['liveness'])\n",
    "                    time_signatures.append(audio_features['time_signature'])\n",
    "                    valences.append(audio_features['valence'])\n",
    "                    durations.append(audio_features['duration_ms'])\n",
    "                    \n",
    "                else:\n",
    "                    tempos.append(None)\n",
    "                    keys.append(None)\n",
    "                    modes.append(None)\n",
    "                    energies.append(None)\n",
    "                    danceabilities.append(None)\n",
    "                    loudnesses.append(None)\n",
    "                    speechinesses.append(None)\n",
    "                    acousticnesses.append(None)\n",
    "                    instrumentalnesses.append(None)\n",
    "                    livenesses.append(None)\n",
    "                    time_signatures.append(None)\n",
    "                    valences.append(None)\n",
    "                    durations.append(None)\n",
    "                \n",
    "                # Fetch release date of the track\n",
    "                track_info_url = f'https://api.spotify.com/v1/tracks/{track_id}'\n",
    "                track_info_response = requests.get(track_info_url, headers=headers)\n",
    "                \n",
    "                # Check if the request for track information was successful\n",
    "                if track_info_response.status_code == 200:\n",
    "                    # Extract release date\n",
    "                    release_date = track_info_response.json()['album']['release_date']\n",
    "                    release_dates.append(release_date)\n",
    "                else:\n",
    "                    release_dates.append(None)\n",
    "                \n",
    "        else:\n",
    "            print(\"Error fetching tracks for album:\", album['name'])\n",
    "\n",
    "else:\n",
    "    print(\"Error fetching albums:\", response.status_code, response.text)\n",
    "\n",
    "# Create a DataFrame\n",
    "df = pd.DataFrame({\n",
    "    'Track Name': track_names,\n",
    "    'Album Name': album_names,\n",
    "    'Tempo': tempos,\n",
    "    'Key': keys,\n",
    "    'Mode': modes,\n",
    "    'Release Date': release_dates,\n",
    "    'Energy': energies,\n",
    "    'Danceability': danceabilities,\n",
    "    'Loudness': loudnesses,\n",
    "    'Speechiness': speechinesses,\n",
    "    'Acousticness': acousticnesses,\n",
    "    'Instrumentalness': instrumentalnesses,\n",
    "    'Liveness': livenesses,\n",
    "    'Time Signature': time_signatures,\n",
    "    'Valence': valences,\n",
    "    'Duration': durations\n",
    "})\n",
    "\n",
    "# Display the DataFrame\n",
    "df.head()\n"
   ]
  },
  {
   "cell_type": "code",
   "execution_count": 12,
   "metadata": {},
   "outputs": [],
   "source": [
    "df.to_csv('spotify_data.csv', index=False)"
   ]
  },
  {
   "cell_type": "code",
   "execution_count": 15,
   "metadata": {},
   "outputs": [],
   "source": [
    "import plotly.express as px\n",
    "df['Release Date'] = pd.to_datetime(df['Release Date'])\n",
    "df = df.sort_values(by='Release Date')\n"
   ]
  },
  {
   "cell_type": "code",
   "execution_count": 16,
   "metadata": {},
   "outputs": [
    {
     "data": {
      "application/vnd.plotly.v1+json": {
       "config": {
        "plotlyServerURL": "https://plot.ly"
       },
       "data": [
        {
         "hovertemplate": "<b>%{hovertext}</b><br><br>Release Date=%{x}<br>Tempo (BPM)=%{y}<br>Key=%{marker.color}<extra></extra>",
         "hovertext": [
          "Getting Better",
          "Penny Lane - Stereo Mix 2017",
          "Penny Lane - Vocal Overdubs And Speech",
          "Penny Lane - Take 6 / Instrumental",
          "When I'm Sixty-Four - Take 2",
          "Strawberry Fields Forever - Stereo Mix 2015",
          "Strawberry Fields Forever - Take 26",
          "Strawberry Fields Forever - Take 7",
          "Strawberry Fields Forever - Take 4",
          "Strawberry Fields Forever - Take 1",
          "A Day In The Life - Remix",
          "A Day In The Life - Take 1",
          "Sgt. Pepper's Lonely Hearts Club Band (Reprise) - Remix",
          "Lovely Rita - Remix",
          "When I'm Sixty-Four - Remix",
          "Within You Without You - Remastered 2017",
          "Being For The Benefit Of Mr. Kite! - Remix",
          "She's Leaving Home - Remix",
          "Fixing A Hole - Remix",
          "Getting Better - Remix",
          "Lucy In The Sky With Diamonds - Remastered 2017",
          "With A Little Help From My Friends - Remastered 2017",
          "Sgt. Pepper's Lonely Hearts Club Band - Remastered 2017",
          "Good Morning Good Morning - Remix",
          "A Day In The Life - Take 2",
          "Lucy In The Sky With Diamonds",
          "A Day In The Life - Hummed Last Chord / Takes 8, 9, 10 And 11",
          "A Day In The Life - Orchestra Overdub",
          "Sgt Pepper's Lonely Hearts Club Band",
          "Sgt. Pepper's Lonely Hearts Club Band (Reprise) - Speech And Take 8",
          "With A Little Help From My Friends - Take 1 / False Start And Take 2 / Instrumental",
          "She's Leaving Home - Take 6 / Instrumental",
          "She's Leaving Home - Take 1 / Instrumental",
          "Within You Without You - George Coaching The Musicians",
          "Within You Without You - Take 1 / Indian Instruments",
          "Getting Better - Take 12",
          "Getting Better - Take 1 / Instrumental And Speech At The End",
          "Lucy In The Sky With Diamonds - Speech, False Start And Take 5",
          "With A Little Help From My Friends",
          "Lovely Rita - Speech And Take 9",
          "Being For The Benefit Of Mr. Kite! - Take 7",
          "Being For The Benefit Of Mr. Kite! - Speech From Before Take 1 / Take 4 And Speech At End",
          "Fixing A Hole - Speech And Take 3",
          "Fixing A Hole - Take 1",
          "Good Morning Good Morning - Take 8",
          "Good Morning Good Morning - Take 1 / Instrumental Breakdown",
          "Sgt. Pepper's Lonely Hearts Club Band - Take 9 And Speech",
          "Sgt. Pepper's Lonely Hearts Club Band - Take 1 / Instrumental",
          "A Day In The Life - The Last Chord",
          "Lucy In The Sky With Diamonds - Take 1 And Speech At The End",
          "Sgt. Pepper's Lonely Hearts Club Band - Remix",
          "With A Little Help From My Friends - Remix",
          "Lucy In The Sky With Diamonds - Remix",
          "Being For The Benefit Of Mr. Kite! - Remix",
          "Fixing A Hole - Remix",
          "She's Leaving Home - Remix",
          "A Day In The Life - Remastered 2009",
          "Getting Better - Remix",
          "Sgt. Pepper's Lonely Hearts Club Band - Reprise / Remastered 2009",
          "She's Leaving Home - Remastered 2009",
          "Lovely Rita - Remastered 2009",
          "When I'm Sixty Four - Remastered 2009",
          "Within You Without You - Remastered 2009",
          "Being For The Benefit Of Mr. Kite! - Remastered 2009",
          "Fixing A Hole - Remastered 2009",
          "Getting Better - Remastered 2009",
          "With A Little Help From My Friends - Remastered 2009",
          "Sgt. Pepper's Lonely Hearts Club Band - Remastered 2009",
          "Within You Without You - Remix",
          "Good Morning Good Morning - Remastered 2009",
          "When I'm Sixty-Four - Remix",
          "Lucy In The Sky With Diamonds - Remastered 2009",
          "Good Morning Good Morning - Remix",
          "Lovely Rita - Remix",
          "Penny Lane - Take 6 / Instrumental",
          "Strawberry Fields Forever - Stereo Mix 2015",
          "Penny Lane - Stereo Mix 2017",
          "Strawberry Fields Forever - Take 26",
          "Strawberry Fields Forever - Take 7",
          "A Day In The Life - Take 1 With Hums",
          "Sgt. Pepper's Lonely Hearts Club Band (Reprise) - Speech And Take 8",
          "Lovely Rita - Speech And Take 9",
          "When I'm Sixty-Four - Take 2",
          "Good Morning Good Morning - Take 8",
          "Being For The Benefit Of Mr. Kite! - Take 4",
          "She's Leaving Home - Take 1 / Instrumental",
          "Fixing A Hole - Speech And Take 3",
          "Getting Better - Take 1 / Instrumental And Speech At The End",
          "Lucy In The Sky With Diamonds - Take 1",
          "With A Little Help From My Friends - Take 1 / False Start And Take 2 / Instrumental",
          "Sgt. Pepper's Lonely Hearts Club Band - Take 9 And Speech",
          "A Day In The Life - Remix",
          "Sgt. Pepper's Lonely Hearts Club Band (Reprise) - Remix",
          "Within You Without You - Take 1 / Indian Instruments",
          "Blue Jay Way - Remastered 2009",
          "Magical Mystery Tour - Remastered 2009",
          "The Fool On The Hill - Remastered 2009",
          "Flying - Remastered 2009",
          "Your Mother Should Know - Remastered 2009",
          "Penny Lane - Remastered 2009",
          "Hello, Goodbye - Remastered 2009",
          "Strawberry Fields Forever - Remastered 2009",
          "Baby, You're A Rich Man - Remastered 2009",
          "All You Need Is Love - Remastered 2009",
          "I Am The Walrus - Remastered 2009",
          "Piggies - Remastered 2009",
          "Blackbird - Remastered 2009",
          "I'm So Tired - Remastered 2009",
          "Martha My Dear - Remastered 2009",
          "Happiness Is A Warm Gun - Remastered 2009",
          "The Continuing Story Of Bungalow Bill - Remastered 2009",
          "Wild Honey Pie - Remastered 2009",
          "Ob-La-Di, Ob-La-Da - Remastered 2009",
          "Glass Onion - Remastered 2009",
          "Dear Prudence - Remastered 2009",
          "Back In The U.S.S.R. - Remastered 2009",
          "Rocky Raccoon - Remastered 2009",
          "While My Guitar Gently Weeps - Remastered 2009",
          "Don't Pass Me By - Remastered 2009",
          "Everybody's Got Something To Hide Except Me And My Monkey - Remastered 2009",
          "I Will - Remastered 2009",
          "Why Don't We Do It In The Road? - Remastered 2009",
          "Good Night - Remastered 2009",
          "Revolution 9 - Remastered 2009",
          "Cry Baby Cry - Remastered 2009",
          "Honey Pie - Remastered 2009",
          "Revolution 1 - Remastered 2009",
          "Savoy Truffle - Remastered 2009",
          "Helter Skelter - Remastered 2009",
          "Sexy Sadie - Remastered 2009",
          "Mother Nature's Son - Remastered 2009",
          "Yer Blues - Remastered 2009",
          "Birthday - Remastered 2009",
          "Julia - Remastered 2009",
          "Long, Long, Long - Remastered 2009",
          "It's All Too Much - Remastered 2009",
          "Yellow Submarine - Remastered 2009",
          "Only A Northern Song - Remastered 2009",
          "All Together Now - Remastered 2009",
          "Hey Bulldog - Remastered 2009",
          "All You Need Is Love - Remastered 2009",
          "Sea Of Monsters - Remastered 2009",
          "Sea Of Time - Remastered 2009",
          "Sea Of Holes - Remastered 2009",
          "March Of The Meanies - Remastered 2009",
          "Pepperland Laid Waste - Remastered 2009",
          "Yellow Submarine In Pepperland - Remastered 2009",
          "Pepperland - Remastered 2009",
          "Come Together - Remastered 2009",
          "Something - Remastered 2009",
          "Here Comes The Sun - Remastered 2009",
          "Oh! Darling - Remastered 2009",
          "Octopus's Garden - Remastered 2009",
          "I Want You (She's So Heavy) - Remastered 2009",
          "Because - Remastered 2009",
          "Maxwell's Silver Hammer - Remastered 2009",
          "Sun King - Remastered 2009",
          "You Never Give Me Your Money - Remastered 2009",
          "Her Majesty - Remastered 2009",
          "Carry That Weight - Remastered 2009",
          "The End - Remastered 2009",
          "She Came In Through The Bathroom Window - Remastered 2009",
          "Golden Slumbers - Remastered 2009",
          "Polythene Pam - Remastered 2009",
          "Mean Mr Mustard - Remastered 2009",
          "Two Of Us - Remastered 2009",
          "Across The Universe - Remastered 2009",
          "I Me Mine - Remastered 2009",
          "Dig It - Remastered 2009",
          "Let It Be - Remastered 2009",
          "Dig A Pony - Remastered 2009",
          "I've Got A Feeling - Remastered 2009",
          "One After 909 - Remastered 2009",
          "The Long And Winding Road - Remastered 2009",
          "For You Blue - Remastered 2009",
          "Get Back - Remastered 2009",
          "Maggie Mae - Remastered 2009",
          "Baby It's You - Live At The BBC For \"Pop Go The Beatles\" / 11th June, 1963",
          "That's All Right (Mama) - Live At The BBC For \"Pop Go The Beatles\" / 16th July, 1963",
          "Carol - Live At The BBC For \"Pop Go The Beatles\" / 16th July, 1963",
          "What Is It, George? - Live At The BBC For \"Pop Go The Beatles\" / 16th July, 1963",
          "Clarabella - Live At The BBC For \"Pop Go The Beatles\" / 16th July, 1963",
          "A Little Rhyme - Live At The BBC For \"Pop Go The Beatles\" / 16th July, 1963",
          "Crying, Waiting, Hoping - Live At The BBC For \"Pop Go The Beatles\" / 6th August, 1963",
          "Dear Wack! - Live At The BBC For \"Saturday Club\" / 24th August, 1963",
          "Sha La La La La! - Live At The BBC For \"Pop Go The Beatles\" / 11th June, 1963",
          "Soldier Of Love - Live At The BBC For \"Pop Go The Beatles\" / 16th July, 1963",
          "Thank You Girl - Live At The BBC For \"Easy Beat\" / 23rd June, 1963",
          "I Got A Woman - Live At The BBC For \"Pop Go The Beatles\" / 13th August, 1963",
          "Sure To Fall (In Love With You) - Live At The BBC For \"Pop Go The Beatles\" / 18th June, 1963",
          "A Shot Of Rhythm And Blues - Live At The BBC For \"Pop Go The Beatles\" / 27th August, 1963",
          "Young Blood - Live At The BBC For \"Pop Go The Beatles\" / 11th June, 1963",
          "I'll Be On My Way - Live At The BBC For \"Side By Side\" / 24th June, 1963",
          "Keep Your Hands Off My Baby - Live At The BBC For \"Saturday Club\" / 26th January, 1963",
          "Too Much Monkey Business - Live At The BBC For \"Pop Go The Beatles\" / 10th September, 1963",
          "You Really Got A Hold On Me - Live At The BBC For \"Saturday Club\" / 24th August, 1963",
          "Riding On A Bus - Live At The BBC For \"Top Gear\" / 26th November, 1964",
          "From Us To You - Live At The BBC / Opening Theme From \"From Us To You\" / 1964",
          "Beatles Greetings - Live At The BBC For \"The Public Ear\" / 3rd November, 1963",
          "Some Other Guy - Live At The BBC For \"Easy Beat\" / 23rd June, 1963",
          "To Know Her Is To Love Her - Live At The BBC For \"Pop Go The Beatles\" / 6th August, 1963",
          "I'm Gonna Sit Right Down And Cry (Over You) - Live At The BBC For \"Pop Go The Beatles\" / 6th August, 1963",
          "Long Tall Sally - Live At The BBC For \"Pop Go The Beatles\" / 13th August, 1963",
          "A Taste Of Honey - Live At The BBC For \"Pop Go The Beatles\" / 23rd July, 1963",
          "The Hippy Hippy Shake - Live At The BBC For \"Pop Go The Beatles\" / 30th July, 1963",
          "Nothin' Shakin' - Live At The BBC For \"Pop Go The Beatles\" / 23rd July, 1963",
          "Lonesome Tears In My Eyes - Live At The BBC For \"Pop Go The Beatles\" / 23rd July, 1963",
          "1822! - Live At The BBC For \"Pop Go The Beatles\" / 23rd July, 1963",
          "Sweet Little Sixteen - Live At The BBC For \"Pop Go The Beatles\" / 23rd July, 1963",
          "She's A Woman - Live At The BBC For \"Top Gear\" / 26th November, 1964",
          "Things We Said Today - Live At The BBC For \"Top Gear\" / 16th July, 1964",
          "All My Loving - Live At The BBC For \"From Us To You Say The Beatles\" / 30th March, 1964",
          "Roll Over Beethoven - Live At The BBC For \"From Us To You Say The Beatles\" / 30th March, 1964",
          "Just A Rumour - Live At The BBC For \"From Us To You Say The Beatles\" / 30th March, 1964",
          "I Wanna Be Your Man - Live At The BBC For \"From Us To You Say The Beatles\" / 30th March, 1964",
          "Glad All Over - Live At The BBC For \"Pop Go The Beatles\" / 20th August, 1963",
          "A Hard Day's Night - Live At The BBC For \"Top Gear\" / 16th July, 1964",
          "Ringo? Yep! - Live At The BBC For \"From Us To You Say The Beatles\" / 30th March, 1964",
          "The Honeymoon Song - Live At The BBC For \"Pop Go The Beatles\" / 6th August, 1963",
          "Johnny B Goode - Live At The BBC For \"Saturday Club\" / 15th February, 1964",
          "Memphis, Tennessee - Live At The BBC For \"Pop Go The Beatles\" / 30th July, 1963",
          "I Saw Her Standing There - Live At The BBC For \"Easy Beat\" / 20th October 1963",
          "Can't Buy Me Love - Live At The BBC For \"From Us To You Say The Beatles\" / 10th March, 1964",
          "From Fluff To You - Live At The BBC For \"From Us To You Say The Beatles\" / 10th March, 1964",
          "Till There Was You - Live At The BBC For \"From Us To You Say The Beatles\" / 10th March, 1964",
          "Crinsk Dee Night - Live At The BBC For \"Top Gear\" / 16th July, 1964",
          "Lucille - Live At The BBC For \"Saturday Club\" / 5th October, 1963",
          "There's A Place - Live At The BBC For \"Pop Go The Beatles\" / 3rd September, 1963",
          "Boys - Live At The BBC For \"Pop Go The Beatles\" / 25th June, 1963",
          "Roll Over Beethoven - Live At The BBC For \"Pop Go The Beatles\" / 3rd September, 1963",
          "The Hippy Hippy Shake - Live At The BBC For \"Pop Go The Beatles\" / 10th September, 1963",
          "Lower 5E - Live At The BBC For \"Pop Go The Beatles\" / 10th September, 1963",
          "Lend Me Your Comb - Live At The BBC For \"Pop Go The Beatles\" / 16th July, 1963",
          "Till There Was You - Live At The BBC For \"Pop Go The Beatles\" / 30th July, 1963",
          "Ask Me Why - Live At The BBC For \"Pop Go The Beatles\" / 24th September, 1963",
          "Chains - Live At The BBC For \"Pop Go The Beatles\" / 25th June, 1963",
          "Absolutely Fab - Live At The BBC For \"Pop Go The Beatles\" / 25th June, 1963",
          "A Real Treat - Live At The BBC For \"Pop Go The Beatles\" / 25th June, 1963",
          "Anna (Go To Him) - Live At The BBC For \"Pop Go The Beatles\" / 27th August, 1963",
          "Misery - Live At The BBC For \"Here We Go\" / 12th March, 1963",
          "Please Please Me - Live At The BBC For \"Pop Go The Beatles\" / 13th August, 1963",
          "Hello! - Live At The BBC For \"Pop Go The Beatles\" / 25th June, 1963",
          "Hey Paul…. - Live At The BBC For \"Pop Go The Beatles\" / 25th June, 1963",
          "Lucille - Live At The BBC For \"Pop Go The Beatles\" / 17th September, 1963",
          "Do You Want To Know A Secret - Live At The BBC For \"Pop Go The Beatles\" / 30th July, 1963",
          "How About It, Gorgeous? - Live At The BBC For \"Pop Go The Beatles\" / 30th July, 1963",
          "And Here We Are Again - Live At The BBC For \"Pop Go The Beatles\" / 23rd July, 1963",
          "Words Of Love - Live At The BBC For \"Pop Go The Beatles\" / 20th August, 1963",
          "Bumper Bundle - Live At The BBC For \"Pop Go The Beatles\" / 25th June, 1963",
          "I'm Talking About You - Live At The BBC For \"Saturday Club\" / 16th March, 1963",
          "P.S. I Love You - Live At The BBC For \"Pop Go The Beatles\" / 25th June, 1963",
          "If I Wasn’t In America - Live At The BBC For \"Saturday Club\" / 15th February, 1964",
          "Beautiful Dreamer - Live At The BBC For \"Saturday Club\" / 26th January, 1963",
          "Please Mister Postman - Live At The BBC For \"Pop Go The Beatles\" / 30th July 1963",
          "This Boy - Live At The BBC For \"Saturday Club\" / 21st December, 1963",
          "Brian Bathtubes - Live At The BBC For \"Saturday Club\" / 21st December, 1963",
          "I Want To Hold Your Hand - Live At The BBC For \"The Beatles Say From Us To You\" / 26th December, 1963",
          "Money (That's What I Want) - Live At The BBC For \"The Beatles Say From Us To You\" / 26th December, 1963",
          "From Me To You - Live At The BBC For \"Easy Beat\" / 20th October, 1963",
          "Now Hush, Hush - Live At The BBC For \"Easy Beat\" / 20th October, 1963",
          "Happy Birthday Dear Saturday Club - Live At The BBC For \"Saturday Club\" / 5th October, 1963",
          "Memphis, Tennessee - Live At The BBC For \"Saturday Club\" / 5th October, 1963",
          "She Loves You - Live At The BBC For \"Saturday Club\" / 5th October, 1963",
          "I'll Get You - Live At The BBC For \"Saturday Club\" / 5th October, 1963",
          "I Got A Woman - Live At The BBC For \"Saturday Club\" / 4th April, 1964",
          "Glad All Over - Live At The BBC For \"Saturday Club\" / 24th August, 1963",
          "Lift Lid Again - Live At The BBC For \"Saturday Club\" / 24th August, 1963",
          "Devil In Her Heart - Live At The BBC For \"Pop Go The Beatles\" / 25th September, 1963",
          "The 49 Weeks - Live At The BBC For \"Pop Go The Beatles\" / 24th September, 1963",
          "Sure To Fall (In Love With You) - Live At The BBC For \"Pop Go The Beatles\" / 24th September, 1963",
          "Never Mind, Eh? - Live At The BBC For \"Pop Go The Beatles\" / 24th September, 1963",
          "Long Tall Sally - Live At The BBC For \"Top Gear\" / 16th July, 1964",
          "Bye, Bye - Live At The BBC For \"Pop Go The Beatles\" / 24th September, 1963",
          "John - Pop Profile - Live At The BBC / 30th November, 1965",
          "George - Pop Profile - Live At The BBC / 30th November, 1965",
          "I Saw Her Standing There - Live At The BBC For \"Saturday Club\" / 5th October, 1963",
          "Twist And Shout - Live At The BBC For \"Pop Go The Beatles\" / 6th August, 1963",
          "Sgt Pepper's Lonely Hearts Club Band",
          "With A Little Help From My Friends",
          "Baby You're A Rich Man",
          "Only A Northern Song",
          "All You Need Is Love",
          "When I'm Sixty Four",
          "Nowhere Man",
          "It's All Too Much",
          "Get Back - Naked Version / Remastered 2013",
          "For You Blue - Naked Version / Remastered 2013",
          "The Long And Winding Road - Naked Version / Remastered 2013",
          "Two Of Us - Naked Version / Remastered 2013",
          "I've Got A Feeling - Naked Version / Remastered 2013",
          "Don't Let Me Down - Naked Version / Remastered 2013",
          "I Me Mine - Naked Version / Remastered 2013",
          "Across The Universe - Naked Version / Remastered 2013",
          "Let It Be - Naked Version / Remastered 2013",
          "Think For Yourself",
          "Dig A Pony - Naked Version / Remastered 2013",
          "One After 909 - Naked Version / Remastered 2013",
          "Lucy In The Sky With Diamonds",
          "Love You To",
          "Eleanor Rigby",
          "Hey Bulldog",
          "Yellow Submarine",
          "All Together Now",
          "Twist And Shout - Live / Remastered",
          "She's A Woman - Live / Remastered",
          "Dizzy Miss Lizzy - Live / Remastered",
          "Ticket To Ride - Live / Remastered",
          "Things We Said Today - Live / Remastered",
          "Roll Over Beethoven - Live / Remastered",
          "Boys - Live / Remastered",
          "Can't Buy Me Love - Live / Remastered",
          "Help! - Live / Remastered",
          "All My Loving - Live / Remastered",
          "She Loves You - Live / Remastered",
          "Long Tall Sally - Live / Remastered",
          "You Can't Do That - Live / Bonus Track",
          "I Want To Hold Your Hand - Live / Bonus Track",
          "Everybody’s Trying To Be My Baby - Live / Bonus Track",
          "Baby's In Black - Live / Bonus Track",
          "A Hard Day's Night - Live / Remastered",
          "Why Don't We Do It In The Road? - 2018 Mix",
          "I Will - 2018 Mix",
          "Julia - 2018 Mix",
          "Birthday - 2018 Mix",
          "Helter Skelter - 2018 Mix",
          "Mother Nature's Son - 2018 Mix",
          "Everybody's Got Something To Hide Except Me And My Monkey - 2018 Mix",
          "Sexy Sadie - 2018 Mix",
          "Don't Pass Me By - 2018 Mix",
          "Yer Blues - 2018 Mix",
          "Rocky Raccoon - 2018 Mix",
          "Back In The U.S.S.R. - 2018 Mix",
          "Blackbird - 2018 Mix",
          "I'm So Tired - 2018 Mix",
          "Martha My Dear - 2018 Mix",
          "Happiness Is A Warm Gun - 2018 Mix",
          "While My Guitar Gently Weeps - 2018 Mix",
          "The Continuing Story Of Bungalow Bill - 2018 Mix",
          "Wild Honey Pie - 2018 Mix",
          "Glass Onion - 2018 Mix",
          "Dear Prudence - 2018 Mix",
          "Long, Long, Long - 2018 Mix",
          "Piggies - 2018 Mix",
          "Revolution 1 - 2018 Mix",
          "Ob-La-Di, Ob-La-Da - 2018 Mix",
          "Savoy Truffle - 2018 Mix",
          "Cry Baby Cry - Esher Demo",
          "Honey Pie - Esher Demo",
          "Sour Milk Sea - Esher Demo",
          "Sexy Sadie - Esher Demo",
          "Everybody's Got Something To Hide Except Me And My Monkey - Esher Demo",
          "Mother Nature's Son - Esher Demo",
          "Yer Blues - Esher Demo",
          "Julia - Esher Demo",
          "Rocky Raccoon - Esher Demo",
          "Piggies - Esher Demo",
          "Blackbird - Esher Demo",
          "Revolution - Esher Demo",
          "Happiness Is A Warm Gun - Esher Demo",
          "I'm So Tired - Esher Demo",
          "Cry Baby Cry - 2018 Mix",
          "Revolution 9 - 2018 Mix",
          "Good Night - 2018 Mix",
          "Back In The U.S.S.R. - Esher Demo",
          "Honey Pie - 2018 Mix",
          "Glass Onion - Esher Demo",
          "Ob-La-Di, Ob-La-Da - Esher Demo",
          "The Continuing Story Of Bungalow Bill - Esher Demo",
          "While My Guitar Gently Weeps - Esher Demo",
          "Dear Prudence - Esher Demo",
          "I Want You (She's So Heavy) - Trident Recording Session & Reduction Mix",
          "Her Majesty - 2019 Mix",
          "The End - 2019 Mix",
          "Carry That Weight - 2019 Mix",
          "Golden Slumbers - 2019 Mix",
          "She Came In Through The Bathroom Window - 2019 Mix",
          "Polythene Pam - 2019 Mix",
          "Mean Mr Mustard - 2019 Mix",
          "Because - 2019 Mix",
          "You Never Give Me Your Money - 2019 Mix",
          "Here Comes The Sun - 2019 Mix",
          "I Want You (She's So Heavy) - 2019 Mix",
          "Oh! Darling - 2019 Mix",
          "Maxwell's Silver Hammer - 2019 Mix",
          "Something - 2019 Mix",
          "Come Together - 2019 Mix",
          "Goodbye - Home Demo",
          "Sun King - 2019 Mix",
          "Octopus's Garden - 2019 Mix",
          "Something - Studio Demo",
          "Old Brown Shoe - Take 2",
          "The Ballad Of John And Yoko - Take 7",
          "Golden Slumbers / Carry That Weight - Take 17 / Instrumental / Strings & Brass Only",
          "Something - Take 39 / Instrumental / Strings Only",
          "The Long One - Comprising of ‘You Never Give Me Your Money’, ’Sun King’/’Mean Mr Mustard’, ‘Her Majesty’, ‘Polythene Pam’/’She Came In Through The Bathroom Window’, ’Golden Slumbers’/ ’Carry That Weight’, ’The End’",
          "She Came In Through The Bathroom Window - Take 27",
          "Polythene Pam - Take 27",
          "Mean Mr. Mustard - Take 20",
          "Sun King - Take 20",
          "Come And Get It - Studio Demo",
          "Because - Take 1 / Instrumental",
          "Come Together - Take 5",
          "Maxwell's Silver Hammer - Take 12",
          "Here Comes The Sun - Take 9",
          "Golden Slumbers / Carry That Weight - Takes 1-3 / Medley",
          "Her Majesty - Takes 1-3",
          "You Never Give Me Your Money - Take 36",
          "Octopus's Garden - Take 9",
          "The End - Take 3",
          "Oh! Darling - Take 4",
          "Can You Dig It?",
          "I Don't Know Why I'm Moaning - Speech / Mono",
          "For You Blue - Take 4",
          "Let It Be / Please Please Me / Let It Be - Take 10",
          "Like Making An Album? - Speech",
          "Dig A Pony - Take 14",
          "Get Back - Take 19",
          "One After 909 - Take 3",
          "Maggie Mae / Fancy My Chances With You - Mono",
          "I’ve Got A Feeling - Take 10",
          "Don’t Let Me Down - First Rooftop Performance",
          "Across The Universe - 2021 Mix",
          "For You Blue - 2021 Mix",
          "The Long And Winding Road - 2021 Mix",
          "One After 909 - 2021 Mix",
          "I've Got A Feeling - 2021 Mix",
          "Maggie Mae - 2021 Mix",
          "Let It Be - 2021 Mix",
          "Dig It - 2021 Mix",
          "I Me Mine - 2021 Mix",
          "Dig A Pony - 2021 Mix",
          "Two Of Us - 2021 Mix",
          "Get Back - 2021 Mix",
          "The Long And Winding Road - Take 19",
          "Morning Camera / Two Of Us - Take 4",
          "On The Day Shift Now / All Things Must Pass - Rehearsals / Mono",
          "Wake Up Little Susie / I Me Mine - Take 11",
          "Dig It - 1969 Glyn Johns Mix",
          "Maggie Mae - 1969 Glyn Johns Mix",
          "Two Of Us - 1969 Glyn Johns Mix",
          "Teddy Boy - 1969 Glyn Johns Mix",
          "For You Blue - 1969 Glyn Johns Mix",
          "Get Back - 1969 Glyn Johns Mix",
          "I've Got A Feeling - 1969 Glyn Johns Mix",
          "Dig A Pony - 1969 Glyn Johns Mix",
          "Don't Let Me Down - 1969 Glyn Johns Mix",
          "One After 909 - 1969 Glyn Johns Mix",
          "Medley: I’m Ready (aka Rocker) / Save The Last Dance For Me / Don’t Let Me Down - 1969 Glyn Johns Mix",
          "Something - Rehearsal / Mono",
          "Without A Song - Jam",
          "The Walk - Jam",
          "Get Back - Take 8",
          "Oh! Darling - Jam",
          "Octopus’s Garden - Rehearsal / Mono",
          "Polythene Pam - Rehearsal / Mono",
          "She Came In Through The Bathroom Window - Rehearsal",
          "I Me Mine - Rehearsal / Mono",
          "Gimme Some Truth - Rehearsal / Mono",
          "Concentrate On The Sound - Mono",
          "Let It Be - Take 28",
          "Don't Let Me Down - Rooftop Performance / Take 1",
          "Get Back - Rooftop Performance / Take 1",
          "Get Back - Rooftop Performance / Take 2",
          "I've Got A Feeling - Rooftop Performance / Take 1",
          "One After 909 - Rooftop Performance",
          "Dig A Pony - Rooftop Performance",
          "God Save The Queen - Rooftop Performance / Jam",
          "I've Got A Feeling - Rooftop Performance / Take 2",
          "Don't Let Me Down - Rooftop Performance / Take 2",
          "Get Back - Rooftop Performance / Take 3",
          "Paperback Writer - Takes 1 & 2 / Backing Track",
          "Love You To - Take 7",
          "Love You To - Unnumbered Rehearsal",
          "Love You To - Take 1",
          "Got To Get You Into My Life - Second Version / Take 8",
          "Got To Get You Into My Life - Second Version / Unnumbered Mix",
          "Got To Get You Into My Life - First Version / Take 5",
          "Tomorrow Never Knows - Mono Mix RM 11",
          "Tomorrow Never Knows - Take 1",
          "Tomorrow Never Knows - 2022 Mix",
          "Got To Get You Into My Life - 2022 Mix",
          "Doctor Robert - 2022 Mix",
          "Rain - Take 5 / Actual Speed",
          "For No One - 2022 Mix",
          "And Your Bird Can Sing - 2022 Mix",
          "Good Day Sunshine - 2022 Mix",
          "She Said She Said - 2022 Mix",
          "Yellow Submarine - 2022 Mix",
          "Love You To - 2022 Mix",
          "I'm Only Sleeping - 2022 Mix",
          "Eleanor Rigby - 2022 Mix",
          "Taxman - 2022 Mix",
          "I Want To Tell You - 2022 Mix",
          "Rain - Take 5 / Slowed Down For Master Tape",
          "Here, There And Everywhere - 2022 Mix",
          "And Your Bird Can Sing - First Version / Take 2",
          "Doctor Robert - Take 7",
          "Here, There And Everywhere - Mono",
          "Love You To - Mono",
          "I'm Only Sleeping - Mono",
          "Taxman - Mono",
          "She Said She Said - Take 15 / Backing Track Rehearsal",
          "She Said She Said - John's Demo",
          "Here, There And Everywhere - Take 6",
          "I Want To Tell You - Speech & Take 4",
          "Yellow Submarine - Highlighted Sound Effects",
          "Yellow Submarine - Take 4 Before Sound Effects",
          "Eleanor Rigby - Mono",
          "Yellow Submarine - Songwriting Work Tape / Part 1",
          "Yellow Submarine - Songwriting Work Tape / Part 2",
          "And Your Bird Can Sing - Second Version / Take 5",
          "Taxman - Take 11",
          "And Your Bird Can Sing - First Version / Take 2 / Giggling",
          "I’m Only Sleeping - Take 2",
          "I’m Only Sleeping - Rehearsal Fragment",
          "I’m Only Sleeping - Mono Mix RM1",
          "Eleanor Rigby - Speech Before Take 2",
          "Eleanor Rigby - Take 2",
          "For No One - Take 10 / Backing Track",
          "I’m Only Sleeping - Take 5",
          "Hey Bulldog - 2023 Mix",
          "Get Back - 2015 Mix",
          "Don’t Let Me Down - 2021 Mix",
          "The Ballad Of John And Yoko - 2015 Mix",
          "Old Brown Shoe - 2023 Mix",
          "Here Comes The Sun - 2019 Mix",
          "Let It Be - 2021 Mix",
          "Something - 2019 Mix",
          "Octopus's Garden - 2019 Mix",
          "Oh! Darling - 2019 Mix",
          "I Want You (She's So Heavy) - 2019 Mix",
          "Across The Universe - 2021 Mix",
          "I Me Mine - 2021 Mix",
          "Blackbird - 2018 Mix",
          "Come Together - 2019 Mix",
          "Glass Onion - 2018 Mix",
          "All You Need Is Love - 2015 Mix",
          "While My Guitar Gently Weeps - 2018 Mix",
          "Penny Lane - 2017 Mix",
          "Sgt. Pepper's Lonely Hearts Club Band - 2017 Mix",
          "With A Little Help From My Friends - 2017 Mix",
          "Lucy In The Sky With Diamonds - 2017 Mix",
          "Within You Without You - 2017 Mix",
          "A Day In The Life - 2017 Remix",
          "The Long And Winding Road - 2021 Mix",
          "Ob-La-Di, Ob-La-Da - 2018 Mix",
          "I Am The Walrus - 2023 Mix",
          "The Fool On The Hill - 2023 Mix",
          "Magical Mystery Tour - 2023 Mix",
          "Lady Madonna - 2015 Mix",
          "Hey Jude - 2015 Mix",
          "Revolution - 2023 Mix",
          "Back In The U.S.S.R - 2018 Mix",
          "Dear Prudence - 2018 Mix",
          "Hello, Goodbye - 2015 Mix",
          "Now And Then",
          "You Can't Do That - 2023 Mix",
          "Please Please Me - 2023 Mix",
          "Drive My Car - 2023 Mix",
          "Norwegian Wood (This Bird Has Flown) - 2023 Mix",
          "Nowhere Man - 2023 Mix",
          "Michelle - 2023 Mix",
          "In My Life - 2023 Mix",
          "If I Needed Someone - 2023 Mix",
          "Girl - 2023 Mix",
          "Paperback Writer - 2022 Mix",
          "Eleanor Rigby - 2022 Mix",
          "Yellow Submarine - 2022 Mix",
          "Taxman - 2022 Mix",
          "Got To Get You Into My Life - 2022 Mix",
          "I'm Only Sleeping - 2022 Mix",
          "Here, There And Everywhere - 2022 Mix",
          "Tomorrow Never Knows - 2022 Mix",
          "Day Tripper - 2023 Mix",
          "We Can Work It Out - 2023 Mix",
          "You've Got To Hide Your Love Away - 2023 Mix",
          "Help! - 2023 Mix",
          "I Saw Her Standing There - 2023 Mix",
          "Twist And Shout - 2023 Mix",
          "From Me To You - 2023 Mix",
          "She Loves You - 2023 Mix",
          "I Want To Hold Your Hand - 2023 Mix",
          "This Boy - 2023 Mix",
          "All My Loving - 2023 Mix",
          "Love Me Do - 2023 Mix",
          "Roll Over Beethoven - 2023 Mix",
          "Can't Buy Me Love - 2023 Mix",
          "A Hard Day's Night - 2023 Mix",
          "And I Love Her - 2023 Mix",
          "Eight Days A Week - 2023 Mix",
          "I Feel Fine - 2023 Mix",
          "Ticket To Ride - 2023 Mix",
          "Yesterday - 2023 Mix",
          "You Really Got A Hold On Me - 2023 Mix",
          "Strawberry Fields Forever - 2015 Mix"
         ],
         "legendgroup": "",
         "marker": {
          "color": [
           0,
           9,
           7,
           0,
           7,
           10,
           0,
           9,
           10,
           0,
           4,
           4,
           0,
           8,
           8,
           6,
           9,
           0,
           0,
           0,
           11,
           1,
           7,
           2,
           4,
           2,
           9,
           7,
           7,
           0,
           6,
           4,
           4,
           5,
           5,
           0,
           0,
           2,
           4,
           4,
           0,
           0,
           5,
           5,
           2,
           7,
           0,
           7,
           4,
           2,
           7,
           4,
           2,
           9,
           0,
           0,
           4,
           0,
           0,
           4,
           8,
           1,
           6,
           0,
           0,
           0,
           4,
           7,
           6,
           2,
           8,
           2,
           2,
           8,
           0,
           10,
           9,
           0,
           5,
           4,
           0,
           4,
           7,
           2,
           0,
           4,
           5,
           0,
           2,
           6,
           0,
           4,
           0,
           5,
           0,
           9,
           4,
           0,
           0,
           9,
           0,
           10,
           7,
           7,
           2,
           8,
           7,
           9,
           10,
           9,
           0,
           2,
           10,
           7,
           7,
           9,
           7,
           4,
           0,
           2,
           5,
           2,
           7,
           2,
           9,
           7,
           9,
           11,
           9,
           0,
           2,
           9,
           2,
           2,
           5,
           7,
           1,
           9,
           2,
           7,
           7,
           9,
           2,
           6,
           9,
           8,
           7,
           7,
           9,
           0,
           9,
           4,
           1,
           2,
           2,
           2,
           2,
           0,
           2,
           0,
           11,
           2,
           0,
           11,
           4,
           7,
           1,
           9,
           5,
           0,
           11,
           2,
           4,
           3,
           2,
           2,
           2,
           4,
           9,
           9,
           1,
           7,
           0,
           9,
           7,
           1,
           5,
           2,
           4,
           9,
           2,
           2,
           9,
           7,
           1,
           9,
           10,
           9,
           0,
           2,
           4,
           0,
           7,
           4,
           2,
           9,
           4,
           8,
           4,
           9,
           5,
           1,
           2,
           9,
           11,
           9,
           0,
           9,
           4,
           9,
           8,
           4,
           0,
           9,
           5,
           2,
           5,
           4,
           9,
           2,
           11,
           1,
           4,
           5,
           4,
           10,
           3,
           7,
           2,
           0,
           4,
           6,
           11,
           7,
           1,
           7,
           8,
           9,
           1,
           4,
           2,
           10,
           2,
           6,
           2,
           6,
           7,
           4,
           0,
           1,
           4,
           11,
           4,
           4,
           4,
           9,
           6,
           7,
           3,
           9,
           10,
           7,
           2,
           11,
           6,
           4,
           2,
           7,
           4,
           7,
           6,
           7,
           1,
           4,
           7,
           7,
           2,
           3,
           7,
           2,
           4,
           4,
           2,
           0,
           0,
           11,
           1,
           2,
           5,
           4,
           4,
           1,
           11,
           2,
           9,
           11,
           2,
           5,
           2,
           9,
           5,
           11,
           1,
           4,
           0,
           0,
           7,
           9,
           9,
           0,
           7,
           5,
           2,
           2,
           4,
           2,
           2,
           7,
           0,
           4,
           7,
           9,
           7,
           9,
           10,
           9,
           2,
           0,
           9,
           7,
           2,
           5,
           8,
           9,
           10,
           11,
           8,
           2,
           7,
           5,
           6,
           8,
           8,
           3,
           6,
           2,
           7,
           5,
           5,
           11,
           0,
           9,
           7,
           7,
           7,
           4,
           8,
           8,
           1,
           10,
           5,
           0,
           2,
           0,
           0,
           2,
           11,
           4,
           2,
           0,
           9,
           9,
           4,
           2,
           0,
           9,
           11,
           2,
           1,
           9,
           0,
           9,
           0,
           7,
           0,
           2,
           0,
           6,
           2,
           4,
           9,
           9,
           2,
           9,
           0,
           2,
           0,
           1,
           11,
           6,
           7,
           2,
           2,
           0,
           7,
           11,
           2,
           4,
           7,
           2,
           4,
           1,
           2,
           3,
           4,
           2,
           7,
           0,
           5,
           4,
           11,
           7,
           2,
           3,
           7,
           9,
           9,
           5,
           0,
           7,
           2,
           2,
           2,
           2,
           2,
           4,
           4,
           6,
           9,
           10,
           9,
           2,
           9,
           0,
           4,
           2,
           4,
           7,
           2,
           0,
           6,
           2,
           9,
           2,
           4,
           11,
           7,
           9,
           6,
           2,
           7,
           5,
           5,
           7,
           0,
           7,
           0,
           5,
           0,
           5,
           0,
           4,
           3,
           1,
           4,
           4,
           3,
           1,
           5,
           11,
           0,
           7,
           9,
           0,
           7,
           2,
           4,
           7,
           5,
           11,
           7,
           3,
           3,
           7,
           2,
           1,
           7,
           4,
           7,
           1,
           6,
           7,
           2,
           3,
           9,
           8,
           4,
           0,
           0,
           4,
           4,
           2,
           6,
           4,
           1,
           9,
           0,
           0,
           1,
           4,
           9,
           1,
           4,
           7,
           9,
           7,
           7,
           2,
           9,
           7,
           4,
           11,
           6,
           4,
           3,
           10,
           9,
           2,
           9,
           7,
           10,
           6,
           9,
           2,
           0,
           4,
           0,
           4,
           7,
           9,
           4,
           5,
           9,
           9,
           5,
           7,
           4,
           1,
           7,
           7,
           11,
           7,
           5,
           6,
           2,
           7,
           6,
           4,
           2,
           0,
           7,
           7,
           2,
           4,
           7,
           2,
           0,
           0,
           1,
           9,
           7,
           9,
           5,
           9,
           10
          ],
          "coloraxis": "coloraxis",
          "opacity": 0.7,
          "size": 8,
          "symbol": "circle"
         },
         "mode": "markers",
         "name": "",
         "orientation": "v",
         "showlegend": false,
         "type": "scatter",
         "x": [
          "1967-05-26T00:00:00",
          "1967-05-26T00:00:00",
          "1967-05-26T00:00:00",
          "1967-05-26T00:00:00",
          "1967-05-26T00:00:00",
          "1967-05-26T00:00:00",
          "1967-05-26T00:00:00",
          "1967-05-26T00:00:00",
          "1967-05-26T00:00:00",
          "1967-05-26T00:00:00",
          "1967-05-26T00:00:00",
          "1967-05-26T00:00:00",
          "1967-05-26T00:00:00",
          "1967-05-26T00:00:00",
          "1967-05-26T00:00:00",
          "1967-05-26T00:00:00",
          "1967-05-26T00:00:00",
          "1967-05-26T00:00:00",
          "1967-05-26T00:00:00",
          "1967-05-26T00:00:00",
          "1967-05-26T00:00:00",
          "1967-05-26T00:00:00",
          "1967-05-26T00:00:00",
          "1967-05-26T00:00:00",
          "1967-05-26T00:00:00",
          "1967-05-26T00:00:00",
          "1967-05-26T00:00:00",
          "1967-05-26T00:00:00",
          "1967-05-26T00:00:00",
          "1967-05-26T00:00:00",
          "1967-05-26T00:00:00",
          "1967-05-26T00:00:00",
          "1967-05-26T00:00:00",
          "1967-05-26T00:00:00",
          "1967-05-26T00:00:00",
          "1967-05-26T00:00:00",
          "1967-05-26T00:00:00",
          "1967-05-26T00:00:00",
          "1967-05-26T00:00:00",
          "1967-05-26T00:00:00",
          "1967-05-26T00:00:00",
          "1967-05-26T00:00:00",
          "1967-05-26T00:00:00",
          "1967-05-26T00:00:00",
          "1967-05-26T00:00:00",
          "1967-05-26T00:00:00",
          "1967-05-26T00:00:00",
          "1967-05-26T00:00:00",
          "1967-05-26T00:00:00",
          "1967-05-26T00:00:00",
          "1967-06-01T00:00:00",
          "1967-06-01T00:00:00",
          "1967-06-01T00:00:00",
          "1967-06-01T00:00:00",
          "1967-06-01T00:00:00",
          "1967-06-01T00:00:00",
          "1967-06-01T00:00:00",
          "1967-06-01T00:00:00",
          "1967-06-01T00:00:00",
          "1967-06-01T00:00:00",
          "1967-06-01T00:00:00",
          "1967-06-01T00:00:00",
          "1967-06-01T00:00:00",
          "1967-06-01T00:00:00",
          "1967-06-01T00:00:00",
          "1967-06-01T00:00:00",
          "1967-06-01T00:00:00",
          "1967-06-01T00:00:00",
          "1967-06-01T00:00:00",
          "1967-06-01T00:00:00",
          "1967-06-01T00:00:00",
          "1967-06-01T00:00:00",
          "1967-06-01T00:00:00",
          "1967-06-01T00:00:00",
          "1967-06-01T00:00:00",
          "1967-06-01T00:00:00",
          "1967-06-01T00:00:00",
          "1967-06-01T00:00:00",
          "1967-06-01T00:00:00",
          "1967-06-01T00:00:00",
          "1967-06-01T00:00:00",
          "1967-06-01T00:00:00",
          "1967-06-01T00:00:00",
          "1967-06-01T00:00:00",
          "1967-06-01T00:00:00",
          "1967-06-01T00:00:00",
          "1967-06-01T00:00:00",
          "1967-06-01T00:00:00",
          "1967-06-01T00:00:00",
          "1967-06-01T00:00:00",
          "1967-06-01T00:00:00",
          "1967-06-01T00:00:00",
          "1967-06-01T00:00:00",
          "1967-06-01T00:00:00",
          "1967-11-27T00:00:00",
          "1967-11-27T00:00:00",
          "1967-11-27T00:00:00",
          "1967-11-27T00:00:00",
          "1967-11-27T00:00:00",
          "1967-11-27T00:00:00",
          "1967-11-27T00:00:00",
          "1967-11-27T00:00:00",
          "1967-11-27T00:00:00",
          "1967-11-27T00:00:00",
          "1967-11-27T00:00:00",
          "1968-11-22T00:00:00",
          "1968-11-22T00:00:00",
          "1968-11-22T00:00:00",
          "1968-11-22T00:00:00",
          "1968-11-22T00:00:00",
          "1968-11-22T00:00:00",
          "1968-11-22T00:00:00",
          "1968-11-22T00:00:00",
          "1968-11-22T00:00:00",
          "1968-11-22T00:00:00",
          "1968-11-22T00:00:00",
          "1968-11-22T00:00:00",
          "1968-11-22T00:00:00",
          "1968-11-22T00:00:00",
          "1968-11-22T00:00:00",
          "1968-11-22T00:00:00",
          "1968-11-22T00:00:00",
          "1968-11-22T00:00:00",
          "1968-11-22T00:00:00",
          "1968-11-22T00:00:00",
          "1968-11-22T00:00:00",
          "1968-11-22T00:00:00",
          "1968-11-22T00:00:00",
          "1968-11-22T00:00:00",
          "1968-11-22T00:00:00",
          "1968-11-22T00:00:00",
          "1968-11-22T00:00:00",
          "1968-11-22T00:00:00",
          "1968-11-22T00:00:00",
          "1968-11-22T00:00:00",
          "1969-01-17T00:00:00",
          "1969-01-17T00:00:00",
          "1969-01-17T00:00:00",
          "1969-01-17T00:00:00",
          "1969-01-17T00:00:00",
          "1969-01-17T00:00:00",
          "1969-01-17T00:00:00",
          "1969-01-17T00:00:00",
          "1969-01-17T00:00:00",
          "1969-01-17T00:00:00",
          "1969-01-17T00:00:00",
          "1969-01-17T00:00:00",
          "1969-01-17T00:00:00",
          "1969-09-26T00:00:00",
          "1969-09-26T00:00:00",
          "1969-09-26T00:00:00",
          "1969-09-26T00:00:00",
          "1969-09-26T00:00:00",
          "1969-09-26T00:00:00",
          "1969-09-26T00:00:00",
          "1969-09-26T00:00:00",
          "1969-09-26T00:00:00",
          "1969-09-26T00:00:00",
          "1969-09-26T00:00:00",
          "1969-09-26T00:00:00",
          "1969-09-26T00:00:00",
          "1969-09-26T00:00:00",
          "1969-09-26T00:00:00",
          "1969-09-26T00:00:00",
          "1969-09-26T00:00:00",
          "1970-05-08T00:00:00",
          "1970-05-08T00:00:00",
          "1970-05-08T00:00:00",
          "1970-05-08T00:00:00",
          "1970-05-08T00:00:00",
          "1970-05-08T00:00:00",
          "1970-05-08T00:00:00",
          "1970-05-08T00:00:00",
          "1970-05-08T00:00:00",
          "1970-05-08T00:00:00",
          "1970-05-08T00:00:00",
          "1970-05-08T00:00:00",
          "1994-11-30T00:00:00",
          "1994-11-30T00:00:00",
          "1994-11-30T00:00:00",
          "1994-11-30T00:00:00",
          "1994-11-30T00:00:00",
          "1994-11-30T00:00:00",
          "1994-11-30T00:00:00",
          "1994-11-30T00:00:00",
          "1994-11-30T00:00:00",
          "1994-11-30T00:00:00",
          "1994-11-30T00:00:00",
          "1994-11-30T00:00:00",
          "1994-11-30T00:00:00",
          "1994-11-30T00:00:00",
          "1994-11-30T00:00:00",
          "1994-11-30T00:00:00",
          "1994-11-30T00:00:00",
          "1994-11-30T00:00:00",
          "1994-11-30T00:00:00",
          "1994-11-30T00:00:00",
          "1994-11-30T00:00:00",
          "1994-11-30T00:00:00",
          "1994-11-30T00:00:00",
          "1994-11-30T00:00:00",
          "1994-11-30T00:00:00",
          "1994-11-30T00:00:00",
          "1994-11-30T00:00:00",
          "1994-11-30T00:00:00",
          "1994-11-30T00:00:00",
          "1994-11-30T00:00:00",
          "1994-11-30T00:00:00",
          "1994-11-30T00:00:00",
          "1994-11-30T00:00:00",
          "1994-11-30T00:00:00",
          "1994-11-30T00:00:00",
          "1994-11-30T00:00:00",
          "1994-11-30T00:00:00",
          "1994-11-30T00:00:00",
          "1994-11-30T00:00:00",
          "1994-11-30T00:00:00",
          "1994-11-30T00:00:00",
          "1994-11-30T00:00:00",
          "1994-11-30T00:00:00",
          "1994-11-30T00:00:00",
          "1994-11-30T00:00:00",
          "1994-11-30T00:00:00",
          "1994-11-30T00:00:00",
          "1994-11-30T00:00:00",
          "1994-11-30T00:00:00",
          "1994-11-30T00:00:00",
          "2013-11-11T00:00:00",
          "2013-11-11T00:00:00",
          "2013-11-11T00:00:00",
          "2013-11-11T00:00:00",
          "2013-11-11T00:00:00",
          "2013-11-11T00:00:00",
          "2013-11-11T00:00:00",
          "2013-11-11T00:00:00",
          "2013-11-11T00:00:00",
          "2013-11-11T00:00:00",
          "2013-11-11T00:00:00",
          "2013-11-11T00:00:00",
          "2013-11-11T00:00:00",
          "2013-11-11T00:00:00",
          "2013-11-11T00:00:00",
          "2013-11-11T00:00:00",
          "2013-11-11T00:00:00",
          "2013-11-11T00:00:00",
          "2013-11-11T00:00:00",
          "2013-11-11T00:00:00",
          "2013-11-11T00:00:00",
          "2013-11-11T00:00:00",
          "2013-11-11T00:00:00",
          "2013-11-11T00:00:00",
          "2013-11-11T00:00:00",
          "2013-11-11T00:00:00",
          "2013-11-11T00:00:00",
          "2013-11-11T00:00:00",
          "2013-11-11T00:00:00",
          "2013-11-11T00:00:00",
          "2013-11-11T00:00:00",
          "2013-11-11T00:00:00",
          "2013-11-11T00:00:00",
          "2013-11-11T00:00:00",
          "2013-11-11T00:00:00",
          "2013-11-11T00:00:00",
          "2013-11-11T00:00:00",
          "2013-11-11T00:00:00",
          "2013-11-11T00:00:00",
          "2013-11-11T00:00:00",
          "2013-11-11T00:00:00",
          "2013-11-11T00:00:00",
          "2013-11-11T00:00:00",
          "2013-11-11T00:00:00",
          "2013-11-11T00:00:00",
          "2013-11-11T00:00:00",
          "2013-11-11T00:00:00",
          "2013-11-11T00:00:00",
          "2013-11-11T00:00:00",
          "2013-11-11T00:00:00",
          "2014-01-01T00:00:00",
          "2014-01-01T00:00:00",
          "2014-01-01T00:00:00",
          "2014-01-01T00:00:00",
          "2014-01-01T00:00:00",
          "2014-01-01T00:00:00",
          "2014-01-01T00:00:00",
          "2014-01-01T00:00:00",
          "2014-01-01T00:00:00",
          "2014-01-01T00:00:00",
          "2014-01-01T00:00:00",
          "2014-01-01T00:00:00",
          "2014-01-01T00:00:00",
          "2014-01-01T00:00:00",
          "2014-01-01T00:00:00",
          "2014-01-01T00:00:00",
          "2014-01-01T00:00:00",
          "2014-01-01T00:00:00",
          "2014-01-01T00:00:00",
          "2014-01-01T00:00:00",
          "2014-01-01T00:00:00",
          "2014-01-01T00:00:00",
          "2014-01-01T00:00:00",
          "2014-01-01T00:00:00",
          "2014-01-01T00:00:00",
          "2014-01-01T00:00:00",
          "2016-09-09T00:00:00",
          "2016-09-09T00:00:00",
          "2016-09-09T00:00:00",
          "2016-09-09T00:00:00",
          "2016-09-09T00:00:00",
          "2016-09-09T00:00:00",
          "2016-09-09T00:00:00",
          "2016-09-09T00:00:00",
          "2016-09-09T00:00:00",
          "2016-09-09T00:00:00",
          "2016-09-09T00:00:00",
          "2016-09-09T00:00:00",
          "2016-09-09T00:00:00",
          "2016-09-09T00:00:00",
          "2016-09-09T00:00:00",
          "2016-09-09T00:00:00",
          "2016-09-09T00:00:00",
          "2018-11-09T00:00:00",
          "2018-11-09T00:00:00",
          "2018-11-09T00:00:00",
          "2018-11-09T00:00:00",
          "2018-11-09T00:00:00",
          "2018-11-09T00:00:00",
          "2018-11-09T00:00:00",
          "2018-11-09T00:00:00",
          "2018-11-09T00:00:00",
          "2018-11-09T00:00:00",
          "2018-11-09T00:00:00",
          "2018-11-09T00:00:00",
          "2018-11-09T00:00:00",
          "2018-11-09T00:00:00",
          "2018-11-09T00:00:00",
          "2018-11-09T00:00:00",
          "2018-11-09T00:00:00",
          "2018-11-09T00:00:00",
          "2018-11-09T00:00:00",
          "2018-11-09T00:00:00",
          "2018-11-09T00:00:00",
          "2018-11-09T00:00:00",
          "2018-11-09T00:00:00",
          "2018-11-09T00:00:00",
          "2018-11-09T00:00:00",
          "2018-11-09T00:00:00",
          "2018-11-09T00:00:00",
          "2018-11-09T00:00:00",
          "2018-11-09T00:00:00",
          "2018-11-09T00:00:00",
          "2018-11-09T00:00:00",
          "2018-11-09T00:00:00",
          "2018-11-09T00:00:00",
          "2018-11-09T00:00:00",
          "2018-11-09T00:00:00",
          "2018-11-09T00:00:00",
          "2018-11-09T00:00:00",
          "2018-11-09T00:00:00",
          "2018-11-09T00:00:00",
          "2018-11-09T00:00:00",
          "2018-11-09T00:00:00",
          "2018-11-09T00:00:00",
          "2018-11-09T00:00:00",
          "2018-11-09T00:00:00",
          "2018-11-09T00:00:00",
          "2018-11-09T00:00:00",
          "2018-11-09T00:00:00",
          "2018-11-09T00:00:00",
          "2018-11-09T00:00:00",
          "2018-11-09T00:00:00",
          "2019-09-27T00:00:00",
          "2019-09-27T00:00:00",
          "2019-09-27T00:00:00",
          "2019-09-27T00:00:00",
          "2019-09-27T00:00:00",
          "2019-09-27T00:00:00",
          "2019-09-27T00:00:00",
          "2019-09-27T00:00:00",
          "2019-09-27T00:00:00",
          "2019-09-27T00:00:00",
          "2019-09-27T00:00:00",
          "2019-09-27T00:00:00",
          "2019-09-27T00:00:00",
          "2019-09-27T00:00:00",
          "2019-09-27T00:00:00",
          "2019-09-27T00:00:00",
          "2019-09-27T00:00:00",
          "2019-09-27T00:00:00",
          "2019-09-27T00:00:00",
          "2019-09-27T00:00:00",
          "2019-09-27T00:00:00",
          "2019-09-27T00:00:00",
          "2019-09-27T00:00:00",
          "2019-09-27T00:00:00",
          "2019-09-27T00:00:00",
          "2019-09-27T00:00:00",
          "2019-09-27T00:00:00",
          "2019-09-27T00:00:00",
          "2019-09-27T00:00:00",
          "2019-09-27T00:00:00",
          "2019-09-27T00:00:00",
          "2019-09-27T00:00:00",
          "2019-09-27T00:00:00",
          "2019-09-27T00:00:00",
          "2019-09-27T00:00:00",
          "2019-09-27T00:00:00",
          "2019-09-27T00:00:00",
          "2019-09-27T00:00:00",
          "2019-09-27T00:00:00",
          "2019-09-27T00:00:00",
          "2021-10-15T00:00:00",
          "2021-10-15T00:00:00",
          "2021-10-15T00:00:00",
          "2021-10-15T00:00:00",
          "2021-10-15T00:00:00",
          "2021-10-15T00:00:00",
          "2021-10-15T00:00:00",
          "2021-10-15T00:00:00",
          "2021-10-15T00:00:00",
          "2021-10-15T00:00:00",
          "2021-10-15T00:00:00",
          "2021-10-15T00:00:00",
          "2021-10-15T00:00:00",
          "2021-10-15T00:00:00",
          "2021-10-15T00:00:00",
          "2021-10-15T00:00:00",
          "2021-10-15T00:00:00",
          "2021-10-15T00:00:00",
          "2021-10-15T00:00:00",
          "2021-10-15T00:00:00",
          "2021-10-15T00:00:00",
          "2021-10-15T00:00:00",
          "2021-10-15T00:00:00",
          "2021-10-15T00:00:00",
          "2021-10-15T00:00:00",
          "2021-10-15T00:00:00",
          "2021-10-15T00:00:00",
          "2021-10-15T00:00:00",
          "2021-10-15T00:00:00",
          "2021-10-15T00:00:00",
          "2021-10-15T00:00:00",
          "2021-10-15T00:00:00",
          "2021-10-15T00:00:00",
          "2021-10-15T00:00:00",
          "2021-10-15T00:00:00",
          "2021-10-15T00:00:00",
          "2021-10-15T00:00:00",
          "2021-10-15T00:00:00",
          "2021-10-15T00:00:00",
          "2021-10-15T00:00:00",
          "2021-10-15T00:00:00",
          "2021-10-15T00:00:00",
          "2021-10-15T00:00:00",
          "2021-10-15T00:00:00",
          "2021-10-15T00:00:00",
          "2021-10-15T00:00:00",
          "2021-10-15T00:00:00",
          "2021-10-15T00:00:00",
          "2021-10-15T00:00:00",
          "2021-10-15T00:00:00",
          "2022-01-28T00:00:00",
          "2022-01-28T00:00:00",
          "2022-01-28T00:00:00",
          "2022-01-28T00:00:00",
          "2022-01-28T00:00:00",
          "2022-01-28T00:00:00",
          "2022-01-28T00:00:00",
          "2022-01-28T00:00:00",
          "2022-01-28T00:00:00",
          "2022-01-28T00:00:00",
          "2022-10-28T00:00:00",
          "2022-10-28T00:00:00",
          "2022-10-28T00:00:00",
          "2022-10-28T00:00:00",
          "2022-10-28T00:00:00",
          "2022-10-28T00:00:00",
          "2022-10-28T00:00:00",
          "2022-10-28T00:00:00",
          "2022-10-28T00:00:00",
          "2022-10-28T00:00:00",
          "2022-10-28T00:00:00",
          "2022-10-28T00:00:00",
          "2022-10-28T00:00:00",
          "2022-10-28T00:00:00",
          "2022-10-28T00:00:00",
          "2022-10-28T00:00:00",
          "2022-10-28T00:00:00",
          "2022-10-28T00:00:00",
          "2022-10-28T00:00:00",
          "2022-10-28T00:00:00",
          "2022-10-28T00:00:00",
          "2022-10-28T00:00:00",
          "2022-10-28T00:00:00",
          "2022-10-28T00:00:00",
          "2022-10-28T00:00:00",
          "2022-10-28T00:00:00",
          "2022-10-28T00:00:00",
          "2022-10-28T00:00:00",
          "2022-10-28T00:00:00",
          "2022-10-28T00:00:00",
          "2022-10-28T00:00:00",
          "2022-10-28T00:00:00",
          "2022-10-28T00:00:00",
          "2022-10-28T00:00:00",
          "2022-10-28T00:00:00",
          "2022-10-28T00:00:00",
          "2022-10-28T00:00:00",
          "2022-10-28T00:00:00",
          "2022-10-28T00:00:00",
          "2022-10-28T00:00:00",
          "2022-10-28T00:00:00",
          "2022-10-28T00:00:00",
          "2022-10-28T00:00:00",
          "2022-10-28T00:00:00",
          "2022-10-28T00:00:00",
          "2022-10-28T00:00:00",
          "2022-10-28T00:00:00",
          "2022-10-28T00:00:00",
          "2022-10-28T00:00:00",
          "2022-10-28T00:00:00",
          "2023-11-10T00:00:00",
          "2023-11-10T00:00:00",
          "2023-11-10T00:00:00",
          "2023-11-10T00:00:00",
          "2023-11-10T00:00:00",
          "2023-11-10T00:00:00",
          "2023-11-10T00:00:00",
          "2023-11-10T00:00:00",
          "2023-11-10T00:00:00",
          "2023-11-10T00:00:00",
          "2023-11-10T00:00:00",
          "2023-11-10T00:00:00",
          "2023-11-10T00:00:00",
          "2023-11-10T00:00:00",
          "2023-11-10T00:00:00",
          "2023-11-10T00:00:00",
          "2023-11-10T00:00:00",
          "2023-11-10T00:00:00",
          "2023-11-10T00:00:00",
          "2023-11-10T00:00:00",
          "2023-11-10T00:00:00",
          "2023-11-10T00:00:00",
          "2023-11-10T00:00:00",
          "2023-11-10T00:00:00",
          "2023-11-10T00:00:00",
          "2023-11-10T00:00:00",
          "2023-11-10T00:00:00",
          "2023-11-10T00:00:00",
          "2023-11-10T00:00:00",
          "2023-11-10T00:00:00",
          "2023-11-10T00:00:00",
          "2023-11-10T00:00:00",
          "2023-11-10T00:00:00",
          "2023-11-10T00:00:00",
          "2023-11-10T00:00:00",
          "2023-11-10T00:00:00",
          "2023-11-10T00:00:00",
          "2023-11-10T00:00:00",
          "2023-11-10T00:00:00",
          "2023-11-10T00:00:00",
          "2023-11-10T00:00:00",
          "2023-11-10T00:00:00",
          "2023-11-10T00:00:00",
          "2023-11-10T00:00:00",
          "2023-11-10T00:00:00",
          "2023-11-10T00:00:00",
          "2023-11-10T00:00:00",
          "2023-11-10T00:00:00",
          "2023-11-10T00:00:00",
          "2023-11-10T00:00:00",
          "2023-11-10T00:00:00",
          "2023-11-10T00:00:00",
          "2023-11-10T00:00:00",
          "2023-11-10T00:00:00",
          "2023-11-10T00:00:00",
          "2023-11-10T00:00:00",
          "2023-11-10T00:00:00",
          "2023-11-10T00:00:00",
          "2023-11-10T00:00:00",
          "2023-11-10T00:00:00",
          "2023-11-10T00:00:00",
          "2023-11-10T00:00:00",
          "2023-11-10T00:00:00",
          "2023-11-10T00:00:00",
          "2023-11-10T00:00:00",
          "2023-11-10T00:00:00",
          "2023-11-10T00:00:00",
          "2023-11-10T00:00:00",
          "2023-11-10T00:00:00",
          "2023-11-10T00:00:00",
          "2023-11-10T00:00:00",
          "2023-11-10T00:00:00",
          "2023-11-10T00:00:00",
          "2023-11-10T00:00:00",
          "2023-11-10T00:00:00"
         ],
         "xaxis": "x",
         "y": [
          121.904,
          112.921,
          113.267,
          120.775,
          132.619,
          97.965,
          110.792,
          178.787,
          90.754,
          96.261,
          79.935,
          84.655,
          118.769,
          87.479,
          138.425,
          125.07,
          83.149,
          132.105,
          112.618,
          121.949,
          132.537,
          112.311,
          95.302,
          121.624,
          76.521,
          190.968,
          152.329,
          83.105,
          95.711,
          119.302,
          111.378,
          129.005,
          128.584,
          119.292,
          120.037,
          122.268,
          127.533,
          132.659,
          112.294,
          90.553,
          112.449,
          111.935,
          117.871,
          114.662,
          121.715,
          122.98,
          95.664,
          97.846,
          71.937,
          134.224,
          95.114,
          112.057,
          137.423,
          83.339,
          111.667,
          130.97,
          163.219,
          121.959,
          118.773,
          127.581,
          87.379,
          140.411,
          126.166,
          111.874,
          112.984,
          121.672,
          112.035,
          95.513,
          124.251,
          121.849,
          138.256,
          65.09,
          121.517,
          86.822,
          120.735,
          95.797,
          112.931,
          110.629,
          179.328,
          162.502,
          119.285,
          180.847,
          132.627,
          121.741,
          111.097,
          128.506,
          115.28,
          127.521,
          97.058,
          111.363,
          95.695,
          80.724,
          118.758,
          120.234,
          101.052,
          170.962,
          144.184,
          92.929,
          117.613,
          113.038,
          99.307,
          97.871,
          96.751,
          103.436,
          85.206,
          93.245,
          93.699,
          68.492,
          177.624,
          139.288,
          114.816,
          89.9,
          113.059,
          120.432,
          150.721,
          142.489,
          79.456,
          115,
          84.895,
          117.089,
          103.11,
          187.688,
          146.408,
          91.158,
          76.644,
          144.197,
          98.425,
          120.761,
          167.518,
          75.478,
          84.78,
          151.766,
          139.239,
          134.706,
          104.837,
          113.511,
          110.849,
          209.242,
          95.937,
          100.495,
          103.103,
          83.971,
          128.054,
          118.99,
          117.185,
          82.423,
          105.345,
          113.126,
          165.007,
          133.522,
          129.171,
          173.93,
          92.225,
          115.732,
          81.257,
          131.12,
          74.994,
          174.464,
          100.874,
          84.319,
          123.444,
          80.652,
          80.608,
          166.829,
          100.687,
          109.114,
          152.126,
          185.235,
          157.03,
          143.462,
          59.004,
          165.156,
          90.95,
          132.282,
          128.542,
          123.095,
          169.039,
          114.533,
          104.729,
          155.616,
          102.311,
          132.094,
          115.387,
          133.613,
          82.17,
          102.36,
          123.777,
          140.796,
          103.446,
          129.198,
          128.919,
          68.111,
          125.477,
          134.925,
          90.715,
          82.895,
          70.649,
          139.013,
          0,
          94.578,
          101.253,
          98.026,
          91.054,
          100.443,
          133.737,
          117.032,
          161.701,
          0,
          169.477,
          87.182,
          136.058,
          76.349,
          169.778,
          119.715,
          192.399,
          92.458,
          139.302,
          0,
          134.904,
          152.231,
          97.793,
          164.869,
          173.251,
          87.718,
          120.101,
          87.792,
          142.527,
          71.852,
          144.439,
          165.057,
          140.272,
          129.03,
          79.103,
          118.11,
          138.523,
          136.471,
          62.393,
          86.107,
          111.623,
          136.854,
          140.608,
          130.195,
          125.657,
          137.253,
          135.669,
          86.051,
          47.246,
          126.776,
          115.763,
          143.73,
          138.658,
          76.97,
          169.334,
          125.86,
          106.002,
          61.03,
          132.471,
          131.226,
          143.192,
          86.702,
          160.832,
          98.125,
          155.13,
          124.64,
          112.343,
          96.099,
          139.686,
          122.336,
          112.889,
          117.334,
          91.668,
          173.556,
          167.525,
          110.779,
          90.225,
          79.471,
          129.656,
          189.782,
          112.277,
          96.886,
          106.807,
          102.967,
          140.164,
          122.174,
          113.521,
          123.585,
          128.9,
          135.754,
          109.904,
          164.605,
          163.63,
          128.451,
          159.441,
          136.888,
          130.438,
          117.916,
          182.399,
          138.311,
          124.655,
          137.382,
          102.424,
          110.618,
          96.245,
          126.798,
          89.735,
          129.684,
          121.183,
          72.244,
          179.693,
          79.621,
          86.468,
          94.967,
          169.994,
          78.408,
          91.242,
          136.18,
          141.085,
          175.22,
          185.584,
          134.105,
          188.181,
          103.123,
          134.702,
          139.374,
          167.748,
          84.761,
          117.153,
          149.62,
          84.995,
          104.258,
          78.943,
          142.657,
          93.82,
          69.925,
          89.212,
          138.935,
          115.124,
          114.796,
          89.897,
          120.356,
          150.785,
          104.767,
          92.583,
          98.997,
          113.193,
          120.922,
          154.921,
          78.419,
          127.317,
          147.869,
          118.018,
          174.134,
          148.643,
          138.715,
          82.588,
          175.566,
          89.156,
          121.509,
          138.625,
          152.361,
          76.795,
          82.224,
          95.082,
          127.719,
          144.06,
          113.622,
          118.73,
          109.317,
          82.396,
          89.173,
          143.811,
          100.526,
          123.358,
          84.005,
          80.663,
          80.647,
          166.72,
          100.497,
          161.293,
          173.751,
          129.101,
          142.872,
          173.67,
          131.099,
          133.298,
          164.891,
          126.695,
          149.875,
          92.253,
          139.822,
          142.441,
          132.918,
          83.482,
          74.502,
          84.037,
          79.384,
          165.489,
          92.501,
          77.076,
          87.938,
          165.109,
          166.035,
          129.09,
          126.629,
          81.134,
          100.276,
          170.359,
          91.26,
          122.778,
          86.298,
          141.355,
          113.374,
          127.789,
          142.038,
          71.469,
          118.441,
          121.379,
          163.566,
          107.59,
          81.095,
          163.347,
          76.148,
          128.317,
          66.436,
          90.782,
          165.614,
          169.081,
          144.338,
          155.067,
          128.47,
          118.377,
          109.111,
          123.091,
          135.137,
          107.858,
          124.606,
          187.098,
          155.196,
          168.087,
          105.038,
          146.242,
          128.235,
          122.637,
          167.372,
          119.222,
          154.318,
          90.974,
          114.447,
          75.368,
          126.794,
          112.519,
          119.619,
          84.359,
          181.077,
          157.595,
          71.105,
          175.233,
          79.194,
          115.822,
          140.934,
          81.92,
          124.176,
          125.572,
          165.416,
          90.474,
          116.556,
          132.388,
          81.332,
          81.846,
          126.059,
          78.735,
          123.418,
          129.3,
          115.246,
          136.743,
          136.411,
          130.21,
          124.478,
          116.635,
          91.033,
          136.555,
          164.542,
          130.546,
          81.896,
          132.625,
          117.169,
          106.066,
          111.374,
          124.21,
          103.392,
          137.891,
          133.603,
          126.833,
          107.798,
          164.568,
          133.852,
          81.628,
          82.251,
          123.72,
          103.18,
          133.167,
          104.282,
          111.33,
          83.216,
          124.014,
          110.78,
          118.295,
          137.41,
          173.123,
          83.967,
          125.924,
          132.127,
          133.977,
          106.877,
          103.522,
          103.321,
          130.297,
          137.932,
          168.928,
          126.989,
          100.831,
          122.928,
          76.638,
          135.338,
          143,
          129.116,
          139.244,
          133.367,
          92.293,
          174.123,
          143.076,
          151.262,
          127.755,
          93.762,
          164.584,
          120.341,
          102.401,
          114.848,
          113.225,
          95.686,
          112.24,
          187.861,
          125.012,
          79.387,
          66.122,
          113.196,
          87.574,
          144.473,
          163.781,
          109.438,
          147.363,
          121.382,
          142.659,
          150.401,
          99.32,
          87.188,
          129.021,
          139.534,
          122.498,
          176.855,
          121.365,
          115.133,
          103.148,
          127.481,
          96.591,
          78.527,
          137.727,
          111.098,
          133.548,
          136.857,
          103.465,
          82.882,
          127.042,
          137.605,
          106.026,
          184.304,
          94.958,
          80.027,
          124.534,
          136.072,
          75.403,
          130.646,
          111.246,
          77.818,
          142.59,
          161.722,
          171.595,
          137.622,
          112.474,
          138.581,
          90.089,
          123.343,
          96.529,
          76.859,
          96.221
         ],
         "yaxis": "y"
        }
       ],
       "layout": {
        "coloraxis": {
         "colorbar": {
          "title": {
           "text": "Key"
          }
         },
         "colorscale": [
          [
           0,
           "#0d0887"
          ],
          [
           0.1111111111111111,
           "#46039f"
          ],
          [
           0.2222222222222222,
           "#7201a8"
          ],
          [
           0.3333333333333333,
           "#9c179e"
          ],
          [
           0.4444444444444444,
           "#bd3786"
          ],
          [
           0.5555555555555556,
           "#d8576b"
          ],
          [
           0.6666666666666666,
           "#ed7953"
          ],
          [
           0.7777777777777778,
           "#fb9f3a"
          ],
          [
           0.8888888888888888,
           "#fdca26"
          ],
          [
           1,
           "#f0f921"
          ]
         ]
        },
        "legend": {
         "tracegroupgap": 0
        },
        "template": {
         "data": {
          "bar": [
           {
            "error_x": {
             "color": "#2a3f5f"
            },
            "error_y": {
             "color": "#2a3f5f"
            },
            "marker": {
             "line": {
              "color": "#E5ECF6",
              "width": 0.5
             },
             "pattern": {
              "fillmode": "overlay",
              "size": 10,
              "solidity": 0.2
             }
            },
            "type": "bar"
           }
          ],
          "barpolar": [
           {
            "marker": {
             "line": {
              "color": "#E5ECF6",
              "width": 0.5
             },
             "pattern": {
              "fillmode": "overlay",
              "size": 10,
              "solidity": 0.2
             }
            },
            "type": "barpolar"
           }
          ],
          "carpet": [
           {
            "aaxis": {
             "endlinecolor": "#2a3f5f",
             "gridcolor": "white",
             "linecolor": "white",
             "minorgridcolor": "white",
             "startlinecolor": "#2a3f5f"
            },
            "baxis": {
             "endlinecolor": "#2a3f5f",
             "gridcolor": "white",
             "linecolor": "white",
             "minorgridcolor": "white",
             "startlinecolor": "#2a3f5f"
            },
            "type": "carpet"
           }
          ],
          "choropleth": [
           {
            "colorbar": {
             "outlinewidth": 0,
             "ticks": ""
            },
            "type": "choropleth"
           }
          ],
          "contour": [
           {
            "colorbar": {
             "outlinewidth": 0,
             "ticks": ""
            },
            "colorscale": [
             [
              0,
              "#0d0887"
             ],
             [
              0.1111111111111111,
              "#46039f"
             ],
             [
              0.2222222222222222,
              "#7201a8"
             ],
             [
              0.3333333333333333,
              "#9c179e"
             ],
             [
              0.4444444444444444,
              "#bd3786"
             ],
             [
              0.5555555555555556,
              "#d8576b"
             ],
             [
              0.6666666666666666,
              "#ed7953"
             ],
             [
              0.7777777777777778,
              "#fb9f3a"
             ],
             [
              0.8888888888888888,
              "#fdca26"
             ],
             [
              1,
              "#f0f921"
             ]
            ],
            "type": "contour"
           }
          ],
          "contourcarpet": [
           {
            "colorbar": {
             "outlinewidth": 0,
             "ticks": ""
            },
            "type": "contourcarpet"
           }
          ],
          "heatmap": [
           {
            "colorbar": {
             "outlinewidth": 0,
             "ticks": ""
            },
            "colorscale": [
             [
              0,
              "#0d0887"
             ],
             [
              0.1111111111111111,
              "#46039f"
             ],
             [
              0.2222222222222222,
              "#7201a8"
             ],
             [
              0.3333333333333333,
              "#9c179e"
             ],
             [
              0.4444444444444444,
              "#bd3786"
             ],
             [
              0.5555555555555556,
              "#d8576b"
             ],
             [
              0.6666666666666666,
              "#ed7953"
             ],
             [
              0.7777777777777778,
              "#fb9f3a"
             ],
             [
              0.8888888888888888,
              "#fdca26"
             ],
             [
              1,
              "#f0f921"
             ]
            ],
            "type": "heatmap"
           }
          ],
          "heatmapgl": [
           {
            "colorbar": {
             "outlinewidth": 0,
             "ticks": ""
            },
            "colorscale": [
             [
              0,
              "#0d0887"
             ],
             [
              0.1111111111111111,
              "#46039f"
             ],
             [
              0.2222222222222222,
              "#7201a8"
             ],
             [
              0.3333333333333333,
              "#9c179e"
             ],
             [
              0.4444444444444444,
              "#bd3786"
             ],
             [
              0.5555555555555556,
              "#d8576b"
             ],
             [
              0.6666666666666666,
              "#ed7953"
             ],
             [
              0.7777777777777778,
              "#fb9f3a"
             ],
             [
              0.8888888888888888,
              "#fdca26"
             ],
             [
              1,
              "#f0f921"
             ]
            ],
            "type": "heatmapgl"
           }
          ],
          "histogram": [
           {
            "marker": {
             "pattern": {
              "fillmode": "overlay",
              "size": 10,
              "solidity": 0.2
             }
            },
            "type": "histogram"
           }
          ],
          "histogram2d": [
           {
            "colorbar": {
             "outlinewidth": 0,
             "ticks": ""
            },
            "colorscale": [
             [
              0,
              "#0d0887"
             ],
             [
              0.1111111111111111,
              "#46039f"
             ],
             [
              0.2222222222222222,
              "#7201a8"
             ],
             [
              0.3333333333333333,
              "#9c179e"
             ],
             [
              0.4444444444444444,
              "#bd3786"
             ],
             [
              0.5555555555555556,
              "#d8576b"
             ],
             [
              0.6666666666666666,
              "#ed7953"
             ],
             [
              0.7777777777777778,
              "#fb9f3a"
             ],
             [
              0.8888888888888888,
              "#fdca26"
             ],
             [
              1,
              "#f0f921"
             ]
            ],
            "type": "histogram2d"
           }
          ],
          "histogram2dcontour": [
           {
            "colorbar": {
             "outlinewidth": 0,
             "ticks": ""
            },
            "colorscale": [
             [
              0,
              "#0d0887"
             ],
             [
              0.1111111111111111,
              "#46039f"
             ],
             [
              0.2222222222222222,
              "#7201a8"
             ],
             [
              0.3333333333333333,
              "#9c179e"
             ],
             [
              0.4444444444444444,
              "#bd3786"
             ],
             [
              0.5555555555555556,
              "#d8576b"
             ],
             [
              0.6666666666666666,
              "#ed7953"
             ],
             [
              0.7777777777777778,
              "#fb9f3a"
             ],
             [
              0.8888888888888888,
              "#fdca26"
             ],
             [
              1,
              "#f0f921"
             ]
            ],
            "type": "histogram2dcontour"
           }
          ],
          "mesh3d": [
           {
            "colorbar": {
             "outlinewidth": 0,
             "ticks": ""
            },
            "type": "mesh3d"
           }
          ],
          "parcoords": [
           {
            "line": {
             "colorbar": {
              "outlinewidth": 0,
              "ticks": ""
             }
            },
            "type": "parcoords"
           }
          ],
          "pie": [
           {
            "automargin": true,
            "type": "pie"
           }
          ],
          "scatter": [
           {
            "fillpattern": {
             "fillmode": "overlay",
             "size": 10,
             "solidity": 0.2
            },
            "type": "scatter"
           }
          ],
          "scatter3d": [
           {
            "line": {
             "colorbar": {
              "outlinewidth": 0,
              "ticks": ""
             }
            },
            "marker": {
             "colorbar": {
              "outlinewidth": 0,
              "ticks": ""
             }
            },
            "type": "scatter3d"
           }
          ],
          "scattercarpet": [
           {
            "marker": {
             "colorbar": {
              "outlinewidth": 0,
              "ticks": ""
             }
            },
            "type": "scattercarpet"
           }
          ],
          "scattergeo": [
           {
            "marker": {
             "colorbar": {
              "outlinewidth": 0,
              "ticks": ""
             }
            },
            "type": "scattergeo"
           }
          ],
          "scattergl": [
           {
            "marker": {
             "colorbar": {
              "outlinewidth": 0,
              "ticks": ""
             }
            },
            "type": "scattergl"
           }
          ],
          "scattermapbox": [
           {
            "marker": {
             "colorbar": {
              "outlinewidth": 0,
              "ticks": ""
             }
            },
            "type": "scattermapbox"
           }
          ],
          "scatterpolar": [
           {
            "marker": {
             "colorbar": {
              "outlinewidth": 0,
              "ticks": ""
             }
            },
            "type": "scatterpolar"
           }
          ],
          "scatterpolargl": [
           {
            "marker": {
             "colorbar": {
              "outlinewidth": 0,
              "ticks": ""
             }
            },
            "type": "scatterpolargl"
           }
          ],
          "scatterternary": [
           {
            "marker": {
             "colorbar": {
              "outlinewidth": 0,
              "ticks": ""
             }
            },
            "type": "scatterternary"
           }
          ],
          "surface": [
           {
            "colorbar": {
             "outlinewidth": 0,
             "ticks": ""
            },
            "colorscale": [
             [
              0,
              "#0d0887"
             ],
             [
              0.1111111111111111,
              "#46039f"
             ],
             [
              0.2222222222222222,
              "#7201a8"
             ],
             [
              0.3333333333333333,
              "#9c179e"
             ],
             [
              0.4444444444444444,
              "#bd3786"
             ],
             [
              0.5555555555555556,
              "#d8576b"
             ],
             [
              0.6666666666666666,
              "#ed7953"
             ],
             [
              0.7777777777777778,
              "#fb9f3a"
             ],
             [
              0.8888888888888888,
              "#fdca26"
             ],
             [
              1,
              "#f0f921"
             ]
            ],
            "type": "surface"
           }
          ],
          "table": [
           {
            "cells": {
             "fill": {
              "color": "#EBF0F8"
             },
             "line": {
              "color": "white"
             }
            },
            "header": {
             "fill": {
              "color": "#C8D4E3"
             },
             "line": {
              "color": "white"
             }
            },
            "type": "table"
           }
          ]
         },
         "layout": {
          "annotationdefaults": {
           "arrowcolor": "#2a3f5f",
           "arrowhead": 0,
           "arrowwidth": 1
          },
          "autotypenumbers": "strict",
          "coloraxis": {
           "colorbar": {
            "outlinewidth": 0,
            "ticks": ""
           }
          },
          "colorscale": {
           "diverging": [
            [
             0,
             "#8e0152"
            ],
            [
             0.1,
             "#c51b7d"
            ],
            [
             0.2,
             "#de77ae"
            ],
            [
             0.3,
             "#f1b6da"
            ],
            [
             0.4,
             "#fde0ef"
            ],
            [
             0.5,
             "#f7f7f7"
            ],
            [
             0.6,
             "#e6f5d0"
            ],
            [
             0.7,
             "#b8e186"
            ],
            [
             0.8,
             "#7fbc41"
            ],
            [
             0.9,
             "#4d9221"
            ],
            [
             1,
             "#276419"
            ]
           ],
           "sequential": [
            [
             0,
             "#0d0887"
            ],
            [
             0.1111111111111111,
             "#46039f"
            ],
            [
             0.2222222222222222,
             "#7201a8"
            ],
            [
             0.3333333333333333,
             "#9c179e"
            ],
            [
             0.4444444444444444,
             "#bd3786"
            ],
            [
             0.5555555555555556,
             "#d8576b"
            ],
            [
             0.6666666666666666,
             "#ed7953"
            ],
            [
             0.7777777777777778,
             "#fb9f3a"
            ],
            [
             0.8888888888888888,
             "#fdca26"
            ],
            [
             1,
             "#f0f921"
            ]
           ],
           "sequentialminus": [
            [
             0,
             "#0d0887"
            ],
            [
             0.1111111111111111,
             "#46039f"
            ],
            [
             0.2222222222222222,
             "#7201a8"
            ],
            [
             0.3333333333333333,
             "#9c179e"
            ],
            [
             0.4444444444444444,
             "#bd3786"
            ],
            [
             0.5555555555555556,
             "#d8576b"
            ],
            [
             0.6666666666666666,
             "#ed7953"
            ],
            [
             0.7777777777777778,
             "#fb9f3a"
            ],
            [
             0.8888888888888888,
             "#fdca26"
            ],
            [
             1,
             "#f0f921"
            ]
           ]
          },
          "colorway": [
           "#636efa",
           "#EF553B",
           "#00cc96",
           "#ab63fa",
           "#FFA15A",
           "#19d3f3",
           "#FF6692",
           "#B6E880",
           "#FF97FF",
           "#FECB52"
          ],
          "font": {
           "color": "#2a3f5f"
          },
          "geo": {
           "bgcolor": "white",
           "lakecolor": "white",
           "landcolor": "#E5ECF6",
           "showlakes": true,
           "showland": true,
           "subunitcolor": "white"
          },
          "hoverlabel": {
           "align": "left"
          },
          "hovermode": "closest",
          "mapbox": {
           "style": "light"
          },
          "paper_bgcolor": "white",
          "plot_bgcolor": "#E5ECF6",
          "polar": {
           "angularaxis": {
            "gridcolor": "white",
            "linecolor": "white",
            "ticks": ""
           },
           "bgcolor": "#E5ECF6",
           "radialaxis": {
            "gridcolor": "white",
            "linecolor": "white",
            "ticks": ""
           }
          },
          "scene": {
           "xaxis": {
            "backgroundcolor": "#E5ECF6",
            "gridcolor": "white",
            "gridwidth": 2,
            "linecolor": "white",
            "showbackground": true,
            "ticks": "",
            "zerolinecolor": "white"
           },
           "yaxis": {
            "backgroundcolor": "#E5ECF6",
            "gridcolor": "white",
            "gridwidth": 2,
            "linecolor": "white",
            "showbackground": true,
            "ticks": "",
            "zerolinecolor": "white"
           },
           "zaxis": {
            "backgroundcolor": "#E5ECF6",
            "gridcolor": "white",
            "gridwidth": 2,
            "linecolor": "white",
            "showbackground": true,
            "ticks": "",
            "zerolinecolor": "white"
           }
          },
          "shapedefaults": {
           "line": {
            "color": "#2a3f5f"
           }
          },
          "ternary": {
           "aaxis": {
            "gridcolor": "white",
            "linecolor": "white",
            "ticks": ""
           },
           "baxis": {
            "gridcolor": "white",
            "linecolor": "white",
            "ticks": ""
           },
           "bgcolor": "#E5ECF6",
           "caxis": {
            "gridcolor": "white",
            "linecolor": "white",
            "ticks": ""
           }
          },
          "title": {
           "x": 0.05
          },
          "xaxis": {
           "automargin": true,
           "gridcolor": "white",
           "linecolor": "white",
           "ticks": "",
           "title": {
            "standoff": 15
           },
           "zerolinecolor": "white",
           "zerolinewidth": 2
          },
          "yaxis": {
           "automargin": true,
           "gridcolor": "white",
           "linecolor": "white",
           "ticks": "",
           "title": {
            "standoff": 15
           },
           "zerolinecolor": "white",
           "zerolinewidth": 2
          }
         }
        },
        "title": {
         "text": "Time Series of Tempo and Key based on Release Date"
        },
        "xaxis": {
         "anchor": "y",
         "domain": [
          0,
          1
         ],
         "title": {
          "text": "Release Date"
         }
        },
        "yaxis": {
         "anchor": "x",
         "domain": [
          0,
          1
         ],
         "title": {
          "text": "Tempo (BPM)"
         }
        }
       }
      }
     },
     "metadata": {},
     "output_type": "display_data"
    }
   ],
   "source": [
    "fig = px.scatter(df, x='Release Date', y='Tempo', color='Key', hover_name='Track Name', \n",
    "                 title='Time Series of Tempo and Key based on Release Date', \n",
    "                 labels={'Tempo': 'Tempo (BPM)', 'Release Date': 'Release Date', 'Key': 'Key'})\n",
    "\n",
    "# Customize the layout\n",
    "fig.update_traces(marker=dict(size=8, opacity=0.7),\n",
    "                  selector=dict(mode='markers'))\n",
    "\n",
    "# Show the plot\n",
    "fig.show()"
   ]
  },
  {
   "cell_type": "code",
   "execution_count": 17,
   "metadata": {},
   "outputs": [],
   "source": [
    "df2 = df[df['Release Date'].dt.year < 1975]"
   ]
  },
  {
   "cell_type": "code",
   "execution_count": 18,
   "metadata": {},
   "outputs": [
    {
     "data": {
      "application/vnd.plotly.v1+json": {
       "config": {
        "plotlyServerURL": "https://plot.ly"
       },
       "data": [
        {
         "hovertemplate": "<b>%{hovertext}</b><br><br>Release Date=%{x}<br>Tempo (BPM)=%{y}<br>Key=%{marker.color}<extra></extra>",
         "hovertext": [
          "Getting Better",
          "Penny Lane - Stereo Mix 2017",
          "Penny Lane - Vocal Overdubs And Speech",
          "Penny Lane - Take 6 / Instrumental",
          "When I'm Sixty-Four - Take 2",
          "Strawberry Fields Forever - Stereo Mix 2015",
          "Strawberry Fields Forever - Take 26",
          "Strawberry Fields Forever - Take 7",
          "Strawberry Fields Forever - Take 4",
          "Strawberry Fields Forever - Take 1",
          "A Day In The Life - Remix",
          "A Day In The Life - Take 1",
          "Sgt. Pepper's Lonely Hearts Club Band (Reprise) - Remix",
          "Lovely Rita - Remix",
          "When I'm Sixty-Four - Remix",
          "Within You Without You - Remastered 2017",
          "Being For The Benefit Of Mr. Kite! - Remix",
          "She's Leaving Home - Remix",
          "Fixing A Hole - Remix",
          "Getting Better - Remix",
          "Lucy In The Sky With Diamonds - Remastered 2017",
          "With A Little Help From My Friends - Remastered 2017",
          "Sgt. Pepper's Lonely Hearts Club Band - Remastered 2017",
          "Good Morning Good Morning - Remix",
          "A Day In The Life - Take 2",
          "Lucy In The Sky With Diamonds",
          "A Day In The Life - Hummed Last Chord / Takes 8, 9, 10 And 11",
          "A Day In The Life - Orchestra Overdub",
          "Sgt Pepper's Lonely Hearts Club Band",
          "Sgt. Pepper's Lonely Hearts Club Band (Reprise) - Speech And Take 8",
          "With A Little Help From My Friends - Take 1 / False Start And Take 2 / Instrumental",
          "She's Leaving Home - Take 6 / Instrumental",
          "She's Leaving Home - Take 1 / Instrumental",
          "Within You Without You - George Coaching The Musicians",
          "Within You Without You - Take 1 / Indian Instruments",
          "Getting Better - Take 12",
          "Getting Better - Take 1 / Instrumental And Speech At The End",
          "Lucy In The Sky With Diamonds - Speech, False Start And Take 5",
          "With A Little Help From My Friends",
          "Lovely Rita - Speech And Take 9",
          "Being For The Benefit Of Mr. Kite! - Take 7",
          "Being For The Benefit Of Mr. Kite! - Speech From Before Take 1 / Take 4 And Speech At End",
          "Fixing A Hole - Speech And Take 3",
          "Fixing A Hole - Take 1",
          "Good Morning Good Morning - Take 8",
          "Good Morning Good Morning - Take 1 / Instrumental Breakdown",
          "Sgt. Pepper's Lonely Hearts Club Band - Take 9 And Speech",
          "Sgt. Pepper's Lonely Hearts Club Band - Take 1 / Instrumental",
          "A Day In The Life - The Last Chord",
          "Lucy In The Sky With Diamonds - Take 1 And Speech At The End",
          "Sgt. Pepper's Lonely Hearts Club Band - Remix",
          "With A Little Help From My Friends - Remix",
          "Lucy In The Sky With Diamonds - Remix",
          "Being For The Benefit Of Mr. Kite! - Remix",
          "Fixing A Hole - Remix",
          "She's Leaving Home - Remix",
          "A Day In The Life - Remastered 2009",
          "Getting Better - Remix",
          "Sgt. Pepper's Lonely Hearts Club Band - Reprise / Remastered 2009",
          "She's Leaving Home - Remastered 2009",
          "Lovely Rita - Remastered 2009",
          "When I'm Sixty Four - Remastered 2009",
          "Within You Without You - Remastered 2009",
          "Being For The Benefit Of Mr. Kite! - Remastered 2009",
          "Fixing A Hole - Remastered 2009",
          "Getting Better - Remastered 2009",
          "With A Little Help From My Friends - Remastered 2009",
          "Sgt. Pepper's Lonely Hearts Club Band - Remastered 2009",
          "Within You Without You - Remix",
          "Good Morning Good Morning - Remastered 2009",
          "When I'm Sixty-Four - Remix",
          "Lucy In The Sky With Diamonds - Remastered 2009",
          "Good Morning Good Morning - Remix",
          "Lovely Rita - Remix",
          "Penny Lane - Take 6 / Instrumental",
          "Strawberry Fields Forever - Stereo Mix 2015",
          "Penny Lane - Stereo Mix 2017",
          "Strawberry Fields Forever - Take 26",
          "Strawberry Fields Forever - Take 7",
          "A Day In The Life - Take 1 With Hums",
          "Sgt. Pepper's Lonely Hearts Club Band (Reprise) - Speech And Take 8",
          "Lovely Rita - Speech And Take 9",
          "When I'm Sixty-Four - Take 2",
          "Good Morning Good Morning - Take 8",
          "Being For The Benefit Of Mr. Kite! - Take 4",
          "She's Leaving Home - Take 1 / Instrumental",
          "Fixing A Hole - Speech And Take 3",
          "Getting Better - Take 1 / Instrumental And Speech At The End",
          "Lucy In The Sky With Diamonds - Take 1",
          "With A Little Help From My Friends - Take 1 / False Start And Take 2 / Instrumental",
          "Sgt. Pepper's Lonely Hearts Club Band - Take 9 And Speech",
          "A Day In The Life - Remix",
          "Sgt. Pepper's Lonely Hearts Club Band (Reprise) - Remix",
          "Within You Without You - Take 1 / Indian Instruments",
          "Blue Jay Way - Remastered 2009",
          "Magical Mystery Tour - Remastered 2009",
          "The Fool On The Hill - Remastered 2009",
          "Flying - Remastered 2009",
          "Your Mother Should Know - Remastered 2009",
          "Penny Lane - Remastered 2009",
          "Hello, Goodbye - Remastered 2009",
          "Strawberry Fields Forever - Remastered 2009",
          "Baby, You're A Rich Man - Remastered 2009",
          "All You Need Is Love - Remastered 2009",
          "I Am The Walrus - Remastered 2009",
          "Piggies - Remastered 2009",
          "Blackbird - Remastered 2009",
          "I'm So Tired - Remastered 2009",
          "Martha My Dear - Remastered 2009",
          "Happiness Is A Warm Gun - Remastered 2009",
          "The Continuing Story Of Bungalow Bill - Remastered 2009",
          "Wild Honey Pie - Remastered 2009",
          "Ob-La-Di, Ob-La-Da - Remastered 2009",
          "Glass Onion - Remastered 2009",
          "Dear Prudence - Remastered 2009",
          "Back In The U.S.S.R. - Remastered 2009",
          "Rocky Raccoon - Remastered 2009",
          "While My Guitar Gently Weeps - Remastered 2009",
          "Don't Pass Me By - Remastered 2009",
          "Everybody's Got Something To Hide Except Me And My Monkey - Remastered 2009",
          "I Will - Remastered 2009",
          "Why Don't We Do It In The Road? - Remastered 2009",
          "Good Night - Remastered 2009",
          "Revolution 9 - Remastered 2009",
          "Cry Baby Cry - Remastered 2009",
          "Honey Pie - Remastered 2009",
          "Revolution 1 - Remastered 2009",
          "Savoy Truffle - Remastered 2009",
          "Helter Skelter - Remastered 2009",
          "Sexy Sadie - Remastered 2009",
          "Mother Nature's Son - Remastered 2009",
          "Yer Blues - Remastered 2009",
          "Birthday - Remastered 2009",
          "Julia - Remastered 2009",
          "Long, Long, Long - Remastered 2009",
          "It's All Too Much - Remastered 2009",
          "Yellow Submarine - Remastered 2009",
          "Only A Northern Song - Remastered 2009",
          "All Together Now - Remastered 2009",
          "Hey Bulldog - Remastered 2009",
          "All You Need Is Love - Remastered 2009",
          "Sea Of Monsters - Remastered 2009",
          "Sea Of Time - Remastered 2009",
          "Sea Of Holes - Remastered 2009",
          "March Of The Meanies - Remastered 2009",
          "Pepperland Laid Waste - Remastered 2009",
          "Yellow Submarine In Pepperland - Remastered 2009",
          "Pepperland - Remastered 2009",
          "Come Together - Remastered 2009",
          "Something - Remastered 2009",
          "Here Comes The Sun - Remastered 2009",
          "Oh! Darling - Remastered 2009",
          "Octopus's Garden - Remastered 2009",
          "I Want You (She's So Heavy) - Remastered 2009",
          "Because - Remastered 2009",
          "Maxwell's Silver Hammer - Remastered 2009",
          "Sun King - Remastered 2009",
          "You Never Give Me Your Money - Remastered 2009",
          "Her Majesty - Remastered 2009",
          "Carry That Weight - Remastered 2009",
          "The End - Remastered 2009",
          "She Came In Through The Bathroom Window - Remastered 2009",
          "Golden Slumbers - Remastered 2009",
          "Polythene Pam - Remastered 2009",
          "Mean Mr Mustard - Remastered 2009",
          "Two Of Us - Remastered 2009",
          "Across The Universe - Remastered 2009",
          "I Me Mine - Remastered 2009",
          "Dig It - Remastered 2009",
          "Let It Be - Remastered 2009",
          "Dig A Pony - Remastered 2009",
          "I've Got A Feeling - Remastered 2009",
          "One After 909 - Remastered 2009",
          "The Long And Winding Road - Remastered 2009",
          "For You Blue - Remastered 2009",
          "Get Back - Remastered 2009",
          "Maggie Mae - Remastered 2009"
         ],
         "legendgroup": "",
         "marker": {
          "color": [
           0,
           9,
           7,
           0,
           7,
           10,
           0,
           9,
           10,
           0,
           4,
           4,
           0,
           8,
           8,
           6,
           9,
           0,
           0,
           0,
           11,
           1,
           7,
           2,
           4,
           2,
           9,
           7,
           7,
           0,
           6,
           4,
           4,
           5,
           5,
           0,
           0,
           2,
           4,
           4,
           0,
           0,
           5,
           5,
           2,
           7,
           0,
           7,
           4,
           2,
           7,
           4,
           2,
           9,
           0,
           0,
           4,
           0,
           0,
           4,
           8,
           1,
           6,
           0,
           0,
           0,
           4,
           7,
           6,
           2,
           8,
           2,
           2,
           8,
           0,
           10,
           9,
           0,
           5,
           4,
           0,
           4,
           7,
           2,
           0,
           4,
           5,
           0,
           2,
           6,
           0,
           4,
           0,
           5,
           0,
           9,
           4,
           0,
           0,
           9,
           0,
           10,
           7,
           7,
           2,
           8,
           7,
           9,
           10,
           9,
           0,
           2,
           10,
           7,
           7,
           9,
           7,
           4,
           0,
           2,
           5,
           2,
           7,
           2,
           9,
           7,
           9,
           11,
           9,
           0,
           2,
           9,
           2,
           2,
           5,
           7,
           1,
           9,
           2,
           7,
           7,
           9,
           2,
           6,
           9,
           8,
           7,
           7,
           9,
           0,
           9,
           4,
           1,
           2,
           2,
           2,
           2,
           0,
           2,
           0,
           11,
           2,
           0,
           11,
           4,
           7,
           1,
           9,
           5,
           0,
           11,
           2,
           4,
           3,
           2,
           2,
           2
          ],
          "coloraxis": "coloraxis",
          "opacity": 0.7,
          "size": 8,
          "symbol": "circle"
         },
         "mode": "markers",
         "name": "",
         "orientation": "v",
         "showlegend": false,
         "type": "scatter",
         "x": [
          "1967-05-26T00:00:00",
          "1967-05-26T00:00:00",
          "1967-05-26T00:00:00",
          "1967-05-26T00:00:00",
          "1967-05-26T00:00:00",
          "1967-05-26T00:00:00",
          "1967-05-26T00:00:00",
          "1967-05-26T00:00:00",
          "1967-05-26T00:00:00",
          "1967-05-26T00:00:00",
          "1967-05-26T00:00:00",
          "1967-05-26T00:00:00",
          "1967-05-26T00:00:00",
          "1967-05-26T00:00:00",
          "1967-05-26T00:00:00",
          "1967-05-26T00:00:00",
          "1967-05-26T00:00:00",
          "1967-05-26T00:00:00",
          "1967-05-26T00:00:00",
          "1967-05-26T00:00:00",
          "1967-05-26T00:00:00",
          "1967-05-26T00:00:00",
          "1967-05-26T00:00:00",
          "1967-05-26T00:00:00",
          "1967-05-26T00:00:00",
          "1967-05-26T00:00:00",
          "1967-05-26T00:00:00",
          "1967-05-26T00:00:00",
          "1967-05-26T00:00:00",
          "1967-05-26T00:00:00",
          "1967-05-26T00:00:00",
          "1967-05-26T00:00:00",
          "1967-05-26T00:00:00",
          "1967-05-26T00:00:00",
          "1967-05-26T00:00:00",
          "1967-05-26T00:00:00",
          "1967-05-26T00:00:00",
          "1967-05-26T00:00:00",
          "1967-05-26T00:00:00",
          "1967-05-26T00:00:00",
          "1967-05-26T00:00:00",
          "1967-05-26T00:00:00",
          "1967-05-26T00:00:00",
          "1967-05-26T00:00:00",
          "1967-05-26T00:00:00",
          "1967-05-26T00:00:00",
          "1967-05-26T00:00:00",
          "1967-05-26T00:00:00",
          "1967-05-26T00:00:00",
          "1967-05-26T00:00:00",
          "1967-06-01T00:00:00",
          "1967-06-01T00:00:00",
          "1967-06-01T00:00:00",
          "1967-06-01T00:00:00",
          "1967-06-01T00:00:00",
          "1967-06-01T00:00:00",
          "1967-06-01T00:00:00",
          "1967-06-01T00:00:00",
          "1967-06-01T00:00:00",
          "1967-06-01T00:00:00",
          "1967-06-01T00:00:00",
          "1967-06-01T00:00:00",
          "1967-06-01T00:00:00",
          "1967-06-01T00:00:00",
          "1967-06-01T00:00:00",
          "1967-06-01T00:00:00",
          "1967-06-01T00:00:00",
          "1967-06-01T00:00:00",
          "1967-06-01T00:00:00",
          "1967-06-01T00:00:00",
          "1967-06-01T00:00:00",
          "1967-06-01T00:00:00",
          "1967-06-01T00:00:00",
          "1967-06-01T00:00:00",
          "1967-06-01T00:00:00",
          "1967-06-01T00:00:00",
          "1967-06-01T00:00:00",
          "1967-06-01T00:00:00",
          "1967-06-01T00:00:00",
          "1967-06-01T00:00:00",
          "1967-06-01T00:00:00",
          "1967-06-01T00:00:00",
          "1967-06-01T00:00:00",
          "1967-06-01T00:00:00",
          "1967-06-01T00:00:00",
          "1967-06-01T00:00:00",
          "1967-06-01T00:00:00",
          "1967-06-01T00:00:00",
          "1967-06-01T00:00:00",
          "1967-06-01T00:00:00",
          "1967-06-01T00:00:00",
          "1967-06-01T00:00:00",
          "1967-06-01T00:00:00",
          "1967-06-01T00:00:00",
          "1967-11-27T00:00:00",
          "1967-11-27T00:00:00",
          "1967-11-27T00:00:00",
          "1967-11-27T00:00:00",
          "1967-11-27T00:00:00",
          "1967-11-27T00:00:00",
          "1967-11-27T00:00:00",
          "1967-11-27T00:00:00",
          "1967-11-27T00:00:00",
          "1967-11-27T00:00:00",
          "1967-11-27T00:00:00",
          "1968-11-22T00:00:00",
          "1968-11-22T00:00:00",
          "1968-11-22T00:00:00",
          "1968-11-22T00:00:00",
          "1968-11-22T00:00:00",
          "1968-11-22T00:00:00",
          "1968-11-22T00:00:00",
          "1968-11-22T00:00:00",
          "1968-11-22T00:00:00",
          "1968-11-22T00:00:00",
          "1968-11-22T00:00:00",
          "1968-11-22T00:00:00",
          "1968-11-22T00:00:00",
          "1968-11-22T00:00:00",
          "1968-11-22T00:00:00",
          "1968-11-22T00:00:00",
          "1968-11-22T00:00:00",
          "1968-11-22T00:00:00",
          "1968-11-22T00:00:00",
          "1968-11-22T00:00:00",
          "1968-11-22T00:00:00",
          "1968-11-22T00:00:00",
          "1968-11-22T00:00:00",
          "1968-11-22T00:00:00",
          "1968-11-22T00:00:00",
          "1968-11-22T00:00:00",
          "1968-11-22T00:00:00",
          "1968-11-22T00:00:00",
          "1968-11-22T00:00:00",
          "1968-11-22T00:00:00",
          "1969-01-17T00:00:00",
          "1969-01-17T00:00:00",
          "1969-01-17T00:00:00",
          "1969-01-17T00:00:00",
          "1969-01-17T00:00:00",
          "1969-01-17T00:00:00",
          "1969-01-17T00:00:00",
          "1969-01-17T00:00:00",
          "1969-01-17T00:00:00",
          "1969-01-17T00:00:00",
          "1969-01-17T00:00:00",
          "1969-01-17T00:00:00",
          "1969-01-17T00:00:00",
          "1969-09-26T00:00:00",
          "1969-09-26T00:00:00",
          "1969-09-26T00:00:00",
          "1969-09-26T00:00:00",
          "1969-09-26T00:00:00",
          "1969-09-26T00:00:00",
          "1969-09-26T00:00:00",
          "1969-09-26T00:00:00",
          "1969-09-26T00:00:00",
          "1969-09-26T00:00:00",
          "1969-09-26T00:00:00",
          "1969-09-26T00:00:00",
          "1969-09-26T00:00:00",
          "1969-09-26T00:00:00",
          "1969-09-26T00:00:00",
          "1969-09-26T00:00:00",
          "1969-09-26T00:00:00",
          "1970-05-08T00:00:00",
          "1970-05-08T00:00:00",
          "1970-05-08T00:00:00",
          "1970-05-08T00:00:00",
          "1970-05-08T00:00:00",
          "1970-05-08T00:00:00",
          "1970-05-08T00:00:00",
          "1970-05-08T00:00:00",
          "1970-05-08T00:00:00",
          "1970-05-08T00:00:00",
          "1970-05-08T00:00:00",
          "1970-05-08T00:00:00"
         ],
         "xaxis": "x",
         "y": [
          121.904,
          112.921,
          113.267,
          120.775,
          132.619,
          97.965,
          110.792,
          178.787,
          90.754,
          96.261,
          79.935,
          84.655,
          118.769,
          87.479,
          138.425,
          125.07,
          83.149,
          132.105,
          112.618,
          121.949,
          132.537,
          112.311,
          95.302,
          121.624,
          76.521,
          190.968,
          152.329,
          83.105,
          95.711,
          119.302,
          111.378,
          129.005,
          128.584,
          119.292,
          120.037,
          122.268,
          127.533,
          132.659,
          112.294,
          90.553,
          112.449,
          111.935,
          117.871,
          114.662,
          121.715,
          122.98,
          95.664,
          97.846,
          71.937,
          134.224,
          95.114,
          112.057,
          137.423,
          83.339,
          111.667,
          130.97,
          163.219,
          121.959,
          118.773,
          127.581,
          87.379,
          140.411,
          126.166,
          111.874,
          112.984,
          121.672,
          112.035,
          95.513,
          124.251,
          121.849,
          138.256,
          65.09,
          121.517,
          86.822,
          120.735,
          95.797,
          112.931,
          110.629,
          179.328,
          162.502,
          119.285,
          180.847,
          132.627,
          121.741,
          111.097,
          128.506,
          115.28,
          127.521,
          97.058,
          111.363,
          95.695,
          80.724,
          118.758,
          120.234,
          101.052,
          170.962,
          144.184,
          92.929,
          117.613,
          113.038,
          99.307,
          97.871,
          96.751,
          103.436,
          85.206,
          93.245,
          93.699,
          68.492,
          177.624,
          139.288,
          114.816,
          89.9,
          113.059,
          120.432,
          150.721,
          142.489,
          79.456,
          115,
          84.895,
          117.089,
          103.11,
          187.688,
          146.408,
          91.158,
          76.644,
          144.197,
          98.425,
          120.761,
          167.518,
          75.478,
          84.78,
          151.766,
          139.239,
          134.706,
          104.837,
          113.511,
          110.849,
          209.242,
          95.937,
          100.495,
          103.103,
          83.971,
          128.054,
          118.99,
          117.185,
          82.423,
          105.345,
          113.126,
          165.007,
          133.522,
          129.171,
          173.93,
          92.225,
          115.732,
          81.257,
          131.12,
          74.994,
          174.464,
          100.874,
          84.319,
          123.444,
          80.652,
          80.608,
          166.829,
          100.687,
          109.114,
          152.126,
          185.235,
          157.03,
          143.462,
          59.004,
          165.156,
          90.95,
          132.282,
          128.542,
          123.095,
          169.039
         ],
         "yaxis": "y"
        }
       ],
       "layout": {
        "coloraxis": {
         "colorbar": {
          "title": {
           "text": "Key"
          }
         },
         "colorscale": [
          [
           0,
           "#0d0887"
          ],
          [
           0.1111111111111111,
           "#46039f"
          ],
          [
           0.2222222222222222,
           "#7201a8"
          ],
          [
           0.3333333333333333,
           "#9c179e"
          ],
          [
           0.4444444444444444,
           "#bd3786"
          ],
          [
           0.5555555555555556,
           "#d8576b"
          ],
          [
           0.6666666666666666,
           "#ed7953"
          ],
          [
           0.7777777777777778,
           "#fb9f3a"
          ],
          [
           0.8888888888888888,
           "#fdca26"
          ],
          [
           1,
           "#f0f921"
          ]
         ]
        },
        "legend": {
         "tracegroupgap": 0
        },
        "template": {
         "data": {
          "bar": [
           {
            "error_x": {
             "color": "#2a3f5f"
            },
            "error_y": {
             "color": "#2a3f5f"
            },
            "marker": {
             "line": {
              "color": "#E5ECF6",
              "width": 0.5
             },
             "pattern": {
              "fillmode": "overlay",
              "size": 10,
              "solidity": 0.2
             }
            },
            "type": "bar"
           }
          ],
          "barpolar": [
           {
            "marker": {
             "line": {
              "color": "#E5ECF6",
              "width": 0.5
             },
             "pattern": {
              "fillmode": "overlay",
              "size": 10,
              "solidity": 0.2
             }
            },
            "type": "barpolar"
           }
          ],
          "carpet": [
           {
            "aaxis": {
             "endlinecolor": "#2a3f5f",
             "gridcolor": "white",
             "linecolor": "white",
             "minorgridcolor": "white",
             "startlinecolor": "#2a3f5f"
            },
            "baxis": {
             "endlinecolor": "#2a3f5f",
             "gridcolor": "white",
             "linecolor": "white",
             "minorgridcolor": "white",
             "startlinecolor": "#2a3f5f"
            },
            "type": "carpet"
           }
          ],
          "choropleth": [
           {
            "colorbar": {
             "outlinewidth": 0,
             "ticks": ""
            },
            "type": "choropleth"
           }
          ],
          "contour": [
           {
            "colorbar": {
             "outlinewidth": 0,
             "ticks": ""
            },
            "colorscale": [
             [
              0,
              "#0d0887"
             ],
             [
              0.1111111111111111,
              "#46039f"
             ],
             [
              0.2222222222222222,
              "#7201a8"
             ],
             [
              0.3333333333333333,
              "#9c179e"
             ],
             [
              0.4444444444444444,
              "#bd3786"
             ],
             [
              0.5555555555555556,
              "#d8576b"
             ],
             [
              0.6666666666666666,
              "#ed7953"
             ],
             [
              0.7777777777777778,
              "#fb9f3a"
             ],
             [
              0.8888888888888888,
              "#fdca26"
             ],
             [
              1,
              "#f0f921"
             ]
            ],
            "type": "contour"
           }
          ],
          "contourcarpet": [
           {
            "colorbar": {
             "outlinewidth": 0,
             "ticks": ""
            },
            "type": "contourcarpet"
           }
          ],
          "heatmap": [
           {
            "colorbar": {
             "outlinewidth": 0,
             "ticks": ""
            },
            "colorscale": [
             [
              0,
              "#0d0887"
             ],
             [
              0.1111111111111111,
              "#46039f"
             ],
             [
              0.2222222222222222,
              "#7201a8"
             ],
             [
              0.3333333333333333,
              "#9c179e"
             ],
             [
              0.4444444444444444,
              "#bd3786"
             ],
             [
              0.5555555555555556,
              "#d8576b"
             ],
             [
              0.6666666666666666,
              "#ed7953"
             ],
             [
              0.7777777777777778,
              "#fb9f3a"
             ],
             [
              0.8888888888888888,
              "#fdca26"
             ],
             [
              1,
              "#f0f921"
             ]
            ],
            "type": "heatmap"
           }
          ],
          "heatmapgl": [
           {
            "colorbar": {
             "outlinewidth": 0,
             "ticks": ""
            },
            "colorscale": [
             [
              0,
              "#0d0887"
             ],
             [
              0.1111111111111111,
              "#46039f"
             ],
             [
              0.2222222222222222,
              "#7201a8"
             ],
             [
              0.3333333333333333,
              "#9c179e"
             ],
             [
              0.4444444444444444,
              "#bd3786"
             ],
             [
              0.5555555555555556,
              "#d8576b"
             ],
             [
              0.6666666666666666,
              "#ed7953"
             ],
             [
              0.7777777777777778,
              "#fb9f3a"
             ],
             [
              0.8888888888888888,
              "#fdca26"
             ],
             [
              1,
              "#f0f921"
             ]
            ],
            "type": "heatmapgl"
           }
          ],
          "histogram": [
           {
            "marker": {
             "pattern": {
              "fillmode": "overlay",
              "size": 10,
              "solidity": 0.2
             }
            },
            "type": "histogram"
           }
          ],
          "histogram2d": [
           {
            "colorbar": {
             "outlinewidth": 0,
             "ticks": ""
            },
            "colorscale": [
             [
              0,
              "#0d0887"
             ],
             [
              0.1111111111111111,
              "#46039f"
             ],
             [
              0.2222222222222222,
              "#7201a8"
             ],
             [
              0.3333333333333333,
              "#9c179e"
             ],
             [
              0.4444444444444444,
              "#bd3786"
             ],
             [
              0.5555555555555556,
              "#d8576b"
             ],
             [
              0.6666666666666666,
              "#ed7953"
             ],
             [
              0.7777777777777778,
              "#fb9f3a"
             ],
             [
              0.8888888888888888,
              "#fdca26"
             ],
             [
              1,
              "#f0f921"
             ]
            ],
            "type": "histogram2d"
           }
          ],
          "histogram2dcontour": [
           {
            "colorbar": {
             "outlinewidth": 0,
             "ticks": ""
            },
            "colorscale": [
             [
              0,
              "#0d0887"
             ],
             [
              0.1111111111111111,
              "#46039f"
             ],
             [
              0.2222222222222222,
              "#7201a8"
             ],
             [
              0.3333333333333333,
              "#9c179e"
             ],
             [
              0.4444444444444444,
              "#bd3786"
             ],
             [
              0.5555555555555556,
              "#d8576b"
             ],
             [
              0.6666666666666666,
              "#ed7953"
             ],
             [
              0.7777777777777778,
              "#fb9f3a"
             ],
             [
              0.8888888888888888,
              "#fdca26"
             ],
             [
              1,
              "#f0f921"
             ]
            ],
            "type": "histogram2dcontour"
           }
          ],
          "mesh3d": [
           {
            "colorbar": {
             "outlinewidth": 0,
             "ticks": ""
            },
            "type": "mesh3d"
           }
          ],
          "parcoords": [
           {
            "line": {
             "colorbar": {
              "outlinewidth": 0,
              "ticks": ""
             }
            },
            "type": "parcoords"
           }
          ],
          "pie": [
           {
            "automargin": true,
            "type": "pie"
           }
          ],
          "scatter": [
           {
            "fillpattern": {
             "fillmode": "overlay",
             "size": 10,
             "solidity": 0.2
            },
            "type": "scatter"
           }
          ],
          "scatter3d": [
           {
            "line": {
             "colorbar": {
              "outlinewidth": 0,
              "ticks": ""
             }
            },
            "marker": {
             "colorbar": {
              "outlinewidth": 0,
              "ticks": ""
             }
            },
            "type": "scatter3d"
           }
          ],
          "scattercarpet": [
           {
            "marker": {
             "colorbar": {
              "outlinewidth": 0,
              "ticks": ""
             }
            },
            "type": "scattercarpet"
           }
          ],
          "scattergeo": [
           {
            "marker": {
             "colorbar": {
              "outlinewidth": 0,
              "ticks": ""
             }
            },
            "type": "scattergeo"
           }
          ],
          "scattergl": [
           {
            "marker": {
             "colorbar": {
              "outlinewidth": 0,
              "ticks": ""
             }
            },
            "type": "scattergl"
           }
          ],
          "scattermapbox": [
           {
            "marker": {
             "colorbar": {
              "outlinewidth": 0,
              "ticks": ""
             }
            },
            "type": "scattermapbox"
           }
          ],
          "scatterpolar": [
           {
            "marker": {
             "colorbar": {
              "outlinewidth": 0,
              "ticks": ""
             }
            },
            "type": "scatterpolar"
           }
          ],
          "scatterpolargl": [
           {
            "marker": {
             "colorbar": {
              "outlinewidth": 0,
              "ticks": ""
             }
            },
            "type": "scatterpolargl"
           }
          ],
          "scatterternary": [
           {
            "marker": {
             "colorbar": {
              "outlinewidth": 0,
              "ticks": ""
             }
            },
            "type": "scatterternary"
           }
          ],
          "surface": [
           {
            "colorbar": {
             "outlinewidth": 0,
             "ticks": ""
            },
            "colorscale": [
             [
              0,
              "#0d0887"
             ],
             [
              0.1111111111111111,
              "#46039f"
             ],
             [
              0.2222222222222222,
              "#7201a8"
             ],
             [
              0.3333333333333333,
              "#9c179e"
             ],
             [
              0.4444444444444444,
              "#bd3786"
             ],
             [
              0.5555555555555556,
              "#d8576b"
             ],
             [
              0.6666666666666666,
              "#ed7953"
             ],
             [
              0.7777777777777778,
              "#fb9f3a"
             ],
             [
              0.8888888888888888,
              "#fdca26"
             ],
             [
              1,
              "#f0f921"
             ]
            ],
            "type": "surface"
           }
          ],
          "table": [
           {
            "cells": {
             "fill": {
              "color": "#EBF0F8"
             },
             "line": {
              "color": "white"
             }
            },
            "header": {
             "fill": {
              "color": "#C8D4E3"
             },
             "line": {
              "color": "white"
             }
            },
            "type": "table"
           }
          ]
         },
         "layout": {
          "annotationdefaults": {
           "arrowcolor": "#2a3f5f",
           "arrowhead": 0,
           "arrowwidth": 1
          },
          "autotypenumbers": "strict",
          "coloraxis": {
           "colorbar": {
            "outlinewidth": 0,
            "ticks": ""
           }
          },
          "colorscale": {
           "diverging": [
            [
             0,
             "#8e0152"
            ],
            [
             0.1,
             "#c51b7d"
            ],
            [
             0.2,
             "#de77ae"
            ],
            [
             0.3,
             "#f1b6da"
            ],
            [
             0.4,
             "#fde0ef"
            ],
            [
             0.5,
             "#f7f7f7"
            ],
            [
             0.6,
             "#e6f5d0"
            ],
            [
             0.7,
             "#b8e186"
            ],
            [
             0.8,
             "#7fbc41"
            ],
            [
             0.9,
             "#4d9221"
            ],
            [
             1,
             "#276419"
            ]
           ],
           "sequential": [
            [
             0,
             "#0d0887"
            ],
            [
             0.1111111111111111,
             "#46039f"
            ],
            [
             0.2222222222222222,
             "#7201a8"
            ],
            [
             0.3333333333333333,
             "#9c179e"
            ],
            [
             0.4444444444444444,
             "#bd3786"
            ],
            [
             0.5555555555555556,
             "#d8576b"
            ],
            [
             0.6666666666666666,
             "#ed7953"
            ],
            [
             0.7777777777777778,
             "#fb9f3a"
            ],
            [
             0.8888888888888888,
             "#fdca26"
            ],
            [
             1,
             "#f0f921"
            ]
           ],
           "sequentialminus": [
            [
             0,
             "#0d0887"
            ],
            [
             0.1111111111111111,
             "#46039f"
            ],
            [
             0.2222222222222222,
             "#7201a8"
            ],
            [
             0.3333333333333333,
             "#9c179e"
            ],
            [
             0.4444444444444444,
             "#bd3786"
            ],
            [
             0.5555555555555556,
             "#d8576b"
            ],
            [
             0.6666666666666666,
             "#ed7953"
            ],
            [
             0.7777777777777778,
             "#fb9f3a"
            ],
            [
             0.8888888888888888,
             "#fdca26"
            ],
            [
             1,
             "#f0f921"
            ]
           ]
          },
          "colorway": [
           "#636efa",
           "#EF553B",
           "#00cc96",
           "#ab63fa",
           "#FFA15A",
           "#19d3f3",
           "#FF6692",
           "#B6E880",
           "#FF97FF",
           "#FECB52"
          ],
          "font": {
           "color": "#2a3f5f"
          },
          "geo": {
           "bgcolor": "white",
           "lakecolor": "white",
           "landcolor": "#E5ECF6",
           "showlakes": true,
           "showland": true,
           "subunitcolor": "white"
          },
          "hoverlabel": {
           "align": "left"
          },
          "hovermode": "closest",
          "mapbox": {
           "style": "light"
          },
          "paper_bgcolor": "white",
          "plot_bgcolor": "#E5ECF6",
          "polar": {
           "angularaxis": {
            "gridcolor": "white",
            "linecolor": "white",
            "ticks": ""
           },
           "bgcolor": "#E5ECF6",
           "radialaxis": {
            "gridcolor": "white",
            "linecolor": "white",
            "ticks": ""
           }
          },
          "scene": {
           "xaxis": {
            "backgroundcolor": "#E5ECF6",
            "gridcolor": "white",
            "gridwidth": 2,
            "linecolor": "white",
            "showbackground": true,
            "ticks": "",
            "zerolinecolor": "white"
           },
           "yaxis": {
            "backgroundcolor": "#E5ECF6",
            "gridcolor": "white",
            "gridwidth": 2,
            "linecolor": "white",
            "showbackground": true,
            "ticks": "",
            "zerolinecolor": "white"
           },
           "zaxis": {
            "backgroundcolor": "#E5ECF6",
            "gridcolor": "white",
            "gridwidth": 2,
            "linecolor": "white",
            "showbackground": true,
            "ticks": "",
            "zerolinecolor": "white"
           }
          },
          "shapedefaults": {
           "line": {
            "color": "#2a3f5f"
           }
          },
          "ternary": {
           "aaxis": {
            "gridcolor": "white",
            "linecolor": "white",
            "ticks": ""
           },
           "baxis": {
            "gridcolor": "white",
            "linecolor": "white",
            "ticks": ""
           },
           "bgcolor": "#E5ECF6",
           "caxis": {
            "gridcolor": "white",
            "linecolor": "white",
            "ticks": ""
           }
          },
          "title": {
           "x": 0.05
          },
          "xaxis": {
           "automargin": true,
           "gridcolor": "white",
           "linecolor": "white",
           "ticks": "",
           "title": {
            "standoff": 15
           },
           "zerolinecolor": "white",
           "zerolinewidth": 2
          },
          "yaxis": {
           "automargin": true,
           "gridcolor": "white",
           "linecolor": "white",
           "ticks": "",
           "title": {
            "standoff": 15
           },
           "zerolinecolor": "white",
           "zerolinewidth": 2
          }
         }
        },
        "title": {
         "text": "Time Series of Tempo and Key based on Release Date"
        },
        "xaxis": {
         "anchor": "y",
         "domain": [
          0,
          1
         ],
         "title": {
          "text": "Release Date"
         }
        },
        "yaxis": {
         "anchor": "x",
         "domain": [
          0,
          1
         ],
         "title": {
          "text": "Tempo (BPM)"
         }
        }
       }
      }
     },
     "metadata": {},
     "output_type": "display_data"
    }
   ],
   "source": [
    "fig = px.scatter(df2, x='Release Date', y='Tempo', color='Key', hover_name='Track Name', \n",
    "                 title='Time Series of Tempo and Key based on Release Date', \n",
    "                 labels={'Tempo': 'Tempo (BPM)', 'Release Date': 'Release Date', 'Key': 'Key'})\n",
    "\n",
    "# Customize the layout\n",
    "fig.update_traces(marker=dict(size=8, opacity=0.7),\n",
    "                  selector=dict(mode='markers'))\n",
    "\n",
    "# Show the plot\n",
    "fig.show()"
   ]
  }
 ],
 "metadata": {
  "kernelspec": {
   "display_name": "Python 3",
   "language": "python",
   "name": "python3"
  },
  "language_info": {
   "codemirror_mode": {
    "name": "ipython",
    "version": 3
   },
   "file_extension": ".py",
   "mimetype": "text/x-python",
   "name": "python",
   "nbconvert_exporter": "python",
   "pygments_lexer": "ipython3",
   "version": "3.11.2"
  },
  "orig_nbformat": 4
 },
 "nbformat": 4,
 "nbformat_minor": 2
}
