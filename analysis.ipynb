{
 "cells": [
  {
   "cell_type": "code",
   "execution_count": 1,
   "metadata": {},
   "outputs": [],
   "source": [
    "import math\n",
    "import pandas as pd\n",
    "import plotly.express as px\n",
    "import plotly.graph_objects as go\n",
    "from plotly.subplots import make_subplots\n",
    "import plotly.io as pio\n"
   ]
  },
  {
   "cell_type": "code",
   "execution_count": 2,
   "metadata": {},
   "outputs": [],
   "source": [
    "df = pd.read_csv('spotify_data.csv')"
   ]
  },
  {
   "cell_type": "code",
   "execution_count": 3,
   "metadata": {},
   "outputs": [
    {
     "data": {
      "text/plain": [
       "(595, 16)"
      ]
     },
     "execution_count": 3,
     "metadata": {},
     "output_type": "execute_result"
    }
   ],
   "source": [
    "df.shape"
   ]
  },
  {
   "cell_type": "code",
   "execution_count": 4,
   "metadata": {},
   "outputs": [
    {
     "data": {
      "text/html": [
       "<div>\n",
       "<style scoped>\n",
       "    .dataframe tbody tr th:only-of-type {\n",
       "        vertical-align: middle;\n",
       "    }\n",
       "\n",
       "    .dataframe tbody tr th {\n",
       "        vertical-align: top;\n",
       "    }\n",
       "\n",
       "    .dataframe thead th {\n",
       "        text-align: right;\n",
       "    }\n",
       "</style>\n",
       "<table border=\"1\" class=\"dataframe\">\n",
       "  <thead>\n",
       "    <tr style=\"text-align: right;\">\n",
       "      <th></th>\n",
       "      <th>Track Name</th>\n",
       "      <th>Album Name</th>\n",
       "      <th>Tempo</th>\n",
       "      <th>Key</th>\n",
       "      <th>Mode</th>\n",
       "      <th>Release Date</th>\n",
       "      <th>Energy</th>\n",
       "      <th>Danceability</th>\n",
       "      <th>Loudness</th>\n",
       "      <th>Speechiness</th>\n",
       "      <th>Acousticness</th>\n",
       "      <th>Instrumentalness</th>\n",
       "      <th>Liveness</th>\n",
       "      <th>Time Signature</th>\n",
       "      <th>Valence</th>\n",
       "      <th>Duration</th>\n",
       "    </tr>\n",
       "  </thead>\n",
       "  <tbody>\n",
       "    <tr>\n",
       "      <th>0</th>\n",
       "      <td>Strawberry Fields Forever - 2015 Mix</td>\n",
       "      <td>The Beatles 1967 – 1970 (2023 Edition)</td>\n",
       "      <td>96.221</td>\n",
       "      <td>10</td>\n",
       "      <td>1</td>\n",
       "      <td>2023-11-10</td>\n",
       "      <td>0.678</td>\n",
       "      <td>0.391</td>\n",
       "      <td>-8.773</td>\n",
       "      <td>0.3060</td>\n",
       "      <td>0.2730</td>\n",
       "      <td>0.000257</td>\n",
       "      <td>0.0965</td>\n",
       "      <td>4</td>\n",
       "      <td>0.245</td>\n",
       "      <td>252093</td>\n",
       "    </tr>\n",
       "    <tr>\n",
       "      <th>1</th>\n",
       "      <td>Penny Lane - 2017 Mix</td>\n",
       "      <td>The Beatles 1967 – 1970 (2023 Edition)</td>\n",
       "      <td>113.225</td>\n",
       "      <td>9</td>\n",
       "      <td>1</td>\n",
       "      <td>2023-11-10</td>\n",
       "      <td>0.505</td>\n",
       "      <td>0.647</td>\n",
       "      <td>-8.260</td>\n",
       "      <td>0.0351</td>\n",
       "      <td>0.0715</td>\n",
       "      <td>0.002810</td>\n",
       "      <td>0.1840</td>\n",
       "      <td>4</td>\n",
       "      <td>0.682</td>\n",
       "      <td>180947</td>\n",
       "    </tr>\n",
       "    <tr>\n",
       "      <th>2</th>\n",
       "      <td>Sgt. Pepper's Lonely Hearts Club Band - 2017 Mix</td>\n",
       "      <td>The Beatles 1967 – 1970 (2023 Edition)</td>\n",
       "      <td>95.686</td>\n",
       "      <td>7</td>\n",
       "      <td>1</td>\n",
       "      <td>2023-11-10</td>\n",
       "      <td>0.825</td>\n",
       "      <td>0.368</td>\n",
       "      <td>-7.758</td>\n",
       "      <td>0.0997</td>\n",
       "      <td>0.0308</td>\n",
       "      <td>0.020000</td>\n",
       "      <td>0.9080</td>\n",
       "      <td>4</td>\n",
       "      <td>0.524</td>\n",
       "      <td>122120</td>\n",
       "    </tr>\n",
       "    <tr>\n",
       "      <th>3</th>\n",
       "      <td>With A Little Help From My Friends - 2017 Mix</td>\n",
       "      <td>The Beatles 1967 – 1970 (2023 Edition)</td>\n",
       "      <td>112.240</td>\n",
       "      <td>4</td>\n",
       "      <td>1</td>\n",
       "      <td>2023-11-10</td>\n",
       "      <td>0.586</td>\n",
       "      <td>0.673</td>\n",
       "      <td>-7.946</td>\n",
       "      <td>0.0302</td>\n",
       "      <td>0.1330</td>\n",
       "      <td>0.000000</td>\n",
       "      <td>0.2520</td>\n",
       "      <td>4</td>\n",
       "      <td>0.732</td>\n",
       "      <td>164373</td>\n",
       "    </tr>\n",
       "    <tr>\n",
       "      <th>4</th>\n",
       "      <td>Lucy In The Sky With Diamonds - 2017 Mix</td>\n",
       "      <td>The Beatles 1967 – 1970 (2023 Edition)</td>\n",
       "      <td>187.861</td>\n",
       "      <td>11</td>\n",
       "      <td>0</td>\n",
       "      <td>2023-11-10</td>\n",
       "      <td>0.539</td>\n",
       "      <td>0.244</td>\n",
       "      <td>-6.984</td>\n",
       "      <td>0.0457</td>\n",
       "      <td>0.1540</td>\n",
       "      <td>0.000000</td>\n",
       "      <td>0.1820</td>\n",
       "      <td>4</td>\n",
       "      <td>0.429</td>\n",
       "      <td>210453</td>\n",
       "    </tr>\n",
       "  </tbody>\n",
       "</table>\n",
       "</div>"
      ],
      "text/plain": [
       "                                         Track Name  \\\n",
       "0              Strawberry Fields Forever - 2015 Mix   \n",
       "1                             Penny Lane - 2017 Mix   \n",
       "2  Sgt. Pepper's Lonely Hearts Club Band - 2017 Mix   \n",
       "3     With A Little Help From My Friends - 2017 Mix   \n",
       "4          Lucy In The Sky With Diamonds - 2017 Mix   \n",
       "\n",
       "                               Album Name    Tempo  Key  Mode Release Date  \\\n",
       "0  The Beatles 1967 – 1970 (2023 Edition)   96.221   10     1   2023-11-10   \n",
       "1  The Beatles 1967 – 1970 (2023 Edition)  113.225    9     1   2023-11-10   \n",
       "2  The Beatles 1967 – 1970 (2023 Edition)   95.686    7     1   2023-11-10   \n",
       "3  The Beatles 1967 – 1970 (2023 Edition)  112.240    4     1   2023-11-10   \n",
       "4  The Beatles 1967 – 1970 (2023 Edition)  187.861   11     0   2023-11-10   \n",
       "\n",
       "   Energy  Danceability  Loudness  Speechiness  Acousticness  \\\n",
       "0   0.678         0.391    -8.773       0.3060        0.2730   \n",
       "1   0.505         0.647    -8.260       0.0351        0.0715   \n",
       "2   0.825         0.368    -7.758       0.0997        0.0308   \n",
       "3   0.586         0.673    -7.946       0.0302        0.1330   \n",
       "4   0.539         0.244    -6.984       0.0457        0.1540   \n",
       "\n",
       "   Instrumentalness  Liveness  Time Signature  Valence  Duration  \n",
       "0          0.000257    0.0965               4    0.245    252093  \n",
       "1          0.002810    0.1840               4    0.682    180947  \n",
       "2          0.020000    0.9080               4    0.524    122120  \n",
       "3          0.000000    0.2520               4    0.732    164373  \n",
       "4          0.000000    0.1820               4    0.429    210453  "
      ]
     },
     "execution_count": 4,
     "metadata": {},
     "output_type": "execute_result"
    }
   ],
   "source": [
    "df.head()"
   ]
  },
  {
   "cell_type": "code",
   "execution_count": 5,
   "metadata": {},
   "outputs": [
    {
     "name": "stdout",
     "output_type": "stream",
     "text": [
      "<class 'pandas.core.frame.DataFrame'>\n",
      "RangeIndex: 595 entries, 0 to 594\n",
      "Data columns (total 16 columns):\n",
      " #   Column            Non-Null Count  Dtype  \n",
      "---  ------            --------------  -----  \n",
      " 0   Track Name        595 non-null    object \n",
      " 1   Album Name        595 non-null    object \n",
      " 2   Tempo             595 non-null    float64\n",
      " 3   Key               595 non-null    int64  \n",
      " 4   Mode              595 non-null    int64  \n",
      " 5   Release Date      595 non-null    object \n",
      " 6   Energy            595 non-null    float64\n",
      " 7   Danceability      595 non-null    float64\n",
      " 8   Loudness          595 non-null    float64\n",
      " 9   Speechiness       595 non-null    float64\n",
      " 10  Acousticness      595 non-null    float64\n",
      " 11  Instrumentalness  595 non-null    float64\n",
      " 12  Liveness          595 non-null    float64\n",
      " 13  Time Signature    595 non-null    int64  \n",
      " 14  Valence           595 non-null    float64\n",
      " 15  Duration          595 non-null    int64  \n",
      "dtypes: float64(9), int64(4), object(3)\n",
      "memory usage: 74.5+ KB\n"
     ]
    }
   ],
   "source": [
    "df.info()"
   ]
  },
  {
   "cell_type": "code",
   "execution_count": 6,
   "metadata": {},
   "outputs": [
    {
     "data": {
      "text/plain": [
       "Index(['Track Name', 'Album Name', 'Tempo', 'Key', 'Mode', 'Release Date',\n",
       "       'Energy', 'Danceability', 'Loudness', 'Speechiness', 'Acousticness',\n",
       "       'Instrumentalness', 'Liveness', 'Time Signature', 'Valence',\n",
       "       'Duration'],\n",
       "      dtype='object')"
      ]
     },
     "execution_count": 6,
     "metadata": {},
     "output_type": "execute_result"
    }
   ],
   "source": [
    "df.columns"
   ]
  },
  {
   "cell_type": "code",
   "execution_count": 7,
   "metadata": {},
   "outputs": [
    {
     "data": {
      "text/plain": [
       "array(['The Beatles 1967 – 1970 (2023 Edition)',\n",
       "       'The Beatles 1962 – 1966 (2023 Edition)',\n",
       "       'Revolver (Super Deluxe)', 'Get Back (Rooftop Performance)',\n",
       "       'Let It Be (Super Deluxe)', 'Abbey Road (Super Deluxe Edition)',\n",
       "       'The Beatles', 'Live At The Hollywood Bowl',\n",
       "       'Yellow Submarine Songtrack', 'Let It Be... Naked (Remastered)',\n",
       "       'On Air - Live At The BBC (Vol.2)', 'Live At The BBC (Remastered)',\n",
       "       'Let It Be (Remastered)', 'Abbey Road (Remastered)',\n",
       "       'Yellow Submarine (Remastered)', 'The Beatles (Remastered)',\n",
       "       'Magical Mystery Tour (Remastered)',\n",
       "       \"Sgt. Pepper's Lonely Hearts Club Band (Remastered)\",\n",
       "       \"Sgt. Pepper's Lonely Hearts Club Band (Deluxe Edition)\",\n",
       "       \"Sgt. Pepper's Lonely Hearts Club Band (Super Deluxe Edition)\"],\n",
       "      dtype=object)"
      ]
     },
     "execution_count": 7,
     "metadata": {},
     "output_type": "execute_result"
    }
   ],
   "source": [
    "df['Album Name'].unique()"
   ]
  },
  {
   "cell_type": "code",
   "execution_count": 8,
   "metadata": {},
   "outputs": [
    {
     "data": {
      "text/plain": [
       "Track Name          545\n",
       "Album Name           20\n",
       "Tempo               593\n",
       "Key                  12\n",
       "Mode                  2\n",
       "Release Date         17\n",
       "Energy              434\n",
       "Danceability        365\n",
       "Loudness            580\n",
       "Speechiness         374\n",
       "Acousticness        502\n",
       "Instrumentalness    371\n",
       "Liveness            395\n",
       "Time Signature        5\n",
       "Valence             423\n",
       "Duration            575\n",
       "dtype: int64"
      ]
     },
     "execution_count": 8,
     "metadata": {},
     "output_type": "execute_result"
    }
   ],
   "source": [
    "df.nunique()"
   ]
  },
  {
   "attachments": {},
   "cell_type": "markdown",
   "metadata": {},
   "source": [
    "Some notes from the Spotify API documentation on a few of these metrics that we can analyse: \n",
    "\n",
    "- Tempo: Beats per minute (BPM). This is like the speed of the track, as an average of the beat duration. \n",
    "- Key: As per the standard [Pitch Class notation](https://en.wikipedia.org/wiki/Pitch_class). E.g. 0 = C, 1 = C♯/D♭, 2 = D, and so on. -1 if no key was detected. \n",
    "- Mode: Whether it is a major (1) or minor (0) scale.\n",
    "- Energy: Exactly what it seems like - a measure from 0.0 to 1.0 of the perceived intensity and activity. E.g., death metal has high energy, while a Bach prelude scores low on the scale. \n",
    "- Loudness: In decibels (dB), these are averaged across the entire track. Correlates strongly to amplitude and values typically range between -60 and 0 db.\n",
    "- Valence: This is an important one as it describes the musical positiveness from 0.0 (more negative, sad, depressed) to 1.0 (more positive, cheerful, happy etc.) \n",
    "- Danceability: Describes how suitable a track is for dancing based on a combination of musical elements including tempo, rhythm stability, beat strength, and overall regularity. 0.0 is least danceable and 1.0 is most danceable. This might see high correlations with Tempo, Energy and Loudness, maybe even Valence."
   ]
  },
  {
   "cell_type": "code",
   "execution_count": 9,
   "metadata": {},
   "outputs": [
    {
     "data": {
      "image/png": "[encoded data removed]",
      "text/plain": [
       "<Figure size 1000x800 with 2 Axes>"
      ]
     },
     "metadata": {},
     "output_type": "display_data"
    }
   ],
   "source": [
    "import seaborn as sns\n",
    "import matplotlib.pyplot as plt\n",
    "\n",
    "variables = ['Tempo', 'Key', 'Energy', 'Danceability', 'Loudness', \n",
    "             'Speechiness', 'Acousticness', 'Instrumentalness', \n",
    "             'Time Signature', 'Valence', 'Duration']\n",
    "\n",
    "correlation_matrix = df[variables].corr()\n",
    "\n",
    "plt.figure(figsize=(10, 8))\n",
    "sns.heatmap(correlation_matrix, annot=True, cmap='viridis', fmt=\".2f\")\n",
    "plt.title('Correlation Matrix of Music Features')\n",
    "plt.show()"
   ]
  },
  {
   "attachments": {},
   "cell_type": "markdown",
   "metadata": {},
   "source": [
    "Interestingly the only significant correlation is between Energy and Loudness which makes sense.\n",
    "A somewhat significant inverse correlation between Energy and Acousticness is also expected, as acoustic versions tend to be calmer and quieter.\n",
    "Similarly, the more \"speechy\" a song, the less loud it tends to be."
   ]
  },
  {
   "cell_type": "code",
   "execution_count": 10,
   "metadata": {},
   "outputs": [],
   "source": [
    "df['Release Date'] = pd.to_datetime(df['Release Date'])\n",
    "df = df.sort_values(by='Release Date')\n"
   ]
  },
  {
   "cell_type": "code",
   "execution_count": 11,
   "metadata": {},
   "outputs": [
    {
     "data": {
      "text/html": [
       "<div>\n",
       "<style scoped>\n",
       "    .dataframe tbody tr th:only-of-type {\n",
       "        vertical-align: middle;\n",
       "    }\n",
       "\n",
       "    .dataframe tbody tr th {\n",
       "        vertical-align: top;\n",
       "    }\n",
       "\n",
       "    .dataframe thead th {\n",
       "        text-align: right;\n",
       "    }\n",
       "</style>\n",
       "<table border=\"1\" class=\"dataframe\">\n",
       "  <thead>\n",
       "    <tr style=\"text-align: right;\">\n",
       "      <th></th>\n",
       "      <th>Track Name</th>\n",
       "      <th>Album Name</th>\n",
       "      <th>Tempo</th>\n",
       "      <th>Key</th>\n",
       "      <th>Mode</th>\n",
       "      <th>Release Date</th>\n",
       "      <th>Energy</th>\n",
       "      <th>Danceability</th>\n",
       "      <th>Loudness</th>\n",
       "      <th>Speechiness</th>\n",
       "      <th>Acousticness</th>\n",
       "      <th>Instrumentalness</th>\n",
       "      <th>Liveness</th>\n",
       "      <th>Time Signature</th>\n",
       "      <th>Valence</th>\n",
       "      <th>Duration</th>\n",
       "    </tr>\n",
       "  </thead>\n",
       "  <tbody>\n",
       "    <tr>\n",
       "      <th>594</th>\n",
       "      <td>Getting Better</td>\n",
       "      <td>Sgt. Pepper's Lonely Hearts Club Band (Super D...</td>\n",
       "      <td>121.904</td>\n",
       "      <td>0</td>\n",
       "      <td>1</td>\n",
       "      <td>1967-05-26</td>\n",
       "      <td>0.444</td>\n",
       "      <td>0.590</td>\n",
       "      <td>-11.472</td>\n",
       "      <td>0.0394</td>\n",
       "      <td>0.1310</td>\n",
       "      <td>0.000051</td>\n",
       "      <td>0.1300</td>\n",
       "      <td>4</td>\n",
       "      <td>0.718</td>\n",
       "      <td>167253</td>\n",
       "    </tr>\n",
       "    <tr>\n",
       "      <th>566</th>\n",
       "      <td>Penny Lane - Stereo Mix 2017</td>\n",
       "      <td>Sgt. Pepper's Lonely Hearts Club Band (Super D...</td>\n",
       "      <td>112.921</td>\n",
       "      <td>9</td>\n",
       "      <td>1</td>\n",
       "      <td>1967-05-26</td>\n",
       "      <td>0.577</td>\n",
       "      <td>0.617</td>\n",
       "      <td>-5.710</td>\n",
       "      <td>0.0388</td>\n",
       "      <td>0.0644</td>\n",
       "      <td>0.001570</td>\n",
       "      <td>0.1060</td>\n",
       "      <td>4</td>\n",
       "      <td>0.627</td>\n",
       "      <td>180693</td>\n",
       "    </tr>\n",
       "    <tr>\n",
       "      <th>565</th>\n",
       "      <td>Penny Lane - Vocal Overdubs And Speech</td>\n",
       "      <td>Sgt. Pepper's Lonely Hearts Club Band (Super D...</td>\n",
       "      <td>113.267</td>\n",
       "      <td>7</td>\n",
       "      <td>1</td>\n",
       "      <td>1967-05-26</td>\n",
       "      <td>0.143</td>\n",
       "      <td>0.879</td>\n",
       "      <td>-19.917</td>\n",
       "      <td>0.2610</td>\n",
       "      <td>0.7000</td>\n",
       "      <td>0.001840</td>\n",
       "      <td>0.4520</td>\n",
       "      <td>4</td>\n",
       "      <td>0.393</td>\n",
       "      <td>107093</td>\n",
       "    </tr>\n",
       "    <tr>\n",
       "      <th>564</th>\n",
       "      <td>Penny Lane - Take 6 / Instrumental</td>\n",
       "      <td>Sgt. Pepper's Lonely Hearts Club Band (Super D...</td>\n",
       "      <td>120.775</td>\n",
       "      <td>0</td>\n",
       "      <td>1</td>\n",
       "      <td>1967-05-26</td>\n",
       "      <td>0.548</td>\n",
       "      <td>0.901</td>\n",
       "      <td>-6.808</td>\n",
       "      <td>0.0996</td>\n",
       "      <td>0.6670</td>\n",
       "      <td>0.837000</td>\n",
       "      <td>0.1610</td>\n",
       "      <td>3</td>\n",
       "      <td>0.135</td>\n",
       "      <td>175547</td>\n",
       "    </tr>\n",
       "    <tr>\n",
       "      <th>563</th>\n",
       "      <td>When I'm Sixty-Four - Take 2</td>\n",
       "      <td>Sgt. Pepper's Lonely Hearts Club Band (Super D...</td>\n",
       "      <td>132.619</td>\n",
       "      <td>7</td>\n",
       "      <td>1</td>\n",
       "      <td>1967-05-26</td>\n",
       "      <td>0.218</td>\n",
       "      <td>0.816</td>\n",
       "      <td>-12.286</td>\n",
       "      <td>0.1590</td>\n",
       "      <td>0.3200</td>\n",
       "      <td>0.000000</td>\n",
       "      <td>0.0846</td>\n",
       "      <td>4</td>\n",
       "      <td>0.434</td>\n",
       "      <td>181160</td>\n",
       "    </tr>\n",
       "    <tr>\n",
       "      <th>...</th>\n",
       "      <td>...</td>\n",
       "      <td>...</td>\n",
       "      <td>...</td>\n",
       "      <td>...</td>\n",
       "      <td>...</td>\n",
       "      <td>...</td>\n",
       "      <td>...</td>\n",
       "      <td>...</td>\n",
       "      <td>...</td>\n",
       "      <td>...</td>\n",
       "      <td>...</td>\n",
       "      <td>...</td>\n",
       "      <td>...</td>\n",
       "      <td>...</td>\n",
       "      <td>...</td>\n",
       "      <td>...</td>\n",
       "    </tr>\n",
       "    <tr>\n",
       "      <th>53</th>\n",
       "      <td>I Feel Fine - 2023 Mix</td>\n",
       "      <td>The Beatles 1962 – 1966 (2023 Edition)</td>\n",
       "      <td>90.089</td>\n",
       "      <td>7</td>\n",
       "      <td>1</td>\n",
       "      <td>2023-11-10</td>\n",
       "      <td>0.880</td>\n",
       "      <td>0.527</td>\n",
       "      <td>-6.977</td>\n",
       "      <td>0.0364</td>\n",
       "      <td>0.0387</td>\n",
       "      <td>0.000000</td>\n",
       "      <td>0.1590</td>\n",
       "      <td>4</td>\n",
       "      <td>0.869</td>\n",
       "      <td>140400</td>\n",
       "    </tr>\n",
       "    <tr>\n",
       "      <th>54</th>\n",
       "      <td>Ticket To Ride - 2023 Mix</td>\n",
       "      <td>The Beatles 1962 – 1966 (2023 Edition)</td>\n",
       "      <td>123.343</td>\n",
       "      <td>9</td>\n",
       "      <td>1</td>\n",
       "      <td>2023-11-10</td>\n",
       "      <td>0.855</td>\n",
       "      <td>0.555</td>\n",
       "      <td>-5.883</td>\n",
       "      <td>0.0683</td>\n",
       "      <td>0.0647</td>\n",
       "      <td>0.000000</td>\n",
       "      <td>0.4000</td>\n",
       "      <td>4</td>\n",
       "      <td>0.677</td>\n",
       "      <td>191080</td>\n",
       "    </tr>\n",
       "    <tr>\n",
       "      <th>55</th>\n",
       "      <td>Yesterday - 2023 Mix</td>\n",
       "      <td>The Beatles 1962 – 1966 (2023 Edition)</td>\n",
       "      <td>96.529</td>\n",
       "      <td>5</td>\n",
       "      <td>1</td>\n",
       "      <td>2023-11-10</td>\n",
       "      <td>0.182</td>\n",
       "      <td>0.518</td>\n",
       "      <td>-10.621</td>\n",
       "      <td>0.0281</td>\n",
       "      <td>0.8650</td>\n",
       "      <td>0.000000</td>\n",
       "      <td>0.1000</td>\n",
       "      <td>4</td>\n",
       "      <td>0.296</td>\n",
       "      <td>124427</td>\n",
       "    </tr>\n",
       "    <tr>\n",
       "      <th>47</th>\n",
       "      <td>You Really Got A Hold On Me - 2023 Mix</td>\n",
       "      <td>The Beatles 1962 – 1966 (2023 Edition)</td>\n",
       "      <td>76.859</td>\n",
       "      <td>9</td>\n",
       "      <td>1</td>\n",
       "      <td>2023-11-10</td>\n",
       "      <td>0.515</td>\n",
       "      <td>0.508</td>\n",
       "      <td>-6.039</td>\n",
       "      <td>0.0292</td>\n",
       "      <td>0.5290</td>\n",
       "      <td>0.000000</td>\n",
       "      <td>0.2400</td>\n",
       "      <td>4</td>\n",
       "      <td>0.593</td>\n",
       "      <td>181667</td>\n",
       "    </tr>\n",
       "    <tr>\n",
       "      <th>0</th>\n",
       "      <td>Strawberry Fields Forever - 2015 Mix</td>\n",
       "      <td>The Beatles 1967 – 1970 (2023 Edition)</td>\n",
       "      <td>96.221</td>\n",
       "      <td>10</td>\n",
       "      <td>1</td>\n",
       "      <td>2023-11-10</td>\n",
       "      <td>0.678</td>\n",
       "      <td>0.391</td>\n",
       "      <td>-8.773</td>\n",
       "      <td>0.3060</td>\n",
       "      <td>0.2730</td>\n",
       "      <td>0.000257</td>\n",
       "      <td>0.0965</td>\n",
       "      <td>4</td>\n",
       "      <td>0.245</td>\n",
       "      <td>252093</td>\n",
       "    </tr>\n",
       "  </tbody>\n",
       "</table>\n",
       "<p>595 rows × 16 columns</p>\n",
       "</div>"
      ],
      "text/plain": [
       "                                 Track Name  \\\n",
       "594                          Getting Better   \n",
       "566            Penny Lane - Stereo Mix 2017   \n",
       "565  Penny Lane - Vocal Overdubs And Speech   \n",
       "564      Penny Lane - Take 6 / Instrumental   \n",
       "563            When I'm Sixty-Four - Take 2   \n",
       "..                                      ...   \n",
       "53                   I Feel Fine - 2023 Mix   \n",
       "54                Ticket To Ride - 2023 Mix   \n",
       "55                     Yesterday - 2023 Mix   \n",
       "47   You Really Got A Hold On Me - 2023 Mix   \n",
       "0      Strawberry Fields Forever - 2015 Mix   \n",
       "\n",
       "                                            Album Name    Tempo  Key  Mode  \\\n",
       "594  Sgt. Pepper's Lonely Hearts Club Band (Super D...  121.904    0     1   \n",
       "566  Sgt. Pepper's Lonely Hearts Club Band (Super D...  112.921    9     1   \n",
       "565  Sgt. Pepper's Lonely Hearts Club Band (Super D...  113.267    7     1   \n",
       "564  Sgt. Pepper's Lonely Hearts Club Band (Super D...  120.775    0     1   \n",
       "563  Sgt. Pepper's Lonely Hearts Club Band (Super D...  132.619    7     1   \n",
       "..                                                 ...      ...  ...   ...   \n",
       "53              The Beatles 1962 – 1966 (2023 Edition)   90.089    7     1   \n",
       "54              The Beatles 1962 – 1966 (2023 Edition)  123.343    9     1   \n",
       "55              The Beatles 1962 – 1966 (2023 Edition)   96.529    5     1   \n",
       "47              The Beatles 1962 – 1966 (2023 Edition)   76.859    9     1   \n",
       "0               The Beatles 1967 – 1970 (2023 Edition)   96.221   10     1   \n",
       "\n",
       "    Release Date  Energy  Danceability  Loudness  Speechiness  Acousticness  \\\n",
       "594   1967-05-26   0.444         0.590   -11.472       0.0394        0.1310   \n",
       "566   1967-05-26   0.577         0.617    -5.710       0.0388        0.0644   \n",
       "565   1967-05-26   0.143         0.879   -19.917       0.2610        0.7000   \n",
       "564   1967-05-26   0.548         0.901    -6.808       0.0996        0.6670   \n",
       "563   1967-05-26   0.218         0.816   -12.286       0.1590        0.3200   \n",
       "..           ...     ...           ...       ...          ...           ...   \n",
       "53    2023-11-10   0.880         0.527    -6.977       0.0364        0.0387   \n",
       "54    2023-11-10   0.855         0.555    -5.883       0.0683        0.0647   \n",
       "55    2023-11-10   0.182         0.518   -10.621       0.0281        0.8650   \n",
       "47    2023-11-10   0.515         0.508    -6.039       0.0292        0.5290   \n",
       "0     2023-11-10   0.678         0.391    -8.773       0.3060        0.2730   \n",
       "\n",
       "     Instrumentalness  Liveness  Time Signature  Valence  Duration  \n",
       "594          0.000051    0.1300               4    0.718    167253  \n",
       "566          0.001570    0.1060               4    0.627    180693  \n",
       "565          0.001840    0.4520               4    0.393    107093  \n",
       "564          0.837000    0.1610               3    0.135    175547  \n",
       "563          0.000000    0.0846               4    0.434    181160  \n",
       "..                ...       ...             ...      ...       ...  \n",
       "53           0.000000    0.1590               4    0.869    140400  \n",
       "54           0.000000    0.4000               4    0.677    191080  \n",
       "55           0.000000    0.1000               4    0.296    124427  \n",
       "47           0.000000    0.2400               4    0.593    181667  \n",
       "0            0.000257    0.0965               4    0.245    252093  \n",
       "\n",
       "[595 rows x 16 columns]"
      ]
     },
     "execution_count": 11,
     "metadata": {},
     "output_type": "execute_result"
    }
   ],
   "source": [
    "df"
   ]
  },
  {
   "attachments": {},
   "cell_type": "markdown",
   "metadata": {},
   "source": [
    "Quick visualization of the songs according to the release date, with some color coding of tempo. "
   ]
  },
  {
   "cell_type": "code",
   "execution_count": 12,
   "metadata": {},
   "outputs": [
    {
     "data": {
      "application/vnd.plotly.v1+json": {
       "config": {
        "plotlyServerURL": "https://plot.ly"
       },
       "data": [
        {
         "hovertemplate": "<b>%{hovertext}</b><br><br>Release Date=%{x}<br>Tempo (BPM)=%{y}<br>Key=%{marker.color}<extra></extra>",
         "hovertext": [
          "Getting Better",
          "Penny Lane - Stereo Mix 2017",
          "Penny Lane - Vocal Overdubs And Speech",
          "Penny Lane - Take 6 / Instrumental",
          "When I'm Sixty-Four - Take 2",
          "Strawberry Fields Forever - Stereo Mix 2015",
          "Strawberry Fields Forever - Take 26",
          "Strawberry Fields Forever - Take 7",
          "Strawberry Fields Forever - Take 4",
          "Strawberry Fields Forever - Take 1",
          "A Day In The Life - Remix",
          "A Day In The Life - Take 1",
          "Sgt. Pepper's Lonely Hearts Club Band (Reprise) - Remix",
          "Lovely Rita - Remix",
          "When I'm Sixty-Four - Remix",
          "Within You Without You - Remastered 2017",
          "Being For The Benefit Of Mr. Kite! - Remix",
          "She's Leaving Home - Remix",
          "Fixing A Hole - Remix",
          "Getting Better - Remix",
          "Lucy In The Sky With Diamonds - Remastered 2017",
          "With A Little Help From My Friends - Remastered 2017",
          "Sgt. Pepper's Lonely Hearts Club Band - Remastered 2017",
          "Good Morning Good Morning - Remix",
          "A Day In The Life - Take 2",
          "Lucy In The Sky With Diamonds",
          "A Day In The Life - Hummed Last Chord / Takes 8, 9, 10 And 11",
          "A Day In The Life - Orchestra Overdub",
          "Sgt Pepper's Lonely Hearts Club Band",
          "Sgt. Pepper's Lonely Hearts Club Band (Reprise) - Speech And Take 8",
          "With A Little Help From My Friends - Take 1 / False Start And Take 2 / Instrumental",
          "She's Leaving Home - Take 6 / Instrumental",
          "She's Leaving Home - Take 1 / Instrumental",
          "Within You Without You - George Coaching The Musicians",
          "Within You Without You - Take 1 / Indian Instruments",
          "Getting Better - Take 12",
          "Getting Better - Take 1 / Instrumental And Speech At The End",
          "Lucy In The Sky With Diamonds - Speech, False Start And Take 5",
          "With A Little Help From My Friends",
          "Lovely Rita - Speech And Take 9",
          "Being For The Benefit Of Mr. Kite! - Take 7",
          "Being For The Benefit Of Mr. Kite! - Speech From Before Take 1 / Take 4 And Speech At End",
          "Fixing A Hole - Speech And Take 3",
          "Fixing A Hole - Take 1",
          "Good Morning Good Morning - Take 8",
          "Good Morning Good Morning - Take 1 / Instrumental Breakdown",
          "Sgt. Pepper's Lonely Hearts Club Band - Take 9 And Speech",
          "Sgt. Pepper's Lonely Hearts Club Band - Take 1 / Instrumental",
          "A Day In The Life - The Last Chord",
          "Lucy In The Sky With Diamonds - Take 1 And Speech At The End",
          "Sgt. Pepper's Lonely Hearts Club Band - Remix",
          "With A Little Help From My Friends - Remix",
          "Lucy In The Sky With Diamonds - Remix",
          "Being For The Benefit Of Mr. Kite! - Remix",
          "Fixing A Hole - Remix",
          "She's Leaving Home - Remix",
          "A Day In The Life - Remastered 2009",
          "Getting Better - Remix",
          "Sgt. Pepper's Lonely Hearts Club Band - Reprise / Remastered 2009",
          "She's Leaving Home - Remastered 2009",
          "Lovely Rita - Remastered 2009",
          "When I'm Sixty Four - Remastered 2009",
          "Within You Without You - Remastered 2009",
          "Being For The Benefit Of Mr. Kite! - Remastered 2009",
          "Fixing A Hole - Remastered 2009",
          "Getting Better - Remastered 2009",
          "With A Little Help From My Friends - Remastered 2009",
          "Sgt. Pepper's Lonely Hearts Club Band - Remastered 2009",
          "Within You Without You - Remix",
          "Good Morning Good Morning - Remastered 2009",
          "When I'm Sixty-Four - Remix",
          "Lucy In The Sky With Diamonds - Remastered 2009",
          "Good Morning Good Morning - Remix",
          "Lovely Rita - Remix",
          "Penny Lane - Take 6 / Instrumental",
          "Strawberry Fields Forever - Stereo Mix 2015",
          "Penny Lane - Stereo Mix 2017",
          "Strawberry Fields Forever - Take 26",
          "Strawberry Fields Forever - Take 7",
          "A Day In The Life - Take 1 With Hums",
          "Sgt. Pepper's Lonely Hearts Club Band (Reprise) - Speech And Take 8",
          "Lovely Rita - Speech And Take 9",
          "When I'm Sixty-Four - Take 2",
          "Good Morning Good Morning - Take 8",
          "Being For The Benefit Of Mr. Kite! - Take 4",
          "She's Leaving Home - Take 1 / Instrumental",
          "Fixing A Hole - Speech And Take 3",
          "Getting Better - Take 1 / Instrumental And Speech At The End",
          "Lucy In The Sky With Diamonds - Take 1",
          "With A Little Help From My Friends - Take 1 / False Start And Take 2 / Instrumental",
          "Sgt. Pepper's Lonely Hearts Club Band - Take 9 And Speech",
          "A Day In The Life - Remix",
          "Sgt. Pepper's Lonely Hearts Club Band (Reprise) - Remix",
          "Within You Without You - Take 1 / Indian Instruments",
          "Blue Jay Way - Remastered 2009",
          "Magical Mystery Tour - Remastered 2009",
          "The Fool On The Hill - Remastered 2009",
          "Flying - Remastered 2009",
          "Your Mother Should Know - Remastered 2009",
          "Penny Lane - Remastered 2009",
          "Hello, Goodbye - Remastered 2009",
          "Strawberry Fields Forever - Remastered 2009",
          "Baby, You're A Rich Man - Remastered 2009",
          "All You Need Is Love - Remastered 2009",
          "I Am The Walrus - Remastered 2009",
          "Piggies - Remastered 2009",
          "Blackbird - Remastered 2009",
          "I'm So Tired - Remastered 2009",
          "Martha My Dear - Remastered 2009",
          "Happiness Is A Warm Gun - Remastered 2009",
          "The Continuing Story Of Bungalow Bill - Remastered 2009",
          "Wild Honey Pie - Remastered 2009",
          "Ob-La-Di, Ob-La-Da - Remastered 2009",
          "Glass Onion - Remastered 2009",
          "Dear Prudence - Remastered 2009",
          "Back In The U.S.S.R. - Remastered 2009",
          "Rocky Raccoon - Remastered 2009",
          "While My Guitar Gently Weeps - Remastered 2009",
          "Don't Pass Me By - Remastered 2009",
          "Everybody's Got Something To Hide Except Me And My Monkey - Remastered 2009",
          "I Will - Remastered 2009",
          "Why Don't We Do It In The Road? - Remastered 2009",
          "Good Night - Remastered 2009",
          "Revolution 9 - Remastered 2009",
          "Cry Baby Cry - Remastered 2009",
          "Honey Pie - Remastered 2009",
          "Revolution 1 - Remastered 2009",
          "Savoy Truffle - Remastered 2009",
          "Helter Skelter - Remastered 2009",
          "Sexy Sadie - Remastered 2009",
          "Mother Nature's Son - Remastered 2009",
          "Yer Blues - Remastered 2009",
          "Birthday - Remastered 2009",
          "Julia - Remastered 2009",
          "Long, Long, Long - Remastered 2009",
          "It's All Too Much - Remastered 2009",
          "Yellow Submarine - Remastered 2009",
          "Only A Northern Song - Remastered 2009",
          "All Together Now - Remastered 2009",
          "Hey Bulldog - Remastered 2009",
          "All You Need Is Love - Remastered 2009",
          "Sea Of Monsters - Remastered 2009",
          "Sea Of Time - Remastered 2009",
          "Sea Of Holes - Remastered 2009",
          "March Of The Meanies - Remastered 2009",
          "Pepperland Laid Waste - Remastered 2009",
          "Yellow Submarine In Pepperland - Remastered 2009",
          "Pepperland - Remastered 2009",
          "Come Together - Remastered 2009",
          "Something - Remastered 2009",
          "Here Comes The Sun - Remastered 2009",
          "Oh! Darling - Remastered 2009",
          "Octopus's Garden - Remastered 2009",
          "I Want You (She's So Heavy) - Remastered 2009",
          "Because - Remastered 2009",
          "Maxwell's Silver Hammer - Remastered 2009",
          "Sun King - Remastered 2009",
          "You Never Give Me Your Money - Remastered 2009",
          "Her Majesty - Remastered 2009",
          "Carry That Weight - Remastered 2009",
          "The End - Remastered 2009",
          "She Came In Through The Bathroom Window - Remastered 2009",
          "Golden Slumbers - Remastered 2009",
          "Polythene Pam - Remastered 2009",
          "Mean Mr Mustard - Remastered 2009",
          "Two Of Us - Remastered 2009",
          "Across The Universe - Remastered 2009",
          "I Me Mine - Remastered 2009",
          "Dig It - Remastered 2009",
          "Let It Be - Remastered 2009",
          "Dig A Pony - Remastered 2009",
          "I've Got A Feeling - Remastered 2009",
          "One After 909 - Remastered 2009",
          "The Long And Winding Road - Remastered 2009",
          "For You Blue - Remastered 2009",
          "Get Back - Remastered 2009",
          "Maggie Mae - Remastered 2009",
          "Baby It's You - Live At The BBC For \"Pop Go The Beatles\" / 11th June, 1963",
          "That's All Right (Mama) - Live At The BBC For \"Pop Go The Beatles\" / 16th July, 1963",
          "Carol - Live At The BBC For \"Pop Go The Beatles\" / 16th July, 1963",
          "What Is It, George? - Live At The BBC For \"Pop Go The Beatles\" / 16th July, 1963",
          "Clarabella - Live At The BBC For \"Pop Go The Beatles\" / 16th July, 1963",
          "A Little Rhyme - Live At The BBC For \"Pop Go The Beatles\" / 16th July, 1963",
          "Crying, Waiting, Hoping - Live At The BBC For \"Pop Go The Beatles\" / 6th August, 1963",
          "Dear Wack! - Live At The BBC For \"Saturday Club\" / 24th August, 1963",
          "Sha La La La La! - Live At The BBC For \"Pop Go The Beatles\" / 11th June, 1963",
          "Soldier Of Love - Live At The BBC For \"Pop Go The Beatles\" / 16th July, 1963",
          "Thank You Girl - Live At The BBC For \"Easy Beat\" / 23rd June, 1963",
          "I Got A Woman - Live At The BBC For \"Pop Go The Beatles\" / 13th August, 1963",
          "Sure To Fall (In Love With You) - Live At The BBC For \"Pop Go The Beatles\" / 18th June, 1963",
          "A Shot Of Rhythm And Blues - Live At The BBC For \"Pop Go The Beatles\" / 27th August, 1963",
          "Young Blood - Live At The BBC For \"Pop Go The Beatles\" / 11th June, 1963",
          "I'll Be On My Way - Live At The BBC For \"Side By Side\" / 24th June, 1963",
          "Keep Your Hands Off My Baby - Live At The BBC For \"Saturday Club\" / 26th January, 1963",
          "Too Much Monkey Business - Live At The BBC For \"Pop Go The Beatles\" / 10th September, 1963",
          "You Really Got A Hold On Me - Live At The BBC For \"Saturday Club\" / 24th August, 1963",
          "Riding On A Bus - Live At The BBC For \"Top Gear\" / 26th November, 1964",
          "From Us To You - Live At The BBC / Opening Theme From \"From Us To You\" / 1964",
          "Beatles Greetings - Live At The BBC For \"The Public Ear\" / 3rd November, 1963",
          "Some Other Guy - Live At The BBC For \"Easy Beat\" / 23rd June, 1963",
          "To Know Her Is To Love Her - Live At The BBC For \"Pop Go The Beatles\" / 6th August, 1963",
          "I'm Gonna Sit Right Down And Cry (Over You) - Live At The BBC For \"Pop Go The Beatles\" / 6th August, 1963",
          "Long Tall Sally - Live At The BBC For \"Pop Go The Beatles\" / 13th August, 1963",
          "A Taste Of Honey - Live At The BBC For \"Pop Go The Beatles\" / 23rd July, 1963",
          "The Hippy Hippy Shake - Live At The BBC For \"Pop Go The Beatles\" / 30th July, 1963",
          "Nothin' Shakin' - Live At The BBC For \"Pop Go The Beatles\" / 23rd July, 1963",
          "Lonesome Tears In My Eyes - Live At The BBC For \"Pop Go The Beatles\" / 23rd July, 1963",
          "1822! - Live At The BBC For \"Pop Go The Beatles\" / 23rd July, 1963",
          "Sweet Little Sixteen - Live At The BBC For \"Pop Go The Beatles\" / 23rd July, 1963",
          "She's A Woman - Live At The BBC For \"Top Gear\" / 26th November, 1964",
          "Things We Said Today - Live At The BBC For \"Top Gear\" / 16th July, 1964",
          "All My Loving - Live At The BBC For \"From Us To You Say The Beatles\" / 30th March, 1964",
          "Roll Over Beethoven - Live At The BBC For \"From Us To You Say The Beatles\" / 30th March, 1964",
          "Just A Rumour - Live At The BBC For \"From Us To You Say The Beatles\" / 30th March, 1964",
          "I Wanna Be Your Man - Live At The BBC For \"From Us To You Say The Beatles\" / 30th March, 1964",
          "Glad All Over - Live At The BBC For \"Pop Go The Beatles\" / 20th August, 1963",
          "A Hard Day's Night - Live At The BBC For \"Top Gear\" / 16th July, 1964",
          "Ringo? Yep! - Live At The BBC For \"From Us To You Say The Beatles\" / 30th March, 1964",
          "The Honeymoon Song - Live At The BBC For \"Pop Go The Beatles\" / 6th August, 1963",
          "Johnny B Goode - Live At The BBC For \"Saturday Club\" / 15th February, 1964",
          "Memphis, Tennessee - Live At The BBC For \"Pop Go The Beatles\" / 30th July, 1963",
          "I Saw Her Standing There - Live At The BBC For \"Easy Beat\" / 20th October 1963",
          "Can't Buy Me Love - Live At The BBC For \"From Us To You Say The Beatles\" / 10th March, 1964",
          "From Fluff To You - Live At The BBC For \"From Us To You Say The Beatles\" / 10th March, 1964",
          "Till There Was You - Live At The BBC For \"From Us To You Say The Beatles\" / 10th March, 1964",
          "Crinsk Dee Night - Live At The BBC For \"Top Gear\" / 16th July, 1964",
          "Lucille - Live At The BBC For \"Saturday Club\" / 5th October, 1963",
          "There's A Place - Live At The BBC For \"Pop Go The Beatles\" / 3rd September, 1963",
          "Boys - Live At The BBC For \"Pop Go The Beatles\" / 25th June, 1963",
          "Roll Over Beethoven - Live At The BBC For \"Pop Go The Beatles\" / 3rd September, 1963",
          "The Hippy Hippy Shake - Live At The BBC For \"Pop Go The Beatles\" / 10th September, 1963",
          "Lower 5E - Live At The BBC For \"Pop Go The Beatles\" / 10th September, 1963",
          "Lend Me Your Comb - Live At The BBC For \"Pop Go The Beatles\" / 16th July, 1963",
          "Till There Was You - Live At The BBC For \"Pop Go The Beatles\" / 30th July, 1963",
          "Ask Me Why - Live At The BBC For \"Pop Go The Beatles\" / 24th September, 1963",
          "Chains - Live At The BBC For \"Pop Go The Beatles\" / 25th June, 1963",
          "Absolutely Fab - Live At The BBC For \"Pop Go The Beatles\" / 25th June, 1963",
          "A Real Treat - Live At The BBC For \"Pop Go The Beatles\" / 25th June, 1963",
          "Anna (Go To Him) - Live At The BBC For \"Pop Go The Beatles\" / 27th August, 1963",
          "Misery - Live At The BBC For \"Here We Go\" / 12th March, 1963",
          "Please Please Me - Live At The BBC For \"Pop Go The Beatles\" / 13th August, 1963",
          "Hello! - Live At The BBC For \"Pop Go The Beatles\" / 25th June, 1963",
          "Hey Paul…. - Live At The BBC For \"Pop Go The Beatles\" / 25th June, 1963",
          "Lucille - Live At The BBC For \"Pop Go The Beatles\" / 17th September, 1963",
          "Do You Want To Know A Secret - Live At The BBC For \"Pop Go The Beatles\" / 30th July, 1963",
          "How About It, Gorgeous? - Live At The BBC For \"Pop Go The Beatles\" / 30th July, 1963",
          "And Here We Are Again - Live At The BBC For \"Pop Go The Beatles\" / 23rd July, 1963",
          "Words Of Love - Live At The BBC For \"Pop Go The Beatles\" / 20th August, 1963",
          "Bumper Bundle - Live At The BBC For \"Pop Go The Beatles\" / 25th June, 1963",
          "I'm Talking About You - Live At The BBC For \"Saturday Club\" / 16th March, 1963",
          "P.S. I Love You - Live At The BBC For \"Pop Go The Beatles\" / 25th June, 1963",
          "If I Wasn’t In America - Live At The BBC For \"Saturday Club\" / 15th February, 1964",
          "Beautiful Dreamer - Live At The BBC For \"Saturday Club\" / 26th January, 1963",
          "Please Mister Postman - Live At The BBC For \"Pop Go The Beatles\" / 30th July 1963",
          "This Boy - Live At The BBC For \"Saturday Club\" / 21st December, 1963",
          "Brian Bathtubes - Live At The BBC For \"Saturday Club\" / 21st December, 1963",
          "I Want To Hold Your Hand - Live At The BBC For \"The Beatles Say From Us To You\" / 26th December, 1963",
          "Money (That's What I Want) - Live At The BBC For \"The Beatles Say From Us To You\" / 26th December, 1963",
          "From Me To You - Live At The BBC For \"Easy Beat\" / 20th October, 1963",
          "Now Hush, Hush - Live At The BBC For \"Easy Beat\" / 20th October, 1963",
          "Happy Birthday Dear Saturday Club - Live At The BBC For \"Saturday Club\" / 5th October, 1963",
          "Memphis, Tennessee - Live At The BBC For \"Saturday Club\" / 5th October, 1963",
          "She Loves You - Live At The BBC For \"Saturday Club\" / 5th October, 1963",
          "I'll Get You - Live At The BBC For \"Saturday Club\" / 5th October, 1963",
          "I Got A Woman - Live At The BBC For \"Saturday Club\" / 4th April, 1964",
          "Glad All Over - Live At The BBC For \"Saturday Club\" / 24th August, 1963",
          "Lift Lid Again - Live At The BBC For \"Saturday Club\" / 24th August, 1963",
          "Devil In Her Heart - Live At The BBC For \"Pop Go The Beatles\" / 25th September, 1963",
          "The 49 Weeks - Live At The BBC For \"Pop Go The Beatles\" / 24th September, 1963",
          "Sure To Fall (In Love With You) - Live At The BBC For \"Pop Go The Beatles\" / 24th September, 1963",
          "Never Mind, Eh? - Live At The BBC For \"Pop Go The Beatles\" / 24th September, 1963",
          "Long Tall Sally - Live At The BBC For \"Top Gear\" / 16th July, 1964",
          "Bye, Bye - Live At The BBC For \"Pop Go The Beatles\" / 24th September, 1963",
          "John - Pop Profile - Live At The BBC / 30th November, 1965",
          "George - Pop Profile - Live At The BBC / 30th November, 1965",
          "I Saw Her Standing There - Live At The BBC For \"Saturday Club\" / 5th October, 1963",
          "Twist And Shout - Live At The BBC For \"Pop Go The Beatles\" / 6th August, 1963",
          "Sgt Pepper's Lonely Hearts Club Band",
          "With A Little Help From My Friends",
          "Baby You're A Rich Man",
          "Only A Northern Song",
          "All You Need Is Love",
          "When I'm Sixty Four",
          "Nowhere Man",
          "It's All Too Much",
          "Get Back - Naked Version / Remastered 2013",
          "For You Blue - Naked Version / Remastered 2013",
          "The Long And Winding Road - Naked Version / Remastered 2013",
          "Two Of Us - Naked Version / Remastered 2013",
          "I've Got A Feeling - Naked Version / Remastered 2013",
          "Don't Let Me Down - Naked Version / Remastered 2013",
          "I Me Mine - Naked Version / Remastered 2013",
          "Across The Universe - Naked Version / Remastered 2013",
          "Let It Be - Naked Version / Remastered 2013",
          "Think For Yourself",
          "Dig A Pony - Naked Version / Remastered 2013",
          "One After 909 - Naked Version / Remastered 2013",
          "Lucy In The Sky With Diamonds",
          "Love You To",
          "Eleanor Rigby",
          "Hey Bulldog",
          "Yellow Submarine",
          "All Together Now",
          "Twist And Shout - Live / Remastered",
          "She's A Woman - Live / Remastered",
          "Dizzy Miss Lizzy - Live / Remastered",
          "Ticket To Ride - Live / Remastered",
          "Things We Said Today - Live / Remastered",
          "Roll Over Beethoven - Live / Remastered",
          "Boys - Live / Remastered",
          "Can't Buy Me Love - Live / Remastered",
          "Help! - Live / Remastered",
          "All My Loving - Live / Remastered",
          "She Loves You - Live / Remastered",
          "Long Tall Sally - Live / Remastered",
          "You Can't Do That - Live / Bonus Track",
          "I Want To Hold Your Hand - Live / Bonus Track",
          "Everybody’s Trying To Be My Baby - Live / Bonus Track",
          "Baby's In Black - Live / Bonus Track",
          "A Hard Day's Night - Live / Remastered",
          "Why Don't We Do It In The Road? - 2018 Mix",
          "I Will - 2018 Mix",
          "Julia - 2018 Mix",
          "Birthday - 2018 Mix",
          "Helter Skelter - 2018 Mix",
          "Mother Nature's Son - 2018 Mix",
          "Everybody's Got Something To Hide Except Me And My Monkey - 2018 Mix",
          "Sexy Sadie - 2018 Mix",
          "Don't Pass Me By - 2018 Mix",
          "Yer Blues - 2018 Mix",
          "Rocky Raccoon - 2018 Mix",
          "Back In The U.S.S.R. - 2018 Mix",
          "Blackbird - 2018 Mix",
          "I'm So Tired - 2018 Mix",
          "Martha My Dear - 2018 Mix",
          "Happiness Is A Warm Gun - 2018 Mix",
          "While My Guitar Gently Weeps - 2018 Mix",
          "The Continuing Story Of Bungalow Bill - 2018 Mix",
          "Wild Honey Pie - 2018 Mix",
          "Glass Onion - 2018 Mix",
          "Dear Prudence - 2018 Mix",
          "Long, Long, Long - 2018 Mix",
          "Piggies - 2018 Mix",
          "Revolution 1 - 2018 Mix",
          "Ob-La-Di, Ob-La-Da - 2018 Mix",
          "Savoy Truffle - 2018 Mix",
          "Cry Baby Cry - Esher Demo",
          "Honey Pie - Esher Demo",
          "Sour Milk Sea - Esher Demo",
          "Sexy Sadie - Esher Demo",
          "Everybody's Got Something To Hide Except Me And My Monkey - Esher Demo",
          "Mother Nature's Son - Esher Demo",
          "Yer Blues - Esher Demo",
          "Julia - Esher Demo",
          "Rocky Raccoon - Esher Demo",
          "Piggies - Esher Demo",
          "Blackbird - Esher Demo",
          "Revolution - Esher Demo",
          "Happiness Is A Warm Gun - Esher Demo",
          "I'm So Tired - Esher Demo",
          "Cry Baby Cry - 2018 Mix",
          "Revolution 9 - 2018 Mix",
          "Good Night - 2018 Mix",
          "Back In The U.S.S.R. - Esher Demo",
          "Honey Pie - 2018 Mix",
          "Glass Onion - Esher Demo",
          "Ob-La-Di, Ob-La-Da - Esher Demo",
          "The Continuing Story Of Bungalow Bill - Esher Demo",
          "While My Guitar Gently Weeps - Esher Demo",
          "Dear Prudence - Esher Demo",
          "I Want You (She's So Heavy) - Trident Recording Session & Reduction Mix",
          "Her Majesty - 2019 Mix",
          "The End - 2019 Mix",
          "Carry That Weight - 2019 Mix",
          "Golden Slumbers - 2019 Mix",
          "She Came In Through The Bathroom Window - 2019 Mix",
          "Polythene Pam - 2019 Mix",
          "Mean Mr Mustard - 2019 Mix",
          "Because - 2019 Mix",
          "You Never Give Me Your Money - 2019 Mix",
          "Here Comes The Sun - 2019 Mix",
          "I Want You (She's So Heavy) - 2019 Mix",
          "Oh! Darling - 2019 Mix",
          "Maxwell's Silver Hammer - 2019 Mix",
          "Something - 2019 Mix",
          "Come Together - 2019 Mix",
          "Goodbye - Home Demo",
          "Sun King - 2019 Mix",
          "Octopus's Garden - 2019 Mix",
          "Something - Studio Demo",
          "Old Brown Shoe - Take 2",
          "The Ballad Of John And Yoko - Take 7",
          "Golden Slumbers / Carry That Weight - Take 17 / Instrumental / Strings & Brass Only",
          "Something - Take 39 / Instrumental / Strings Only",
          "The Long One - Comprising of ‘You Never Give Me Your Money’, ’Sun King’/’Mean Mr Mustard’, ‘Her Majesty’, ‘Polythene Pam’/’She Came In Through The Bathroom Window’, ’Golden Slumbers’/ ’Carry That Weight’, ’The End’",
          "She Came In Through The Bathroom Window - Take 27",
          "Polythene Pam - Take 27",
          "Mean Mr. Mustard - Take 20",
          "Sun King - Take 20",
          "Come And Get It - Studio Demo",
          "Because - Take 1 / Instrumental",
          "Come Together - Take 5",
          "Maxwell's Silver Hammer - Take 12",
          "Here Comes The Sun - Take 9",
          "Golden Slumbers / Carry That Weight - Takes 1-3 / Medley",
          "Her Majesty - Takes 1-3",
          "You Never Give Me Your Money - Take 36",
          "Octopus's Garden - Take 9",
          "The End - Take 3",
          "Oh! Darling - Take 4",
          "Can You Dig It?",
          "I Don't Know Why I'm Moaning - Speech / Mono",
          "For You Blue - Take 4",
          "Let It Be / Please Please Me / Let It Be - Take 10",
          "Like Making An Album? - Speech",
          "Dig A Pony - Take 14",
          "Get Back - Take 19",
          "One After 909 - Take 3",
          "Maggie Mae / Fancy My Chances With You - Mono",
          "I’ve Got A Feeling - Take 10",
          "Don’t Let Me Down - First Rooftop Performance",
          "Across The Universe - 2021 Mix",
          "For You Blue - 2021 Mix",
          "The Long And Winding Road - 2021 Mix",
          "One After 909 - 2021 Mix",
          "I've Got A Feeling - 2021 Mix",
          "Maggie Mae - 2021 Mix",
          "Let It Be - 2021 Mix",
          "Dig It - 2021 Mix",
          "I Me Mine - 2021 Mix",
          "Dig A Pony - 2021 Mix",
          "Two Of Us - 2021 Mix",
          "Get Back - 2021 Mix",
          "The Long And Winding Road - Take 19",
          "Morning Camera / Two Of Us - Take 4",
          "On The Day Shift Now / All Things Must Pass - Rehearsals / Mono",
          "Wake Up Little Susie / I Me Mine - Take 11",
          "Dig It - 1969 Glyn Johns Mix",
          "Maggie Mae - 1969 Glyn Johns Mix",
          "Two Of Us - 1969 Glyn Johns Mix",
          "Teddy Boy - 1969 Glyn Johns Mix",
          "For You Blue - 1969 Glyn Johns Mix",
          "Get Back - 1969 Glyn Johns Mix",
          "I've Got A Feeling - 1969 Glyn Johns Mix",
          "Dig A Pony - 1969 Glyn Johns Mix",
          "Don't Let Me Down - 1969 Glyn Johns Mix",
          "One After 909 - 1969 Glyn Johns Mix",
          "Medley: I’m Ready (aka Rocker) / Save The Last Dance For Me / Don’t Let Me Down - 1969 Glyn Johns Mix",
          "Something - Rehearsal / Mono",
          "Without A Song - Jam",
          "The Walk - Jam",
          "Get Back - Take 8",
          "Oh! Darling - Jam",
          "Octopus’s Garden - Rehearsal / Mono",
          "Polythene Pam - Rehearsal / Mono",
          "She Came In Through The Bathroom Window - Rehearsal",
          "I Me Mine - Rehearsal / Mono",
          "Gimme Some Truth - Rehearsal / Mono",
          "Concentrate On The Sound - Mono",
          "Let It Be - Take 28",
          "Don't Let Me Down - Rooftop Performance / Take 1",
          "Get Back - Rooftop Performance / Take 1",
          "Get Back - Rooftop Performance / Take 2",
          "I've Got A Feeling - Rooftop Performance / Take 1",
          "One After 909 - Rooftop Performance",
          "Dig A Pony - Rooftop Performance",
          "God Save The Queen - Rooftop Performance / Jam",
          "I've Got A Feeling - Rooftop Performance / Take 2",
          "Don't Let Me Down - Rooftop Performance / Take 2",
          "Get Back - Rooftop Performance / Take 3",
          "Paperback Writer - Takes 1 & 2 / Backing Track",
          "Love You To - Take 7",
          "Love You To - Unnumbered Rehearsal",
          "Love You To - Take 1",
          "Got To Get You Into My Life - Second Version / Take 8",
          "Got To Get You Into My Life - Second Version / Unnumbered Mix",
          "Got To Get You Into My Life - First Version / Take 5",
          "Tomorrow Never Knows - Mono Mix RM 11",
          "Tomorrow Never Knows - Take 1",
          "Tomorrow Never Knows - 2022 Mix",
          "Got To Get You Into My Life - 2022 Mix",
          "Doctor Robert - 2022 Mix",
          "Rain - Take 5 / Actual Speed",
          "For No One - 2022 Mix",
          "And Your Bird Can Sing - 2022 Mix",
          "Good Day Sunshine - 2022 Mix",
          "She Said She Said - 2022 Mix",
          "Yellow Submarine - 2022 Mix",
          "Love You To - 2022 Mix",
          "I'm Only Sleeping - 2022 Mix",
          "Eleanor Rigby - 2022 Mix",
          "Taxman - 2022 Mix",
          "I Want To Tell You - 2022 Mix",
          "Rain - Take 5 / Slowed Down For Master Tape",
          "Here, There And Everywhere - 2022 Mix",
          "And Your Bird Can Sing - First Version / Take 2",
          "Doctor Robert - Take 7",
          "Here, There And Everywhere - Mono",
          "Love You To - Mono",
          "I'm Only Sleeping - Mono",
          "Taxman - Mono",
          "She Said She Said - Take 15 / Backing Track Rehearsal",
          "She Said She Said - John's Demo",
          "Here, There And Everywhere - Take 6",
          "I Want To Tell You - Speech & Take 4",
          "Yellow Submarine - Highlighted Sound Effects",
          "Yellow Submarine - Take 4 Before Sound Effects",
          "Eleanor Rigby - Mono",
          "Yellow Submarine - Songwriting Work Tape / Part 1",
          "Yellow Submarine - Songwriting Work Tape / Part 2",
          "And Your Bird Can Sing - Second Version / Take 5",
          "Taxman - Take 11",
          "And Your Bird Can Sing - First Version / Take 2 / Giggling",
          "I’m Only Sleeping - Take 2",
          "I’m Only Sleeping - Rehearsal Fragment",
          "I’m Only Sleeping - Mono Mix RM1",
          "Eleanor Rigby - Speech Before Take 2",
          "Eleanor Rigby - Take 2",
          "For No One - Take 10 / Backing Track",
          "I’m Only Sleeping - Take 5",
          "Hey Bulldog - 2023 Mix",
          "Get Back - 2015 Mix",
          "Don’t Let Me Down - 2021 Mix",
          "The Ballad Of John And Yoko - 2015 Mix",
          "Old Brown Shoe - 2023 Mix",
          "Here Comes The Sun - 2019 Mix",
          "Let It Be - 2021 Mix",
          "Something - 2019 Mix",
          "Octopus's Garden - 2019 Mix",
          "Oh! Darling - 2019 Mix",
          "I Want You (She's So Heavy) - 2019 Mix",
          "Across The Universe - 2021 Mix",
          "I Me Mine - 2021 Mix",
          "Blackbird - 2018 Mix",
          "Come Together - 2019 Mix",
          "Glass Onion - 2018 Mix",
          "All You Need Is Love - 2015 Mix",
          "While My Guitar Gently Weeps - 2018 Mix",
          "Penny Lane - 2017 Mix",
          "Sgt. Pepper's Lonely Hearts Club Band - 2017 Mix",
          "With A Little Help From My Friends - 2017 Mix",
          "Lucy In The Sky With Diamonds - 2017 Mix",
          "Within You Without You - 2017 Mix",
          "A Day In The Life - 2017 Remix",
          "The Long And Winding Road - 2021 Mix",
          "Ob-La-Di, Ob-La-Da - 2018 Mix",
          "I Am The Walrus - 2023 Mix",
          "The Fool On The Hill - 2023 Mix",
          "Magical Mystery Tour - 2023 Mix",
          "Lady Madonna - 2015 Mix",
          "Hey Jude - 2015 Mix",
          "Revolution - 2023 Mix",
          "Back In The U.S.S.R - 2018 Mix",
          "Dear Prudence - 2018 Mix",
          "Hello, Goodbye - 2015 Mix",
          "Now And Then",
          "You Can't Do That - 2023 Mix",
          "Please Please Me - 2023 Mix",
          "Drive My Car - 2023 Mix",
          "Norwegian Wood (This Bird Has Flown) - 2023 Mix",
          "Nowhere Man - 2023 Mix",
          "Michelle - 2023 Mix",
          "In My Life - 2023 Mix",
          "If I Needed Someone - 2023 Mix",
          "Girl - 2023 Mix",
          "Paperback Writer - 2022 Mix",
          "Eleanor Rigby - 2022 Mix",
          "Yellow Submarine - 2022 Mix",
          "Taxman - 2022 Mix",
          "Got To Get You Into My Life - 2022 Mix",
          "I'm Only Sleeping - 2022 Mix",
          "Here, There And Everywhere - 2022 Mix",
          "Tomorrow Never Knows - 2022 Mix",
          "Day Tripper - 2023 Mix",
          "We Can Work It Out - 2023 Mix",
          "You've Got To Hide Your Love Away - 2023 Mix",
          "Help! - 2023 Mix",
          "I Saw Her Standing There - 2023 Mix",
          "Twist And Shout - 2023 Mix",
          "From Me To You - 2023 Mix",
          "She Loves You - 2023 Mix",
          "I Want To Hold Your Hand - 2023 Mix",
          "This Boy - 2023 Mix",
          "All My Loving - 2023 Mix",
          "Love Me Do - 2023 Mix",
          "Roll Over Beethoven - 2023 Mix",
          "Can't Buy Me Love - 2023 Mix",
          "A Hard Day's Night - 2023 Mix",
          "And I Love Her - 2023 Mix",
          "Eight Days A Week - 2023 Mix",
          "I Feel Fine - 2023 Mix",
          "Ticket To Ride - 2023 Mix",
          "Yesterday - 2023 Mix",
          "You Really Got A Hold On Me - 2023 Mix",
          "Strawberry Fields Forever - 2015 Mix"
         ],
         "legendgroup": "",
         "marker": {
          "color": [
           0,
           9,
           7,
           0,
           7,
           10,
           0,
           9,
           10,
           0,
           4,
           4,
           0,
           8,
           8,
           6,
           9,
           0,
           0,
           0,
           11,
           1,
           7,
           2,
           4,
           2,
           9,
           7,
           7,
           0,
           6,
           4,
           4,
           5,
           5,
           0,
           0,
           2,
           4,
           4,
           0,
           0,
           5,
           5,
           2,
           7,
           0,
           7,
           4,
           2,
           7,
           4,
           2,
           9,
           0,
           0,
           4,
           0,
           0,
           4,
           8,
           1,
           6,
           0,
           0,
           0,
           4,
           7,
           6,
           2,
           8,
           2,
           2,
           8,
           0,
           10,
           9,
           0,
           5,
           4,
           0,
           4,
           7,
           2,
           0,
           4,
           5,
           0,
           2,
           6,
           0,
           4,
           0,
           5,
           0,
           9,
           4,
           0,
           0,
           9,
           0,
           10,
           7,
           7,
           2,
           8,
           7,
           9,
           10,
           9,
           0,
           2,
           10,
           7,
           7,
           9,
           7,
           4,
           0,
           2,
           5,
           2,
           7,
           2,
           9,
           7,
           9,
           11,
           9,
           0,
           2,
           9,
           2,
           2,
           5,
           7,
           1,
           9,
           2,
           7,
           7,
           9,
           2,
           6,
           9,
           8,
           7,
           7,
           9,
           0,
           9,
           4,
           1,
           2,
           2,
           2,
           2,
           0,
           2,
           0,
           11,
           2,
           0,
           11,
           4,
           7,
           1,
           9,
           5,
           0,
           11,
           2,
           4,
           3,
           2,
           2,
           2,
           4,
           9,
           9,
           1,
           7,
           0,
           9,
           7,
           1,
           5,
           2,
           4,
           9,
           2,
           2,
           9,
           7,
           1,
           9,
           10,
           9,
           0,
           2,
           4,
           0,
           7,
           4,
           2,
           9,
           4,
           8,
           4,
           9,
           5,
           1,
           2,
           9,
           11,
           9,
           0,
           9,
           4,
           9,
           8,
           4,
           0,
           9,
           5,
           2,
           5,
           4,
           9,
           2,
           11,
           1,
           4,
           5,
           4,
           10,
           3,
           7,
           2,
           0,
           4,
           6,
           11,
           7,
           1,
           7,
           8,
           9,
           1,
           4,
           2,
           10,
           2,
           6,
           2,
           6,
           7,
           4,
           0,
           1,
           4,
           11,
           4,
           4,
           4,
           9,
           6,
           7,
           3,
           9,
           10,
           7,
           2,
           11,
           6,
           4,
           2,
           7,
           4,
           7,
           6,
           7,
           1,
           4,
           7,
           7,
           2,
           3,
           7,
           2,
           4,
           4,
           2,
           0,
           0,
           11,
           1,
           2,
           5,
           4,
           4,
           1,
           11,
           2,
           9,
           11,
           2,
           5,
           2,
           9,
           5,
           11,
           1,
           4,
           0,
           0,
           7,
           9,
           9,
           0,
           7,
           5,
           2,
           2,
           4,
           2,
           2,
           7,
           0,
           4,
           7,
           9,
           7,
           9,
           10,
           9,
           2,
           0,
           9,
           7,
           2,
           5,
           8,
           9,
           10,
           11,
           8,
           2,
           7,
           5,
           6,
           8,
           8,
           3,
           6,
           2,
           7,
           5,
           5,
           11,
           0,
           9,
           7,
           7,
           7,
           4,
           8,
           8,
           1,
           10,
           5,
           0,
           2,
           0,
           0,
           2,
           11,
           4,
           2,
           0,
           9,
           9,
           4,
           2,
           0,
           9,
           11,
           2,
           1,
           9,
           0,
           9,
           0,
           7,
           0,
           2,
           0,
           6,
           2,
           4,
           9,
           9,
           2,
           9,
           0,
           2,
           0,
           1,
           11,
           6,
           7,
           2,
           2,
           0,
           7,
           11,
           2,
           4,
           7,
           2,
           4,
           1,
           2,
           3,
           4,
           2,
           7,
           0,
           5,
           4,
           11,
           7,
           2,
           3,
           7,
           9,
           9,
           5,
           0,
           7,
           2,
           2,
           2,
           2,
           2,
           4,
           4,
           6,
           9,
           10,
           9,
           2,
           9,
           0,
           4,
           2,
           4,
           7,
           2,
           0,
           6,
           2,
           9,
           2,
           4,
           11,
           7,
           9,
           6,
           2,
           7,
           5,
           5,
           7,
           0,
           7,
           0,
           5,
           0,
           5,
           0,
           4,
           3,
           1,
           4,
           4,
           3,
           1,
           5,
           11,
           0,
           7,
           9,
           0,
           7,
           2,
           4,
           7,
           5,
           11,
           7,
           3,
           3,
           7,
           2,
           1,
           7,
           4,
           7,
           1,
           6,
           7,
           2,
           3,
           9,
           8,
           4,
           0,
           0,
           4,
           4,
           2,
           6,
           4,
           1,
           9,
           0,
           0,
           1,
           4,
           9,
           1,
           4,
           7,
           9,
           7,
           7,
           2,
           9,
           7,
           4,
           11,
           6,
           4,
           3,
           10,
           9,
           2,
           9,
           7,
           10,
           6,
           9,
           2,
           0,
           4,
           0,
           4,
           7,
           9,
           4,
           5,
           9,
           9,
           5,
           7,
           4,
           1,
           7,
           7,
           11,
           7,
           5,
           6,
           2,
           7,
           6,
           4,
           2,
           0,
           7,
           7,
           2,
           4,
           7,
           2,
           0,
           0,
           1,
           9,
           7,
           9,
           5,
           9,
           10
          ],
          "coloraxis": "coloraxis",
          "opacity": 0.7,
          "size": 8,
          "symbol": "circle"
         },
         "mode": "markers",
         "name": "",
         "orientation": "v",
         "showlegend": false,
         "type": "scatter",
         "x": [
          "1967-05-26T00:00:00",
          "1967-05-26T00:00:00",
          "1967-05-26T00:00:00",
          "1967-05-26T00:00:00",
          "1967-05-26T00:00:00",
          "1967-05-26T00:00:00",
          "1967-05-26T00:00:00",
          "1967-05-26T00:00:00",
          "1967-05-26T00:00:00",
          "1967-05-26T00:00:00",
          "1967-05-26T00:00:00",
          "1967-05-26T00:00:00",
          "1967-05-26T00:00:00",
          "1967-05-26T00:00:00",
          "1967-05-26T00:00:00",
          "1967-05-26T00:00:00",
          "1967-05-26T00:00:00",
          "1967-05-26T00:00:00",
          "1967-05-26T00:00:00",
          "1967-05-26T00:00:00",
          "1967-05-26T00:00:00",
          "1967-05-26T00:00:00",
          "1967-05-26T00:00:00",
          "1967-05-26T00:00:00",
          "1967-05-26T00:00:00",
          "1967-05-26T00:00:00",
          "1967-05-26T00:00:00",
          "1967-05-26T00:00:00",
          "1967-05-26T00:00:00",
          "1967-05-26T00:00:00",
          "1967-05-26T00:00:00",
          "1967-05-26T00:00:00",
          "1967-05-26T00:00:00",
          "1967-05-26T00:00:00",
          "1967-05-26T00:00:00",
          "1967-05-26T00:00:00",
          "1967-05-26T00:00:00",
          "1967-05-26T00:00:00",
          "1967-05-26T00:00:00",
          "1967-05-26T00:00:00",
          "1967-05-26T00:00:00",
          "1967-05-26T00:00:00",
          "1967-05-26T00:00:00",
          "1967-05-26T00:00:00",
          "1967-05-26T00:00:00",
          "1967-05-26T00:00:00",
          "1967-05-26T00:00:00",
          "1967-05-26T00:00:00",
          "1967-05-26T00:00:00",
          "1967-05-26T00:00:00",
          "1967-06-01T00:00:00",
          "1967-06-01T00:00:00",
          "1967-06-01T00:00:00",
          "1967-06-01T00:00:00",
          "1967-06-01T00:00:00",
          "1967-06-01T00:00:00",
          "1967-06-01T00:00:00",
          "1967-06-01T00:00:00",
          "1967-06-01T00:00:00",
          "1967-06-01T00:00:00",
          "1967-06-01T00:00:00",
          "1967-06-01T00:00:00",
          "1967-06-01T00:00:00",
          "1967-06-01T00:00:00",
          "1967-06-01T00:00:00",
          "1967-06-01T00:00:00",
          "1967-06-01T00:00:00",
          "1967-06-01T00:00:00",
          "1967-06-01T00:00:00",
          "1967-06-01T00:00:00",
          "1967-06-01T00:00:00",
          "1967-06-01T00:00:00",
          "1967-06-01T00:00:00",
          "1967-06-01T00:00:00",
          "1967-06-01T00:00:00",
          "1967-06-01T00:00:00",
          "1967-06-01T00:00:00",
          "1967-06-01T00:00:00",
          "1967-06-01T00:00:00",
          "1967-06-01T00:00:00",
          "1967-06-01T00:00:00",
          "1967-06-01T00:00:00",
          "1967-06-01T00:00:00",
          "1967-06-01T00:00:00",
          "1967-06-01T00:00:00",
          "1967-06-01T00:00:00",
          "1967-06-01T00:00:00",
          "1967-06-01T00:00:00",
          "1967-06-01T00:00:00",
          "1967-06-01T00:00:00",
          "1967-06-01T00:00:00",
          "1967-06-01T00:00:00",
          "1967-06-01T00:00:00",
          "1967-06-01T00:00:00",
          "1967-11-27T00:00:00",
          "1967-11-27T00:00:00",
          "1967-11-27T00:00:00",
          "1967-11-27T00:00:00",
          "1967-11-27T00:00:00",
          "1967-11-27T00:00:00",
          "1967-11-27T00:00:00",
          "1967-11-27T00:00:00",
          "1967-11-27T00:00:00",
          "1967-11-27T00:00:00",
          "1967-11-27T00:00:00",
          "1968-11-22T00:00:00",
          "1968-11-22T00:00:00",
          "1968-11-22T00:00:00",
          "1968-11-22T00:00:00",
          "1968-11-22T00:00:00",
          "1968-11-22T00:00:00",
          "1968-11-22T00:00:00",
          "1968-11-22T00:00:00",
          "1968-11-22T00:00:00",
          "1968-11-22T00:00:00",
          "1968-11-22T00:00:00",
          "1968-11-22T00:00:00",
          "1968-11-22T00:00:00",
          "1968-11-22T00:00:00",
          "1968-11-22T00:00:00",
          "1968-11-22T00:00:00",
          "1968-11-22T00:00:00",
          "1968-11-22T00:00:00",
          "1968-11-22T00:00:00",
          "1968-11-22T00:00:00",
          "1968-11-22T00:00:00",
          "1968-11-22T00:00:00",
          "1968-11-22T00:00:00",
          "1968-11-22T00:00:00",
          "1968-11-22T00:00:00",
          "1968-11-22T00:00:00",
          "1968-11-22T00:00:00",
          "1968-11-22T00:00:00",
          "1968-11-22T00:00:00",
          "1968-11-22T00:00:00",
          "1969-01-17T00:00:00",
          "1969-01-17T00:00:00",
          "1969-01-17T00:00:00",
          "1969-01-17T00:00:00",
          "1969-01-17T00:00:00",
          "1969-01-17T00:00:00",
          "1969-01-17T00:00:00",
          "1969-01-17T00:00:00",
          "1969-01-17T00:00:00",
          "1969-01-17T00:00:00",
          "1969-01-17T00:00:00",
          "1969-01-17T00:00:00",
          "1969-01-17T00:00:00",
          "1969-09-26T00:00:00",
          "1969-09-26T00:00:00",
          "1969-09-26T00:00:00",
          "1969-09-26T00:00:00",
          "1969-09-26T00:00:00",
          "1969-09-26T00:00:00",
          "1969-09-26T00:00:00",
          "1969-09-26T00:00:00",
          "1969-09-26T00:00:00",
          "1969-09-26T00:00:00",
          "1969-09-26T00:00:00",
          "1969-09-26T00:00:00",
          "1969-09-26T00:00:00",
          "1969-09-26T00:00:00",
          "1969-09-26T00:00:00",
          "1969-09-26T00:00:00",
          "1969-09-26T00:00:00",
          "1970-05-08T00:00:00",
          "1970-05-08T00:00:00",
          "1970-05-08T00:00:00",
          "1970-05-08T00:00:00",
          "1970-05-08T00:00:00",
          "1970-05-08T00:00:00",
          "1970-05-08T00:00:00",
          "1970-05-08T00:00:00",
          "1970-05-08T00:00:00",
          "1970-05-08T00:00:00",
          "1970-05-08T00:00:00",
          "1970-05-08T00:00:00",
          "1994-11-30T00:00:00",
          "1994-11-30T00:00:00",
          "1994-11-30T00:00:00",
          "1994-11-30T00:00:00",
          "1994-11-30T00:00:00",
          "1994-11-30T00:00:00",
          "1994-11-30T00:00:00",
          "1994-11-30T00:00:00",
          "1994-11-30T00:00:00",
          "1994-11-30T00:00:00",
          "1994-11-30T00:00:00",
          "1994-11-30T00:00:00",
          "1994-11-30T00:00:00",
          "1994-11-30T00:00:00",
          "1994-11-30T00:00:00",
          "1994-11-30T00:00:00",
          "1994-11-30T00:00:00",
          "1994-11-30T00:00:00",
          "1994-11-30T00:00:00",
          "1994-11-30T00:00:00",
          "1994-11-30T00:00:00",
          "1994-11-30T00:00:00",
          "1994-11-30T00:00:00",
          "1994-11-30T00:00:00",
          "1994-11-30T00:00:00",
          "1994-11-30T00:00:00",
          "1994-11-30T00:00:00",
          "1994-11-30T00:00:00",
          "1994-11-30T00:00:00",
          "1994-11-30T00:00:00",
          "1994-11-30T00:00:00",
          "1994-11-30T00:00:00",
          "1994-11-30T00:00:00",
          "1994-11-30T00:00:00",
          "1994-11-30T00:00:00",
          "1994-11-30T00:00:00",
          "1994-11-30T00:00:00",
          "1994-11-30T00:00:00",
          "1994-11-30T00:00:00",
          "1994-11-30T00:00:00",
          "1994-11-30T00:00:00",
          "1994-11-30T00:00:00",
          "1994-11-30T00:00:00",
          "1994-11-30T00:00:00",
          "1994-11-30T00:00:00",
          "1994-11-30T00:00:00",
          "1994-11-30T00:00:00",
          "1994-11-30T00:00:00",
          "1994-11-30T00:00:00",
          "1994-11-30T00:00:00",
          "2013-11-11T00:00:00",
          "2013-11-11T00:00:00",
          "2013-11-11T00:00:00",
          "2013-11-11T00:00:00",
          "2013-11-11T00:00:00",
          "2013-11-11T00:00:00",
          "2013-11-11T00:00:00",
          "2013-11-11T00:00:00",
          "2013-11-11T00:00:00",
          "2013-11-11T00:00:00",
          "2013-11-11T00:00:00",
          "2013-11-11T00:00:00",
          "2013-11-11T00:00:00",
          "2013-11-11T00:00:00",
          "2013-11-11T00:00:00",
          "2013-11-11T00:00:00",
          "2013-11-11T00:00:00",
          "2013-11-11T00:00:00",
          "2013-11-11T00:00:00",
          "2013-11-11T00:00:00",
          "2013-11-11T00:00:00",
          "2013-11-11T00:00:00",
          "2013-11-11T00:00:00",
          "2013-11-11T00:00:00",
          "2013-11-11T00:00:00",
          "2013-11-11T00:00:00",
          "2013-11-11T00:00:00",
          "2013-11-11T00:00:00",
          "2013-11-11T00:00:00",
          "2013-11-11T00:00:00",
          "2013-11-11T00:00:00",
          "2013-11-11T00:00:00",
          "2013-11-11T00:00:00",
          "2013-11-11T00:00:00",
          "2013-11-11T00:00:00",
          "2013-11-11T00:00:00",
          "2013-11-11T00:00:00",
          "2013-11-11T00:00:00",
          "2013-11-11T00:00:00",
          "2013-11-11T00:00:00",
          "2013-11-11T00:00:00",
          "2013-11-11T00:00:00",
          "2013-11-11T00:00:00",
          "2013-11-11T00:00:00",
          "2013-11-11T00:00:00",
          "2013-11-11T00:00:00",
          "2013-11-11T00:00:00",
          "2013-11-11T00:00:00",
          "2013-11-11T00:00:00",
          "2013-11-11T00:00:00",
          "2014-01-01T00:00:00",
          "2014-01-01T00:00:00",
          "2014-01-01T00:00:00",
          "2014-01-01T00:00:00",
          "2014-01-01T00:00:00",
          "2014-01-01T00:00:00",
          "2014-01-01T00:00:00",
          "2014-01-01T00:00:00",
          "2014-01-01T00:00:00",
          "2014-01-01T00:00:00",
          "2014-01-01T00:00:00",
          "2014-01-01T00:00:00",
          "2014-01-01T00:00:00",
          "2014-01-01T00:00:00",
          "2014-01-01T00:00:00",
          "2014-01-01T00:00:00",
          "2014-01-01T00:00:00",
          "2014-01-01T00:00:00",
          "2014-01-01T00:00:00",
          "2014-01-01T00:00:00",
          "2014-01-01T00:00:00",
          "2014-01-01T00:00:00",
          "2014-01-01T00:00:00",
          "2014-01-01T00:00:00",
          "2014-01-01T00:00:00",
          "2014-01-01T00:00:00",
          "2016-09-09T00:00:00",
          "2016-09-09T00:00:00",
          "2016-09-09T00:00:00",
          "2016-09-09T00:00:00",
          "2016-09-09T00:00:00",
          "2016-09-09T00:00:00",
          "2016-09-09T00:00:00",
          "2016-09-09T00:00:00",
          "2016-09-09T00:00:00",
          "2016-09-09T00:00:00",
          "2016-09-09T00:00:00",
          "2016-09-09T00:00:00",
          "2016-09-09T00:00:00",
          "2016-09-09T00:00:00",
          "2016-09-09T00:00:00",
          "2016-09-09T00:00:00",
          "2016-09-09T00:00:00",
          "2018-11-09T00:00:00",
          "2018-11-09T00:00:00",
          "2018-11-09T00:00:00",
          "2018-11-09T00:00:00",
          "2018-11-09T00:00:00",
          "2018-11-09T00:00:00",
          "2018-11-09T00:00:00",
          "2018-11-09T00:00:00",
          "2018-11-09T00:00:00",
          "2018-11-09T00:00:00",
          "2018-11-09T00:00:00",
          "2018-11-09T00:00:00",
          "2018-11-09T00:00:00",
          "2018-11-09T00:00:00",
          "2018-11-09T00:00:00",
          "2018-11-09T00:00:00",
          "2018-11-09T00:00:00",
          "2018-11-09T00:00:00",
          "2018-11-09T00:00:00",
          "2018-11-09T00:00:00",
          "2018-11-09T00:00:00",
          "2018-11-09T00:00:00",
          "2018-11-09T00:00:00",
          "2018-11-09T00:00:00",
          "2018-11-09T00:00:00",
          "2018-11-09T00:00:00",
          "2018-11-09T00:00:00",
          "2018-11-09T00:00:00",
          "2018-11-09T00:00:00",
          "2018-11-09T00:00:00",
          "2018-11-09T00:00:00",
          "2018-11-09T00:00:00",
          "2018-11-09T00:00:00",
          "2018-11-09T00:00:00",
          "2018-11-09T00:00:00",
          "2018-11-09T00:00:00",
          "2018-11-09T00:00:00",
          "2018-11-09T00:00:00",
          "2018-11-09T00:00:00",
          "2018-11-09T00:00:00",
          "2018-11-09T00:00:00",
          "2018-11-09T00:00:00",
          "2018-11-09T00:00:00",
          "2018-11-09T00:00:00",
          "2018-11-09T00:00:00",
          "2018-11-09T00:00:00",
          "2018-11-09T00:00:00",
          "2018-11-09T00:00:00",
          "2018-11-09T00:00:00",
          "2018-11-09T00:00:00",
          "2019-09-27T00:00:00",
          "2019-09-27T00:00:00",
          "2019-09-27T00:00:00",
          "2019-09-27T00:00:00",
          "2019-09-27T00:00:00",
          "2019-09-27T00:00:00",
          "2019-09-27T00:00:00",
          "2019-09-27T00:00:00",
          "2019-09-27T00:00:00",
          "2019-09-27T00:00:00",
          "2019-09-27T00:00:00",
          "2019-09-27T00:00:00",
          "2019-09-27T00:00:00",
          "2019-09-27T00:00:00",
          "2019-09-27T00:00:00",
          "2019-09-27T00:00:00",
          "2019-09-27T00:00:00",
          "2019-09-27T00:00:00",
          "2019-09-27T00:00:00",
          "2019-09-27T00:00:00",
          "2019-09-27T00:00:00",
          "2019-09-27T00:00:00",
          "2019-09-27T00:00:00",
          "2019-09-27T00:00:00",
          "2019-09-27T00:00:00",
          "2019-09-27T00:00:00",
          "2019-09-27T00:00:00",
          "2019-09-27T00:00:00",
          "2019-09-27T00:00:00",
          "2019-09-27T00:00:00",
          "2019-09-27T00:00:00",
          "2019-09-27T00:00:00",
          "2019-09-27T00:00:00",
          "2019-09-27T00:00:00",
          "2019-09-27T00:00:00",
          "2019-09-27T00:00:00",
          "2019-09-27T00:00:00",
          "2019-09-27T00:00:00",
          "2019-09-27T00:00:00",
          "2019-09-27T00:00:00",
          "2021-10-15T00:00:00",
          "2021-10-15T00:00:00",
          "2021-10-15T00:00:00",
          "2021-10-15T00:00:00",
          "2021-10-15T00:00:00",
          "2021-10-15T00:00:00",
          "2021-10-15T00:00:00",
          "2021-10-15T00:00:00",
          "2021-10-15T00:00:00",
          "2021-10-15T00:00:00",
          "2021-10-15T00:00:00",
          "2021-10-15T00:00:00",
          "2021-10-15T00:00:00",
          "2021-10-15T00:00:00",
          "2021-10-15T00:00:00",
          "2021-10-15T00:00:00",
          "2021-10-15T00:00:00",
          "2021-10-15T00:00:00",
          "2021-10-15T00:00:00",
          "2021-10-15T00:00:00",
          "2021-10-15T00:00:00",
          "2021-10-15T00:00:00",
          "2021-10-15T00:00:00",
          "2021-10-15T00:00:00",
          "2021-10-15T00:00:00",
          "2021-10-15T00:00:00",
          "2021-10-15T00:00:00",
          "2021-10-15T00:00:00",
          "2021-10-15T00:00:00",
          "2021-10-15T00:00:00",
          "2021-10-15T00:00:00",
          "2021-10-15T00:00:00",
          "2021-10-15T00:00:00",
          "2021-10-15T00:00:00",
          "2021-10-15T00:00:00",
          "2021-10-15T00:00:00",
          "2021-10-15T00:00:00",
          "2021-10-15T00:00:00",
          "2021-10-15T00:00:00",
          "2021-10-15T00:00:00",
          "2021-10-15T00:00:00",
          "2021-10-15T00:00:00",
          "2021-10-15T00:00:00",
          "2021-10-15T00:00:00",
          "2021-10-15T00:00:00",
          "2021-10-15T00:00:00",
          "2021-10-15T00:00:00",
          "2021-10-15T00:00:00",
          "2021-10-15T00:00:00",
          "2021-10-15T00:00:00",
          "2022-01-28T00:00:00",
          "2022-01-28T00:00:00",
          "2022-01-28T00:00:00",
          "2022-01-28T00:00:00",
          "2022-01-28T00:00:00",
          "2022-01-28T00:00:00",
          "2022-01-28T00:00:00",
          "2022-01-28T00:00:00",
          "2022-01-28T00:00:00",
          "2022-01-28T00:00:00",
          "2022-10-28T00:00:00",
          "2022-10-28T00:00:00",
          "2022-10-28T00:00:00",
          "2022-10-28T00:00:00",
          "2022-10-28T00:00:00",
          "2022-10-28T00:00:00",
          "2022-10-28T00:00:00",
          "2022-10-28T00:00:00",
          "2022-10-28T00:00:00",
          "2022-10-28T00:00:00",
          "2022-10-28T00:00:00",
          "2022-10-28T00:00:00",
          "2022-10-28T00:00:00",
          "2022-10-28T00:00:00",
          "2022-10-28T00:00:00",
          "2022-10-28T00:00:00",
          "2022-10-28T00:00:00",
          "2022-10-28T00:00:00",
          "2022-10-28T00:00:00",
          "2022-10-28T00:00:00",
          "2022-10-28T00:00:00",
          "2022-10-28T00:00:00",
          "2022-10-28T00:00:00",
          "2022-10-28T00:00:00",
          "2022-10-28T00:00:00",
          "2022-10-28T00:00:00",
          "2022-10-28T00:00:00",
          "2022-10-28T00:00:00",
          "2022-10-28T00:00:00",
          "2022-10-28T00:00:00",
          "2022-10-28T00:00:00",
          "2022-10-28T00:00:00",
          "2022-10-28T00:00:00",
          "2022-10-28T00:00:00",
          "2022-10-28T00:00:00",
          "2022-10-28T00:00:00",
          "2022-10-28T00:00:00",
          "2022-10-28T00:00:00",
          "2022-10-28T00:00:00",
          "2022-10-28T00:00:00",
          "2022-10-28T00:00:00",
          "2022-10-28T00:00:00",
          "2022-10-28T00:00:00",
          "2022-10-28T00:00:00",
          "2022-10-28T00:00:00",
          "2022-10-28T00:00:00",
          "2022-10-28T00:00:00",
          "2022-10-28T00:00:00",
          "2022-10-28T00:00:00",
          "2022-10-28T00:00:00",
          "2023-11-10T00:00:00",
          "2023-11-10T00:00:00",
          "2023-11-10T00:00:00",
          "2023-11-10T00:00:00",
          "2023-11-10T00:00:00",
          "2023-11-10T00:00:00",
          "2023-11-10T00:00:00",
          "2023-11-10T00:00:00",
          "2023-11-10T00:00:00",
          "2023-11-10T00:00:00",
          "2023-11-10T00:00:00",
          "2023-11-10T00:00:00",
          "2023-11-10T00:00:00",
          "2023-11-10T00:00:00",
          "2023-11-10T00:00:00",
          "2023-11-10T00:00:00",
          "2023-11-10T00:00:00",
          "2023-11-10T00:00:00",
          "2023-11-10T00:00:00",
          "2023-11-10T00:00:00",
          "2023-11-10T00:00:00",
          "2023-11-10T00:00:00",
          "2023-11-10T00:00:00",
          "2023-11-10T00:00:00",
          "2023-11-10T00:00:00",
          "2023-11-10T00:00:00",
          "2023-11-10T00:00:00",
          "2023-11-10T00:00:00",
          "2023-11-10T00:00:00",
          "2023-11-10T00:00:00",
          "2023-11-10T00:00:00",
          "2023-11-10T00:00:00",
          "2023-11-10T00:00:00",
          "2023-11-10T00:00:00",
          "2023-11-10T00:00:00",
          "2023-11-10T00:00:00",
          "2023-11-10T00:00:00",
          "2023-11-10T00:00:00",
          "2023-11-10T00:00:00",
          "2023-11-10T00:00:00",
          "2023-11-10T00:00:00",
          "2023-11-10T00:00:00",
          "2023-11-10T00:00:00",
          "2023-11-10T00:00:00",
          "2023-11-10T00:00:00",
          "2023-11-10T00:00:00",
          "2023-11-10T00:00:00",
          "2023-11-10T00:00:00",
          "2023-11-10T00:00:00",
          "2023-11-10T00:00:00",
          "2023-11-10T00:00:00",
          "2023-11-10T00:00:00",
          "2023-11-10T00:00:00",
          "2023-11-10T00:00:00",
          "2023-11-10T00:00:00",
          "2023-11-10T00:00:00",
          "2023-11-10T00:00:00",
          "2023-11-10T00:00:00",
          "2023-11-10T00:00:00",
          "2023-11-10T00:00:00",
          "2023-11-10T00:00:00",
          "2023-11-10T00:00:00",
          "2023-11-10T00:00:00",
          "2023-11-10T00:00:00",
          "2023-11-10T00:00:00",
          "2023-11-10T00:00:00",
          "2023-11-10T00:00:00",
          "2023-11-10T00:00:00",
          "2023-11-10T00:00:00",
          "2023-11-10T00:00:00",
          "2023-11-10T00:00:00",
          "2023-11-10T00:00:00",
          "2023-11-10T00:00:00",
          "2023-11-10T00:00:00",
          "2023-11-10T00:00:00"
         ],
         "xaxis": "x",
         "y": [
          121.904,
          112.921,
          113.267,
          120.775,
          132.619,
          97.965,
          110.792,
          178.787,
          90.754,
          96.261,
          79.935,
          84.655,
          118.769,
          87.479,
          138.425,
          125.07,
          83.149,
          132.105,
          112.618,
          121.949,
          132.537,
          112.311,
          95.302,
          121.624,
          76.521,
          190.968,
          152.329,
          83.105,
          95.711,
          119.302,
          111.378,
          129.005,
          128.584,
          119.292,
          120.037,
          122.268,
          127.533,
          132.659,
          112.294,
          90.553,
          112.449,
          111.935,
          117.871,
          114.662,
          121.715,
          122.98,
          95.664,
          97.846,
          71.937,
          134.224,
          95.114,
          112.057,
          137.423,
          83.339,
          111.667,
          130.97,
          163.219,
          121.959,
          118.773,
          127.581,
          87.379,
          140.411,
          126.166,
          111.874,
          112.984,
          121.672,
          112.035,
          95.513,
          124.251,
          121.849,
          138.256,
          65.09,
          121.517,
          86.822,
          120.735,
          95.797,
          112.931,
          110.629,
          179.328,
          162.502,
          119.285,
          180.847,
          132.627,
          121.741,
          111.097,
          128.506,
          115.28,
          127.521,
          97.058,
          111.363,
          95.695,
          80.724,
          118.758,
          120.234,
          101.052,
          170.962,
          144.184,
          92.929,
          117.613,
          113.038,
          99.307,
          97.871,
          96.751,
          103.436,
          85.206,
          93.245,
          93.699,
          68.492,
          177.624,
          139.288,
          114.816,
          89.9,
          113.059,
          120.432,
          150.721,
          142.489,
          79.456,
          115,
          84.895,
          117.089,
          103.11,
          187.688,
          146.408,
          91.158,
          76.644,
          144.197,
          98.425,
          120.761,
          167.518,
          75.478,
          84.78,
          151.766,
          139.239,
          134.706,
          104.837,
          113.511,
          110.849,
          209.242,
          95.937,
          100.495,
          103.103,
          83.971,
          128.054,
          118.99,
          117.185,
          82.423,
          105.345,
          113.126,
          165.007,
          133.522,
          129.171,
          173.93,
          92.225,
          115.732,
          81.257,
          131.12,
          74.994,
          174.464,
          100.874,
          84.319,
          123.444,
          80.652,
          80.608,
          166.829,
          100.687,
          109.114,
          152.126,
          185.235,
          157.03,
          143.462,
          59.004,
          165.156,
          90.95,
          132.282,
          128.542,
          123.095,
          169.039,
          114.533,
          104.729,
          155.616,
          102.311,
          132.094,
          115.387,
          133.613,
          82.17,
          102.36,
          123.777,
          140.796,
          103.446,
          129.198,
          128.919,
          68.111,
          125.477,
          134.925,
          90.715,
          82.895,
          70.649,
          139.013,
          0,
          94.578,
          101.253,
          98.026,
          91.054,
          100.443,
          133.737,
          117.032,
          161.701,
          0,
          169.477,
          87.182,
          136.058,
          76.349,
          169.778,
          119.715,
          192.399,
          92.458,
          139.302,
          0,
          134.904,
          152.231,
          97.793,
          164.869,
          173.251,
          87.718,
          120.101,
          87.792,
          142.527,
          71.852,
          144.439,
          165.057,
          140.272,
          129.03,
          79.103,
          118.11,
          138.523,
          136.471,
          62.393,
          86.107,
          111.623,
          136.854,
          140.608,
          130.195,
          125.657,
          137.253,
          135.669,
          86.051,
          47.246,
          126.776,
          115.763,
          143.73,
          138.658,
          76.97,
          169.334,
          125.86,
          106.002,
          61.03,
          132.471,
          131.226,
          143.192,
          86.702,
          160.832,
          98.125,
          155.13,
          124.64,
          112.343,
          96.099,
          139.686,
          122.336,
          112.889,
          117.334,
          91.668,
          173.556,
          167.525,
          110.779,
          90.225,
          79.471,
          129.656,
          189.782,
          112.277,
          96.886,
          106.807,
          102.967,
          140.164,
          122.174,
          113.521,
          123.585,
          128.9,
          135.754,
          109.904,
          164.605,
          163.63,
          128.451,
          159.441,
          136.888,
          130.438,
          117.916,
          182.399,
          138.311,
          124.655,
          137.382,
          102.424,
          110.618,
          96.245,
          126.798,
          89.735,
          129.684,
          121.183,
          72.244,
          179.693,
          79.621,
          86.468,
          94.967,
          169.994,
          78.408,
          91.242,
          136.18,
          141.085,
          175.22,
          185.584,
          134.105,
          188.181,
          103.123,
          134.702,
          139.374,
          167.748,
          84.761,
          117.153,
          149.62,
          84.995,
          104.258,
          78.943,
          142.657,
          93.82,
          69.925,
          89.212,
          138.935,
          115.124,
          114.796,
          89.897,
          120.356,
          150.785,
          104.767,
          92.583,
          98.997,
          113.193,
          120.922,
          154.921,
          78.419,
          127.317,
          147.869,
          118.018,
          174.134,
          148.643,
          138.715,
          82.588,
          175.566,
          89.156,
          121.509,
          138.625,
          152.361,
          76.795,
          82.224,
          95.082,
          127.719,
          144.06,
          113.622,
          118.73,
          109.317,
          82.396,
          89.173,
          143.811,
          100.526,
          123.358,
          84.005,
          80.663,
          80.647,
          166.72,
          100.497,
          161.293,
          173.751,
          129.101,
          142.872,
          173.67,
          131.099,
          133.298,
          164.891,
          126.695,
          149.875,
          92.253,
          139.822,
          142.441,
          132.918,
          83.482,
          74.502,
          84.037,
          79.384,
          165.489,
          92.501,
          77.076,
          87.938,
          165.109,
          166.035,
          129.09,
          126.629,
          81.134,
          100.276,
          170.359,
          91.26,
          122.778,
          86.298,
          141.355,
          113.374,
          127.789,
          142.038,
          71.469,
          118.441,
          121.379,
          163.566,
          107.59,
          81.095,
          163.347,
          76.148,
          128.317,
          66.436,
          90.782,
          165.614,
          169.081,
          144.338,
          155.067,
          128.47,
          118.377,
          109.111,
          123.091,
          135.137,
          107.858,
          124.606,
          187.098,
          155.196,
          168.087,
          105.038,
          146.242,
          128.235,
          122.637,
          167.372,
          119.222,
          154.318,
          90.974,
          114.447,
          75.368,
          126.794,
          112.519,
          119.619,
          84.359,
          181.077,
          157.595,
          71.105,
          175.233,
          79.194,
          115.822,
          140.934,
          81.92,
          124.176,
          125.572,
          165.416,
          90.474,
          116.556,
          132.388,
          81.332,
          81.846,
          126.059,
          78.735,
          123.418,
          129.3,
          115.246,
          136.743,
          136.411,
          130.21,
          124.478,
          116.635,
          91.033,
          136.555,
          164.542,
          130.546,
          81.896,
          132.625,
          117.169,
          106.066,
          111.374,
          124.21,
          103.392,
          137.891,
          133.603,
          126.833,
          107.798,
          164.568,
          133.852,
          81.628,
          82.251,
          123.72,
          103.18,
          133.167,
          104.282,
          111.33,
          83.216,
          124.014,
          110.78,
          118.295,
          137.41,
          173.123,
          83.967,
          125.924,
          132.127,
          133.977,
          106.877,
          103.522,
          103.321,
          130.297,
          137.932,
          168.928,
          126.989,
          100.831,
          122.928,
          76.638,
          135.338,
          143,
          129.116,
          139.244,
          133.367,
          92.293,
          174.123,
          143.076,
          151.262,
          127.755,
          93.762,
          164.584,
          120.341,
          102.401,
          114.848,
          113.225,
          95.686,
          112.24,
          187.861,
          125.012,
          79.387,
          66.122,
          113.196,
          87.574,
          144.473,
          163.781,
          109.438,
          147.363,
          121.382,
          142.659,
          150.401,
          99.32,
          87.188,
          129.021,
          139.534,
          122.498,
          176.855,
          121.365,
          115.133,
          103.148,
          127.481,
          96.591,
          78.527,
          137.727,
          111.098,
          133.548,
          136.857,
          103.465,
          82.882,
          127.042,
          137.605,
          106.026,
          184.304,
          94.958,
          80.027,
          124.534,
          136.072,
          75.403,
          130.646,
          111.246,
          77.818,
          142.59,
          161.722,
          171.595,
          137.622,
          112.474,
          138.581,
          90.089,
          123.343,
          96.529,
          76.859,
          96.221
         ],
         "yaxis": "y"
        }
       ],
       "layout": {
        "coloraxis": {
         "colorbar": {
          "title": {
           "text": "Key"
          }
         },
         "colorscale": [
          [
           0,
           "#0d0887"
          ],
          [
           0.1111111111111111,
           "#46039f"
          ],
          [
           0.2222222222222222,
           "#7201a8"
          ],
          [
           0.3333333333333333,
           "#9c179e"
          ],
          [
           0.4444444444444444,
           "#bd3786"
          ],
          [
           0.5555555555555556,
           "#d8576b"
          ],
          [
           0.6666666666666666,
           "#ed7953"
          ],
          [
           0.7777777777777778,
           "#fb9f3a"
          ],
          [
           0.8888888888888888,
           "#fdca26"
          ],
          [
           1,
           "#f0f921"
          ]
         ]
        },
        "legend": {
         "tracegroupgap": 0
        },
        "template": {
         "data": {
          "bar": [
           {
            "error_x": {
             "color": "#2a3f5f"
            },
            "error_y": {
             "color": "#2a3f5f"
            },
            "marker": {
             "line": {
              "color": "#E5ECF6",
              "width": 0.5
             },
             "pattern": {
              "fillmode": "overlay",
              "size": 10,
              "solidity": 0.2
             }
            },
            "type": "bar"
           }
          ],
          "barpolar": [
           {
            "marker": {
             "line": {
              "color": "#E5ECF6",
              "width": 0.5
             },
             "pattern": {
              "fillmode": "overlay",
              "size": 10,
              "solidity": 0.2
             }
            },
            "type": "barpolar"
           }
          ],
          "carpet": [
           {
            "aaxis": {
             "endlinecolor": "#2a3f5f",
             "gridcolor": "white",
             "linecolor": "white",
             "minorgridcolor": "white",
             "startlinecolor": "#2a3f5f"
            },
            "baxis": {
             "endlinecolor": "#2a3f5f",
             "gridcolor": "white",
             "linecolor": "white",
             "minorgridcolor": "white",
             "startlinecolor": "#2a3f5f"
            },
            "type": "carpet"
           }
          ],
          "choropleth": [
           {
            "colorbar": {
             "outlinewidth": 0,
             "ticks": ""
            },
            "type": "choropleth"
           }
          ],
          "contour": [
           {
            "colorbar": {
             "outlinewidth": 0,
             "ticks": ""
            },
            "colorscale": [
             [
              0,
              "#0d0887"
             ],
             [
              0.1111111111111111,
              "#46039f"
             ],
             [
              0.2222222222222222,
              "#7201a8"
             ],
             [
              0.3333333333333333,
              "#9c179e"
             ],
             [
              0.4444444444444444,
              "#bd3786"
             ],
             [
              0.5555555555555556,
              "#d8576b"
             ],
             [
              0.6666666666666666,
              "#ed7953"
             ],
             [
              0.7777777777777778,
              "#fb9f3a"
             ],
             [
              0.8888888888888888,
              "#fdca26"
             ],
             [
              1,
              "#f0f921"
             ]
            ],
            "type": "contour"
           }
          ],
          "contourcarpet": [
           {
            "colorbar": {
             "outlinewidth": 0,
             "ticks": ""
            },
            "type": "contourcarpet"
           }
          ],
          "heatmap": [
           {
            "colorbar": {
             "outlinewidth": 0,
             "ticks": ""
            },
            "colorscale": [
             [
              0,
              "#0d0887"
             ],
             [
              0.1111111111111111,
              "#46039f"
             ],
             [
              0.2222222222222222,
              "#7201a8"
             ],
             [
              0.3333333333333333,
              "#9c179e"
             ],
             [
              0.4444444444444444,
              "#bd3786"
             ],
             [
              0.5555555555555556,
              "#d8576b"
             ],
             [
              0.6666666666666666,
              "#ed7953"
             ],
             [
              0.7777777777777778,
              "#fb9f3a"
             ],
             [
              0.8888888888888888,
              "#fdca26"
             ],
             [
              1,
              "#f0f921"
             ]
            ],
            "type": "heatmap"
           }
          ],
          "heatmapgl": [
           {
            "colorbar": {
             "outlinewidth": 0,
             "ticks": ""
            },
            "colorscale": [
             [
              0,
              "#0d0887"
             ],
             [
              0.1111111111111111,
              "#46039f"
             ],
             [
              0.2222222222222222,
              "#7201a8"
             ],
             [
              0.3333333333333333,
              "#9c179e"
             ],
             [
              0.4444444444444444,
              "#bd3786"
             ],
             [
              0.5555555555555556,
              "#d8576b"
             ],
             [
              0.6666666666666666,
              "#ed7953"
             ],
             [
              0.7777777777777778,
              "#fb9f3a"
             ],
             [
              0.8888888888888888,
              "#fdca26"
             ],
             [
              1,
              "#f0f921"
             ]
            ],
            "type": "heatmapgl"
           }
          ],
          "histogram": [
           {
            "marker": {
             "pattern": {
              "fillmode": "overlay",
              "size": 10,
              "solidity": 0.2
             }
            },
            "type": "histogram"
           }
          ],
          "histogram2d": [
           {
            "colorbar": {
             "outlinewidth": 0,
             "ticks": ""
            },
            "colorscale": [
             [
              0,
              "#0d0887"
             ],
             [
              0.1111111111111111,
              "#46039f"
             ],
             [
              0.2222222222222222,
              "#7201a8"
             ],
             [
              0.3333333333333333,
              "#9c179e"
             ],
             [
              0.4444444444444444,
              "#bd3786"
             ],
             [
              0.5555555555555556,
              "#d8576b"
             ],
             [
              0.6666666666666666,
              "#ed7953"
             ],
             [
              0.7777777777777778,
              "#fb9f3a"
             ],
             [
              0.8888888888888888,
              "#fdca26"
             ],
             [
              1,
              "#f0f921"
             ]
            ],
            "type": "histogram2d"
           }
          ],
          "histogram2dcontour": [
           {
            "colorbar": {
             "outlinewidth": 0,
             "ticks": ""
            },
            "colorscale": [
             [
              0,
              "#0d0887"
             ],
             [
              0.1111111111111111,
              "#46039f"
             ],
             [
              0.2222222222222222,
              "#7201a8"
             ],
             [
              0.3333333333333333,
              "#9c179e"
             ],
             [
              0.4444444444444444,
              "#bd3786"
             ],
             [
              0.5555555555555556,
              "#d8576b"
             ],
             [
              0.6666666666666666,
              "#ed7953"
             ],
             [
              0.7777777777777778,
              "#fb9f3a"
             ],
             [
              0.8888888888888888,
              "#fdca26"
             ],
             [
              1,
              "#f0f921"
             ]
            ],
            "type": "histogram2dcontour"
           }
          ],
          "mesh3d": [
           {
            "colorbar": {
             "outlinewidth": 0,
             "ticks": ""
            },
            "type": "mesh3d"
           }
          ],
          "parcoords": [
           {
            "line": {
             "colorbar": {
              "outlinewidth": 0,
              "ticks": ""
             }
            },
            "type": "parcoords"
           }
          ],
          "pie": [
           {
            "automargin": true,
            "type": "pie"
           }
          ],
          "scatter": [
           {
            "fillpattern": {
             "fillmode": "overlay",
             "size": 10,
             "solidity": 0.2
            },
            "type": "scatter"
           }
          ],
          "scatter3d": [
           {
            "line": {
             "colorbar": {
              "outlinewidth": 0,
              "ticks": ""
             }
            },
            "marker": {
             "colorbar": {
              "outlinewidth": 0,
              "ticks": ""
             }
            },
            "type": "scatter3d"
           }
          ],
          "scattercarpet": [
           {
            "marker": {
             "colorbar": {
              "outlinewidth": 0,
              "ticks": ""
             }
            },
            "type": "scattercarpet"
           }
          ],
          "scattergeo": [
           {
            "marker": {
             "colorbar": {
              "outlinewidth": 0,
              "ticks": ""
             }
            },
            "type": "scattergeo"
           }
          ],
          "scattergl": [
           {
            "marker": {
             "colorbar": {
              "outlinewidth": 0,
              "ticks": ""
             }
            },
            "type": "scattergl"
           }
          ],
          "scattermapbox": [
           {
            "marker": {
             "colorbar": {
              "outlinewidth": 0,
              "ticks": ""
             }
            },
            "type": "scattermapbox"
           }
          ],
          "scatterpolar": [
           {
            "marker": {
             "colorbar": {
              "outlinewidth": 0,
              "ticks": ""
             }
            },
            "type": "scatterpolar"
           }
          ],
          "scatterpolargl": [
           {
            "marker": {
             "colorbar": {
              "outlinewidth": 0,
              "ticks": ""
             }
            },
            "type": "scatterpolargl"
           }
          ],
          "scatterternary": [
           {
            "marker": {
             "colorbar": {
              "outlinewidth": 0,
              "ticks": ""
             }
            },
            "type": "scatterternary"
           }
          ],
          "surface": [
           {
            "colorbar": {
             "outlinewidth": 0,
             "ticks": ""
            },
            "colorscale": [
             [
              0,
              "#0d0887"
             ],
             [
              0.1111111111111111,
              "#46039f"
             ],
             [
              0.2222222222222222,
              "#7201a8"
             ],
             [
              0.3333333333333333,
              "#9c179e"
             ],
             [
              0.4444444444444444,
              "#bd3786"
             ],
             [
              0.5555555555555556,
              "#d8576b"
             ],
             [
              0.6666666666666666,
              "#ed7953"
             ],
             [
              0.7777777777777778,
              "#fb9f3a"
             ],
             [
              0.8888888888888888,
              "#fdca26"
             ],
             [
              1,
              "#f0f921"
             ]
            ],
            "type": "surface"
           }
          ],
          "table": [
           {
            "cells": {
             "fill": {
              "color": "#EBF0F8"
             },
             "line": {
              "color": "white"
             }
            },
            "header": {
             "fill": {
              "color": "#C8D4E3"
             },
             "line": {
              "color": "white"
             }
            },
            "type": "table"
           }
          ]
         },
         "layout": {
          "annotationdefaults": {
           "arrowcolor": "#2a3f5f",
           "arrowhead": 0,
           "arrowwidth": 1
          },
          "autotypenumbers": "strict",
          "coloraxis": {
           "colorbar": {
            "outlinewidth": 0,
            "ticks": ""
           }
          },
          "colorscale": {
           "diverging": [
            [
             0,
             "#8e0152"
            ],
            [
             0.1,
             "#c51b7d"
            ],
            [
             0.2,
             "#de77ae"
            ],
            [
             0.3,
             "#f1b6da"
            ],
            [
             0.4,
             "#fde0ef"
            ],
            [
             0.5,
             "#f7f7f7"
            ],
            [
             0.6,
             "#e6f5d0"
            ],
            [
             0.7,
             "#b8e186"
            ],
            [
             0.8,
             "#7fbc41"
            ],
            [
             0.9,
             "#4d9221"
            ],
            [
             1,
             "#276419"
            ]
           ],
           "sequential": [
            [
             0,
             "#0d0887"
            ],
            [
             0.1111111111111111,
             "#46039f"
            ],
            [
             0.2222222222222222,
             "#7201a8"
            ],
            [
             0.3333333333333333,
             "#9c179e"
            ],
            [
             0.4444444444444444,
             "#bd3786"
            ],
            [
             0.5555555555555556,
             "#d8576b"
            ],
            [
             0.6666666666666666,
             "#ed7953"
            ],
            [
             0.7777777777777778,
             "#fb9f3a"
            ],
            [
             0.8888888888888888,
             "#fdca26"
            ],
            [
             1,
             "#f0f921"
            ]
           ],
           "sequentialminus": [
            [
             0,
             "#0d0887"
            ],
            [
             0.1111111111111111,
             "#46039f"
            ],
            [
             0.2222222222222222,
             "#7201a8"
            ],
            [
             0.3333333333333333,
             "#9c179e"
            ],
            [
             0.4444444444444444,
             "#bd3786"
            ],
            [
             0.5555555555555556,
             "#d8576b"
            ],
            [
             0.6666666666666666,
             "#ed7953"
            ],
            [
             0.7777777777777778,
             "#fb9f3a"
            ],
            [
             0.8888888888888888,
             "#fdca26"
            ],
            [
             1,
             "#f0f921"
            ]
           ]
          },
          "colorway": [
           "#636efa",
           "#EF553B",
           "#00cc96",
           "#ab63fa",
           "#FFA15A",
           "#19d3f3",
           "#FF6692",
           "#B6E880",
           "#FF97FF",
           "#FECB52"
          ],
          "font": {
           "color": "#2a3f5f"
          },
          "geo": {
           "bgcolor": "white",
           "lakecolor": "white",
           "landcolor": "#E5ECF6",
           "showlakes": true,
           "showland": true,
           "subunitcolor": "white"
          },
          "hoverlabel": {
           "align": "left"
          },
          "hovermode": "closest",
          "mapbox": {
           "style": "light"
          },
          "paper_bgcolor": "white",
          "plot_bgcolor": "#E5ECF6",
          "polar": {
           "angularaxis": {
            "gridcolor": "white",
            "linecolor": "white",
            "ticks": ""
           },
           "bgcolor": "#E5ECF6",
           "radialaxis": {
            "gridcolor": "white",
            "linecolor": "white",
            "ticks": ""
           }
          },
          "scene": {
           "xaxis": {
            "backgroundcolor": "#E5ECF6",
            "gridcolor": "white",
            "gridwidth": 2,
            "linecolor": "white",
            "showbackground": true,
            "ticks": "",
            "zerolinecolor": "white"
           },
           "yaxis": {
            "backgroundcolor": "#E5ECF6",
            "gridcolor": "white",
            "gridwidth": 2,
            "linecolor": "white",
            "showbackground": true,
            "ticks": "",
            "zerolinecolor": "white"
           },
           "zaxis": {
            "backgroundcolor": "#E5ECF6",
            "gridcolor": "white",
            "gridwidth": 2,
            "linecolor": "white",
            "showbackground": true,
            "ticks": "",
            "zerolinecolor": "white"
           }
          },
          "shapedefaults": {
           "line": {
            "color": "#2a3f5f"
           }
          },
          "ternary": {
           "aaxis": {
            "gridcolor": "white",
            "linecolor": "white",
            "ticks": ""
           },
           "baxis": {
            "gridcolor": "white",
            "linecolor": "white",
            "ticks": ""
           },
           "bgcolor": "#E5ECF6",
           "caxis": {
            "gridcolor": "white",
            "linecolor": "white",
            "ticks": ""
           }
          },
          "title": {
           "x": 0.05
          },
          "xaxis": {
           "automargin": true,
           "gridcolor": "white",
           "linecolor": "white",
           "ticks": "",
           "title": {
            "standoff": 15
           },
           "zerolinecolor": "white",
           "zerolinewidth": 2
          },
          "yaxis": {
           "automargin": true,
           "gridcolor": "white",
           "linecolor": "white",
           "ticks": "",
           "title": {
            "standoff": 15
           },
           "zerolinecolor": "white",
           "zerolinewidth": 2
          }
         }
        },
        "title": {
         "text": "Time Series of Tempo and Key based on Release Date"
        },
        "xaxis": {
         "anchor": "y",
         "domain": [
          0,
          1
         ],
         "title": {
          "text": "Release Date"
         }
        },
        "yaxis": {
         "anchor": "x",
         "domain": [
          0,
          1
         ],
         "title": {
          "text": "Tempo (BPM)"
         }
        }
       }
      }
     },
     "metadata": {},
     "output_type": "display_data"
    }
   ],
   "source": [
    "fig = px.scatter(df, x='Release Date', y='Tempo', color='Key', hover_name='Track Name', \n",
    "                 title='Time Series of Tempo and Key based on Release Date', \n",
    "                 labels={'Tempo': 'Tempo (BPM)', 'Release Date': 'Release Date', 'Key': 'Key'})\n",
    "\n",
    "# Customize the layout\n",
    "fig.update_traces(marker=dict(size=8, opacity=0.7),\n",
    "                  selector=dict(mode='markers'))\n",
    "\n",
    "# Show the plot\n",
    "fig.show()"
   ]
  },
  {
   "attachments": {},
   "cell_type": "markdown",
   "metadata": {},
   "source": [
    "I should have seen that coming because the releases are not continuous. The songs come as part of albums which take a few years to develop. \n",
    "Also, the band broke up in 1974 so everything after that was either a rerelease, remastered or live compilations and so on.\n",
    "Which means that there are repetitions in the song (also the interactive plotly visualization shows this when I hover over a few tracks)."
   ]
  },
  {
   "attachments": {},
   "cell_type": "markdown",
   "metadata": {},
   "source": [
    "So I filter the dataset by songs before their breakup."
   ]
  },
  {
   "cell_type": "code",
   "execution_count": 13,
   "metadata": {},
   "outputs": [],
   "source": [
    "df2 = df[df['Release Date'].dt.year < 1975]"
   ]
  },
  {
   "cell_type": "code",
   "execution_count": 15,
   "metadata": {},
   "outputs": [
    {
     "data": {
      "application/vnd.plotly.v1+json": {
       "config": {
        "plotlyServerURL": "https://plot.ly"
       },
       "data": [
        {
         "customdata": [
          [
           "Sgt. Pepper's Lonely Hearts Club Band (Super Deluxe Edition)"
          ],
          [
           "Sgt. Pepper's Lonely Hearts Club Band (Super Deluxe Edition)"
          ],
          [
           "Sgt. Pepper's Lonely Hearts Club Band (Super Deluxe Edition)"
          ],
          [
           "Sgt. Pepper's Lonely Hearts Club Band (Super Deluxe Edition)"
          ],
          [
           "Sgt. Pepper's Lonely Hearts Club Band (Super Deluxe Edition)"
          ],
          [
           "Sgt. Pepper's Lonely Hearts Club Band (Super Deluxe Edition)"
          ],
          [
           "Sgt. Pepper's Lonely Hearts Club Band (Super Deluxe Edition)"
          ],
          [
           "Sgt. Pepper's Lonely Hearts Club Band (Super Deluxe Edition)"
          ],
          [
           "Sgt. Pepper's Lonely Hearts Club Band (Super Deluxe Edition)"
          ],
          [
           "Sgt. Pepper's Lonely Hearts Club Band (Super Deluxe Edition)"
          ],
          [
           "Sgt. Pepper's Lonely Hearts Club Band (Super Deluxe Edition)"
          ],
          [
           "Sgt. Pepper's Lonely Hearts Club Band (Super Deluxe Edition)"
          ],
          [
           "Sgt. Pepper's Lonely Hearts Club Band (Super Deluxe Edition)"
          ],
          [
           "Sgt. Pepper's Lonely Hearts Club Band (Super Deluxe Edition)"
          ],
          [
           "Sgt. Pepper's Lonely Hearts Club Band (Super Deluxe Edition)"
          ],
          [
           "Sgt. Pepper's Lonely Hearts Club Band (Super Deluxe Edition)"
          ],
          [
           "Sgt. Pepper's Lonely Hearts Club Band (Super Deluxe Edition)"
          ],
          [
           "Sgt. Pepper's Lonely Hearts Club Band (Super Deluxe Edition)"
          ],
          [
           "Sgt. Pepper's Lonely Hearts Club Band (Super Deluxe Edition)"
          ],
          [
           "Sgt. Pepper's Lonely Hearts Club Band (Super Deluxe Edition)"
          ],
          [
           "Sgt. Pepper's Lonely Hearts Club Band (Super Deluxe Edition)"
          ],
          [
           "Sgt. Pepper's Lonely Hearts Club Band (Super Deluxe Edition)"
          ],
          [
           "Sgt. Pepper's Lonely Hearts Club Band (Super Deluxe Edition)"
          ],
          [
           "Sgt. Pepper's Lonely Hearts Club Band (Super Deluxe Edition)"
          ],
          [
           "Sgt. Pepper's Lonely Hearts Club Band (Super Deluxe Edition)"
          ],
          [
           "Sgt. Pepper's Lonely Hearts Club Band (Super Deluxe Edition)"
          ],
          [
           "Sgt. Pepper's Lonely Hearts Club Band (Super Deluxe Edition)"
          ],
          [
           "Sgt. Pepper's Lonely Hearts Club Band (Super Deluxe Edition)"
          ],
          [
           "Sgt. Pepper's Lonely Hearts Club Band (Super Deluxe Edition)"
          ],
          [
           "Sgt. Pepper's Lonely Hearts Club Band (Super Deluxe Edition)"
          ],
          [
           "Sgt. Pepper's Lonely Hearts Club Band (Super Deluxe Edition)"
          ],
          [
           "Sgt. Pepper's Lonely Hearts Club Band (Super Deluxe Edition)"
          ],
          [
           "Sgt. Pepper's Lonely Hearts Club Band (Super Deluxe Edition)"
          ],
          [
           "Sgt. Pepper's Lonely Hearts Club Band (Super Deluxe Edition)"
          ],
          [
           "Sgt. Pepper's Lonely Hearts Club Band (Super Deluxe Edition)"
          ],
          [
           "Sgt. Pepper's Lonely Hearts Club Band (Super Deluxe Edition)"
          ],
          [
           "Sgt. Pepper's Lonely Hearts Club Band (Super Deluxe Edition)"
          ],
          [
           "Sgt. Pepper's Lonely Hearts Club Band (Super Deluxe Edition)"
          ],
          [
           "Sgt. Pepper's Lonely Hearts Club Band (Super Deluxe Edition)"
          ],
          [
           "Sgt. Pepper's Lonely Hearts Club Band (Super Deluxe Edition)"
          ],
          [
           "Sgt. Pepper's Lonely Hearts Club Band (Super Deluxe Edition)"
          ],
          [
           "Sgt. Pepper's Lonely Hearts Club Band (Super Deluxe Edition)"
          ],
          [
           "Sgt. Pepper's Lonely Hearts Club Band (Super Deluxe Edition)"
          ],
          [
           "Sgt. Pepper's Lonely Hearts Club Band (Super Deluxe Edition)"
          ],
          [
           "Sgt. Pepper's Lonely Hearts Club Band (Super Deluxe Edition)"
          ],
          [
           "Sgt. Pepper's Lonely Hearts Club Band (Super Deluxe Edition)"
          ],
          [
           "Sgt. Pepper's Lonely Hearts Club Band (Super Deluxe Edition)"
          ],
          [
           "Sgt. Pepper's Lonely Hearts Club Band (Super Deluxe Edition)"
          ],
          [
           "Sgt. Pepper's Lonely Hearts Club Band (Super Deluxe Edition)"
          ],
          [
           "Sgt. Pepper's Lonely Hearts Club Band (Super Deluxe Edition)"
          ],
          [
           "Sgt. Pepper's Lonely Hearts Club Band (Deluxe Edition)"
          ],
          [
           "Sgt. Pepper's Lonely Hearts Club Band (Deluxe Edition)"
          ],
          [
           "Sgt. Pepper's Lonely Hearts Club Band (Deluxe Edition)"
          ],
          [
           "Sgt. Pepper's Lonely Hearts Club Band (Deluxe Edition)"
          ],
          [
           "Sgt. Pepper's Lonely Hearts Club Band (Deluxe Edition)"
          ],
          [
           "Sgt. Pepper's Lonely Hearts Club Band (Deluxe Edition)"
          ],
          [
           "Sgt. Pepper's Lonely Hearts Club Band (Remastered)"
          ],
          [
           "Sgt. Pepper's Lonely Hearts Club Band (Deluxe Edition)"
          ],
          [
           "Sgt. Pepper's Lonely Hearts Club Band (Remastered)"
          ],
          [
           "Sgt. Pepper's Lonely Hearts Club Band (Remastered)"
          ],
          [
           "Sgt. Pepper's Lonely Hearts Club Band (Remastered)"
          ],
          [
           "Sgt. Pepper's Lonely Hearts Club Band (Remastered)"
          ],
          [
           "Sgt. Pepper's Lonely Hearts Club Band (Remastered)"
          ],
          [
           "Sgt. Pepper's Lonely Hearts Club Band (Remastered)"
          ],
          [
           "Sgt. Pepper's Lonely Hearts Club Band (Remastered)"
          ],
          [
           "Sgt. Pepper's Lonely Hearts Club Band (Remastered)"
          ],
          [
           "Sgt. Pepper's Lonely Hearts Club Band (Remastered)"
          ],
          [
           "Sgt. Pepper's Lonely Hearts Club Band (Remastered)"
          ],
          [
           "Sgt. Pepper's Lonely Hearts Club Band (Deluxe Edition)"
          ],
          [
           "Sgt. Pepper's Lonely Hearts Club Band (Remastered)"
          ],
          [
           "Sgt. Pepper's Lonely Hearts Club Band (Deluxe Edition)"
          ],
          [
           "Sgt. Pepper's Lonely Hearts Club Band (Remastered)"
          ],
          [
           "Sgt. Pepper's Lonely Hearts Club Band (Deluxe Edition)"
          ],
          [
           "Sgt. Pepper's Lonely Hearts Club Band (Deluxe Edition)"
          ],
          [
           "Sgt. Pepper's Lonely Hearts Club Band (Deluxe Edition)"
          ],
          [
           "Sgt. Pepper's Lonely Hearts Club Band (Deluxe Edition)"
          ],
          [
           "Sgt. Pepper's Lonely Hearts Club Band (Deluxe Edition)"
          ],
          [
           "Sgt. Pepper's Lonely Hearts Club Band (Deluxe Edition)"
          ],
          [
           "Sgt. Pepper's Lonely Hearts Club Band (Deluxe Edition)"
          ],
          [
           "Sgt. Pepper's Lonely Hearts Club Band (Deluxe Edition)"
          ],
          [
           "Sgt. Pepper's Lonely Hearts Club Band (Deluxe Edition)"
          ],
          [
           "Sgt. Pepper's Lonely Hearts Club Band (Deluxe Edition)"
          ],
          [
           "Sgt. Pepper's Lonely Hearts Club Band (Deluxe Edition)"
          ],
          [
           "Sgt. Pepper's Lonely Hearts Club Band (Deluxe Edition)"
          ],
          [
           "Sgt. Pepper's Lonely Hearts Club Band (Deluxe Edition)"
          ],
          [
           "Sgt. Pepper's Lonely Hearts Club Band (Deluxe Edition)"
          ],
          [
           "Sgt. Pepper's Lonely Hearts Club Band (Deluxe Edition)"
          ],
          [
           "Sgt. Pepper's Lonely Hearts Club Band (Deluxe Edition)"
          ],
          [
           "Sgt. Pepper's Lonely Hearts Club Band (Deluxe Edition)"
          ],
          [
           "Sgt. Pepper's Lonely Hearts Club Band (Deluxe Edition)"
          ],
          [
           "Sgt. Pepper's Lonely Hearts Club Band (Deluxe Edition)"
          ],
          [
           "Sgt. Pepper's Lonely Hearts Club Band (Deluxe Edition)"
          ],
          [
           "Sgt. Pepper's Lonely Hearts Club Band (Deluxe Edition)"
          ],
          [
           "Sgt. Pepper's Lonely Hearts Club Band (Deluxe Edition)"
          ],
          [
           "Magical Mystery Tour (Remastered)"
          ],
          [
           "Magical Mystery Tour (Remastered)"
          ],
          [
           "Magical Mystery Tour (Remastered)"
          ],
          [
           "Magical Mystery Tour (Remastered)"
          ],
          [
           "Magical Mystery Tour (Remastered)"
          ],
          [
           "Magical Mystery Tour (Remastered)"
          ],
          [
           "Magical Mystery Tour (Remastered)"
          ],
          [
           "Magical Mystery Tour (Remastered)"
          ],
          [
           "Magical Mystery Tour (Remastered)"
          ],
          [
           "Magical Mystery Tour (Remastered)"
          ],
          [
           "Magical Mystery Tour (Remastered)"
          ],
          [
           "The Beatles (Remastered)"
          ],
          [
           "The Beatles (Remastered)"
          ],
          [
           "The Beatles (Remastered)"
          ],
          [
           "The Beatles (Remastered)"
          ],
          [
           "The Beatles (Remastered)"
          ],
          [
           "The Beatles (Remastered)"
          ],
          [
           "The Beatles (Remastered)"
          ],
          [
           "The Beatles (Remastered)"
          ],
          [
           "The Beatles (Remastered)"
          ],
          [
           "The Beatles (Remastered)"
          ],
          [
           "The Beatles (Remastered)"
          ],
          [
           "The Beatles (Remastered)"
          ],
          [
           "The Beatles (Remastered)"
          ],
          [
           "The Beatles (Remastered)"
          ],
          [
           "The Beatles (Remastered)"
          ],
          [
           "The Beatles (Remastered)"
          ],
          [
           "The Beatles (Remastered)"
          ],
          [
           "The Beatles (Remastered)"
          ],
          [
           "The Beatles (Remastered)"
          ],
          [
           "The Beatles (Remastered)"
          ],
          [
           "The Beatles (Remastered)"
          ],
          [
           "The Beatles (Remastered)"
          ],
          [
           "The Beatles (Remastered)"
          ],
          [
           "The Beatles (Remastered)"
          ],
          [
           "The Beatles (Remastered)"
          ],
          [
           "The Beatles (Remastered)"
          ],
          [
           "The Beatles (Remastered)"
          ],
          [
           "The Beatles (Remastered)"
          ],
          [
           "The Beatles (Remastered)"
          ],
          [
           "The Beatles (Remastered)"
          ],
          [
           "Yellow Submarine (Remastered)"
          ],
          [
           "Yellow Submarine (Remastered)"
          ],
          [
           "Yellow Submarine (Remastered)"
          ],
          [
           "Yellow Submarine (Remastered)"
          ],
          [
           "Yellow Submarine (Remastered)"
          ],
          [
           "Yellow Submarine (Remastered)"
          ],
          [
           "Yellow Submarine (Remastered)"
          ],
          [
           "Yellow Submarine (Remastered)"
          ],
          [
           "Yellow Submarine (Remastered)"
          ],
          [
           "Yellow Submarine (Remastered)"
          ],
          [
           "Yellow Submarine (Remastered)"
          ],
          [
           "Yellow Submarine (Remastered)"
          ],
          [
           "Yellow Submarine (Remastered)"
          ],
          [
           "Abbey Road (Remastered)"
          ],
          [
           "Abbey Road (Remastered)"
          ],
          [
           "Abbey Road (Remastered)"
          ],
          [
           "Abbey Road (Remastered)"
          ],
          [
           "Abbey Road (Remastered)"
          ],
          [
           "Abbey Road (Remastered)"
          ],
          [
           "Abbey Road (Remastered)"
          ],
          [
           "Abbey Road (Remastered)"
          ],
          [
           "Abbey Road (Remastered)"
          ],
          [
           "Abbey Road (Remastered)"
          ],
          [
           "Abbey Road (Remastered)"
          ],
          [
           "Abbey Road (Remastered)"
          ],
          [
           "Abbey Road (Remastered)"
          ],
          [
           "Abbey Road (Remastered)"
          ],
          [
           "Abbey Road (Remastered)"
          ],
          [
           "Abbey Road (Remastered)"
          ],
          [
           "Abbey Road (Remastered)"
          ],
          [
           "Let It Be (Remastered)"
          ],
          [
           "Let It Be (Remastered)"
          ],
          [
           "Let It Be (Remastered)"
          ],
          [
           "Let It Be (Remastered)"
          ],
          [
           "Let It Be (Remastered)"
          ],
          [
           "Let It Be (Remastered)"
          ],
          [
           "Let It Be (Remastered)"
          ],
          [
           "Let It Be (Remastered)"
          ],
          [
           "Let It Be (Remastered)"
          ],
          [
           "Let It Be (Remastered)"
          ],
          [
           "Let It Be (Remastered)"
          ],
          [
           "Let It Be (Remastered)"
          ]
         ],
         "hovertemplate": "<b>%{hovertext}</b><br><br>Release Date=%{x}<br>Tempo (BPM)=%{y}<br>Album Name=%{customdata[0]}<br>Key=%{marker.color}<extra></extra>",
         "hovertext": [
          "Getting Better",
          "Penny Lane - Stereo Mix 2017",
          "Penny Lane - Vocal Overdubs And Speech",
          "Penny Lane - Take 6 / Instrumental",
          "When I'm Sixty-Four - Take 2",
          "Strawberry Fields Forever - Stereo Mix 2015",
          "Strawberry Fields Forever - Take 26",
          "Strawberry Fields Forever - Take 7",
          "Strawberry Fields Forever - Take 4",
          "Strawberry Fields Forever - Take 1",
          "A Day In The Life - Remix",
          "A Day In The Life - Take 1",
          "Sgt. Pepper's Lonely Hearts Club Band (Reprise) - Remix",
          "Lovely Rita - Remix",
          "When I'm Sixty-Four - Remix",
          "Within You Without You - Remastered 2017",
          "Being For The Benefit Of Mr. Kite! - Remix",
          "She's Leaving Home - Remix",
          "Fixing A Hole - Remix",
          "Getting Better - Remix",
          "Lucy In The Sky With Diamonds - Remastered 2017",
          "With A Little Help From My Friends - Remastered 2017",
          "Sgt. Pepper's Lonely Hearts Club Band - Remastered 2017",
          "Good Morning Good Morning - Remix",
          "A Day In The Life - Take 2",
          "Lucy In The Sky With Diamonds",
          "A Day In The Life - Hummed Last Chord / Takes 8, 9, 10 And 11",
          "A Day In The Life - Orchestra Overdub",
          "Sgt Pepper's Lonely Hearts Club Band",
          "Sgt. Pepper's Lonely Hearts Club Band (Reprise) - Speech And Take 8",
          "With A Little Help From My Friends - Take 1 / False Start And Take 2 / Instrumental",
          "She's Leaving Home - Take 6 / Instrumental",
          "She's Leaving Home - Take 1 / Instrumental",
          "Within You Without You - George Coaching The Musicians",
          "Within You Without You - Take 1 / Indian Instruments",
          "Getting Better - Take 12",
          "Getting Better - Take 1 / Instrumental And Speech At The End",
          "Lucy In The Sky With Diamonds - Speech, False Start And Take 5",
          "With A Little Help From My Friends",
          "Lovely Rita - Speech And Take 9",
          "Being For The Benefit Of Mr. Kite! - Take 7",
          "Being For The Benefit Of Mr. Kite! - Speech From Before Take 1 / Take 4 And Speech At End",
          "Fixing A Hole - Speech And Take 3",
          "Fixing A Hole - Take 1",
          "Good Morning Good Morning - Take 8",
          "Good Morning Good Morning - Take 1 / Instrumental Breakdown",
          "Sgt. Pepper's Lonely Hearts Club Band - Take 9 And Speech",
          "Sgt. Pepper's Lonely Hearts Club Band - Take 1 / Instrumental",
          "A Day In The Life - The Last Chord",
          "Lucy In The Sky With Diamonds - Take 1 And Speech At The End",
          "Sgt. Pepper's Lonely Hearts Club Band - Remix",
          "With A Little Help From My Friends - Remix",
          "Lucy In The Sky With Diamonds - Remix",
          "Being For The Benefit Of Mr. Kite! - Remix",
          "Fixing A Hole - Remix",
          "She's Leaving Home - Remix",
          "A Day In The Life - Remastered 2009",
          "Getting Better - Remix",
          "Sgt. Pepper's Lonely Hearts Club Band - Reprise / Remastered 2009",
          "She's Leaving Home - Remastered 2009",
          "Lovely Rita - Remastered 2009",
          "When I'm Sixty Four - Remastered 2009",
          "Within You Without You - Remastered 2009",
          "Being For The Benefit Of Mr. Kite! - Remastered 2009",
          "Fixing A Hole - Remastered 2009",
          "Getting Better - Remastered 2009",
          "With A Little Help From My Friends - Remastered 2009",
          "Sgt. Pepper's Lonely Hearts Club Band - Remastered 2009",
          "Within You Without You - Remix",
          "Good Morning Good Morning - Remastered 2009",
          "When I'm Sixty-Four - Remix",
          "Lucy In The Sky With Diamonds - Remastered 2009",
          "Good Morning Good Morning - Remix",
          "Lovely Rita - Remix",
          "Penny Lane - Take 6 / Instrumental",
          "Strawberry Fields Forever - Stereo Mix 2015",
          "Penny Lane - Stereo Mix 2017",
          "Strawberry Fields Forever - Take 26",
          "Strawberry Fields Forever - Take 7",
          "A Day In The Life - Take 1 With Hums",
          "Sgt. Pepper's Lonely Hearts Club Band (Reprise) - Speech And Take 8",
          "Lovely Rita - Speech And Take 9",
          "When I'm Sixty-Four - Take 2",
          "Good Morning Good Morning - Take 8",
          "Being For The Benefit Of Mr. Kite! - Take 4",
          "She's Leaving Home - Take 1 / Instrumental",
          "Fixing A Hole - Speech And Take 3",
          "Getting Better - Take 1 / Instrumental And Speech At The End",
          "Lucy In The Sky With Diamonds - Take 1",
          "With A Little Help From My Friends - Take 1 / False Start And Take 2 / Instrumental",
          "Sgt. Pepper's Lonely Hearts Club Band - Take 9 And Speech",
          "A Day In The Life - Remix",
          "Sgt. Pepper's Lonely Hearts Club Band (Reprise) - Remix",
          "Within You Without You - Take 1 / Indian Instruments",
          "Blue Jay Way - Remastered 2009",
          "Magical Mystery Tour - Remastered 2009",
          "The Fool On The Hill - Remastered 2009",
          "Flying - Remastered 2009",
          "Your Mother Should Know - Remastered 2009",
          "Penny Lane - Remastered 2009",
          "Hello, Goodbye - Remastered 2009",
          "Strawberry Fields Forever - Remastered 2009",
          "Baby, You're A Rich Man - Remastered 2009",
          "All You Need Is Love - Remastered 2009",
          "I Am The Walrus - Remastered 2009",
          "Piggies - Remastered 2009",
          "Blackbird - Remastered 2009",
          "I'm So Tired - Remastered 2009",
          "Martha My Dear - Remastered 2009",
          "Happiness Is A Warm Gun - Remastered 2009",
          "The Continuing Story Of Bungalow Bill - Remastered 2009",
          "Wild Honey Pie - Remastered 2009",
          "Ob-La-Di, Ob-La-Da - Remastered 2009",
          "Glass Onion - Remastered 2009",
          "Dear Prudence - Remastered 2009",
          "Back In The U.S.S.R. - Remastered 2009",
          "Rocky Raccoon - Remastered 2009",
          "While My Guitar Gently Weeps - Remastered 2009",
          "Don't Pass Me By - Remastered 2009",
          "Everybody's Got Something To Hide Except Me And My Monkey - Remastered 2009",
          "I Will - Remastered 2009",
          "Why Don't We Do It In The Road? - Remastered 2009",
          "Good Night - Remastered 2009",
          "Revolution 9 - Remastered 2009",
          "Cry Baby Cry - Remastered 2009",
          "Honey Pie - Remastered 2009",
          "Revolution 1 - Remastered 2009",
          "Savoy Truffle - Remastered 2009",
          "Helter Skelter - Remastered 2009",
          "Sexy Sadie - Remastered 2009",
          "Mother Nature's Son - Remastered 2009",
          "Yer Blues - Remastered 2009",
          "Birthday - Remastered 2009",
          "Julia - Remastered 2009",
          "Long, Long, Long - Remastered 2009",
          "It's All Too Much - Remastered 2009",
          "Yellow Submarine - Remastered 2009",
          "Only A Northern Song - Remastered 2009",
          "All Together Now - Remastered 2009",
          "Hey Bulldog - Remastered 2009",
          "All You Need Is Love - Remastered 2009",
          "Sea Of Monsters - Remastered 2009",
          "Sea Of Time - Remastered 2009",
          "Sea Of Holes - Remastered 2009",
          "March Of The Meanies - Remastered 2009",
          "Pepperland Laid Waste - Remastered 2009",
          "Yellow Submarine In Pepperland - Remastered 2009",
          "Pepperland - Remastered 2009",
          "Come Together - Remastered 2009",
          "Something - Remastered 2009",
          "Here Comes The Sun - Remastered 2009",
          "Oh! Darling - Remastered 2009",
          "Octopus's Garden - Remastered 2009",
          "I Want You (She's So Heavy) - Remastered 2009",
          "Because - Remastered 2009",
          "Maxwell's Silver Hammer - Remastered 2009",
          "Sun King - Remastered 2009",
          "You Never Give Me Your Money - Remastered 2009",
          "Her Majesty - Remastered 2009",
          "Carry That Weight - Remastered 2009",
          "The End - Remastered 2009",
          "She Came In Through The Bathroom Window - Remastered 2009",
          "Golden Slumbers - Remastered 2009",
          "Polythene Pam - Remastered 2009",
          "Mean Mr Mustard - Remastered 2009",
          "Two Of Us - Remastered 2009",
          "Across The Universe - Remastered 2009",
          "I Me Mine - Remastered 2009",
          "Dig It - Remastered 2009",
          "Let It Be - Remastered 2009",
          "Dig A Pony - Remastered 2009",
          "I've Got A Feeling - Remastered 2009",
          "One After 909 - Remastered 2009",
          "The Long And Winding Road - Remastered 2009",
          "For You Blue - Remastered 2009",
          "Get Back - Remastered 2009",
          "Maggie Mae - Remastered 2009"
         ],
         "legendgroup": "",
         "marker": {
          "color": [
           0,
           9,
           7,
           0,
           7,
           10,
           0,
           9,
           10,
           0,
           4,
           4,
           0,
           8,
           8,
           6,
           9,
           0,
           0,
           0,
           11,
           1,
           7,
           2,
           4,
           2,
           9,
           7,
           7,
           0,
           6,
           4,
           4,
           5,
           5,
           0,
           0,
           2,
           4,
           4,
           0,
           0,
           5,
           5,
           2,
           7,
           0,
           7,
           4,
           2,
           7,
           4,
           2,
           9,
           0,
           0,
           4,
           0,
           0,
           4,
           8,
           1,
           6,
           0,
           0,
           0,
           4,
           7,
           6,
           2,
           8,
           2,
           2,
           8,
           0,
           10,
           9,
           0,
           5,
           4,
           0,
           4,
           7,
           2,
           0,
           4,
           5,
           0,
           2,
           6,
           0,
           4,
           0,
           5,
           0,
           9,
           4,
           0,
           0,
           9,
           0,
           10,
           7,
           7,
           2,
           8,
           7,
           9,
           10,
           9,
           0,
           2,
           10,
           7,
           7,
           9,
           7,
           4,
           0,
           2,
           5,
           2,
           7,
           2,
           9,
           7,
           9,
           11,
           9,
           0,
           2,
           9,
           2,
           2,
           5,
           7,
           1,
           9,
           2,
           7,
           7,
           9,
           2,
           6,
           9,
           8,
           7,
           7,
           9,
           0,
           9,
           4,
           1,
           2,
           2,
           2,
           2,
           0,
           2,
           0,
           11,
           2,
           0,
           11,
           4,
           7,
           1,
           9,
           5,
           0,
           11,
           2,
           4,
           3,
           2,
           2,
           2
          ],
          "coloraxis": "coloraxis",
          "opacity": 0.7,
          "size": 8,
          "symbol": "circle"
         },
         "mode": "markers",
         "name": "",
         "orientation": "v",
         "showlegend": false,
         "type": "scatter",
         "x": [
          "1967-05-26T00:00:00",
          "1967-05-26T00:00:00",
          "1967-05-26T00:00:00",
          "1967-05-26T00:00:00",
          "1967-05-26T00:00:00",
          "1967-05-26T00:00:00",
          "1967-05-26T00:00:00",
          "1967-05-26T00:00:00",
          "1967-05-26T00:00:00",
          "1967-05-26T00:00:00",
          "1967-05-26T00:00:00",
          "1967-05-26T00:00:00",
          "1967-05-26T00:00:00",
          "1967-05-26T00:00:00",
          "1967-05-26T00:00:00",
          "1967-05-26T00:00:00",
          "1967-05-26T00:00:00",
          "1967-05-26T00:00:00",
          "1967-05-26T00:00:00",
          "1967-05-26T00:00:00",
          "1967-05-26T00:00:00",
          "1967-05-26T00:00:00",
          "1967-05-26T00:00:00",
          "1967-05-26T00:00:00",
          "1967-05-26T00:00:00",
          "1967-05-26T00:00:00",
          "1967-05-26T00:00:00",
          "1967-05-26T00:00:00",
          "1967-05-26T00:00:00",
          "1967-05-26T00:00:00",
          "1967-05-26T00:00:00",
          "1967-05-26T00:00:00",
          "1967-05-26T00:00:00",
          "1967-05-26T00:00:00",
          "1967-05-26T00:00:00",
          "1967-05-26T00:00:00",
          "1967-05-26T00:00:00",
          "1967-05-26T00:00:00",
          "1967-05-26T00:00:00",
          "1967-05-26T00:00:00",
          "1967-05-26T00:00:00",
          "1967-05-26T00:00:00",
          "1967-05-26T00:00:00",
          "1967-05-26T00:00:00",
          "1967-05-26T00:00:00",
          "1967-05-26T00:00:00",
          "1967-05-26T00:00:00",
          "1967-05-26T00:00:00",
          "1967-05-26T00:00:00",
          "1967-05-26T00:00:00",
          "1967-06-01T00:00:00",
          "1967-06-01T00:00:00",
          "1967-06-01T00:00:00",
          "1967-06-01T00:00:00",
          "1967-06-01T00:00:00",
          "1967-06-01T00:00:00",
          "1967-06-01T00:00:00",
          "1967-06-01T00:00:00",
          "1967-06-01T00:00:00",
          "1967-06-01T00:00:00",
          "1967-06-01T00:00:00",
          "1967-06-01T00:00:00",
          "1967-06-01T00:00:00",
          "1967-06-01T00:00:00",
          "1967-06-01T00:00:00",
          "1967-06-01T00:00:00",
          "1967-06-01T00:00:00",
          "1967-06-01T00:00:00",
          "1967-06-01T00:00:00",
          "1967-06-01T00:00:00",
          "1967-06-01T00:00:00",
          "1967-06-01T00:00:00",
          "1967-06-01T00:00:00",
          "1967-06-01T00:00:00",
          "1967-06-01T00:00:00",
          "1967-06-01T00:00:00",
          "1967-06-01T00:00:00",
          "1967-06-01T00:00:00",
          "1967-06-01T00:00:00",
          "1967-06-01T00:00:00",
          "1967-06-01T00:00:00",
          "1967-06-01T00:00:00",
          "1967-06-01T00:00:00",
          "1967-06-01T00:00:00",
          "1967-06-01T00:00:00",
          "1967-06-01T00:00:00",
          "1967-06-01T00:00:00",
          "1967-06-01T00:00:00",
          "1967-06-01T00:00:00",
          "1967-06-01T00:00:00",
          "1967-06-01T00:00:00",
          "1967-06-01T00:00:00",
          "1967-06-01T00:00:00",
          "1967-06-01T00:00:00",
          "1967-11-27T00:00:00",
          "1967-11-27T00:00:00",
          "1967-11-27T00:00:00",
          "1967-11-27T00:00:00",
          "1967-11-27T00:00:00",
          "1967-11-27T00:00:00",
          "1967-11-27T00:00:00",
          "1967-11-27T00:00:00",
          "1967-11-27T00:00:00",
          "1967-11-27T00:00:00",
          "1967-11-27T00:00:00",
          "1968-11-22T00:00:00",
          "1968-11-22T00:00:00",
          "1968-11-22T00:00:00",
          "1968-11-22T00:00:00",
          "1968-11-22T00:00:00",
          "1968-11-22T00:00:00",
          "1968-11-22T00:00:00",
          "1968-11-22T00:00:00",
          "1968-11-22T00:00:00",
          "1968-11-22T00:00:00",
          "1968-11-22T00:00:00",
          "1968-11-22T00:00:00",
          "1968-11-22T00:00:00",
          "1968-11-22T00:00:00",
          "1968-11-22T00:00:00",
          "1968-11-22T00:00:00",
          "1968-11-22T00:00:00",
          "1968-11-22T00:00:00",
          "1968-11-22T00:00:00",
          "1968-11-22T00:00:00",
          "1968-11-22T00:00:00",
          "1968-11-22T00:00:00",
          "1968-11-22T00:00:00",
          "1968-11-22T00:00:00",
          "1968-11-22T00:00:00",
          "1968-11-22T00:00:00",
          "1968-11-22T00:00:00",
          "1968-11-22T00:00:00",
          "1968-11-22T00:00:00",
          "1968-11-22T00:00:00",
          "1969-01-17T00:00:00",
          "1969-01-17T00:00:00",
          "1969-01-17T00:00:00",
          "1969-01-17T00:00:00",
          "1969-01-17T00:00:00",
          "1969-01-17T00:00:00",
          "1969-01-17T00:00:00",
          "1969-01-17T00:00:00",
          "1969-01-17T00:00:00",
          "1969-01-17T00:00:00",
          "1969-01-17T00:00:00",
          "1969-01-17T00:00:00",
          "1969-01-17T00:00:00",
          "1969-09-26T00:00:00",
          "1969-09-26T00:00:00",
          "1969-09-26T00:00:00",
          "1969-09-26T00:00:00",
          "1969-09-26T00:00:00",
          "1969-09-26T00:00:00",
          "1969-09-26T00:00:00",
          "1969-09-26T00:00:00",
          "1969-09-26T00:00:00",
          "1969-09-26T00:00:00",
          "1969-09-26T00:00:00",
          "1969-09-26T00:00:00",
          "1969-09-26T00:00:00",
          "1969-09-26T00:00:00",
          "1969-09-26T00:00:00",
          "1969-09-26T00:00:00",
          "1969-09-26T00:00:00",
          "1970-05-08T00:00:00",
          "1970-05-08T00:00:00",
          "1970-05-08T00:00:00",
          "1970-05-08T00:00:00",
          "1970-05-08T00:00:00",
          "1970-05-08T00:00:00",
          "1970-05-08T00:00:00",
          "1970-05-08T00:00:00",
          "1970-05-08T00:00:00",
          "1970-05-08T00:00:00",
          "1970-05-08T00:00:00",
          "1970-05-08T00:00:00"
         ],
         "xaxis": "x",
         "y": [
          121.904,
          112.921,
          113.267,
          120.775,
          132.619,
          97.965,
          110.792,
          178.787,
          90.754,
          96.261,
          79.935,
          84.655,
          118.769,
          87.479,
          138.425,
          125.07,
          83.149,
          132.105,
          112.618,
          121.949,
          132.537,
          112.311,
          95.302,
          121.624,
          76.521,
          190.968,
          152.329,
          83.105,
          95.711,
          119.302,
          111.378,
          129.005,
          128.584,
          119.292,
          120.037,
          122.268,
          127.533,
          132.659,
          112.294,
          90.553,
          112.449,
          111.935,
          117.871,
          114.662,
          121.715,
          122.98,
          95.664,
          97.846,
          71.937,
          134.224,
          95.114,
          112.057,
          137.423,
          83.339,
          111.667,
          130.97,
          163.219,
          121.959,
          118.773,
          127.581,
          87.379,
          140.411,
          126.166,
          111.874,
          112.984,
          121.672,
          112.035,
          95.513,
          124.251,
          121.849,
          138.256,
          65.09,
          121.517,
          86.822,
          120.735,
          95.797,
          112.931,
          110.629,
          179.328,
          162.502,
          119.285,
          180.847,
          132.627,
          121.741,
          111.097,
          128.506,
          115.28,
          127.521,
          97.058,
          111.363,
          95.695,
          80.724,
          118.758,
          120.234,
          101.052,
          170.962,
          144.184,
          92.929,
          117.613,
          113.038,
          99.307,
          97.871,
          96.751,
          103.436,
          85.206,
          93.245,
          93.699,
          68.492,
          177.624,
          139.288,
          114.816,
          89.9,
          113.059,
          120.432,
          150.721,
          142.489,
          79.456,
          115,
          84.895,
          117.089,
          103.11,
          187.688,
          146.408,
          91.158,
          76.644,
          144.197,
          98.425,
          120.761,
          167.518,
          75.478,
          84.78,
          151.766,
          139.239,
          134.706,
          104.837,
          113.511,
          110.849,
          209.242,
          95.937,
          100.495,
          103.103,
          83.971,
          128.054,
          118.99,
          117.185,
          82.423,
          105.345,
          113.126,
          165.007,
          133.522,
          129.171,
          173.93,
          92.225,
          115.732,
          81.257,
          131.12,
          74.994,
          174.464,
          100.874,
          84.319,
          123.444,
          80.652,
          80.608,
          166.829,
          100.687,
          109.114,
          152.126,
          185.235,
          157.03,
          143.462,
          59.004,
          165.156,
          90.95,
          132.282,
          128.542,
          123.095,
          169.039
         ],
         "yaxis": "y"
        }
       ],
       "layout": {
        "coloraxis": {
         "colorbar": {
          "title": {
           "text": "Key"
          }
         },
         "colorscale": [
          [
           0,
           "#0d0887"
          ],
          [
           0.1111111111111111,
           "#46039f"
          ],
          [
           0.2222222222222222,
           "#7201a8"
          ],
          [
           0.3333333333333333,
           "#9c179e"
          ],
          [
           0.4444444444444444,
           "#bd3786"
          ],
          [
           0.5555555555555556,
           "#d8576b"
          ],
          [
           0.6666666666666666,
           "#ed7953"
          ],
          [
           0.7777777777777778,
           "#fb9f3a"
          ],
          [
           0.8888888888888888,
           "#fdca26"
          ],
          [
           1,
           "#f0f921"
          ]
         ]
        },
        "legend": {
         "tracegroupgap": 0
        },
        "template": {
         "data": {
          "bar": [
           {
            "error_x": {
             "color": "#2a3f5f"
            },
            "error_y": {
             "color": "#2a3f5f"
            },
            "marker": {
             "line": {
              "color": "#E5ECF6",
              "width": 0.5
             },
             "pattern": {
              "fillmode": "overlay",
              "size": 10,
              "solidity": 0.2
             }
            },
            "type": "bar"
           }
          ],
          "barpolar": [
           {
            "marker": {
             "line": {
              "color": "#E5ECF6",
              "width": 0.5
             },
             "pattern": {
              "fillmode": "overlay",
              "size": 10,
              "solidity": 0.2
             }
            },
            "type": "barpolar"
           }
          ],
          "carpet": [
           {
            "aaxis": {
             "endlinecolor": "#2a3f5f",
             "gridcolor": "white",
             "linecolor": "white",
             "minorgridcolor": "white",
             "startlinecolor": "#2a3f5f"
            },
            "baxis": {
             "endlinecolor": "#2a3f5f",
             "gridcolor": "white",
             "linecolor": "white",
             "minorgridcolor": "white",
             "startlinecolor": "#2a3f5f"
            },
            "type": "carpet"
           }
          ],
          "choropleth": [
           {
            "colorbar": {
             "outlinewidth": 0,
             "ticks": ""
            },
            "type": "choropleth"
           }
          ],
          "contour": [
           {
            "colorbar": {
             "outlinewidth": 0,
             "ticks": ""
            },
            "colorscale": [
             [
              0,
              "#0d0887"
             ],
             [
              0.1111111111111111,
              "#46039f"
             ],
             [
              0.2222222222222222,
              "#7201a8"
             ],
             [
              0.3333333333333333,
              "#9c179e"
             ],
             [
              0.4444444444444444,
              "#bd3786"
             ],
             [
              0.5555555555555556,
              "#d8576b"
             ],
             [
              0.6666666666666666,
              "#ed7953"
             ],
             [
              0.7777777777777778,
              "#fb9f3a"
             ],
             [
              0.8888888888888888,
              "#fdca26"
             ],
             [
              1,
              "#f0f921"
             ]
            ],
            "type": "contour"
           }
          ],
          "contourcarpet": [
           {
            "colorbar": {
             "outlinewidth": 0,
             "ticks": ""
            },
            "type": "contourcarpet"
           }
          ],
          "heatmap": [
           {
            "colorbar": {
             "outlinewidth": 0,
             "ticks": ""
            },
            "colorscale": [
             [
              0,
              "#0d0887"
             ],
             [
              0.1111111111111111,
              "#46039f"
             ],
             [
              0.2222222222222222,
              "#7201a8"
             ],
             [
              0.3333333333333333,
              "#9c179e"
             ],
             [
              0.4444444444444444,
              "#bd3786"
             ],
             [
              0.5555555555555556,
              "#d8576b"
             ],
             [
              0.6666666666666666,
              "#ed7953"
             ],
             [
              0.7777777777777778,
              "#fb9f3a"
             ],
             [
              0.8888888888888888,
              "#fdca26"
             ],
             [
              1,
              "#f0f921"
             ]
            ],
            "type": "heatmap"
           }
          ],
          "heatmapgl": [
           {
            "colorbar": {
             "outlinewidth": 0,
             "ticks": ""
            },
            "colorscale": [
             [
              0,
              "#0d0887"
             ],
             [
              0.1111111111111111,
              "#46039f"
             ],
             [
              0.2222222222222222,
              "#7201a8"
             ],
             [
              0.3333333333333333,
              "#9c179e"
             ],
             [
              0.4444444444444444,
              "#bd3786"
             ],
             [
              0.5555555555555556,
              "#d8576b"
             ],
             [
              0.6666666666666666,
              "#ed7953"
             ],
             [
              0.7777777777777778,
              "#fb9f3a"
             ],
             [
              0.8888888888888888,
              "#fdca26"
             ],
             [
              1,
              "#f0f921"
             ]
            ],
            "type": "heatmapgl"
           }
          ],
          "histogram": [
           {
            "marker": {
             "pattern": {
              "fillmode": "overlay",
              "size": 10,
              "solidity": 0.2
             }
            },
            "type": "histogram"
           }
          ],
          "histogram2d": [
           {
            "colorbar": {
             "outlinewidth": 0,
             "ticks": ""
            },
            "colorscale": [
             [
              0,
              "#0d0887"
             ],
             [
              0.1111111111111111,
              "#46039f"
             ],
             [
              0.2222222222222222,
              "#7201a8"
             ],
             [
              0.3333333333333333,
              "#9c179e"
             ],
             [
              0.4444444444444444,
              "#bd3786"
             ],
             [
              0.5555555555555556,
              "#d8576b"
             ],
             [
              0.6666666666666666,
              "#ed7953"
             ],
             [
              0.7777777777777778,
              "#fb9f3a"
             ],
             [
              0.8888888888888888,
              "#fdca26"
             ],
             [
              1,
              "#f0f921"
             ]
            ],
            "type": "histogram2d"
           }
          ],
          "histogram2dcontour": [
           {
            "colorbar": {
             "outlinewidth": 0,
             "ticks": ""
            },
            "colorscale": [
             [
              0,
              "#0d0887"
             ],
             [
              0.1111111111111111,
              "#46039f"
             ],
             [
              0.2222222222222222,
              "#7201a8"
             ],
             [
              0.3333333333333333,
              "#9c179e"
             ],
             [
              0.4444444444444444,
              "#bd3786"
             ],
             [
              0.5555555555555556,
              "#d8576b"
             ],
             [
              0.6666666666666666,
              "#ed7953"
             ],
             [
              0.7777777777777778,
              "#fb9f3a"
             ],
             [
              0.8888888888888888,
              "#fdca26"
             ],
             [
              1,
              "#f0f921"
             ]
            ],
            "type": "histogram2dcontour"
           }
          ],
          "mesh3d": [
           {
            "colorbar": {
             "outlinewidth": 0,
             "ticks": ""
            },
            "type": "mesh3d"
           }
          ],
          "parcoords": [
           {
            "line": {
             "colorbar": {
              "outlinewidth": 0,
              "ticks": ""
             }
            },
            "type": "parcoords"
           }
          ],
          "pie": [
           {
            "automargin": true,
            "type": "pie"
           }
          ],
          "scatter": [
           {
            "fillpattern": {
             "fillmode": "overlay",
             "size": 10,
             "solidity": 0.2
            },
            "type": "scatter"
           }
          ],
          "scatter3d": [
           {
            "line": {
             "colorbar": {
              "outlinewidth": 0,
              "ticks": ""
             }
            },
            "marker": {
             "colorbar": {
              "outlinewidth": 0,
              "ticks": ""
             }
            },
            "type": "scatter3d"
           }
          ],
          "scattercarpet": [
           {
            "marker": {
             "colorbar": {
              "outlinewidth": 0,
              "ticks": ""
             }
            },
            "type": "scattercarpet"
           }
          ],
          "scattergeo": [
           {
            "marker": {
             "colorbar": {
              "outlinewidth": 0,
              "ticks": ""
             }
            },
            "type": "scattergeo"
           }
          ],
          "scattergl": [
           {
            "marker": {
             "colorbar": {
              "outlinewidth": 0,
              "ticks": ""
             }
            },
            "type": "scattergl"
           }
          ],
          "scattermapbox": [
           {
            "marker": {
             "colorbar": {
              "outlinewidth": 0,
              "ticks": ""
             }
            },
            "type": "scattermapbox"
           }
          ],
          "scatterpolar": [
           {
            "marker": {
             "colorbar": {
              "outlinewidth": 0,
              "ticks": ""
             }
            },
            "type": "scatterpolar"
           }
          ],
          "scatterpolargl": [
           {
            "marker": {
             "colorbar": {
              "outlinewidth": 0,
              "ticks": ""
             }
            },
            "type": "scatterpolargl"
           }
          ],
          "scatterternary": [
           {
            "marker": {
             "colorbar": {
              "outlinewidth": 0,
              "ticks": ""
             }
            },
            "type": "scatterternary"
           }
          ],
          "surface": [
           {
            "colorbar": {
             "outlinewidth": 0,
             "ticks": ""
            },
            "colorscale": [
             [
              0,
              "#0d0887"
             ],
             [
              0.1111111111111111,
              "#46039f"
             ],
             [
              0.2222222222222222,
              "#7201a8"
             ],
             [
              0.3333333333333333,
              "#9c179e"
             ],
             [
              0.4444444444444444,
              "#bd3786"
             ],
             [
              0.5555555555555556,
              "#d8576b"
             ],
             [
              0.6666666666666666,
              "#ed7953"
             ],
             [
              0.7777777777777778,
              "#fb9f3a"
             ],
             [
              0.8888888888888888,
              "#fdca26"
             ],
             [
              1,
              "#f0f921"
             ]
            ],
            "type": "surface"
           }
          ],
          "table": [
           {
            "cells": {
             "fill": {
              "color": "#EBF0F8"
             },
             "line": {
              "color": "white"
             }
            },
            "header": {
             "fill": {
              "color": "#C8D4E3"
             },
             "line": {
              "color": "white"
             }
            },
            "type": "table"
           }
          ]
         },
         "layout": {
          "annotationdefaults": {
           "arrowcolor": "#2a3f5f",
           "arrowhead": 0,
           "arrowwidth": 1
          },
          "autotypenumbers": "strict",
          "coloraxis": {
           "colorbar": {
            "outlinewidth": 0,
            "ticks": ""
           }
          },
          "colorscale": {
           "diverging": [
            [
             0,
             "#8e0152"
            ],
            [
             0.1,
             "#c51b7d"
            ],
            [
             0.2,
             "#de77ae"
            ],
            [
             0.3,
             "#f1b6da"
            ],
            [
             0.4,
             "#fde0ef"
            ],
            [
             0.5,
             "#f7f7f7"
            ],
            [
             0.6,
             "#e6f5d0"
            ],
            [
             0.7,
             "#b8e186"
            ],
            [
             0.8,
             "#7fbc41"
            ],
            [
             0.9,
             "#4d9221"
            ],
            [
             1,
             "#276419"
            ]
           ],
           "sequential": [
            [
             0,
             "#0d0887"
            ],
            [
             0.1111111111111111,
             "#46039f"
            ],
            [
             0.2222222222222222,
             "#7201a8"
            ],
            [
             0.3333333333333333,
             "#9c179e"
            ],
            [
             0.4444444444444444,
             "#bd3786"
            ],
            [
             0.5555555555555556,
             "#d8576b"
            ],
            [
             0.6666666666666666,
             "#ed7953"
            ],
            [
             0.7777777777777778,
             "#fb9f3a"
            ],
            [
             0.8888888888888888,
             "#fdca26"
            ],
            [
             1,
             "#f0f921"
            ]
           ],
           "sequentialminus": [
            [
             0,
             "#0d0887"
            ],
            [
             0.1111111111111111,
             "#46039f"
            ],
            [
             0.2222222222222222,
             "#7201a8"
            ],
            [
             0.3333333333333333,
             "#9c179e"
            ],
            [
             0.4444444444444444,
             "#bd3786"
            ],
            [
             0.5555555555555556,
             "#d8576b"
            ],
            [
             0.6666666666666666,
             "#ed7953"
            ],
            [
             0.7777777777777778,
             "#fb9f3a"
            ],
            [
             0.8888888888888888,
             "#fdca26"
            ],
            [
             1,
             "#f0f921"
            ]
           ]
          },
          "colorway": [
           "#636efa",
           "#EF553B",
           "#00cc96",
           "#ab63fa",
           "#FFA15A",
           "#19d3f3",
           "#FF6692",
           "#B6E880",
           "#FF97FF",
           "#FECB52"
          ],
          "font": {
           "color": "#2a3f5f"
          },
          "geo": {
           "bgcolor": "white",
           "lakecolor": "white",
           "landcolor": "#E5ECF6",
           "showlakes": true,
           "showland": true,
           "subunitcolor": "white"
          },
          "hoverlabel": {
           "align": "left"
          },
          "hovermode": "closest",
          "mapbox": {
           "style": "light"
          },
          "paper_bgcolor": "white",
          "plot_bgcolor": "#E5ECF6",
          "polar": {
           "angularaxis": {
            "gridcolor": "white",
            "linecolor": "white",
            "ticks": ""
           },
           "bgcolor": "#E5ECF6",
           "radialaxis": {
            "gridcolor": "white",
            "linecolor": "white",
            "ticks": ""
           }
          },
          "scene": {
           "xaxis": {
            "backgroundcolor": "#E5ECF6",
            "gridcolor": "white",
            "gridwidth": 2,
            "linecolor": "white",
            "showbackground": true,
            "ticks": "",
            "zerolinecolor": "white"
           },
           "yaxis": {
            "backgroundcolor": "#E5ECF6",
            "gridcolor": "white",
            "gridwidth": 2,
            "linecolor": "white",
            "showbackground": true,
            "ticks": "",
            "zerolinecolor": "white"
           },
           "zaxis": {
            "backgroundcolor": "#E5ECF6",
            "gridcolor": "white",
            "gridwidth": 2,
            "linecolor": "white",
            "showbackground": true,
            "ticks": "",
            "zerolinecolor": "white"
           }
          },
          "shapedefaults": {
           "line": {
            "color": "#2a3f5f"
           }
          },
          "ternary": {
           "aaxis": {
            "gridcolor": "white",
            "linecolor": "white",
            "ticks": ""
           },
           "baxis": {
            "gridcolor": "white",
            "linecolor": "white",
            "ticks": ""
           },
           "bgcolor": "#E5ECF6",
           "caxis": {
            "gridcolor": "white",
            "linecolor": "white",
            "ticks": ""
           }
          },
          "title": {
           "x": 0.05
          },
          "xaxis": {
           "automargin": true,
           "gridcolor": "white",
           "linecolor": "white",
           "ticks": "",
           "title": {
            "standoff": 15
           },
           "zerolinecolor": "white",
           "zerolinewidth": 2
          },
          "yaxis": {
           "automargin": true,
           "gridcolor": "white",
           "linecolor": "white",
           "ticks": "",
           "title": {
            "standoff": 15
           },
           "zerolinecolor": "white",
           "zerolinewidth": 2
          }
         }
        },
        "title": {
         "text": "Tempo and Key across the years"
        },
        "xaxis": {
         "anchor": "y",
         "domain": [
          0,
          1
         ],
         "title": {
          "text": "Release Date"
         }
        },
        "yaxis": {
         "anchor": "x",
         "domain": [
          0,
          1
         ],
         "title": {
          "text": "Tempo (BPM)"
         }
        }
       }
      }
     },
     "metadata": {},
     "output_type": "display_data"
    }
   ],
   "source": [
    "fig = px.scatter(df2, x='Release Date', y='Tempo', color='Key', hover_name='Track Name', hover_data={'Album Name': True},\n",
    "                 title='Tempo and Key across the years', \n",
    "                 labels={'Tempo': 'Tempo (BPM)', 'Release Date': 'Release Date', 'Key': 'Key'})\n",
    "\n",
    "# Customize the layout\n",
    "fig.update_traces(marker=dict(size=8, opacity=0.7),\n",
    "                  selector=dict(mode='markers'))\n",
    "\n",
    "# Show the plot\n",
    "fig.show()"
   ]
  },
  {
   "cell_type": "code",
   "execution_count": 16,
   "metadata": {},
   "outputs": [],
   "source": [
    "import plotly.io as pio\n"
   ]
  },
  {
   "cell_type": "code",
   "execution_count": 17,
   "metadata": {},
   "outputs": [],
   "source": [
    "pio.write_html(fig, file='temporelease.html', auto_open=False)\n"
   ]
  },
  {
   "cell_type": "code",
   "execution_count": 31,
   "metadata": {},
   "outputs": [
    {
     "data": {
      "text/plain": [
       "(177, 16)"
      ]
     },
     "execution_count": 31,
     "metadata": {},
     "output_type": "execute_result"
    }
   ],
   "source": [
    "df2.shape"
   ]
  },
  {
   "cell_type": "code",
   "execution_count": 24,
   "metadata": {},
   "outputs": [
    {
     "data": {
      "text/plain": [
       "array([\"Sgt. Pepper's Lonely Hearts Club Band (Super Deluxe Edition)\",\n",
       "       \"Sgt. Pepper's Lonely Hearts Club Band (Deluxe Edition)\",\n",
       "       \"Sgt. Pepper's Lonely Hearts Club Band (Remastered)\",\n",
       "       'Magical Mystery Tour (Remastered)', 'The Beatles (Remastered)',\n",
       "       'Yellow Submarine (Remastered)', 'Abbey Road (Remastered)',\n",
       "       'Let It Be (Remastered)'], dtype=object)"
      ]
     },
     "execution_count": 24,
     "metadata": {},
     "output_type": "execute_result"
    }
   ],
   "source": [
    "df2['Album Name'].unique()"
   ]
  },
  {
   "cell_type": "code",
   "execution_count": 56,
   "metadata": {},
   "outputs": [
    {
     "data": {
      "text/html": [
       "<div>\n",
       "<style scoped>\n",
       "    .dataframe tbody tr th:only-of-type {\n",
       "        vertical-align: middle;\n",
       "    }\n",
       "\n",
       "    .dataframe tbody tr th {\n",
       "        vertical-align: top;\n",
       "    }\n",
       "\n",
       "    .dataframe thead th {\n",
       "        text-align: right;\n",
       "    }\n",
       "</style>\n",
       "<table border=\"1\" class=\"dataframe\">\n",
       "  <thead>\n",
       "    <tr style=\"text-align: right;\">\n",
       "      <th></th>\n",
       "      <th>Track Name</th>\n",
       "    </tr>\n",
       "  </thead>\n",
       "  <tbody>\n",
       "    <tr>\n",
       "      <th>570</th>\n",
       "      <td>A Day In The Life - Hummed Last Chord / Takes ...</td>\n",
       "    </tr>\n",
       "    <tr>\n",
       "      <th>569</th>\n",
       "      <td>A Day In The Life - Orchestra Overdub</td>\n",
       "    </tr>\n",
       "    <tr>\n",
       "      <th>557</th>\n",
       "      <td>A Day In The Life - Remix</td>\n",
       "    </tr>\n",
       "    <tr>\n",
       "      <th>567</th>\n",
       "      <td>A Day In The Life - Take 1</td>\n",
       "    </tr>\n",
       "    <tr>\n",
       "      <th>568</th>\n",
       "      <td>A Day In The Life - Take 2</td>\n",
       "    </tr>\n",
       "    <tr>\n",
       "      <th>571</th>\n",
       "      <td>A Day In The Life - The Last Chord</td>\n",
       "    </tr>\n",
       "    <tr>\n",
       "      <th>551</th>\n",
       "      <td>Being For The Benefit Of Mr. Kite! - Remix</td>\n",
       "    </tr>\n",
       "    <tr>\n",
       "      <th>578</th>\n",
       "      <td>Being For The Benefit Of Mr. Kite! - Speech Fr...</td>\n",
       "    </tr>\n",
       "    <tr>\n",
       "      <th>579</th>\n",
       "      <td>Being For The Benefit Of Mr. Kite! - Take 7</td>\n",
       "    </tr>\n",
       "    <tr>\n",
       "      <th>549</th>\n",
       "      <td>Fixing A Hole - Remix</td>\n",
       "    </tr>\n",
       "    <tr>\n",
       "      <th>577</th>\n",
       "      <td>Fixing A Hole - Speech And Take 3</td>\n",
       "    </tr>\n",
       "    <tr>\n",
       "      <th>576</th>\n",
       "      <td>Fixing A Hole - Take 1</td>\n",
       "    </tr>\n",
       "    <tr>\n",
       "      <th>594</th>\n",
       "      <td>Getting Better</td>\n",
       "    </tr>\n",
       "    <tr>\n",
       "      <th>548</th>\n",
       "      <td>Getting Better - Remix</td>\n",
       "    </tr>\n",
       "    <tr>\n",
       "      <th>583</th>\n",
       "      <td>Getting Better - Take 1 / Instrumental And Spe...</td>\n",
       "    </tr>\n",
       "    <tr>\n",
       "      <th>584</th>\n",
       "      <td>Getting Better - Take 12</td>\n",
       "    </tr>\n",
       "    <tr>\n",
       "      <th>555</th>\n",
       "      <td>Good Morning Good Morning - Remix</td>\n",
       "    </tr>\n",
       "    <tr>\n",
       "      <th>574</th>\n",
       "      <td>Good Morning Good Morning - Take 1 / Instrumen...</td>\n",
       "    </tr>\n",
       "    <tr>\n",
       "      <th>575</th>\n",
       "      <td>Good Morning Good Morning - Take 8</td>\n",
       "    </tr>\n",
       "    <tr>\n",
       "      <th>554</th>\n",
       "      <td>Lovely Rita - Remix</td>\n",
       "    </tr>\n",
       "    <tr>\n",
       "      <th>580</th>\n",
       "      <td>Lovely Rita - Speech And Take 9</td>\n",
       "    </tr>\n",
       "    <tr>\n",
       "      <th>593</th>\n",
       "      <td>Lucy In The Sky With Diamonds</td>\n",
       "    </tr>\n",
       "    <tr>\n",
       "      <th>547</th>\n",
       "      <td>Lucy In The Sky With Diamonds - Remastered 2017</td>\n",
       "    </tr>\n",
       "    <tr>\n",
       "      <th>582</th>\n",
       "      <td>Lucy In The Sky With Diamonds - Speech, False ...</td>\n",
       "    </tr>\n",
       "    <tr>\n",
       "      <th>581</th>\n",
       "      <td>Lucy In The Sky With Diamonds - Take 1 And Spe...</td>\n",
       "    </tr>\n",
       "    <tr>\n",
       "      <th>566</th>\n",
       "      <td>Penny Lane - Stereo Mix 2017</td>\n",
       "    </tr>\n",
       "    <tr>\n",
       "      <th>564</th>\n",
       "      <td>Penny Lane - Take 6 / Instrumental</td>\n",
       "    </tr>\n",
       "    <tr>\n",
       "      <th>565</th>\n",
       "      <td>Penny Lane - Vocal Overdubs And Speech</td>\n",
       "    </tr>\n",
       "    <tr>\n",
       "      <th>591</th>\n",
       "      <td>Sgt Pepper's Lonely Hearts Club Band</td>\n",
       "    </tr>\n",
       "    <tr>\n",
       "      <th>556</th>\n",
       "      <td>Sgt. Pepper's Lonely Hearts Club Band (Reprise...</td>\n",
       "    </tr>\n",
       "    <tr>\n",
       "      <th>590</th>\n",
       "      <td>Sgt. Pepper's Lonely Hearts Club Band (Reprise...</td>\n",
       "    </tr>\n",
       "    <tr>\n",
       "      <th>545</th>\n",
       "      <td>Sgt. Pepper's Lonely Hearts Club Band - Remast...</td>\n",
       "    </tr>\n",
       "    <tr>\n",
       "      <th>572</th>\n",
       "      <td>Sgt. Pepper's Lonely Hearts Club Band - Take 1...</td>\n",
       "    </tr>\n",
       "    <tr>\n",
       "      <th>573</th>\n",
       "      <td>Sgt. Pepper's Lonely Hearts Club Band - Take 9...</td>\n",
       "    </tr>\n",
       "    <tr>\n",
       "      <th>550</th>\n",
       "      <td>She's Leaving Home - Remix</td>\n",
       "    </tr>\n",
       "    <tr>\n",
       "      <th>587</th>\n",
       "      <td>She's Leaving Home - Take 1 / Instrumental</td>\n",
       "    </tr>\n",
       "    <tr>\n",
       "      <th>588</th>\n",
       "      <td>She's Leaving Home - Take 6 / Instrumental</td>\n",
       "    </tr>\n",
       "    <tr>\n",
       "      <th>562</th>\n",
       "      <td>Strawberry Fields Forever - Stereo Mix 2015</td>\n",
       "    </tr>\n",
       "    <tr>\n",
       "      <th>558</th>\n",
       "      <td>Strawberry Fields Forever - Take 1</td>\n",
       "    </tr>\n",
       "    <tr>\n",
       "      <th>561</th>\n",
       "      <td>Strawberry Fields Forever - Take 26</td>\n",
       "    </tr>\n",
       "    <tr>\n",
       "      <th>559</th>\n",
       "      <td>Strawberry Fields Forever - Take 4</td>\n",
       "    </tr>\n",
       "    <tr>\n",
       "      <th>560</th>\n",
       "      <td>Strawberry Fields Forever - Take 7</td>\n",
       "    </tr>\n",
       "    <tr>\n",
       "      <th>553</th>\n",
       "      <td>When I'm Sixty-Four - Remix</td>\n",
       "    </tr>\n",
       "    <tr>\n",
       "      <th>563</th>\n",
       "      <td>When I'm Sixty-Four - Take 2</td>\n",
       "    </tr>\n",
       "    <tr>\n",
       "      <th>592</th>\n",
       "      <td>With A Little Help From My Friends</td>\n",
       "    </tr>\n",
       "    <tr>\n",
       "      <th>546</th>\n",
       "      <td>With A Little Help From My Friends - Remastere...</td>\n",
       "    </tr>\n",
       "    <tr>\n",
       "      <th>589</th>\n",
       "      <td>With A Little Help From My Friends - Take 1 / ...</td>\n",
       "    </tr>\n",
       "    <tr>\n",
       "      <th>586</th>\n",
       "      <td>Within You Without You - George Coaching The M...</td>\n",
       "    </tr>\n",
       "    <tr>\n",
       "      <th>552</th>\n",
       "      <td>Within You Without You - Remastered 2017</td>\n",
       "    </tr>\n",
       "    <tr>\n",
       "      <th>585</th>\n",
       "      <td>Within You Without You - Take 1 / Indian Instr...</td>\n",
       "    </tr>\n",
       "  </tbody>\n",
       "</table>\n",
       "</div>"
      ],
      "text/plain": [
       "                                            Track Name\n",
       "570  A Day In The Life - Hummed Last Chord / Takes ...\n",
       "569              A Day In The Life - Orchestra Overdub\n",
       "557                          A Day In The Life - Remix\n",
       "567                         A Day In The Life - Take 1\n",
       "568                         A Day In The Life - Take 2\n",
       "571                 A Day In The Life - The Last Chord\n",
       "551         Being For The Benefit Of Mr. Kite! - Remix\n",
       "578  Being For The Benefit Of Mr. Kite! - Speech Fr...\n",
       "579        Being For The Benefit Of Mr. Kite! - Take 7\n",
       "549                              Fixing A Hole - Remix\n",
       "577                  Fixing A Hole - Speech And Take 3\n",
       "576                             Fixing A Hole - Take 1\n",
       "594                                     Getting Better\n",
       "548                             Getting Better - Remix\n",
       "583  Getting Better - Take 1 / Instrumental And Spe...\n",
       "584                           Getting Better - Take 12\n",
       "555                  Good Morning Good Morning - Remix\n",
       "574  Good Morning Good Morning - Take 1 / Instrumen...\n",
       "575                 Good Morning Good Morning - Take 8\n",
       "554                                Lovely Rita - Remix\n",
       "580                    Lovely Rita - Speech And Take 9\n",
       "593                      Lucy In The Sky With Diamonds\n",
       "547    Lucy In The Sky With Diamonds - Remastered 2017\n",
       "582  Lucy In The Sky With Diamonds - Speech, False ...\n",
       "581  Lucy In The Sky With Diamonds - Take 1 And Spe...\n",
       "566                       Penny Lane - Stereo Mix 2017\n",
       "564                 Penny Lane - Take 6 / Instrumental\n",
       "565             Penny Lane - Vocal Overdubs And Speech\n",
       "591               Sgt Pepper's Lonely Hearts Club Band\n",
       "556  Sgt. Pepper's Lonely Hearts Club Band (Reprise...\n",
       "590  Sgt. Pepper's Lonely Hearts Club Band (Reprise...\n",
       "545  Sgt. Pepper's Lonely Hearts Club Band - Remast...\n",
       "572  Sgt. Pepper's Lonely Hearts Club Band - Take 1...\n",
       "573  Sgt. Pepper's Lonely Hearts Club Band - Take 9...\n",
       "550                         She's Leaving Home - Remix\n",
       "587         She's Leaving Home - Take 1 / Instrumental\n",
       "588         She's Leaving Home - Take 6 / Instrumental\n",
       "562        Strawberry Fields Forever - Stereo Mix 2015\n",
       "558                 Strawberry Fields Forever - Take 1\n",
       "561                Strawberry Fields Forever - Take 26\n",
       "559                 Strawberry Fields Forever - Take 4\n",
       "560                 Strawberry Fields Forever - Take 7\n",
       "553                        When I'm Sixty-Four - Remix\n",
       "563                       When I'm Sixty-Four - Take 2\n",
       "592                 With A Little Help From My Friends\n",
       "546  With A Little Help From My Friends - Remastere...\n",
       "589  With A Little Help From My Friends - Take 1 / ...\n",
       "586  Within You Without You - George Coaching The M...\n",
       "552           Within You Without You - Remastered 2017\n",
       "585  Within You Without You - Take 1 / Indian Instr..."
      ]
     },
     "execution_count": 56,
     "metadata": {},
     "output_type": "execute_result"
    }
   ],
   "source": [
    "pd.DataFrame(df2[df2['Album Name'] == \"Sgt. Pepper's Lonely Hearts Club Band (Super Deluxe Edition)\"]['Track Name']).sort_values(by='Track Name')"
   ]
  },
  {
   "cell_type": "code",
   "execution_count": 57,
   "metadata": {},
   "outputs": [
    {
     "data": {
      "text/html": [
       "<div>\n",
       "<style scoped>\n",
       "    .dataframe tbody tr th:only-of-type {\n",
       "        vertical-align: middle;\n",
       "    }\n",
       "\n",
       "    .dataframe tbody tr th {\n",
       "        vertical-align: top;\n",
       "    }\n",
       "\n",
       "    .dataframe thead th {\n",
       "        text-align: right;\n",
       "    }\n",
       "</style>\n",
       "<table border=\"1\" class=\"dataframe\">\n",
       "  <thead>\n",
       "    <tr style=\"text-align: right;\">\n",
       "      <th></th>\n",
       "      <th>Track Name</th>\n",
       "    </tr>\n",
       "  </thead>\n",
       "  <tbody>\n",
       "    <tr>\n",
       "      <th>526</th>\n",
       "      <td>A Day In The Life - Remix</td>\n",
       "    </tr>\n",
       "    <tr>\n",
       "      <th>539</th>\n",
       "      <td>A Day In The Life - Take 1 With Hums</td>\n",
       "    </tr>\n",
       "    <tr>\n",
       "      <th>520</th>\n",
       "      <td>Being For The Benefit Of Mr. Kite! - Remix</td>\n",
       "    </tr>\n",
       "    <tr>\n",
       "      <th>533</th>\n",
       "      <td>Being For The Benefit Of Mr. Kite! - Take 4</td>\n",
       "    </tr>\n",
       "    <tr>\n",
       "      <th>518</th>\n",
       "      <td>Fixing A Hole - Remix</td>\n",
       "    </tr>\n",
       "    <tr>\n",
       "      <th>531</th>\n",
       "      <td>Fixing A Hole - Speech And Take 3</td>\n",
       "    </tr>\n",
       "    <tr>\n",
       "      <th>517</th>\n",
       "      <td>Getting Better - Remix</td>\n",
       "    </tr>\n",
       "    <tr>\n",
       "      <th>530</th>\n",
       "      <td>Getting Better - Take 1 / Instrumental And Spe...</td>\n",
       "    </tr>\n",
       "    <tr>\n",
       "      <th>524</th>\n",
       "      <td>Good Morning Good Morning - Remix</td>\n",
       "    </tr>\n",
       "    <tr>\n",
       "      <th>537</th>\n",
       "      <td>Good Morning Good Morning - Take 8</td>\n",
       "    </tr>\n",
       "    <tr>\n",
       "      <th>523</th>\n",
       "      <td>Lovely Rita - Remix</td>\n",
       "    </tr>\n",
       "    <tr>\n",
       "      <th>536</th>\n",
       "      <td>Lovely Rita - Speech And Take 9</td>\n",
       "    </tr>\n",
       "    <tr>\n",
       "      <th>516</th>\n",
       "      <td>Lucy In The Sky With Diamonds - Remix</td>\n",
       "    </tr>\n",
       "    <tr>\n",
       "      <th>529</th>\n",
       "      <td>Lucy In The Sky With Diamonds - Take 1</td>\n",
       "    </tr>\n",
       "    <tr>\n",
       "      <th>544</th>\n",
       "      <td>Penny Lane - Stereo Mix 2017</td>\n",
       "    </tr>\n",
       "    <tr>\n",
       "      <th>543</th>\n",
       "      <td>Penny Lane - Take 6 / Instrumental</td>\n",
       "    </tr>\n",
       "    <tr>\n",
       "      <th>525</th>\n",
       "      <td>Sgt. Pepper's Lonely Hearts Club Band (Reprise...</td>\n",
       "    </tr>\n",
       "    <tr>\n",
       "      <th>538</th>\n",
       "      <td>Sgt. Pepper's Lonely Hearts Club Band (Reprise...</td>\n",
       "    </tr>\n",
       "    <tr>\n",
       "      <th>514</th>\n",
       "      <td>Sgt. Pepper's Lonely Hearts Club Band - Remix</td>\n",
       "    </tr>\n",
       "    <tr>\n",
       "      <th>527</th>\n",
       "      <td>Sgt. Pepper's Lonely Hearts Club Band - Take 9...</td>\n",
       "    </tr>\n",
       "    <tr>\n",
       "      <th>519</th>\n",
       "      <td>She's Leaving Home - Remix</td>\n",
       "    </tr>\n",
       "    <tr>\n",
       "      <th>532</th>\n",
       "      <td>She's Leaving Home - Take 1 / Instrumental</td>\n",
       "    </tr>\n",
       "    <tr>\n",
       "      <th>542</th>\n",
       "      <td>Strawberry Fields Forever - Stereo Mix 2015</td>\n",
       "    </tr>\n",
       "    <tr>\n",
       "      <th>541</th>\n",
       "      <td>Strawberry Fields Forever - Take 26</td>\n",
       "    </tr>\n",
       "    <tr>\n",
       "      <th>540</th>\n",
       "      <td>Strawberry Fields Forever - Take 7</td>\n",
       "    </tr>\n",
       "    <tr>\n",
       "      <th>522</th>\n",
       "      <td>When I'm Sixty-Four - Remix</td>\n",
       "    </tr>\n",
       "    <tr>\n",
       "      <th>535</th>\n",
       "      <td>When I'm Sixty-Four - Take 2</td>\n",
       "    </tr>\n",
       "    <tr>\n",
       "      <th>515</th>\n",
       "      <td>With A Little Help From My Friends - Remix</td>\n",
       "    </tr>\n",
       "    <tr>\n",
       "      <th>528</th>\n",
       "      <td>With A Little Help From My Friends - Take 1 / ...</td>\n",
       "    </tr>\n",
       "    <tr>\n",
       "      <th>521</th>\n",
       "      <td>Within You Without You - Remix</td>\n",
       "    </tr>\n",
       "    <tr>\n",
       "      <th>534</th>\n",
       "      <td>Within You Without You - Take 1 / Indian Instr...</td>\n",
       "    </tr>\n",
       "  </tbody>\n",
       "</table>\n",
       "</div>"
      ],
      "text/plain": [
       "                                            Track Name\n",
       "526                          A Day In The Life - Remix\n",
       "539               A Day In The Life - Take 1 With Hums\n",
       "520         Being For The Benefit Of Mr. Kite! - Remix\n",
       "533        Being For The Benefit Of Mr. Kite! - Take 4\n",
       "518                              Fixing A Hole - Remix\n",
       "531                  Fixing A Hole - Speech And Take 3\n",
       "517                             Getting Better - Remix\n",
       "530  Getting Better - Take 1 / Instrumental And Spe...\n",
       "524                  Good Morning Good Morning - Remix\n",
       "537                 Good Morning Good Morning - Take 8\n",
       "523                                Lovely Rita - Remix\n",
       "536                    Lovely Rita - Speech And Take 9\n",
       "516              Lucy In The Sky With Diamonds - Remix\n",
       "529             Lucy In The Sky With Diamonds - Take 1\n",
       "544                       Penny Lane - Stereo Mix 2017\n",
       "543                 Penny Lane - Take 6 / Instrumental\n",
       "525  Sgt. Pepper's Lonely Hearts Club Band (Reprise...\n",
       "538  Sgt. Pepper's Lonely Hearts Club Band (Reprise...\n",
       "514      Sgt. Pepper's Lonely Hearts Club Band - Remix\n",
       "527  Sgt. Pepper's Lonely Hearts Club Band - Take 9...\n",
       "519                         She's Leaving Home - Remix\n",
       "532         She's Leaving Home - Take 1 / Instrumental\n",
       "542        Strawberry Fields Forever - Stereo Mix 2015\n",
       "541                Strawberry Fields Forever - Take 26\n",
       "540                 Strawberry Fields Forever - Take 7\n",
       "522                        When I'm Sixty-Four - Remix\n",
       "535                       When I'm Sixty-Four - Take 2\n",
       "515         With A Little Help From My Friends - Remix\n",
       "528  With A Little Help From My Friends - Take 1 / ...\n",
       "521                     Within You Without You - Remix\n",
       "534  Within You Without You - Take 1 / Indian Instr..."
      ]
     },
     "execution_count": 57,
     "metadata": {},
     "output_type": "execute_result"
    }
   ],
   "source": [
    "pd.DataFrame(df2[df2['Album Name'] == \"Sgt. Pepper's Lonely Hearts Club Band (Deluxe Edition)\"]['Track Name']).sort_values(by='Track Name')"
   ]
  },
  {
   "cell_type": "code",
   "execution_count": 58,
   "metadata": {},
   "outputs": [
    {
     "data": {
      "text/html": [
       "<div>\n",
       "<style scoped>\n",
       "    .dataframe tbody tr th:only-of-type {\n",
       "        vertical-align: middle;\n",
       "    }\n",
       "\n",
       "    .dataframe tbody tr th {\n",
       "        vertical-align: top;\n",
       "    }\n",
       "\n",
       "    .dataframe thead th {\n",
       "        text-align: right;\n",
       "    }\n",
       "</style>\n",
       "<table border=\"1\" class=\"dataframe\">\n",
       "  <thead>\n",
       "    <tr style=\"text-align: right;\">\n",
       "      <th></th>\n",
       "      <th>Track Name</th>\n",
       "    </tr>\n",
       "  </thead>\n",
       "  <tbody>\n",
       "    <tr>\n",
       "      <th>513</th>\n",
       "      <td>A Day In The Life - Remastered 2009</td>\n",
       "    </tr>\n",
       "    <tr>\n",
       "      <th>507</th>\n",
       "      <td>Being For The Benefit Of Mr. Kite! - Remastere...</td>\n",
       "    </tr>\n",
       "    <tr>\n",
       "      <th>505</th>\n",
       "      <td>Fixing A Hole - Remastered 2009</td>\n",
       "    </tr>\n",
       "    <tr>\n",
       "      <th>504</th>\n",
       "      <td>Getting Better - Remastered 2009</td>\n",
       "    </tr>\n",
       "    <tr>\n",
       "      <th>511</th>\n",
       "      <td>Good Morning Good Morning - Remastered 2009</td>\n",
       "    </tr>\n",
       "    <tr>\n",
       "      <th>510</th>\n",
       "      <td>Lovely Rita - Remastered 2009</td>\n",
       "    </tr>\n",
       "    <tr>\n",
       "      <th>503</th>\n",
       "      <td>Lucy In The Sky With Diamonds - Remastered 2009</td>\n",
       "    </tr>\n",
       "    <tr>\n",
       "      <th>501</th>\n",
       "      <td>Sgt. Pepper's Lonely Hearts Club Band - Remast...</td>\n",
       "    </tr>\n",
       "    <tr>\n",
       "      <th>512</th>\n",
       "      <td>Sgt. Pepper's Lonely Hearts Club Band - Repris...</td>\n",
       "    </tr>\n",
       "    <tr>\n",
       "      <th>506</th>\n",
       "      <td>She's Leaving Home - Remastered 2009</td>\n",
       "    </tr>\n",
       "    <tr>\n",
       "      <th>509</th>\n",
       "      <td>When I'm Sixty Four - Remastered 2009</td>\n",
       "    </tr>\n",
       "    <tr>\n",
       "      <th>502</th>\n",
       "      <td>With A Little Help From My Friends - Remastere...</td>\n",
       "    </tr>\n",
       "    <tr>\n",
       "      <th>508</th>\n",
       "      <td>Within You Without You - Remastered 2009</td>\n",
       "    </tr>\n",
       "  </tbody>\n",
       "</table>\n",
       "</div>"
      ],
      "text/plain": [
       "                                            Track Name\n",
       "513                A Day In The Life - Remastered 2009\n",
       "507  Being For The Benefit Of Mr. Kite! - Remastere...\n",
       "505                    Fixing A Hole - Remastered 2009\n",
       "504                   Getting Better - Remastered 2009\n",
       "511        Good Morning Good Morning - Remastered 2009\n",
       "510                      Lovely Rita - Remastered 2009\n",
       "503    Lucy In The Sky With Diamonds - Remastered 2009\n",
       "501  Sgt. Pepper's Lonely Hearts Club Band - Remast...\n",
       "512  Sgt. Pepper's Lonely Hearts Club Band - Repris...\n",
       "506               She's Leaving Home - Remastered 2009\n",
       "509              When I'm Sixty Four - Remastered 2009\n",
       "502  With A Little Help From My Friends - Remastere...\n",
       "508           Within You Without You - Remastered 2009"
      ]
     },
     "execution_count": 58,
     "metadata": {},
     "output_type": "execute_result"
    }
   ],
   "source": [
    "pd.DataFrame(df2[df2['Album Name'] == \"Sgt. Pepper's Lonely Hearts Club Band (Remastered)\"]['Track Name']).sort_values(by='Track Name')"
   ]
  },
  {
   "attachments": {},
   "cell_type": "markdown",
   "metadata": {},
   "source": [
    "It seems like the Super Deluxe version contains multiple takes, instrumental versions and the 2 singles Penny Lane and Strawberry Fields Forever, along with their different takes. The same goes for the Deluxe Edition. This might be too much redundancy.\n",
    "\n",
    "So we will just pick the 2 singles Strawberry Fields Forever - Stereo Mix 2015 and Penny Lane - Stereo Mix 2017 and add to the Remastered dataframe and work with this dataset."
   ]
  },
  {
   "cell_type": "code",
   "execution_count": 18,
   "metadata": {},
   "outputs": [],
   "source": [
    "condition1 = (df2['Album Name'] != \"Sgt. Pepper's Lonely Hearts Club Band (Super Deluxe Edition)\")\n",
    "condition2 = (df2['Album Name'] != \"Sgt. Pepper's Lonely Hearts Club Band (Deluxe Edition)\")\n",
    "condition3 = (df2['Album Name'] == \"Sgt. Pepper's Lonely Hearts Club Band (Deluxe Edition)\") & \\\n",
    "             ((df2['Track Name'] == \"Strawberry Fields Forever - Stereo Mix 2015\") |\n",
    "              (df2['Track Name'] == \"Penny Lane - Stereo Mix 2017\"))"
   ]
  },
  {
   "cell_type": "code",
   "execution_count": 19,
   "metadata": {},
   "outputs": [
    {
     "data": {
      "text/html": [
       "<div>\n",
       "<style scoped>\n",
       "    .dataframe tbody tr th:only-of-type {\n",
       "        vertical-align: middle;\n",
       "    }\n",
       "\n",
       "    .dataframe tbody tr th {\n",
       "        vertical-align: top;\n",
       "    }\n",
       "\n",
       "    .dataframe thead th {\n",
       "        text-align: right;\n",
       "    }\n",
       "</style>\n",
       "<table border=\"1\" class=\"dataframe\">\n",
       "  <thead>\n",
       "    <tr style=\"text-align: right;\">\n",
       "      <th></th>\n",
       "      <th>Track Name</th>\n",
       "      <th>Album Name</th>\n",
       "      <th>Tempo</th>\n",
       "      <th>Key</th>\n",
       "      <th>Mode</th>\n",
       "      <th>Release Date</th>\n",
       "      <th>Energy</th>\n",
       "      <th>Danceability</th>\n",
       "      <th>Loudness</th>\n",
       "      <th>Speechiness</th>\n",
       "      <th>Acousticness</th>\n",
       "      <th>Instrumentalness</th>\n",
       "      <th>Liveness</th>\n",
       "      <th>Time Signature</th>\n",
       "      <th>Valence</th>\n",
       "      <th>Duration</th>\n",
       "    </tr>\n",
       "  </thead>\n",
       "  <tbody>\n",
       "    <tr>\n",
       "      <th>513</th>\n",
       "      <td>A Day In The Life - Remastered 2009</td>\n",
       "      <td>Sgt. Pepper's Lonely Hearts Club Band (Remaste...</td>\n",
       "      <td>163.219</td>\n",
       "      <td>4</td>\n",
       "      <td>0</td>\n",
       "      <td>1967-06-01</td>\n",
       "      <td>0.457</td>\n",
       "      <td>0.364</td>\n",
       "      <td>-14.162</td>\n",
       "      <td>0.0675</td>\n",
       "      <td>0.2900</td>\n",
       "      <td>0.000106</td>\n",
       "      <td>0.9220</td>\n",
       "      <td>4</td>\n",
       "      <td>0.175</td>\n",
       "      <td>337413</td>\n",
       "    </tr>\n",
       "    <tr>\n",
       "      <th>512</th>\n",
       "      <td>Sgt. Pepper's Lonely Hearts Club Band - Repris...</td>\n",
       "      <td>Sgt. Pepper's Lonely Hearts Club Band (Remaste...</td>\n",
       "      <td>118.773</td>\n",
       "      <td>0</td>\n",
       "      <td>1</td>\n",
       "      <td>1967-06-01</td>\n",
       "      <td>0.889</td>\n",
       "      <td>0.653</td>\n",
       "      <td>-8.006</td>\n",
       "      <td>0.0453</td>\n",
       "      <td>0.0061</td>\n",
       "      <td>0.589000</td>\n",
       "      <td>0.8920</td>\n",
       "      <td>4</td>\n",
       "      <td>0.879</td>\n",
       "      <td>79067</td>\n",
       "    </tr>\n",
       "    <tr>\n",
       "      <th>506</th>\n",
       "      <td>She's Leaving Home - Remastered 2009</td>\n",
       "      <td>Sgt. Pepper's Lonely Hearts Club Band (Remaste...</td>\n",
       "      <td>127.581</td>\n",
       "      <td>4</td>\n",
       "      <td>1</td>\n",
       "      <td>1967-06-01</td>\n",
       "      <td>0.214</td>\n",
       "      <td>0.381</td>\n",
       "      <td>-11.629</td>\n",
       "      <td>0.0337</td>\n",
       "      <td>0.9440</td>\n",
       "      <td>0.000000</td>\n",
       "      <td>0.1060</td>\n",
       "      <td>3</td>\n",
       "      <td>0.393</td>\n",
       "      <td>215160</td>\n",
       "    </tr>\n",
       "    <tr>\n",
       "      <th>510</th>\n",
       "      <td>Lovely Rita - Remastered 2009</td>\n",
       "      <td>Sgt. Pepper's Lonely Hearts Club Band (Remaste...</td>\n",
       "      <td>87.379</td>\n",
       "      <td>8</td>\n",
       "      <td>0</td>\n",
       "      <td>1967-06-01</td>\n",
       "      <td>0.471</td>\n",
       "      <td>0.610</td>\n",
       "      <td>-9.151</td>\n",
       "      <td>0.0261</td>\n",
       "      <td>0.0634</td>\n",
       "      <td>0.000000</td>\n",
       "      <td>0.1180</td>\n",
       "      <td>4</td>\n",
       "      <td>0.630</td>\n",
       "      <td>162093</td>\n",
       "    </tr>\n",
       "    <tr>\n",
       "      <th>509</th>\n",
       "      <td>When I'm Sixty Four - Remastered 2009</td>\n",
       "      <td>Sgt. Pepper's Lonely Hearts Club Band (Remaste...</td>\n",
       "      <td>140.411</td>\n",
       "      <td>1</td>\n",
       "      <td>1</td>\n",
       "      <td>1967-06-01</td>\n",
       "      <td>0.241</td>\n",
       "      <td>0.704</td>\n",
       "      <td>-13.258</td>\n",
       "      <td>0.0476</td>\n",
       "      <td>0.6250</td>\n",
       "      <td>0.000028</td>\n",
       "      <td>0.0868</td>\n",
       "      <td>4</td>\n",
       "      <td>0.661</td>\n",
       "      <td>157667</td>\n",
       "    </tr>\n",
       "    <tr>\n",
       "      <th>...</th>\n",
       "      <td>...</td>\n",
       "      <td>...</td>\n",
       "      <td>...</td>\n",
       "      <td>...</td>\n",
       "      <td>...</td>\n",
       "      <td>...</td>\n",
       "      <td>...</td>\n",
       "      <td>...</td>\n",
       "      <td>...</td>\n",
       "      <td>...</td>\n",
       "      <td>...</td>\n",
       "      <td>...</td>\n",
       "      <td>...</td>\n",
       "      <td>...</td>\n",
       "      <td>...</td>\n",
       "      <td>...</td>\n",
       "    </tr>\n",
       "    <tr>\n",
       "      <th>426</th>\n",
       "      <td>One After 909 - Remastered 2009</td>\n",
       "      <td>Let It Be (Remastered)</td>\n",
       "      <td>90.950</td>\n",
       "      <td>4</td>\n",
       "      <td>1</td>\n",
       "      <td>1970-05-08</td>\n",
       "      <td>0.828</td>\n",
       "      <td>0.554</td>\n",
       "      <td>-6.435</td>\n",
       "      <td>0.0739</td>\n",
       "      <td>0.0307</td>\n",
       "      <td>0.000000</td>\n",
       "      <td>0.9070</td>\n",
       "      <td>4</td>\n",
       "      <td>0.888</td>\n",
       "      <td>173960</td>\n",
       "    </tr>\n",
       "    <tr>\n",
       "      <th>427</th>\n",
       "      <td>The Long And Winding Road - Remastered 2009</td>\n",
       "      <td>Let It Be (Remastered)</td>\n",
       "      <td>132.282</td>\n",
       "      <td>3</td>\n",
       "      <td>1</td>\n",
       "      <td>1970-05-08</td>\n",
       "      <td>0.329</td>\n",
       "      <td>0.299</td>\n",
       "      <td>-10.096</td>\n",
       "      <td>0.0279</td>\n",
       "      <td>0.7560</td>\n",
       "      <td>0.010500</td>\n",
       "      <td>0.0559</td>\n",
       "      <td>4</td>\n",
       "      <td>0.392</td>\n",
       "      <td>218187</td>\n",
       "    </tr>\n",
       "    <tr>\n",
       "      <th>428</th>\n",
       "      <td>For You Blue - Remastered 2009</td>\n",
       "      <td>Let It Be (Remastered)</td>\n",
       "      <td>128.542</td>\n",
       "      <td>2</td>\n",
       "      <td>1</td>\n",
       "      <td>1970-05-08</td>\n",
       "      <td>0.556</td>\n",
       "      <td>0.880</td>\n",
       "      <td>-10.773</td>\n",
       "      <td>0.0855</td>\n",
       "      <td>0.2400</td>\n",
       "      <td>0.048300</td>\n",
       "      <td>0.2400</td>\n",
       "      <td>4</td>\n",
       "      <td>0.955</td>\n",
       "      <td>152213</td>\n",
       "    </tr>\n",
       "    <tr>\n",
       "      <th>429</th>\n",
       "      <td>Get Back - Remastered 2009</td>\n",
       "      <td>Let It Be (Remastered)</td>\n",
       "      <td>123.095</td>\n",
       "      <td>2</td>\n",
       "      <td>1</td>\n",
       "      <td>1970-05-08</td>\n",
       "      <td>0.592</td>\n",
       "      <td>0.761</td>\n",
       "      <td>-9.836</td>\n",
       "      <td>0.0586</td>\n",
       "      <td>0.4920</td>\n",
       "      <td>0.006260</td>\n",
       "      <td>0.6100</td>\n",
       "      <td>4</td>\n",
       "      <td>0.332</td>\n",
       "      <td>189387</td>\n",
       "    </tr>\n",
       "    <tr>\n",
       "      <th>424</th>\n",
       "      <td>Maggie Mae - Remastered 2009</td>\n",
       "      <td>Let It Be (Remastered)</td>\n",
       "      <td>169.039</td>\n",
       "      <td>2</td>\n",
       "      <td>0</td>\n",
       "      <td>1970-05-08</td>\n",
       "      <td>0.515</td>\n",
       "      <td>0.516</td>\n",
       "      <td>-12.035</td>\n",
       "      <td>0.2150</td>\n",
       "      <td>0.3790</td>\n",
       "      <td>0.000000</td>\n",
       "      <td>0.1030</td>\n",
       "      <td>4</td>\n",
       "      <td>0.524</td>\n",
       "      <td>40040</td>\n",
       "    </tr>\n",
       "  </tbody>\n",
       "</table>\n",
       "<p>98 rows × 16 columns</p>\n",
       "</div>"
      ],
      "text/plain": [
       "                                            Track Name  \\\n",
       "513                A Day In The Life - Remastered 2009   \n",
       "512  Sgt. Pepper's Lonely Hearts Club Band - Repris...   \n",
       "506               She's Leaving Home - Remastered 2009   \n",
       "510                      Lovely Rita - Remastered 2009   \n",
       "509              When I'm Sixty Four - Remastered 2009   \n",
       "..                                                 ...   \n",
       "426                    One After 909 - Remastered 2009   \n",
       "427        The Long And Winding Road - Remastered 2009   \n",
       "428                     For You Blue - Remastered 2009   \n",
       "429                         Get Back - Remastered 2009   \n",
       "424                       Maggie Mae - Remastered 2009   \n",
       "\n",
       "                                            Album Name    Tempo  Key  Mode  \\\n",
       "513  Sgt. Pepper's Lonely Hearts Club Band (Remaste...  163.219    4     0   \n",
       "512  Sgt. Pepper's Lonely Hearts Club Band (Remaste...  118.773    0     1   \n",
       "506  Sgt. Pepper's Lonely Hearts Club Band (Remaste...  127.581    4     1   \n",
       "510  Sgt. Pepper's Lonely Hearts Club Band (Remaste...   87.379    8     0   \n",
       "509  Sgt. Pepper's Lonely Hearts Club Band (Remaste...  140.411    1     1   \n",
       "..                                                 ...      ...  ...   ...   \n",
       "426                             Let It Be (Remastered)   90.950    4     1   \n",
       "427                             Let It Be (Remastered)  132.282    3     1   \n",
       "428                             Let It Be (Remastered)  128.542    2     1   \n",
       "429                             Let It Be (Remastered)  123.095    2     1   \n",
       "424                             Let It Be (Remastered)  169.039    2     0   \n",
       "\n",
       "    Release Date  Energy  Danceability  Loudness  Speechiness  Acousticness  \\\n",
       "513   1967-06-01   0.457         0.364   -14.162       0.0675        0.2900   \n",
       "512   1967-06-01   0.889         0.653    -8.006       0.0453        0.0061   \n",
       "506   1967-06-01   0.214         0.381   -11.629       0.0337        0.9440   \n",
       "510   1967-06-01   0.471         0.610    -9.151       0.0261        0.0634   \n",
       "509   1967-06-01   0.241         0.704   -13.258       0.0476        0.6250   \n",
       "..           ...     ...           ...       ...          ...           ...   \n",
       "426   1970-05-08   0.828         0.554    -6.435       0.0739        0.0307   \n",
       "427   1970-05-08   0.329         0.299   -10.096       0.0279        0.7560   \n",
       "428   1970-05-08   0.556         0.880   -10.773       0.0855        0.2400   \n",
       "429   1970-05-08   0.592         0.761    -9.836       0.0586        0.4920   \n",
       "424   1970-05-08   0.515         0.516   -12.035       0.2150        0.3790   \n",
       "\n",
       "     Instrumentalness  Liveness  Time Signature  Valence  Duration  \n",
       "513          0.000106    0.9220               4    0.175    337413  \n",
       "512          0.589000    0.8920               4    0.879     79067  \n",
       "506          0.000000    0.1060               3    0.393    215160  \n",
       "510          0.000000    0.1180               4    0.630    162093  \n",
       "509          0.000028    0.0868               4    0.661    157667  \n",
       "..                ...       ...             ...      ...       ...  \n",
       "426          0.000000    0.9070               4    0.888    173960  \n",
       "427          0.010500    0.0559               4    0.392    218187  \n",
       "428          0.048300    0.2400               4    0.955    152213  \n",
       "429          0.006260    0.6100               4    0.332    189387  \n",
       "424          0.000000    0.1030               4    0.524     40040  \n",
       "\n",
       "[98 rows x 16 columns]"
      ]
     },
     "execution_count": 19,
     "metadata": {},
     "output_type": "execute_result"
    }
   ],
   "source": [
    "filtered_df = df2[(condition1 & condition2) | condition3]\n",
    "filtered_df"
   ]
  },
  {
   "attachments": {},
   "cell_type": "markdown",
   "metadata": {},
   "source": [
    "This filtered dataframe should have 177 - 50 - 31 + 2 = 98 songs"
   ]
  },
  {
   "cell_type": "code",
   "execution_count": 61,
   "metadata": {},
   "outputs": [
    {
     "data": {
      "text/plain": [
       "(98, 16)"
      ]
     },
     "execution_count": 61,
     "metadata": {},
     "output_type": "execute_result"
    }
   ],
   "source": [
    "filtered_df.shape"
   ]
  },
  {
   "attachments": {},
   "cell_type": "markdown",
   "metadata": {},
   "source": [
    "Which it does. Now let's proceed."
   ]
  },
  {
   "attachments": {},
   "cell_type": "markdown",
   "metadata": {},
   "source": [
    "First I want to explore how some of the important audio features are distributed.\n",
    "\n",
    "Among the ones explained above, I am removing \n",
    "\n",
    "- Liveness (because we assume most of these tracks are from their studio albums), \n",
    "- Speechiness (because the songs did not have poetry or spoken words other than the lyrics which were generally evenly distributed throughout the songs)\n",
    "- Instrumentalness (because most of their tracks contained vocals so this is not so interesting to explore)\n",
    "- Acousticness (because this would also be generally even distribution as their songs contained a mixture of acoustic and other new sounds)"
   ]
  },
  {
   "cell_type": "code",
   "execution_count": 20,
   "metadata": {},
   "outputs": [],
   "source": [
    "audio_features = ['Tempo', 'Key', 'Energy', 'Danceability', 'Loudness', \n",
    "                  'Time Signature', 'Valence', 'Duration']\n",
    "\n"
   ]
  },
  {
   "cell_type": "code",
   "execution_count": 21,
   "metadata": {},
   "outputs": [
    {
     "data": {
      "application/vnd.plotly.v1+json": {
       "config": {
        "plotlyServerURL": "https://plot.ly"
       },
       "data": [
        {
         "marker": {
          "color": "#636EFA"
         },
         "name": "Tempo",
         "showlegend": false,
         "type": "histogram",
         "x": [
          163.219,
          118.773,
          127.581,
          87.379,
          140.411,
          126.166,
          111.874,
          112.984,
          121.672,
          112.035,
          95.513,
          121.849,
          65.09,
          95.797,
          112.931,
          101.052,
          170.962,
          144.184,
          92.929,
          117.613,
          113.038,
          99.307,
          97.871,
          96.751,
          103.436,
          85.206,
          93.245,
          93.699,
          68.492,
          177.624,
          139.288,
          114.816,
          89.9,
          113.059,
          120.432,
          150.721,
          142.489,
          79.456,
          115,
          84.895,
          117.089,
          103.11,
          187.688,
          146.408,
          91.158,
          76.644,
          144.197,
          98.425,
          120.761,
          167.518,
          75.478,
          84.78,
          151.766,
          139.239,
          134.706,
          104.837,
          113.511,
          110.849,
          209.242,
          95.937,
          100.495,
          103.103,
          83.971,
          128.054,
          118.99,
          117.185,
          82.423,
          105.345,
          113.126,
          165.007,
          133.522,
          129.171,
          173.93,
          92.225,
          115.732,
          81.257,
          131.12,
          74.994,
          174.464,
          100.874,
          84.319,
          123.444,
          80.652,
          80.608,
          166.829,
          100.687,
          109.114,
          152.126,
          185.235,
          157.03,
          143.462,
          59.004,
          165.156,
          90.95,
          132.282,
          128.542,
          123.095,
          169.039
         ],
         "xaxis": "x",
         "yaxis": "y"
        },
        {
         "marker": {
          "color": "#EF553B"
         },
         "name": "Key",
         "showlegend": false,
         "type": "histogram",
         "x": [
          4,
          0,
          4,
          8,
          1,
          6,
          0,
          0,
          0,
          4,
          7,
          2,
          2,
          10,
          9,
          0,
          9,
          4,
          0,
          0,
          9,
          0,
          10,
          7,
          7,
          2,
          8,
          7,
          9,
          10,
          9,
          0,
          2,
          10,
          7,
          7,
          9,
          7,
          4,
          0,
          2,
          5,
          2,
          7,
          2,
          9,
          7,
          9,
          11,
          9,
          0,
          2,
          9,
          2,
          2,
          5,
          7,
          1,
          9,
          2,
          7,
          7,
          9,
          2,
          6,
          9,
          8,
          7,
          7,
          9,
          0,
          9,
          4,
          1,
          2,
          2,
          2,
          2,
          0,
          2,
          0,
          11,
          2,
          0,
          11,
          4,
          7,
          1,
          9,
          5,
          0,
          11,
          2,
          4,
          3,
          2,
          2,
          2
         ],
         "xaxis": "x2",
         "yaxis": "y2"
        },
        {
         "marker": {
          "color": "#00CC96"
         },
         "name": "Energy",
         "showlegend": false,
         "type": "histogram",
         "x": [
          0.457,
          0.889,
          0.214,
          0.471,
          0.241,
          0.479,
          0.413,
          0.507,
          0.471,
          0.515,
          0.673,
          0.618,
          0.325,
          0.627,
          0.536,
          0.407,
          0.613,
          0.26,
          0.395,
          0.293,
          0.488,
          0.733,
          0.502,
          0.625,
          0.48,
          0.556,
          0.445,
          0.127,
          0.483,
          0.292,
          0.54,
          0.459,
          0.763,
          0.728,
          0.51,
          0.529,
          0.969,
          0.363,
          0.654,
          0.537,
          0.731,
          0.387,
          0.522,
          0.355,
          0.615,
          0.529,
          0.297,
          0.626,
          0.544,
          0.831,
          0.624,
          0.178,
          0.525,
          0.727,
          0.0953,
          0.129,
          0.781,
          0.536,
          0.731,
          0.431,
          0.617,
          0.463,
          0.166,
          0.096,
          0.0994,
          0.378,
          0.0902,
          0.219,
          0.281,
          0.376,
          0.338,
          0.54,
          0.656,
          0.512,
          0.515,
          0.249,
          0.426,
          0.177,
          0.416,
          0.215,
          0.458,
          0.487,
          0.72,
          0.152,
          0.939,
          0.596,
          0.702,
          0.412,
          0.638,
          0.489,
          0.403,
          0.478,
          0.609,
          0.828,
          0.329,
          0.556,
          0.592,
          0.515
         ],
         "xaxis": "x3",
         "yaxis": "y3"
        },
        {
         "marker": {
          "color": "#AB63FA"
         },
         "name": "Danceability",
         "showlegend": false,
         "type": "histogram",
         "x": [
          0.364,
          0.653,
          0.381,
          0.61,
          0.704,
          0.352,
          0.526,
          0.469,
          0.632,
          0.705,
          0.451,
          0.542,
          0.311,
          0.38,
          0.624,
          0.294,
          0.297,
          0.356,
          0.551,
          0.698,
          0.651,
          0.479,
          0.39,
          0.619,
          0.4,
          0.401,
          0.542,
          0.686,
          0.433,
          0.472,
          0.431,
          0.621,
          0.792,
          0.818,
          0.523,
          0.388,
          0.48,
          0.599,
          0.453,
          0.599,
          0.523,
          0.631,
          0.589,
          0.146,
          0.208,
          0.517,
          0.537,
          0.386,
          0.623,
          0.166,
          0.577,
          0.608,
          0.327,
          0.541,
          0.512,
          0.349,
          0.39,
          0.605,
          0.175,
          0.587,
          0.587,
          0.4,
          0.253,
          0.237,
          0.249,
          0.538,
          0.269,
          0.406,
          0.354,
          0.533,
          0.396,
          0.557,
          0.422,
          0.626,
          0.37,
          0.328,
          0.764,
          0.483,
          0.335,
          0.703,
          0.543,
          0.647,
          0.53,
          0.419,
          0.474,
          0.676,
          0.726,
          0.257,
          0.291,
          0.54,
          0.443,
          0.538,
          0.44,
          0.554,
          0.299,
          0.88,
          0.761,
          0.516
         ],
         "xaxis": "x4",
         "yaxis": "y4"
        },
        {
         "marker": {
          "color": "#FFA15A"
         },
         "name": "Loudness",
         "showlegend": false,
         "type": "histogram",
         "x": [
          -14.162,
          -8.006,
          -11.629,
          -9.151,
          -13.258,
          -9.965,
          -9.865,
          -8.917,
          -7.887,
          -9.343,
          -9.115,
          -8.876,
          -9.042,
          -9.647,
          -7.617,
          -11.575,
          -9.065,
          -10.577,
          -14.755,
          -11.361,
          -8.22,
          -8.753,
          -12.277,
          -9.635,
          -7.768,
          -10.532,
          -9.105,
          -14.361,
          -9.422,
          -11.591,
          -9.6,
          -10.414,
          -11.185,
          -8.331,
          -9.827,
          -10.533,
          -7.464,
          -11.728,
          -8.855,
          -9.617,
          -8.613,
          -11.529,
          -8.718,
          -14.583,
          -15.297,
          -11.851,
          -15.452,
          -9.451,
          -11.043,
          -8.469,
          -9.626,
          -17.109,
          -10.272,
          -7.509,
          -16.082,
          -15.883,
          -7.878,
          -10.069,
          -8.341,
          -9.495,
          -9.164,
          -8.455,
          -16.624,
          -20.629,
          -19.266,
          -14.117,
          -23.018,
          -13.155,
          -12.434,
          -11.913,
          -10.872,
          -10.484,
          -8.412,
          -9.15,
          -9.487,
          -11.777,
          -11.045,
          -17.629,
          -11.051,
          -23.03,
          -8.976,
          -10.119,
          -8.793,
          -12.126,
          -8.884,
          -9.107,
          -10.757,
          -11.788,
          -7.854,
          -12.276,
          -8.339,
          -8.957,
          -8.824,
          -6.435,
          -10.096,
          -10.773,
          -9.836,
          -12.035
         ],
         "xaxis": "x5",
         "yaxis": "y5"
        },
        {
         "marker": {
          "color": "#19D3F3"
         },
         "name": "Time Signature",
         "showlegend": false,
         "type": "histogram",
         "x": [
          4,
          4,
          3,
          4,
          4,
          4,
          4,
          4,
          4,
          4,
          4,
          3,
          1,
          4,
          4,
          4,
          4,
          4,
          4,
          4,
          4,
          4,
          4,
          4,
          4,
          4,
          4,
          4,
          4,
          4,
          4,
          4,
          4,
          4,
          4,
          4,
          4,
          4,
          4,
          4,
          4,
          4,
          4,
          3,
          4,
          4,
          4,
          4,
          4,
          4,
          4,
          4,
          3,
          4,
          4,
          3,
          4,
          4,
          4,
          4,
          4,
          4,
          3,
          4,
          3,
          4,
          4,
          4,
          4,
          4,
          4,
          4,
          3,
          4,
          4,
          4,
          4,
          4,
          3,
          3,
          4,
          1,
          4,
          4,
          4,
          4,
          4,
          4,
          3,
          3,
          4,
          4,
          4,
          4,
          4,
          4,
          4,
          4
         ],
         "xaxis": "x6",
         "yaxis": "y6"
        },
        {
         "marker": {
          "color": "#FF6692"
         },
         "name": "Valence",
         "showlegend": false,
         "type": "histogram",
         "x": [
          0.175,
          0.879,
          0.393,
          0.63,
          0.661,
          0.354,
          0.71,
          0.619,
          0.764,
          0.803,
          0.583,
          0.93,
          0.668,
          0.255,
          0.641,
          0.0378,
          0.338,
          0.49,
          0.261,
          0.724,
          0.49,
          0.806,
          0.289,
          0.467,
          0.653,
          0.654,
          0.52,
          0.372,
          0.717,
          0.824,
          0.44,
          0.648,
          0.152,
          0.975,
          0.789,
          0.332,
          0.494,
          0.648,
          0.702,
          0.946,
          0.81,
          0.832,
          0.957,
          0.178,
          0.101,
          0.362,
          0.553,
          0.695,
          0.793,
          0.281,
          0.671,
          0.401,
          0.435,
          0.91,
          0.193,
          0.163,
          0.199,
          0.688,
          0.801,
          0.778,
          0.947,
          0.627,
          0.0489,
          0.0629,
          0.0357,
          0.16,
          0.0462,
          0.271,
          0.367,
          0.187,
          0.377,
          0.394,
          0.549,
          0.73,
          0.42,
          0.162,
          0.726,
          0.192,
          0.223,
          0.522,
          0.704,
          0.222,
          0.69,
          0.239,
          0.499,
          0.97,
          0.931,
          0.858,
          0.525,
          0.67,
          0.41,
          0.527,
          0.364,
          0.888,
          0.392,
          0.955,
          0.332,
          0.524
         ],
         "xaxis": "x7",
         "yaxis": "y7"
        },
        {
         "marker": {
          "color": "#B6E880"
         },
         "name": "Duration",
         "showlegend": false,
         "type": "histogram",
         "x": [
          337413,
          79067,
          215160,
          162093,
          157667,
          304667,
          157533,
          156827,
          168120,
          164107,
          122893,
          161227,
          208467,
          246413,
          179147,
          235067,
          170107,
          179107,
          135520,
          148413,
          180893,
          208840,
          247320,
          181307,
          230387,
          275867,
          124267,
          138387,
          123493,
          148573,
          164547,
          194160,
          52973,
          188960,
          137840,
          235773,
          163453,
          213107,
          285000,
          230453,
          144773,
          105933,
          101160,
          193760,
          502013,
          182080,
          161160,
          255707,
          174467,
          269787,
          195267,
          168027,
          240453,
          163080,
          176667,
          186307,
          385013,
          159720,
          204493,
          130893,
          191307,
          231213,
          216693,
          180213,
          136693,
          139360,
          132773,
          134027,
          140733,
          259947,
          182293,
          185733,
          207240,
          170720,
          467320,
          165667,
          207920,
          146267,
          242973,
          25987,
          96467,
          141613,
          118627,
          91760,
          72640,
          66533,
          216813,
          228133,
          145587,
          50467,
          243027,
          235000,
          217560,
          173960,
          218187,
          152213,
          189387,
          40040
         ],
         "xaxis": "x8",
         "yaxis": "y8"
        }
       ],
       "layout": {
        "annotations": [
         {
          "font": {
           "size": 16
          },
          "showarrow": false,
          "text": "Tempo",
          "x": 0.225,
          "xanchor": "center",
          "xref": "paper",
          "y": 1,
          "yanchor": "bottom",
          "yref": "paper"
         },
         {
          "font": {
           "size": 16
          },
          "showarrow": false,
          "text": "Key",
          "x": 0.775,
          "xanchor": "center",
          "xref": "paper",
          "y": 1,
          "yanchor": "bottom",
          "yref": "paper"
         },
         {
          "font": {
           "size": 16
          },
          "showarrow": false,
          "text": "Energy",
          "x": 0.225,
          "xanchor": "center",
          "xref": "paper",
          "y": 0.796,
          "yanchor": "bottom",
          "yref": "paper"
         },
         {
          "font": {
           "size": 16
          },
          "showarrow": false,
          "text": "Danceability",
          "x": 0.775,
          "xanchor": "center",
          "xref": "paper",
          "y": 0.796,
          "yanchor": "bottom",
          "yref": "paper"
         },
         {
          "font": {
           "size": 16
          },
          "showarrow": false,
          "text": "Loudness",
          "x": 0.225,
          "xanchor": "center",
          "xref": "paper",
          "y": 0.592,
          "yanchor": "bottom",
          "yref": "paper"
         },
         {
          "font": {
           "size": 16
          },
          "showarrow": false,
          "text": "Time Signature",
          "x": 0.775,
          "xanchor": "center",
          "xref": "paper",
          "y": 0.592,
          "yanchor": "bottom",
          "yref": "paper"
         },
         {
          "font": {
           "size": 16
          },
          "showarrow": false,
          "text": "Valence",
          "x": 0.225,
          "xanchor": "center",
          "xref": "paper",
          "y": 0.388,
          "yanchor": "bottom",
          "yref": "paper"
         },
         {
          "font": {
           "size": 16
          },
          "showarrow": false,
          "text": "Duration",
          "x": 0.775,
          "xanchor": "center",
          "xref": "paper",
          "y": 0.388,
          "yanchor": "bottom",
          "yref": "paper"
         }
        ],
        "barmode": "overlay",
        "height": 2250,
        "margin": {
         "b": 0.1
        },
        "template": {
         "data": {
          "bar": [
           {
            "error_x": {
             "color": "#2a3f5f"
            },
            "error_y": {
             "color": "#2a3f5f"
            },
            "marker": {
             "line": {
              "color": "#E5ECF6",
              "width": 0.5
             },
             "pattern": {
              "fillmode": "overlay",
              "size": 10,
              "solidity": 0.2
             }
            },
            "type": "bar"
           }
          ],
          "barpolar": [
           {
            "marker": {
             "line": {
              "color": "#E5ECF6",
              "width": 0.5
             },
             "pattern": {
              "fillmode": "overlay",
              "size": 10,
              "solidity": 0.2
             }
            },
            "type": "barpolar"
           }
          ],
          "carpet": [
           {
            "aaxis": {
             "endlinecolor": "#2a3f5f",
             "gridcolor": "white",
             "linecolor": "white",
             "minorgridcolor": "white",
             "startlinecolor": "#2a3f5f"
            },
            "baxis": {
             "endlinecolor": "#2a3f5f",
             "gridcolor": "white",
             "linecolor": "white",
             "minorgridcolor": "white",
             "startlinecolor": "#2a3f5f"
            },
            "type": "carpet"
           }
          ],
          "choropleth": [
           {
            "colorbar": {
             "outlinewidth": 0,
             "ticks": ""
            },
            "type": "choropleth"
           }
          ],
          "contour": [
           {
            "colorbar": {
             "outlinewidth": 0,
             "ticks": ""
            },
            "colorscale": [
             [
              0,
              "#0d0887"
             ],
             [
              0.1111111111111111,
              "#46039f"
             ],
             [
              0.2222222222222222,
              "#7201a8"
             ],
             [
              0.3333333333333333,
              "#9c179e"
             ],
             [
              0.4444444444444444,
              "#bd3786"
             ],
             [
              0.5555555555555556,
              "#d8576b"
             ],
             [
              0.6666666666666666,
              "#ed7953"
             ],
             [
              0.7777777777777778,
              "#fb9f3a"
             ],
             [
              0.8888888888888888,
              "#fdca26"
             ],
             [
              1,
              "#f0f921"
             ]
            ],
            "type": "contour"
           }
          ],
          "contourcarpet": [
           {
            "colorbar": {
             "outlinewidth": 0,
             "ticks": ""
            },
            "type": "contourcarpet"
           }
          ],
          "heatmap": [
           {
            "colorbar": {
             "outlinewidth": 0,
             "ticks": ""
            },
            "colorscale": [
             [
              0,
              "#0d0887"
             ],
             [
              0.1111111111111111,
              "#46039f"
             ],
             [
              0.2222222222222222,
              "#7201a8"
             ],
             [
              0.3333333333333333,
              "#9c179e"
             ],
             [
              0.4444444444444444,
              "#bd3786"
             ],
             [
              0.5555555555555556,
              "#d8576b"
             ],
             [
              0.6666666666666666,
              "#ed7953"
             ],
             [
              0.7777777777777778,
              "#fb9f3a"
             ],
             [
              0.8888888888888888,
              "#fdca26"
             ],
             [
              1,
              "#f0f921"
             ]
            ],
            "type": "heatmap"
           }
          ],
          "heatmapgl": [
           {
            "colorbar": {
             "outlinewidth": 0,
             "ticks": ""
            },
            "colorscale": [
             [
              0,
              "#0d0887"
             ],
             [
              0.1111111111111111,
              "#46039f"
             ],
             [
              0.2222222222222222,
              "#7201a8"
             ],
             [
              0.3333333333333333,
              "#9c179e"
             ],
             [
              0.4444444444444444,
              "#bd3786"
             ],
             [
              0.5555555555555556,
              "#d8576b"
             ],
             [
              0.6666666666666666,
              "#ed7953"
             ],
             [
              0.7777777777777778,
              "#fb9f3a"
             ],
             [
              0.8888888888888888,
              "#fdca26"
             ],
             [
              1,
              "#f0f921"
             ]
            ],
            "type": "heatmapgl"
           }
          ],
          "histogram": [
           {
            "marker": {
             "pattern": {
              "fillmode": "overlay",
              "size": 10,
              "solidity": 0.2
             }
            },
            "type": "histogram"
           }
          ],
          "histogram2d": [
           {
            "colorbar": {
             "outlinewidth": 0,
             "ticks": ""
            },
            "colorscale": [
             [
              0,
              "#0d0887"
             ],
             [
              0.1111111111111111,
              "#46039f"
             ],
             [
              0.2222222222222222,
              "#7201a8"
             ],
             [
              0.3333333333333333,
              "#9c179e"
             ],
             [
              0.4444444444444444,
              "#bd3786"
             ],
             [
              0.5555555555555556,
              "#d8576b"
             ],
             [
              0.6666666666666666,
              "#ed7953"
             ],
             [
              0.7777777777777778,
              "#fb9f3a"
             ],
             [
              0.8888888888888888,
              "#fdca26"
             ],
             [
              1,
              "#f0f921"
             ]
            ],
            "type": "histogram2d"
           }
          ],
          "histogram2dcontour": [
           {
            "colorbar": {
             "outlinewidth": 0,
             "ticks": ""
            },
            "colorscale": [
             [
              0,
              "#0d0887"
             ],
             [
              0.1111111111111111,
              "#46039f"
             ],
             [
              0.2222222222222222,
              "#7201a8"
             ],
             [
              0.3333333333333333,
              "#9c179e"
             ],
             [
              0.4444444444444444,
              "#bd3786"
             ],
             [
              0.5555555555555556,
              "#d8576b"
             ],
             [
              0.6666666666666666,
              "#ed7953"
             ],
             [
              0.7777777777777778,
              "#fb9f3a"
             ],
             [
              0.8888888888888888,
              "#fdca26"
             ],
             [
              1,
              "#f0f921"
             ]
            ],
            "type": "histogram2dcontour"
           }
          ],
          "mesh3d": [
           {
            "colorbar": {
             "outlinewidth": 0,
             "ticks": ""
            },
            "type": "mesh3d"
           }
          ],
          "parcoords": [
           {
            "line": {
             "colorbar": {
              "outlinewidth": 0,
              "ticks": ""
             }
            },
            "type": "parcoords"
           }
          ],
          "pie": [
           {
            "automargin": true,
            "type": "pie"
           }
          ],
          "scatter": [
           {
            "fillpattern": {
             "fillmode": "overlay",
             "size": 10,
             "solidity": 0.2
            },
            "type": "scatter"
           }
          ],
          "scatter3d": [
           {
            "line": {
             "colorbar": {
              "outlinewidth": 0,
              "ticks": ""
             }
            },
            "marker": {
             "colorbar": {
              "outlinewidth": 0,
              "ticks": ""
             }
            },
            "type": "scatter3d"
           }
          ],
          "scattercarpet": [
           {
            "marker": {
             "colorbar": {
              "outlinewidth": 0,
              "ticks": ""
             }
            },
            "type": "scattercarpet"
           }
          ],
          "scattergeo": [
           {
            "marker": {
             "colorbar": {
              "outlinewidth": 0,
              "ticks": ""
             }
            },
            "type": "scattergeo"
           }
          ],
          "scattergl": [
           {
            "marker": {
             "colorbar": {
              "outlinewidth": 0,
              "ticks": ""
             }
            },
            "type": "scattergl"
           }
          ],
          "scattermapbox": [
           {
            "marker": {
             "colorbar": {
              "outlinewidth": 0,
              "ticks": ""
             }
            },
            "type": "scattermapbox"
           }
          ],
          "scatterpolar": [
           {
            "marker": {
             "colorbar": {
              "outlinewidth": 0,
              "ticks": ""
             }
            },
            "type": "scatterpolar"
           }
          ],
          "scatterpolargl": [
           {
            "marker": {
             "colorbar": {
              "outlinewidth": 0,
              "ticks": ""
             }
            },
            "type": "scatterpolargl"
           }
          ],
          "scatterternary": [
           {
            "marker": {
             "colorbar": {
              "outlinewidth": 0,
              "ticks": ""
             }
            },
            "type": "scatterternary"
           }
          ],
          "surface": [
           {
            "colorbar": {
             "outlinewidth": 0,
             "ticks": ""
            },
            "colorscale": [
             [
              0,
              "#0d0887"
             ],
             [
              0.1111111111111111,
              "#46039f"
             ],
             [
              0.2222222222222222,
              "#7201a8"
             ],
             [
              0.3333333333333333,
              "#9c179e"
             ],
             [
              0.4444444444444444,
              "#bd3786"
             ],
             [
              0.5555555555555556,
              "#d8576b"
             ],
             [
              0.6666666666666666,
              "#ed7953"
             ],
             [
              0.7777777777777778,
              "#fb9f3a"
             ],
             [
              0.8888888888888888,
              "#fdca26"
             ],
             [
              1,
              "#f0f921"
             ]
            ],
            "type": "surface"
           }
          ],
          "table": [
           {
            "cells": {
             "fill": {
              "color": "#EBF0F8"
             },
             "line": {
              "color": "white"
             }
            },
            "header": {
             "fill": {
              "color": "#C8D4E3"
             },
             "line": {
              "color": "white"
             }
            },
            "type": "table"
           }
          ]
         },
         "layout": {
          "annotationdefaults": {
           "arrowcolor": "#2a3f5f",
           "arrowhead": 0,
           "arrowwidth": 1
          },
          "autotypenumbers": "strict",
          "coloraxis": {
           "colorbar": {
            "outlinewidth": 0,
            "ticks": ""
           }
          },
          "colorscale": {
           "diverging": [
            [
             0,
             "#8e0152"
            ],
            [
             0.1,
             "#c51b7d"
            ],
            [
             0.2,
             "#de77ae"
            ],
            [
             0.3,
             "#f1b6da"
            ],
            [
             0.4,
             "#fde0ef"
            ],
            [
             0.5,
             "#f7f7f7"
            ],
            [
             0.6,
             "#e6f5d0"
            ],
            [
             0.7,
             "#b8e186"
            ],
            [
             0.8,
             "#7fbc41"
            ],
            [
             0.9,
             "#4d9221"
            ],
            [
             1,
             "#276419"
            ]
           ],
           "sequential": [
            [
             0,
             "#0d0887"
            ],
            [
             0.1111111111111111,
             "#46039f"
            ],
            [
             0.2222222222222222,
             "#7201a8"
            ],
            [
             0.3333333333333333,
             "#9c179e"
            ],
            [
             0.4444444444444444,
             "#bd3786"
            ],
            [
             0.5555555555555556,
             "#d8576b"
            ],
            [
             0.6666666666666666,
             "#ed7953"
            ],
            [
             0.7777777777777778,
             "#fb9f3a"
            ],
            [
             0.8888888888888888,
             "#fdca26"
            ],
            [
             1,
             "#f0f921"
            ]
           ],
           "sequentialminus": [
            [
             0,
             "#0d0887"
            ],
            [
             0.1111111111111111,
             "#46039f"
            ],
            [
             0.2222222222222222,
             "#7201a8"
            ],
            [
             0.3333333333333333,
             "#9c179e"
            ],
            [
             0.4444444444444444,
             "#bd3786"
            ],
            [
             0.5555555555555556,
             "#d8576b"
            ],
            [
             0.6666666666666666,
             "#ed7953"
            ],
            [
             0.7777777777777778,
             "#fb9f3a"
            ],
            [
             0.8888888888888888,
             "#fdca26"
            ],
            [
             1,
             "#f0f921"
            ]
           ]
          },
          "colorway": [
           "#636efa",
           "#EF553B",
           "#00cc96",
           "#ab63fa",
           "#FFA15A",
           "#19d3f3",
           "#FF6692",
           "#B6E880",
           "#FF97FF",
           "#FECB52"
          ],
          "font": {
           "color": "#2a3f5f"
          },
          "geo": {
           "bgcolor": "white",
           "lakecolor": "white",
           "landcolor": "#E5ECF6",
           "showlakes": true,
           "showland": true,
           "subunitcolor": "white"
          },
          "hoverlabel": {
           "align": "left"
          },
          "hovermode": "closest",
          "mapbox": {
           "style": "light"
          },
          "paper_bgcolor": "white",
          "plot_bgcolor": "#E5ECF6",
          "polar": {
           "angularaxis": {
            "gridcolor": "white",
            "linecolor": "white",
            "ticks": ""
           },
           "bgcolor": "#E5ECF6",
           "radialaxis": {
            "gridcolor": "white",
            "linecolor": "white",
            "ticks": ""
           }
          },
          "scene": {
           "xaxis": {
            "backgroundcolor": "#E5ECF6",
            "gridcolor": "white",
            "gridwidth": 2,
            "linecolor": "white",
            "showbackground": true,
            "ticks": "",
            "zerolinecolor": "white"
           },
           "yaxis": {
            "backgroundcolor": "#E5ECF6",
            "gridcolor": "white",
            "gridwidth": 2,
            "linecolor": "white",
            "showbackground": true,
            "ticks": "",
            "zerolinecolor": "white"
           },
           "zaxis": {
            "backgroundcolor": "#E5ECF6",
            "gridcolor": "white",
            "gridwidth": 2,
            "linecolor": "white",
            "showbackground": true,
            "ticks": "",
            "zerolinecolor": "white"
           }
          },
          "shapedefaults": {
           "line": {
            "color": "#2a3f5f"
           }
          },
          "ternary": {
           "aaxis": {
            "gridcolor": "white",
            "linecolor": "white",
            "ticks": ""
           },
           "baxis": {
            "gridcolor": "white",
            "linecolor": "white",
            "ticks": ""
           },
           "bgcolor": "#E5ECF6",
           "caxis": {
            "gridcolor": "white",
            "linecolor": "white",
            "ticks": ""
           }
          },
          "title": {
           "x": 0.05
          },
          "xaxis": {
           "automargin": true,
           "gridcolor": "white",
           "linecolor": "white",
           "ticks": "",
           "title": {
            "standoff": 15
           },
           "zerolinecolor": "white",
           "zerolinewidth": 2
          },
          "yaxis": {
           "automargin": true,
           "gridcolor": "white",
           "linecolor": "white",
           "ticks": "",
           "title": {
            "standoff": 15
           },
           "zerolinecolor": "white",
           "zerolinewidth": 2
          }
         }
        },
        "xaxis": {
         "anchor": "y",
         "domain": [
          0,
          0.45
         ]
        },
        "xaxis10": {
         "anchor": "y10",
         "domain": [
          0.55,
          1
         ]
        },
        "xaxis2": {
         "anchor": "y2",
         "domain": [
          0.55,
          1
         ]
        },
        "xaxis3": {
         "anchor": "y3",
         "domain": [
          0,
          0.45
         ]
        },
        "xaxis4": {
         "anchor": "y4",
         "domain": [
          0.55,
          1
         ]
        },
        "xaxis5": {
         "anchor": "y5",
         "domain": [
          0,
          0.45
         ]
        },
        "xaxis6": {
         "anchor": "y6",
         "domain": [
          0.55,
          1
         ]
        },
        "xaxis7": {
         "anchor": "y7",
         "domain": [
          0,
          0.45
         ]
        },
        "xaxis8": {
         "anchor": "y8",
         "domain": [
          0.55,
          1
         ]
        },
        "xaxis9": {
         "anchor": "y9",
         "domain": [
          0,
          0.45
         ],
         "title": {
          "text": "Value"
         }
        },
        "yaxis": {
         "anchor": "x",
         "domain": [
          0.816,
          1
         ]
        },
        "yaxis10": {
         "anchor": "x10",
         "domain": [
          0,
          0.184
         ]
        },
        "yaxis2": {
         "anchor": "x2",
         "domain": [
          0.816,
          1
         ]
        },
        "yaxis3": {
         "anchor": "x3",
         "domain": [
          0.6120000000000001,
          0.796
         ]
        },
        "yaxis4": {
         "anchor": "x4",
         "domain": [
          0.6120000000000001,
          0.796
         ]
        },
        "yaxis5": {
         "anchor": "x5",
         "domain": [
          0.408,
          0.592
         ]
        },
        "yaxis6": {
         "anchor": "x6",
         "domain": [
          0.408,
          0.592
         ]
        },
        "yaxis7": {
         "anchor": "x7",
         "domain": [
          0.204,
          0.388
         ]
        },
        "yaxis8": {
         "anchor": "x8",
         "domain": [
          0.204,
          0.388
         ]
        },
        "yaxis9": {
         "anchor": "x9",
         "domain": [
          0,
          0.184
         ],
         "title": {
          "text": "Count"
         }
        }
       }
      }
     },
     "metadata": {},
     "output_type": "display_data"
    }
   ],
   "source": [
    "layout_height = 450 * (len(audio_features) // 2 + 1) \n",
    "\n",
    "fig = make_subplots(rows=len(audio_features)//2 + 1, cols=2,\n",
    "                    subplot_titles=audio_features, \n",
    "                    vertical_spacing=0.02)  \n",
    "\n",
    "colors = px.colors.qualitative.Plotly\n",
    "\n",
    "for i, feature in enumerate(audio_features):\n",
    "    # Add a histogram for the current audio feature to the subplot\n",
    "    row = i // 2 + 1\n",
    "    col = i % 2 + 1\n",
    "    fig.add_trace(go.Histogram(x=filtered_df[feature], name=feature, marker_color=colors[i % len(colors)],showlegend=False), row=row, col=col)\n",
    "\n",
    "# Update axes and layout\n",
    "fig.update_xaxes(title_text='Value', row=len(audio_features)//2 + 1, col=1)\n",
    "fig.update_yaxes(title_text='Count', row=len(audio_features)//2 + 1, col=1)\n",
    "fig.update_layout(barmode='overlay', height=layout_height, margin=dict(b=0.1))\n",
    "\n",
    "\n",
    "# Show the plot\n",
    "fig.show()"
   ]
  },
  {
   "attachments": {},
   "cell_type": "markdown",
   "metadata": {},
   "source": [
    "The distributions show that the Tempo, Key, Energy, Danceability and Valence are somewhat normally distributed with some double peaks. Songs are generally on the louder side and between 100-200 seconds (approx.1.5 to 3 minutes)."
   ]
  },
  {
   "cell_type": "code",
   "execution_count": 94,
   "metadata": {},
   "outputs": [
    {
     "data": {
      "application/vnd.plotly.v1+json": {
       "config": {
        "plotlyServerURL": "https://plot.ly"
       },
       "data": [
        {
         "hoverinfo": "text",
         "marker": {
          "cmax": 0.975,
          "cmin": 0.0357,
          "color": 0.175,
          "colorbar": {
           "title": {
            "text": "Positiveness"
           }
          },
          "opacity": 0.7,
          "size": 22.85
         },
         "mode": "markers",
         "showlegend": false,
         "text": "A Day In The Life - Remastered 2009",
         "type": "scatter",
         "x": [
          163.219
         ],
         "y": [
          5.62355
         ]
        },
        {
         "hoverinfo": "text",
         "marker": {
          "cmax": 0.975,
          "cmin": 0.0357,
          "color": 0.879,
          "colorbar": {
           "title": {
            "text": "Positiveness"
           }
          },
          "opacity": 0.7,
          "size": 44.45
         },
         "mode": "markers",
         "showlegend": false,
         "text": "Sgt. Pepper's Lonely Hearts Club Band - Reprise / Remastered 2009",
         "type": "scatter",
         "x": [
          118.773
         ],
         "y": [
          1.3177833333333333
         ]
        },
        {
         "hoverinfo": "text",
         "marker": {
          "cmax": 0.975,
          "cmin": 0.0357,
          "color": 0.393,
          "colorbar": {
           "title": {
            "text": "Positiveness"
           }
          },
          "opacity": 0.7,
          "size": 10.7
         },
         "mode": "markers",
         "showlegend": false,
         "text": "She's Leaving Home - Remastered 2009",
         "type": "scatter",
         "x": [
          127.581
         ],
         "y": [
          3.586
         ]
        },
        {
         "hoverinfo": "text",
         "marker": {
          "cmax": 0.975,
          "cmin": 0.0357,
          "color": 0.63,
          "colorbar": {
           "title": {
            "text": "Positiveness"
           }
          },
          "opacity": 0.7,
          "size": 23.549999999999997
         },
         "mode": "markers",
         "showlegend": false,
         "text": "Lovely Rita - Remastered 2009",
         "type": "scatter",
         "x": [
          87.379
         ],
         "y": [
          2.70155
         ]
        },
        {
         "hoverinfo": "text",
         "marker": {
          "cmax": 0.975,
          "cmin": 0.0357,
          "color": 0.661,
          "colorbar": {
           "title": {
            "text": "Positiveness"
           }
          },
          "opacity": 0.7,
          "size": 12.049999999999999
         },
         "mode": "markers",
         "showlegend": false,
         "text": "When I'm Sixty Four - Remastered 2009",
         "type": "scatter",
         "x": [
          140.411
         ],
         "y": [
          2.6277833333333334
         ]
        },
        {
         "hoverinfo": "text",
         "marker": {
          "cmax": 0.975,
          "cmin": 0.0357,
          "color": 0.354,
          "colorbar": {
           "title": {
            "text": "Positiveness"
           }
          },
          "opacity": 0.7,
          "size": 23.95
         },
         "mode": "markers",
         "showlegend": false,
         "text": "Within You Without You - Remastered 2009",
         "type": "scatter",
         "x": [
          126.166
         ],
         "y": [
          5.0777833333333335
         ]
        },
        {
         "hoverinfo": "text",
         "marker": {
          "cmax": 0.975,
          "cmin": 0.0357,
          "color": 0.71,
          "colorbar": {
           "title": {
            "text": "Positiveness"
           }
          },
          "opacity": 0.7,
          "size": 20.65
         },
         "mode": "markers",
         "showlegend": false,
         "text": "Being For The Benefit Of Mr. Kite! - Remastered 2009",
         "type": "scatter",
         "x": [
          111.874
         ],
         "y": [
          2.62555
         ]
        },
        {
         "hoverinfo": "text",
         "marker": {
          "cmax": 0.975,
          "cmin": 0.0357,
          "color": 0.619,
          "colorbar": {
           "title": {
            "text": "Positiveness"
           }
          },
          "opacity": 0.7,
          "size": 25.35
         },
         "mode": "markers",
         "showlegend": false,
         "text": "Fixing A Hole - Remastered 2009",
         "type": "scatter",
         "x": [
          112.984
         ],
         "y": [
          2.613783333333333
         ]
        },
        {
         "hoverinfo": "text",
         "marker": {
          "cmax": 0.975,
          "cmin": 0.0357,
          "color": 0.764,
          "colorbar": {
           "title": {
            "text": "Positiveness"
           }
          },
          "opacity": 0.7,
          "size": 23.549999999999997
         },
         "mode": "markers",
         "showlegend": false,
         "text": "Getting Better - Remastered 2009",
         "type": "scatter",
         "x": [
          121.672
         ],
         "y": [
          2.802
         ]
        },
        {
         "hoverinfo": "text",
         "marker": {
          "cmax": 0.975,
          "cmin": 0.0357,
          "color": 0.803,
          "colorbar": {
           "title": {
            "text": "Positiveness"
           }
          },
          "opacity": 0.7,
          "size": 25.75
         },
         "mode": "markers",
         "showlegend": false,
         "text": "With A Little Help From My Friends - Remastered 2009",
         "type": "scatter",
         "x": [
          112.035
         ],
         "y": [
          2.735116666666667
         ]
        },
        {
         "hoverinfo": "text",
         "marker": {
          "cmax": 0.975,
          "cmin": 0.0357,
          "color": 0.583,
          "colorbar": {
           "title": {
            "text": "Positiveness"
           }
          },
          "opacity": 0.7,
          "size": 33.650000000000006
         },
         "mode": "markers",
         "showlegend": false,
         "text": "Sgt. Pepper's Lonely Hearts Club Band - Remastered 2009",
         "type": "scatter",
         "x": [
          95.513
         ],
         "y": [
          2.048216666666667
         ]
        },
        {
         "hoverinfo": "text",
         "marker": {
          "cmax": 0.975,
          "cmin": 0.0357,
          "color": 0.93,
          "colorbar": {
           "title": {
            "text": "Positiveness"
           }
          },
          "opacity": 0.7,
          "size": 30.9
         },
         "mode": "markers",
         "showlegend": false,
         "text": "Good Morning Good Morning - Remastered 2009",
         "type": "scatter",
         "x": [
          121.849
         ],
         "y": [
          2.687116666666667
         ]
        },
        {
         "hoverinfo": "text",
         "marker": {
          "cmax": 0.975,
          "cmin": 0.0357,
          "color": 0.668,
          "colorbar": {
           "title": {
            "text": "Positiveness"
           }
          },
          "opacity": 0.7,
          "size": 16.25
         },
         "mode": "markers",
         "showlegend": false,
         "text": "Lucy In The Sky With Diamonds - Remastered 2009",
         "type": "scatter",
         "x": [
          65.09
         ],
         "y": [
          3.47445
         ]
        },
        {
         "hoverinfo": "text",
         "marker": {
          "cmax": 0.975,
          "cmin": 0.0357,
          "color": 0.255,
          "colorbar": {
           "title": {
            "text": "Positiveness"
           }
          },
          "opacity": 0.7,
          "size": 31.35
         },
         "mode": "markers",
         "showlegend": false,
         "text": "Strawberry Fields Forever - Stereo Mix 2015",
         "type": "scatter",
         "x": [
          95.797
         ],
         "y": [
          4.106883333333333
         ]
        },
        {
         "hoverinfo": "text",
         "marker": {
          "cmax": 0.975,
          "cmin": 0.0357,
          "color": 0.641,
          "colorbar": {
           "title": {
            "text": "Positiveness"
           }
          },
          "opacity": 0.7,
          "size": 26.8
         },
         "mode": "markers",
         "showlegend": false,
         "text": "Penny Lane - Stereo Mix 2017",
         "type": "scatter",
         "x": [
          112.931
         ],
         "y": [
          2.9857833333333335
         ]
        },
        {
         "hoverinfo": "text",
         "marker": {
          "cmax": 0.975,
          "cmin": 0.0357,
          "color": 0.0378,
          "colorbar": {
           "title": {
            "text": "Positiveness"
           }
          },
          "opacity": 0.7,
          "size": 20.349999999999998
         },
         "mode": "markers",
         "showlegend": false,
         "text": "Blue Jay Way - Remastered 2009",
         "type": "scatter",
         "x": [
          101.052
         ],
         "y": [
          3.9177833333333334
         ]
        },
        {
         "hoverinfo": "text",
         "marker": {
          "cmax": 0.975,
          "cmin": 0.0357,
          "color": 0.338,
          "colorbar": {
           "title": {
            "text": "Positiveness"
           }
          },
          "opacity": 0.7,
          "size": 30.65
         },
         "mode": "markers",
         "showlegend": false,
         "text": "Magical Mystery Tour - Remastered 2009",
         "type": "scatter",
         "x": [
          170.962
         ],
         "y": [
          2.8351166666666665
         ]
        },
        {
         "hoverinfo": "text",
         "marker": {
          "cmax": 0.975,
          "cmin": 0.0357,
          "color": 0.49,
          "colorbar": {
           "title": {
            "text": "Positiveness"
           }
          },
          "opacity": 0.7,
          "size": 13
         },
         "mode": "markers",
         "showlegend": false,
         "text": "The Fool On The Hill - Remastered 2009",
         "type": "scatter",
         "x": [
          144.184
         ],
         "y": [
          2.985116666666667
         ]
        },
        {
         "hoverinfo": "text",
         "marker": {
          "cmax": 0.975,
          "cmin": 0.0357,
          "color": 0.261,
          "colorbar": {
           "title": {
            "text": "Positiveness"
           }
          },
          "opacity": 0.7,
          "size": 19.75
         },
         "mode": "markers",
         "showlegend": false,
         "text": "Flying - Remastered 2009",
         "type": "scatter",
         "x": [
          92.929
         ],
         "y": [
          2.2586666666666666
         ]
        },
        {
         "hoverinfo": "text",
         "marker": {
          "cmax": 0.975,
          "cmin": 0.0357,
          "color": 0.724,
          "colorbar": {
           "title": {
            "text": "Positiveness"
           }
          },
          "opacity": 0.7,
          "size": 14.649999999999999
         },
         "mode": "markers",
         "showlegend": false,
         "text": "Your Mother Should Know - Remastered 2009",
         "type": "scatter",
         "x": [
          117.613
         ],
         "y": [
          2.47355
         ]
        },
        {
         "hoverinfo": "text",
         "marker": {
          "cmax": 0.975,
          "cmin": 0.0357,
          "color": 0.49,
          "colorbar": {
           "title": {
            "text": "Positiveness"
           }
          },
          "opacity": 0.7,
          "size": 24.4
         },
         "mode": "markers",
         "showlegend": false,
         "text": "Penny Lane - Remastered 2009",
         "type": "scatter",
         "x": [
          113.038
         ],
         "y": [
          3.014883333333333
         ]
        },
        {
         "hoverinfo": "text",
         "marker": {
          "cmax": 0.975,
          "cmin": 0.0357,
          "color": 0.806,
          "colorbar": {
           "title": {
            "text": "Positiveness"
           }
          },
          "opacity": 0.7,
          "size": 36.65
         },
         "mode": "markers",
         "showlegend": false,
         "text": "Hello, Goodbye - Remastered 2009",
         "type": "scatter",
         "x": [
          99.307
         ],
         "y": [
          3.4806666666666666
         ]
        },
        {
         "hoverinfo": "text",
         "marker": {
          "cmax": 0.975,
          "cmin": 0.0357,
          "color": 0.289,
          "colorbar": {
           "title": {
            "text": "Positiveness"
           }
          },
          "opacity": 0.7,
          "size": 25.1
         },
         "mode": "markers",
         "showlegend": false,
         "text": "Strawberry Fields Forever - Remastered 2009",
         "type": "scatter",
         "x": [
          97.871
         ],
         "y": [
          4.122
         ]
        },
        {
         "hoverinfo": "text",
         "marker": {
          "cmax": 0.975,
          "cmin": 0.0357,
          "color": 0.467,
          "colorbar": {
           "title": {
            "text": "Positiveness"
           }
          },
          "opacity": 0.7,
          "size": 31.25
         },
         "mode": "markers",
         "showlegend": false,
         "text": "Baby, You're A Rich Man - Remastered 2009",
         "type": "scatter",
         "x": [
          96.751
         ],
         "y": [
          3.0217833333333335
         ]
        },
        {
         "hoverinfo": "text",
         "marker": {
          "cmax": 0.975,
          "cmin": 0.0357,
          "color": 0.653,
          "colorbar": {
           "title": {
            "text": "Positiveness"
           }
          },
          "opacity": 0.7,
          "size": 24
         },
         "mode": "markers",
         "showlegend": false,
         "text": "All You Need Is Love - Remastered 2009",
         "type": "scatter",
         "x": [
          103.436
         ],
         "y": [
          3.8397833333333335
         ]
        },
        {
         "hoverinfo": "text",
         "marker": {
          "cmax": 0.975,
          "cmin": 0.0357,
          "color": 0.654,
          "colorbar": {
           "title": {
            "text": "Positiveness"
           }
          },
          "opacity": 0.7,
          "size": 27.800000000000004
         },
         "mode": "markers",
         "showlegend": false,
         "text": "I Am The Walrus - Remastered 2009",
         "type": "scatter",
         "x": [
          85.206
         ],
         "y": [
          4.597783333333333
         ]
        },
        {
         "hoverinfo": "text",
         "marker": {
          "cmax": 0.975,
          "cmin": 0.0357,
          "color": 0.52,
          "colorbar": {
           "title": {
            "text": "Positiveness"
           }
          },
          "opacity": 0.7,
          "size": 22.25
         },
         "mode": "markers",
         "showlegend": false,
         "text": "Piggies - Remastered 2009",
         "type": "scatter",
         "x": [
          93.245
         ],
         "y": [
          2.0711166666666667
         ]
        },
        {
         "hoverinfo": "text",
         "marker": {
          "cmax": 0.975,
          "cmin": 0.0357,
          "color": 0.372,
          "colorbar": {
           "title": {
            "text": "Positiveness"
           }
          },
          "opacity": 0.7,
          "size": 6.35
         },
         "mode": "markers",
         "showlegend": false,
         "text": "Blackbird - Remastered 2009",
         "type": "scatter",
         "x": [
          93.699
         ],
         "y": [
          2.30645
         ]
        },
        {
         "hoverinfo": "text",
         "marker": {
          "cmax": 0.975,
          "cmin": 0.0357,
          "color": 0.717,
          "colorbar": {
           "title": {
            "text": "Positiveness"
           }
          },
          "opacity": 0.7,
          "size": 24.15
         },
         "mode": "markers",
         "showlegend": false,
         "text": "I'm So Tired - Remastered 2009",
         "type": "scatter",
         "x": [
          68.492
         ],
         "y": [
          2.0582166666666666
         ]
        },
        {
         "hoverinfo": "text",
         "marker": {
          "cmax": 0.975,
          "cmin": 0.0357,
          "color": 0.824,
          "colorbar": {
           "title": {
            "text": "Positiveness"
           }
          },
          "opacity": 0.7,
          "size": 14.6
         },
         "mode": "markers",
         "showlegend": false,
         "text": "Martha My Dear - Remastered 2009",
         "type": "scatter",
         "x": [
          177.624
         ],
         "y": [
          2.4762166666666667
         ]
        },
        {
         "hoverinfo": "text",
         "marker": {
          "cmax": 0.975,
          "cmin": 0.0357,
          "color": 0.44,
          "colorbar": {
           "title": {
            "text": "Positiveness"
           }
          },
          "opacity": 0.7,
          "size": 27
         },
         "mode": "markers",
         "showlegend": false,
         "text": "Happiness Is A Warm Gun - Remastered 2009",
         "type": "scatter",
         "x": [
          139.288
         ],
         "y": [
          2.74245
         ]
        },
        {
         "hoverinfo": "text",
         "marker": {
          "cmax": 0.975,
          "cmin": 0.0357,
          "color": 0.648,
          "colorbar": {
           "title": {
            "text": "Positiveness"
           }
          },
          "opacity": 0.7,
          "size": 22.95
         },
         "mode": "markers",
         "showlegend": false,
         "text": "The Continuing Story Of Bungalow Bill - Remastered 2009",
         "type": "scatter",
         "x": [
          114.816
         ],
         "y": [
          3.236
         ]
        },
        {
         "hoverinfo": "text",
         "marker": {
          "cmax": 0.975,
          "cmin": 0.0357,
          "color": 0.152,
          "colorbar": {
           "title": {
            "text": "Positiveness"
           }
          },
          "opacity": 0.7,
          "size": 38.15
         },
         "mode": "markers",
         "showlegend": false,
         "text": "Wild Honey Pie - Remastered 2009",
         "type": "scatter",
         "x": [
          89.9
         ],
         "y": [
          0.8828833333333334
         ]
        },
        {
         "hoverinfo": "text",
         "marker": {
          "cmax": 0.975,
          "cmin": 0.0357,
          "color": 0.975,
          "colorbar": {
           "title": {
            "text": "Positiveness"
           }
          },
          "opacity": 0.7,
          "size": 36.4
         },
         "mode": "markers",
         "showlegend": false,
         "text": "Ob-La-Di, Ob-La-Da - Remastered 2009",
         "type": "scatter",
         "x": [
          113.059
         ],
         "y": [
          3.1493333333333333
         ]
        },
        {
         "hoverinfo": "text",
         "marker": {
          "cmax": 0.975,
          "cmin": 0.0357,
          "color": 0.789,
          "colorbar": {
           "title": {
            "text": "Positiveness"
           }
          },
          "opacity": 0.7,
          "size": 25.5
         },
         "mode": "markers",
         "showlegend": false,
         "text": "Glass Onion - Remastered 2009",
         "type": "scatter",
         "x": [
          120.432
         ],
         "y": [
          2.2973333333333334
         ]
        },
        {
         "hoverinfo": "text",
         "marker": {
          "cmax": 0.975,
          "cmin": 0.0357,
          "color": 0.332,
          "colorbar": {
           "title": {
            "text": "Positiveness"
           }
          },
          "opacity": 0.7,
          "size": 26.450000000000003
         },
         "mode": "markers",
         "showlegend": false,
         "text": "Dear Prudence - Remastered 2009",
         "type": "scatter",
         "x": [
          150.721
         ],
         "y": [
          3.92955
         ]
        },
        {
         "hoverinfo": "text",
         "marker": {
          "cmax": 0.975,
          "cmin": 0.0357,
          "color": 0.494,
          "colorbar": {
           "title": {
            "text": "Positiveness"
           }
          },
          "opacity": 0.7,
          "size": 48.449999999999996
         },
         "mode": "markers",
         "showlegend": false,
         "text": "Back In The U.S.S.R. - Remastered 2009",
         "type": "scatter",
         "x": [
          142.489
         ],
         "y": [
          2.7242166666666665
         ]
        },
        {
         "hoverinfo": "text",
         "marker": {
          "cmax": 0.975,
          "cmin": 0.0357,
          "color": 0.648,
          "colorbar": {
           "title": {
            "text": "Positiveness"
           }
          },
          "opacity": 0.7,
          "size": 18.15
         },
         "mode": "markers",
         "showlegend": false,
         "text": "Rocky Raccoon - Remastered 2009",
         "type": "scatter",
         "x": [
          79.456
         ],
         "y": [
          3.5517833333333333
         ]
        },
        {
         "hoverinfo": "text",
         "marker": {
          "cmax": 0.975,
          "cmin": 0.0357,
          "color": 0.702,
          "colorbar": {
           "title": {
            "text": "Positiveness"
           }
          },
          "opacity": 0.7,
          "size": 32.7
         },
         "mode": "markers",
         "showlegend": false,
         "text": "While My Guitar Gently Weeps - Remastered 2009",
         "type": "scatter",
         "x": [
          115
         ],
         "y": [
          4.75
         ]
        },
        {
         "hoverinfo": "text",
         "marker": {
          "cmax": 0.975,
          "cmin": 0.0357,
          "color": 0.946,
          "colorbar": {
           "title": {
            "text": "Positiveness"
           }
          },
          "opacity": 0.7,
          "size": 26.85
         },
         "mode": "markers",
         "showlegend": false,
         "text": "Don't Pass Me By - Remastered 2009",
         "type": "scatter",
         "x": [
          84.895
         ],
         "y": [
          3.840883333333333
         ]
        },
        {
         "hoverinfo": "text",
         "marker": {
          "cmax": 0.975,
          "cmin": 0.0357,
          "color": 0.81,
          "colorbar": {
           "title": {
            "text": "Positiveness"
           }
          },
          "opacity": 0.7,
          "size": 36.55
         },
         "mode": "markers",
         "showlegend": false,
         "text": "Everybody's Got Something To Hide Except Me And My Monkey - Remastered 2009",
         "type": "scatter",
         "x": [
          117.089
         ],
         "y": [
          2.4128833333333333
         ]
        },
        {
         "hoverinfo": "text",
         "marker": {
          "cmax": 0.975,
          "cmin": 0.0357,
          "color": 0.832,
          "colorbar": {
           "title": {
            "text": "Positiveness"
           }
          },
          "opacity": 0.7,
          "size": 19.35
         },
         "mode": "markers",
         "showlegend": false,
         "text": "I Will - Remastered 2009",
         "type": "scatter",
         "x": [
          103.11
         ],
         "y": [
          1.76555
         ]
        },
        {
         "hoverinfo": "text",
         "marker": {
          "cmax": 0.975,
          "cmin": 0.0357,
          "color": 0.957,
          "colorbar": {
           "title": {
            "text": "Positiveness"
           }
          },
          "opacity": 0.7,
          "size": 26.1
         },
         "mode": "markers",
         "showlegend": false,
         "text": "Why Don't We Do It In The Road? - Remastered 2009",
         "type": "scatter",
         "x": [
          187.688
         ],
         "y": [
          1.686
         ]
        },
        {
         "hoverinfo": "text",
         "marker": {
          "cmax": 0.975,
          "cmin": 0.0357,
          "color": 0.178,
          "colorbar": {
           "title": {
            "text": "Positiveness"
           }
          },
          "opacity": 0.7,
          "size": 17.75
         },
         "mode": "markers",
         "showlegend": false,
         "text": "Good Night - Remastered 2009",
         "type": "scatter",
         "x": [
          146.408
         ],
         "y": [
          3.2293333333333334
         ]
        },
        {
         "hoverinfo": "text",
         "marker": {
          "cmax": 0.975,
          "cmin": 0.0357,
          "color": 0.101,
          "colorbar": {
           "title": {
            "text": "Positiveness"
           }
          },
          "opacity": 0.7,
          "size": 30.75
         },
         "mode": "markers",
         "showlegend": false,
         "text": "Revolution 9 - Remastered 2009",
         "type": "scatter",
         "x": [
          91.158
         ],
         "y": [
          8.366883333333334
         ]
        },
        {
         "hoverinfo": "text",
         "marker": {
          "cmax": 0.975,
          "cmin": 0.0357,
          "color": 0.362,
          "colorbar": {
           "title": {
            "text": "Positiveness"
           }
          },
          "opacity": 0.7,
          "size": 26.450000000000003
         },
         "mode": "markers",
         "showlegend": false,
         "text": "Cry Baby Cry - Remastered 2009",
         "type": "scatter",
         "x": [
          76.644
         ],
         "y": [
          3.034666666666667
         ]
        },
        {
         "hoverinfo": "text",
         "marker": {
          "cmax": 0.975,
          "cmin": 0.0357,
          "color": 0.553,
          "colorbar": {
           "title": {
            "text": "Positiveness"
           }
          },
          "opacity": 0.7,
          "size": 14.85
         },
         "mode": "markers",
         "showlegend": false,
         "text": "Honey Pie - Remastered 2009",
         "type": "scatter",
         "x": [
          144.197
         ],
         "y": [
          2.686
         ]
        },
        {
         "hoverinfo": "text",
         "marker": {
          "cmax": 0.975,
          "cmin": 0.0357,
          "color": 0.695,
          "colorbar": {
           "title": {
            "text": "Positiveness"
           }
          },
          "opacity": 0.7,
          "size": 31.3
         },
         "mode": "markers",
         "showlegend": false,
         "text": "Revolution 1 - Remastered 2009",
         "type": "scatter",
         "x": [
          98.425
         ],
         "y": [
          4.261783333333334
         ]
        },
        {
         "hoverinfo": "text",
         "marker": {
          "cmax": 0.975,
          "cmin": 0.0357,
          "color": 0.793,
          "colorbar": {
           "title": {
            "text": "Positiveness"
           }
          },
          "opacity": 0.7,
          "size": 27.200000000000003
         },
         "mode": "markers",
         "showlegend": false,
         "text": "Savoy Truffle - Remastered 2009",
         "type": "scatter",
         "x": [
          120.761
         ],
         "y": [
          2.907783333333333
         ]
        },
        {
         "hoverinfo": "text",
         "marker": {
          "cmax": 0.975,
          "cmin": 0.0357,
          "color": 0.281,
          "colorbar": {
           "title": {
            "text": "Positiveness"
           }
          },
          "opacity": 0.7,
          "size": 41.55
         },
         "mode": "markers",
         "showlegend": false,
         "text": "Helter Skelter - Remastered 2009",
         "type": "scatter",
         "x": [
          167.518
         ],
         "y": [
          4.49645
         ]
        },
        {
         "hoverinfo": "text",
         "marker": {
          "cmax": 0.975,
          "cmin": 0.0357,
          "color": 0.671,
          "colorbar": {
           "title": {
            "text": "Positiveness"
           }
          },
          "opacity": 0.7,
          "size": 31.2
         },
         "mode": "markers",
         "showlegend": false,
         "text": "Sexy Sadie - Remastered 2009",
         "type": "scatter",
         "x": [
          75.478
         ],
         "y": [
          3.25445
         ]
        },
        {
         "hoverinfo": "text",
         "marker": {
          "cmax": 0.975,
          "cmin": 0.0357,
          "color": 0.401,
          "colorbar": {
           "title": {
            "text": "Positiveness"
           }
          },
          "opacity": 0.7,
          "size": 8.9
         },
         "mode": "markers",
         "showlegend": false,
         "text": "Mother Nature's Son - Remastered 2009",
         "type": "scatter",
         "x": [
          84.78
         ],
         "y": [
          2.80045
         ]
        },
        {
         "hoverinfo": "text",
         "marker": {
          "cmax": 0.975,
          "cmin": 0.0357,
          "color": 0.435,
          "colorbar": {
           "title": {
            "text": "Positiveness"
           }
          },
          "opacity": 0.7,
          "size": 26.25
         },
         "mode": "markers",
         "showlegend": false,
         "text": "Yer Blues - Remastered 2009",
         "type": "scatter",
         "x": [
          151.766
         ],
         "y": [
          4.00755
         ]
        },
        {
         "hoverinfo": "text",
         "marker": {
          "cmax": 0.975,
          "cmin": 0.0357,
          "color": 0.91,
          "colorbar": {
           "title": {
            "text": "Positiveness"
           }
          },
          "opacity": 0.7,
          "size": 36.35
         },
         "mode": "markers",
         "showlegend": false,
         "text": "Birthday - Remastered 2009",
         "type": "scatter",
         "x": [
          139.239
         ],
         "y": [
          2.718
         ]
        },
        {
         "hoverinfo": "text",
         "marker": {
          "cmax": 0.975,
          "cmin": 0.0357,
          "color": 0.193,
          "colorbar": {
           "title": {
            "text": "Positiveness"
           }
          },
          "opacity": 0.7,
          "size": 4.765
         },
         "mode": "markers",
         "showlegend": false,
         "text": "Julia - Remastered 2009",
         "type": "scatter",
         "x": [
          134.706
         ],
         "y": [
          2.94445
         ]
        },
        {
         "hoverinfo": "text",
         "marker": {
          "cmax": 0.975,
          "cmin": 0.0357,
          "color": 0.163,
          "colorbar": {
           "title": {
            "text": "Positiveness"
           }
          },
          "opacity": 0.7,
          "size": 6.45
         },
         "mode": "markers",
         "showlegend": false,
         "text": "Long, Long, Long - Remastered 2009",
         "type": "scatter",
         "x": [
          104.837
         ],
         "y": [
          3.1051166666666665
         ]
        },
        {
         "hoverinfo": "text",
         "marker": {
          "cmax": 0.975,
          "cmin": 0.0357,
          "color": 0.199,
          "colorbar": {
           "title": {
            "text": "Positiveness"
           }
          },
          "opacity": 0.7,
          "size": 39.050000000000004
         },
         "mode": "markers",
         "showlegend": false,
         "text": "It's All Too Much - Remastered 2009",
         "type": "scatter",
         "x": [
          113.511
         ],
         "y": [
          6.416883333333334
         ]
        },
        {
         "hoverinfo": "text",
         "marker": {
          "cmax": 0.975,
          "cmin": 0.0357,
          "color": 0.688,
          "colorbar": {
           "title": {
            "text": "Positiveness"
           }
          },
          "opacity": 0.7,
          "size": 26.8
         },
         "mode": "markers",
         "showlegend": false,
         "text": "Yellow Submarine - Remastered 2009",
         "type": "scatter",
         "x": [
          110.849
         ],
         "y": [
          2.662
         ]
        },
        {
         "hoverinfo": "text",
         "marker": {
          "cmax": 0.975,
          "cmin": 0.0357,
          "color": 0.801,
          "colorbar": {
           "title": {
            "text": "Positiveness"
           }
          },
          "opacity": 0.7,
          "size": 36.55
         },
         "mode": "markers",
         "showlegend": false,
         "text": "Only A Northern Song - Remastered 2009",
         "type": "scatter",
         "x": [
          209.242
         ],
         "y": [
          3.4082166666666667
         ]
        },
        {
         "hoverinfo": "text",
         "marker": {
          "cmax": 0.975,
          "cmin": 0.0357,
          "color": 0.778,
          "colorbar": {
           "title": {
            "text": "Positiveness"
           }
          },
          "opacity": 0.7,
          "size": 21.55
         },
         "mode": "markers",
         "showlegend": false,
         "text": "All Together Now - Remastered 2009",
         "type": "scatter",
         "x": [
          95.937
         ],
         "y": [
          2.18155
         ]
        },
        {
         "hoverinfo": "text",
         "marker": {
          "cmax": 0.975,
          "cmin": 0.0357,
          "color": 0.947,
          "colorbar": {
           "title": {
            "text": "Positiveness"
           }
          },
          "opacity": 0.7,
          "size": 30.85
         },
         "mode": "markers",
         "showlegend": false,
         "text": "Hey Bulldog - Remastered 2009",
         "type": "scatter",
         "x": [
          100.495
         ],
         "y": [
          3.18845
         ]
        },
        {
         "hoverinfo": "text",
         "marker": {
          "cmax": 0.975,
          "cmin": 0.0357,
          "color": 0.627,
          "colorbar": {
           "title": {
            "text": "Positiveness"
           }
          },
          "opacity": 0.7,
          "size": 23.150000000000002
         },
         "mode": "markers",
         "showlegend": false,
         "text": "All You Need Is Love - Remastered 2009",
         "type": "scatter",
         "x": [
          103.103
         ],
         "y": [
          3.85355
         ]
        },
        {
         "hoverinfo": "text",
         "marker": {
          "cmax": 0.975,
          "cmin": 0.0357,
          "color": 0.0489,
          "colorbar": {
           "title": {
            "text": "Positiveness"
           }
          },
          "opacity": 0.7,
          "size": 8.3
         },
         "mode": "markers",
         "showlegend": false,
         "text": "Sea Of Monsters - Remastered 2009",
         "type": "scatter",
         "x": [
          83.971
         ],
         "y": [
          3.61155
         ]
        },
        {
         "hoverinfo": "text",
         "marker": {
          "cmax": 0.975,
          "cmin": 0.0357,
          "color": 0.0629,
          "colorbar": {
           "title": {
            "text": "Positiveness"
           }
          },
          "opacity": 0.7,
          "size": 4.8
         },
         "mode": "markers",
         "showlegend": false,
         "text": "Sea Of Time - Remastered 2009",
         "type": "scatter",
         "x": [
          128.054
         ],
         "y": [
          3.00355
         ]
        },
        {
         "hoverinfo": "text",
         "marker": {
          "cmax": 0.975,
          "cmin": 0.0357,
          "color": 0.0357,
          "colorbar": {
           "title": {
            "text": "Positiveness"
           }
          },
          "opacity": 0.7,
          "size": 4.97
         },
         "mode": "markers",
         "showlegend": false,
         "text": "Sea Of Holes - Remastered 2009",
         "type": "scatter",
         "x": [
          118.99
         ],
         "y": [
          2.278216666666667
         ]
        },
        {
         "hoverinfo": "text",
         "marker": {
          "cmax": 0.975,
          "cmin": 0.0357,
          "color": 0.16,
          "colorbar": {
           "title": {
            "text": "Positiveness"
           }
          },
          "opacity": 0.7,
          "size": 18.9
         },
         "mode": "markers",
         "showlegend": false,
         "text": "March Of The Meanies - Remastered 2009",
         "type": "scatter",
         "x": [
          117.185
         ],
         "y": [
          2.3226666666666667
         ]
        },
        {
         "hoverinfo": "text",
         "marker": {
          "cmax": 0.975,
          "cmin": 0.0357,
          "color": 0.0462,
          "colorbar": {
           "title": {
            "text": "Positiveness"
           }
          },
          "opacity": 0.7,
          "size": 4.51
         },
         "mode": "markers",
         "showlegend": false,
         "text": "Pepperland Laid Waste - Remastered 2009",
         "type": "scatter",
         "x": [
          82.423
         ],
         "y": [
          2.2128833333333335
         ]
        },
        {
         "hoverinfo": "text",
         "marker": {
          "cmax": 0.975,
          "cmin": 0.0357,
          "color": 0.271,
          "colorbar": {
           "title": {
            "text": "Positiveness"
           }
          },
          "opacity": 0.7,
          "size": 10.95
         },
         "mode": "markers",
         "showlegend": false,
         "text": "Yellow Submarine In Pepperland - Remastered 2009",
         "type": "scatter",
         "x": [
          105.345
         ],
         "y": [
          2.2337833333333332
         ]
        },
        {
         "hoverinfo": "text",
         "marker": {
          "cmax": 0.975,
          "cmin": 0.0357,
          "color": 0.367,
          "colorbar": {
           "title": {
            "text": "Positiveness"
           }
          },
          "opacity": 0.7,
          "size": 14.05
         },
         "mode": "markers",
         "showlegend": false,
         "text": "Pepperland - Remastered 2009",
         "type": "scatter",
         "x": [
          113.126
         ],
         "y": [
          2.34555
         ]
        },
        {
         "hoverinfo": "text",
         "marker": {
          "cmax": 0.975,
          "cmin": 0.0357,
          "color": 0.187,
          "colorbar": {
           "title": {
            "text": "Positiveness"
           }
          },
          "opacity": 0.7,
          "size": 18.8
         },
         "mode": "markers",
         "showlegend": false,
         "text": "Come Together - Remastered 2009",
         "type": "scatter",
         "x": [
          165.007
         ],
         "y": [
          4.33245
         ]
        },
        {
         "hoverinfo": "text",
         "marker": {
          "cmax": 0.975,
          "cmin": 0.0357,
          "color": 0.377,
          "colorbar": {
           "title": {
            "text": "Positiveness"
           }
          },
          "opacity": 0.7,
          "size": 16.900000000000002
         },
         "mode": "markers",
         "showlegend": false,
         "text": "Something - Remastered 2009",
         "type": "scatter",
         "x": [
          133.522
         ],
         "y": [
          3.0382166666666666
         ]
        },
        {
         "hoverinfo": "text",
         "marker": {
          "cmax": 0.975,
          "cmin": 0.0357,
          "color": 0.394,
          "colorbar": {
           "title": {
            "text": "Positiveness"
           }
          },
          "opacity": 0.7,
          "size": 27
         },
         "mode": "markers",
         "showlegend": false,
         "text": "Here Comes The Sun - Remastered 2009",
         "type": "scatter",
         "x": [
          129.171
         ],
         "y": [
          3.09555
         ]
        },
        {
         "hoverinfo": "text",
         "marker": {
          "cmax": 0.975,
          "cmin": 0.0357,
          "color": 0.549,
          "colorbar": {
           "title": {
            "text": "Positiveness"
           }
          },
          "opacity": 0.7,
          "size": 32.800000000000004
         },
         "mode": "markers",
         "showlegend": false,
         "text": "Oh! Darling - Remastered 2009",
         "type": "scatter",
         "x": [
          173.93
         ],
         "y": [
          3.454
         ]
        },
        {
         "hoverinfo": "text",
         "marker": {
          "cmax": 0.975,
          "cmin": 0.0357,
          "color": 0.73,
          "colorbar": {
           "title": {
            "text": "Positiveness"
           }
          },
          "opacity": 0.7,
          "size": 25.6
         },
         "mode": "markers",
         "showlegend": false,
         "text": "Octopus's Garden - Remastered 2009",
         "type": "scatter",
         "x": [
          92.225
         ],
         "y": [
          2.8453333333333335
         ]
        },
        {
         "hoverinfo": "text",
         "marker": {
          "cmax": 0.975,
          "cmin": 0.0357,
          "color": 0.42,
          "colorbar": {
           "title": {
            "text": "Positiveness"
           }
          },
          "opacity": 0.7,
          "size": 25.75
         },
         "mode": "markers",
         "showlegend": false,
         "text": "I Want You (She's So Heavy) - Remastered 2009",
         "type": "scatter",
         "x": [
          115.732
         ],
         "y": [
          7.788666666666667
         ]
        },
        {
         "hoverinfo": "text",
         "marker": {
          "cmax": 0.975,
          "cmin": 0.0357,
          "color": 0.162,
          "colorbar": {
           "title": {
            "text": "Positiveness"
           }
          },
          "opacity": 0.7,
          "size": 12.45
         },
         "mode": "markers",
         "showlegend": false,
         "text": "Because - Remastered 2009",
         "type": "scatter",
         "x": [
          81.257
         ],
         "y": [
          2.7611166666666667
         ]
        },
        {
         "hoverinfo": "text",
         "marker": {
          "cmax": 0.975,
          "cmin": 0.0357,
          "color": 0.726,
          "colorbar": {
           "title": {
            "text": "Positiveness"
           }
          },
          "opacity": 0.7,
          "size": 21.3
         },
         "mode": "markers",
         "showlegend": false,
         "text": "Maxwell's Silver Hammer - Remastered 2009",
         "type": "scatter",
         "x": [
          131.12
         ],
         "y": [
          3.465333333333333
         ]
        },
        {
         "hoverinfo": "text",
         "marker": {
          "cmax": 0.975,
          "cmin": 0.0357,
          "color": 0.192,
          "colorbar": {
           "title": {
            "text": "Positiveness"
           }
          },
          "opacity": 0.7,
          "size": 8.85
         },
         "mode": "markers",
         "showlegend": false,
         "text": "Sun King - Remastered 2009",
         "type": "scatter",
         "x": [
          74.994
         ],
         "y": [
          2.4377833333333334
         ]
        },
        {
         "hoverinfo": "text",
         "marker": {
          "cmax": 0.975,
          "cmin": 0.0357,
          "color": 0.223,
          "colorbar": {
           "title": {
            "text": "Positiveness"
           }
          },
          "opacity": 0.7,
          "size": 20.8
         },
         "mode": "markers",
         "showlegend": false,
         "text": "You Never Give Me Your Money - Remastered 2009",
         "type": "scatter",
         "x": [
          174.464
         ],
         "y": [
          4.04955
         ]
        },
        {
         "hoverinfo": "text",
         "marker": {
          "cmax": 0.975,
          "cmin": 0.0357,
          "color": 0.522,
          "colorbar": {
           "title": {
            "text": "Positiveness"
           }
          },
          "opacity": 0.7,
          "size": 10.75
         },
         "mode": "markers",
         "showlegend": false,
         "text": "Her Majesty - Remastered 2009",
         "type": "scatter",
         "x": [
          100.874
         ],
         "y": [
          0.43311666666666665
         ]
        },
        {
         "hoverinfo": "text",
         "marker": {
          "cmax": 0.975,
          "cmin": 0.0357,
          "color": 0.704,
          "colorbar": {
           "title": {
            "text": "Positiveness"
           }
          },
          "opacity": 0.7,
          "size": 22.900000000000002
         },
         "mode": "markers",
         "showlegend": false,
         "text": "Carry That Weight - Remastered 2009",
         "type": "scatter",
         "x": [
          84.319
         ],
         "y": [
          1.6077833333333333
         ]
        },
        {
         "hoverinfo": "text",
         "marker": {
          "cmax": 0.975,
          "cmin": 0.0357,
          "color": 0.222,
          "colorbar": {
           "title": {
            "text": "Positiveness"
           }
          },
          "opacity": 0.7,
          "size": 24.349999999999998
         },
         "mode": "markers",
         "showlegend": false,
         "text": "The End - Remastered 2009",
         "type": "scatter",
         "x": [
          123.444
         ],
         "y": [
          2.3602166666666666
         ]
        },
        {
         "hoverinfo": "text",
         "marker": {
          "cmax": 0.975,
          "cmin": 0.0357,
          "color": 0.69,
          "colorbar": {
           "title": {
            "text": "Positiveness"
           }
          },
          "opacity": 0.7,
          "size": 36
         },
         "mode": "markers",
         "showlegend": false,
         "text": "She Came In Through The Bathroom Window - Remastered 2009",
         "type": "scatter",
         "x": [
          80.652
         ],
         "y": [
          1.9771166666666666
         ]
        },
        {
         "hoverinfo": "text",
         "marker": {
          "cmax": 0.975,
          "cmin": 0.0357,
          "color": 0.239,
          "colorbar": {
           "title": {
            "text": "Positiveness"
           }
          },
          "opacity": 0.7,
          "size": 7.6
         },
         "mode": "markers",
         "showlegend": false,
         "text": "Golden Slumbers - Remastered 2009",
         "type": "scatter",
         "x": [
          80.608
         ],
         "y": [
          1.5293333333333334
         ]
        },
        {
         "hoverinfo": "text",
         "marker": {
          "cmax": 0.975,
          "cmin": 0.0357,
          "color": 0.499,
          "colorbar": {
           "title": {
            "text": "Positiveness"
           }
          },
          "opacity": 0.7,
          "size": 46.949999999999996
         },
         "mode": "markers",
         "showlegend": false,
         "text": "Polythene Pam - Remastered 2009",
         "type": "scatter",
         "x": [
          166.829
         ],
         "y": [
          1.2106666666666666
         ]
        },
        {
         "hoverinfo": "text",
         "marker": {
          "cmax": 0.975,
          "cmin": 0.0357,
          "color": 0.97,
          "colorbar": {
           "title": {
            "text": "Positiveness"
           }
          },
          "opacity": 0.7,
          "size": 29.799999999999997
         },
         "mode": "markers",
         "showlegend": false,
         "text": "Mean Mr Mustard - Remastered 2009",
         "type": "scatter",
         "x": [
          100.687
         ],
         "y": [
          1.1088833333333334
         ]
        },
        {
         "hoverinfo": "text",
         "marker": {
          "cmax": 0.975,
          "cmin": 0.0357,
          "color": 0.931,
          "colorbar": {
           "title": {
            "text": "Positiveness"
           }
          },
          "opacity": 0.7,
          "size": 35.099999999999994
         },
         "mode": "markers",
         "showlegend": false,
         "text": "Two Of Us - Remastered 2009",
         "type": "scatter",
         "x": [
          109.114
         ],
         "y": [
          3.61355
         ]
        },
        {
         "hoverinfo": "text",
         "marker": {
          "cmax": 0.975,
          "cmin": 0.0357,
          "color": 0.858,
          "colorbar": {
           "title": {
            "text": "Positiveness"
           }
          },
          "opacity": 0.7,
          "size": 20.599999999999998
         },
         "mode": "markers",
         "showlegend": false,
         "text": "Across The Universe - Remastered 2009",
         "type": "scatter",
         "x": [
          152.126
         ],
         "y": [
          3.802216666666667
         ]
        },
        {
         "hoverinfo": "text",
         "marker": {
          "cmax": 0.975,
          "cmin": 0.0357,
          "color": 0.525,
          "colorbar": {
           "title": {
            "text": "Positiveness"
           }
          },
          "opacity": 0.7,
          "size": 31.900000000000002
         },
         "mode": "markers",
         "showlegend": false,
         "text": "I Me Mine - Remastered 2009",
         "type": "scatter",
         "x": [
          185.235
         ],
         "y": [
          2.42645
         ]
        },
        {
         "hoverinfo": "text",
         "marker": {
          "cmax": 0.975,
          "cmin": 0.0357,
          "color": 0.67,
          "colorbar": {
           "title": {
            "text": "Positiveness"
           }
          },
          "opacity": 0.7,
          "size": 24.45
         },
         "mode": "markers",
         "showlegend": false,
         "text": "Dig It - Remastered 2009",
         "type": "scatter",
         "x": [
          157.03
         ],
         "y": [
          0.8411166666666666
         ]
        },
        {
         "hoverinfo": "text",
         "marker": {
          "cmax": 0.975,
          "cmin": 0.0357,
          "color": 0.41,
          "colorbar": {
           "title": {
            "text": "Positiveness"
           }
          },
          "opacity": 0.7,
          "size": 20.150000000000002
         },
         "mode": "markers",
         "showlegend": false,
         "text": "Let It Be - Remastered 2009",
         "type": "scatter",
         "x": [
          143.462
         ],
         "y": [
          4.05045
         ]
        },
        {
         "hoverinfo": "text",
         "marker": {
          "cmax": 0.975,
          "cmin": 0.0357,
          "color": 0.527,
          "colorbar": {
           "title": {
            "text": "Positiveness"
           }
          },
          "opacity": 0.7,
          "size": 23.9
         },
         "mode": "markers",
         "showlegend": false,
         "text": "Dig A Pony - Remastered 2009",
         "type": "scatter",
         "x": [
          59.004
         ],
         "y": [
          3.9166666666666665
         ]
        },
        {
         "hoverinfo": "text",
         "marker": {
          "cmax": 0.975,
          "cmin": 0.0357,
          "color": 0.364,
          "colorbar": {
           "title": {
            "text": "Positiveness"
           }
          },
          "opacity": 0.7,
          "size": 30.45
         },
         "mode": "markers",
         "showlegend": false,
         "text": "I've Got A Feeling - Remastered 2009",
         "type": "scatter",
         "x": [
          165.156
         ],
         "y": [
          3.626
         ]
        },
        {
         "hoverinfo": "text",
         "marker": {
          "cmax": 0.975,
          "cmin": 0.0357,
          "color": 0.888,
          "colorbar": {
           "title": {
            "text": "Positiveness"
           }
          },
          "opacity": 0.7,
          "size": 41.4
         },
         "mode": "markers",
         "showlegend": false,
         "text": "One After 909 - Remastered 2009",
         "type": "scatter",
         "x": [
          90.95
         ],
         "y": [
          2.8993333333333333
         ]
        },
        {
         "hoverinfo": "text",
         "marker": {
          "cmax": 0.975,
          "cmin": 0.0357,
          "color": 0.392,
          "colorbar": {
           "title": {
            "text": "Positiveness"
           }
          },
          "opacity": 0.7,
          "size": 16.45
         },
         "mode": "markers",
         "showlegend": false,
         "text": "The Long And Winding Road - Remastered 2009",
         "type": "scatter",
         "x": [
          132.282
         ],
         "y": [
          3.63645
         ]
        },
        {
         "hoverinfo": "text",
         "marker": {
          "cmax": 0.975,
          "cmin": 0.0357,
          "color": 0.955,
          "colorbar": {
           "title": {
            "text": "Positiveness"
           }
          },
          "opacity": 0.7,
          "size": 27.800000000000004
         },
         "mode": "markers",
         "showlegend": false,
         "text": "For You Blue - Remastered 2009",
         "type": "scatter",
         "x": [
          128.542
         ],
         "y": [
          2.5368833333333334
         ]
        },
        {
         "hoverinfo": "text",
         "marker": {
          "cmax": 0.975,
          "cmin": 0.0357,
          "color": 0.332,
          "colorbar": {
           "title": {
            "text": "Positiveness"
           }
          },
          "opacity": 0.7,
          "size": 29.599999999999998
         },
         "mode": "markers",
         "showlegend": false,
         "text": "Get Back - Remastered 2009",
         "type": "scatter",
         "x": [
          123.095
         ],
         "y": [
          3.15645
         ]
        },
        {
         "hoverinfo": "text",
         "marker": {
          "cmax": 0.975,
          "cmin": 0.0357,
          "color": 0.524,
          "colorbar": {
           "title": {
            "text": "Positiveness"
           }
          },
          "opacity": 0.7,
          "size": 25.75
         },
         "mode": "markers",
         "showlegend": false,
         "text": "Maggie Mae - Remastered 2009",
         "type": "scatter",
         "x": [
          169.039
         ],
         "y": [
          0.6673333333333333
         ]
        }
       ],
       "layout": {
        "template": {
         "data": {
          "bar": [
           {
            "error_x": {
             "color": "#2a3f5f"
            },
            "error_y": {
             "color": "#2a3f5f"
            },
            "marker": {
             "line": {
              "color": "#E5ECF6",
              "width": 0.5
             },
             "pattern": {
              "fillmode": "overlay",
              "size": 10,
              "solidity": 0.2
             }
            },
            "type": "bar"
           }
          ],
          "barpolar": [
           {
            "marker": {
             "line": {
              "color": "#E5ECF6",
              "width": 0.5
             },
             "pattern": {
              "fillmode": "overlay",
              "size": 10,
              "solidity": 0.2
             }
            },
            "type": "barpolar"
           }
          ],
          "carpet": [
           {
            "aaxis": {
             "endlinecolor": "#2a3f5f",
             "gridcolor": "white",
             "linecolor": "white",
             "minorgridcolor": "white",
             "startlinecolor": "#2a3f5f"
            },
            "baxis": {
             "endlinecolor": "#2a3f5f",
             "gridcolor": "white",
             "linecolor": "white",
             "minorgridcolor": "white",
             "startlinecolor": "#2a3f5f"
            },
            "type": "carpet"
           }
          ],
          "choropleth": [
           {
            "colorbar": {
             "outlinewidth": 0,
             "ticks": ""
            },
            "type": "choropleth"
           }
          ],
          "contour": [
           {
            "colorbar": {
             "outlinewidth": 0,
             "ticks": ""
            },
            "colorscale": [
             [
              0,
              "#0d0887"
             ],
             [
              0.1111111111111111,
              "#46039f"
             ],
             [
              0.2222222222222222,
              "#7201a8"
             ],
             [
              0.3333333333333333,
              "#9c179e"
             ],
             [
              0.4444444444444444,
              "#bd3786"
             ],
             [
              0.5555555555555556,
              "#d8576b"
             ],
             [
              0.6666666666666666,
              "#ed7953"
             ],
             [
              0.7777777777777778,
              "#fb9f3a"
             ],
             [
              0.8888888888888888,
              "#fdca26"
             ],
             [
              1,
              "#f0f921"
             ]
            ],
            "type": "contour"
           }
          ],
          "contourcarpet": [
           {
            "colorbar": {
             "outlinewidth": 0,
             "ticks": ""
            },
            "type": "contourcarpet"
           }
          ],
          "heatmap": [
           {
            "colorbar": {
             "outlinewidth": 0,
             "ticks": ""
            },
            "colorscale": [
             [
              0,
              "#0d0887"
             ],
             [
              0.1111111111111111,
              "#46039f"
             ],
             [
              0.2222222222222222,
              "#7201a8"
             ],
             [
              0.3333333333333333,
              "#9c179e"
             ],
             [
              0.4444444444444444,
              "#bd3786"
             ],
             [
              0.5555555555555556,
              "#d8576b"
             ],
             [
              0.6666666666666666,
              "#ed7953"
             ],
             [
              0.7777777777777778,
              "#fb9f3a"
             ],
             [
              0.8888888888888888,
              "#fdca26"
             ],
             [
              1,
              "#f0f921"
             ]
            ],
            "type": "heatmap"
           }
          ],
          "heatmapgl": [
           {
            "colorbar": {
             "outlinewidth": 0,
             "ticks": ""
            },
            "colorscale": [
             [
              0,
              "#0d0887"
             ],
             [
              0.1111111111111111,
              "#46039f"
             ],
             [
              0.2222222222222222,
              "#7201a8"
             ],
             [
              0.3333333333333333,
              "#9c179e"
             ],
             [
              0.4444444444444444,
              "#bd3786"
             ],
             [
              0.5555555555555556,
              "#d8576b"
             ],
             [
              0.6666666666666666,
              "#ed7953"
             ],
             [
              0.7777777777777778,
              "#fb9f3a"
             ],
             [
              0.8888888888888888,
              "#fdca26"
             ],
             [
              1,
              "#f0f921"
             ]
            ],
            "type": "heatmapgl"
           }
          ],
          "histogram": [
           {
            "marker": {
             "pattern": {
              "fillmode": "overlay",
              "size": 10,
              "solidity": 0.2
             }
            },
            "type": "histogram"
           }
          ],
          "histogram2d": [
           {
            "colorbar": {
             "outlinewidth": 0,
             "ticks": ""
            },
            "colorscale": [
             [
              0,
              "#0d0887"
             ],
             [
              0.1111111111111111,
              "#46039f"
             ],
             [
              0.2222222222222222,
              "#7201a8"
             ],
             [
              0.3333333333333333,
              "#9c179e"
             ],
             [
              0.4444444444444444,
              "#bd3786"
             ],
             [
              0.5555555555555556,
              "#d8576b"
             ],
             [
              0.6666666666666666,
              "#ed7953"
             ],
             [
              0.7777777777777778,
              "#fb9f3a"
             ],
             [
              0.8888888888888888,
              "#fdca26"
             ],
             [
              1,
              "#f0f921"
             ]
            ],
            "type": "histogram2d"
           }
          ],
          "histogram2dcontour": [
           {
            "colorbar": {
             "outlinewidth": 0,
             "ticks": ""
            },
            "colorscale": [
             [
              0,
              "#0d0887"
             ],
             [
              0.1111111111111111,
              "#46039f"
             ],
             [
              0.2222222222222222,
              "#7201a8"
             ],
             [
              0.3333333333333333,
              "#9c179e"
             ],
             [
              0.4444444444444444,
              "#bd3786"
             ],
             [
              0.5555555555555556,
              "#d8576b"
             ],
             [
              0.6666666666666666,
              "#ed7953"
             ],
             [
              0.7777777777777778,
              "#fb9f3a"
             ],
             [
              0.8888888888888888,
              "#fdca26"
             ],
             [
              1,
              "#f0f921"
             ]
            ],
            "type": "histogram2dcontour"
           }
          ],
          "mesh3d": [
           {
            "colorbar": {
             "outlinewidth": 0,
             "ticks": ""
            },
            "type": "mesh3d"
           }
          ],
          "parcoords": [
           {
            "line": {
             "colorbar": {
              "outlinewidth": 0,
              "ticks": ""
             }
            },
            "type": "parcoords"
           }
          ],
          "pie": [
           {
            "automargin": true,
            "type": "pie"
           }
          ],
          "scatter": [
           {
            "fillpattern": {
             "fillmode": "overlay",
             "size": 10,
             "solidity": 0.2
            },
            "type": "scatter"
           }
          ],
          "scatter3d": [
           {
            "line": {
             "colorbar": {
              "outlinewidth": 0,
              "ticks": ""
             }
            },
            "marker": {
             "colorbar": {
              "outlinewidth": 0,
              "ticks": ""
             }
            },
            "type": "scatter3d"
           }
          ],
          "scattercarpet": [
           {
            "marker": {
             "colorbar": {
              "outlinewidth": 0,
              "ticks": ""
             }
            },
            "type": "scattercarpet"
           }
          ],
          "scattergeo": [
           {
            "marker": {
             "colorbar": {
              "outlinewidth": 0,
              "ticks": ""
             }
            },
            "type": "scattergeo"
           }
          ],
          "scattergl": [
           {
            "marker": {
             "colorbar": {
              "outlinewidth": 0,
              "ticks": ""
             }
            },
            "type": "scattergl"
           }
          ],
          "scattermapbox": [
           {
            "marker": {
             "colorbar": {
              "outlinewidth": 0,
              "ticks": ""
             }
            },
            "type": "scattermapbox"
           }
          ],
          "scatterpolar": [
           {
            "marker": {
             "colorbar": {
              "outlinewidth": 0,
              "ticks": ""
             }
            },
            "type": "scatterpolar"
           }
          ],
          "scatterpolargl": [
           {
            "marker": {
             "colorbar": {
              "outlinewidth": 0,
              "ticks": ""
             }
            },
            "type": "scatterpolargl"
           }
          ],
          "scatterternary": [
           {
            "marker": {
             "colorbar": {
              "outlinewidth": 0,
              "ticks": ""
             }
            },
            "type": "scatterternary"
           }
          ],
          "surface": [
           {
            "colorbar": {
             "outlinewidth": 0,
             "ticks": ""
            },
            "colorscale": [
             [
              0,
              "#0d0887"
             ],
             [
              0.1111111111111111,
              "#46039f"
             ],
             [
              0.2222222222222222,
              "#7201a8"
             ],
             [
              0.3333333333333333,
              "#9c179e"
             ],
             [
              0.4444444444444444,
              "#bd3786"
             ],
             [
              0.5555555555555556,
              "#d8576b"
             ],
             [
              0.6666666666666666,
              "#ed7953"
             ],
             [
              0.7777777777777778,
              "#fb9f3a"
             ],
             [
              0.8888888888888888,
              "#fdca26"
             ],
             [
              1,
              "#f0f921"
             ]
            ],
            "type": "surface"
           }
          ],
          "table": [
           {
            "cells": {
             "fill": {
              "color": "#EBF0F8"
             },
             "line": {
              "color": "white"
             }
            },
            "header": {
             "fill": {
              "color": "#C8D4E3"
             },
             "line": {
              "color": "white"
             }
            },
            "type": "table"
           }
          ]
         },
         "layout": {
          "annotationdefaults": {
           "arrowcolor": "#2a3f5f",
           "arrowhead": 0,
           "arrowwidth": 1
          },
          "autotypenumbers": "strict",
          "coloraxis": {
           "colorbar": {
            "outlinewidth": 0,
            "ticks": ""
           }
          },
          "colorscale": {
           "diverging": [
            [
             0,
             "#8e0152"
            ],
            [
             0.1,
             "#c51b7d"
            ],
            [
             0.2,
             "#de77ae"
            ],
            [
             0.3,
             "#f1b6da"
            ],
            [
             0.4,
             "#fde0ef"
            ],
            [
             0.5,
             "#f7f7f7"
            ],
            [
             0.6,
             "#e6f5d0"
            ],
            [
             0.7,
             "#b8e186"
            ],
            [
             0.8,
             "#7fbc41"
            ],
            [
             0.9,
             "#4d9221"
            ],
            [
             1,
             "#276419"
            ]
           ],
           "sequential": [
            [
             0,
             "#0d0887"
            ],
            [
             0.1111111111111111,
             "#46039f"
            ],
            [
             0.2222222222222222,
             "#7201a8"
            ],
            [
             0.3333333333333333,
             "#9c179e"
            ],
            [
             0.4444444444444444,
             "#bd3786"
            ],
            [
             0.5555555555555556,
             "#d8576b"
            ],
            [
             0.6666666666666666,
             "#ed7953"
            ],
            [
             0.7777777777777778,
             "#fb9f3a"
            ],
            [
             0.8888888888888888,
             "#fdca26"
            ],
            [
             1,
             "#f0f921"
            ]
           ],
           "sequentialminus": [
            [
             0,
             "#0d0887"
            ],
            [
             0.1111111111111111,
             "#46039f"
            ],
            [
             0.2222222222222222,
             "#7201a8"
            ],
            [
             0.3333333333333333,
             "#9c179e"
            ],
            [
             0.4444444444444444,
             "#bd3786"
            ],
            [
             0.5555555555555556,
             "#d8576b"
            ],
            [
             0.6666666666666666,
             "#ed7953"
            ],
            [
             0.7777777777777778,
             "#fb9f3a"
            ],
            [
             0.8888888888888888,
             "#fdca26"
            ],
            [
             1,
             "#f0f921"
            ]
           ]
          },
          "colorway": [
           "#636efa",
           "#EF553B",
           "#00cc96",
           "#ab63fa",
           "#FFA15A",
           "#19d3f3",
           "#FF6692",
           "#B6E880",
           "#FF97FF",
           "#FECB52"
          ],
          "font": {
           "color": "#2a3f5f"
          },
          "geo": {
           "bgcolor": "white",
           "lakecolor": "white",
           "landcolor": "#E5ECF6",
           "showlakes": true,
           "showland": true,
           "subunitcolor": "white"
          },
          "hoverlabel": {
           "align": "left"
          },
          "hovermode": "closest",
          "mapbox": {
           "style": "light"
          },
          "paper_bgcolor": "white",
          "plot_bgcolor": "#E5ECF6",
          "polar": {
           "angularaxis": {
            "gridcolor": "white",
            "linecolor": "white",
            "ticks": ""
           },
           "bgcolor": "#E5ECF6",
           "radialaxis": {
            "gridcolor": "white",
            "linecolor": "white",
            "ticks": ""
           }
          },
          "scene": {
           "xaxis": {
            "backgroundcolor": "#E5ECF6",
            "gridcolor": "white",
            "gridwidth": 2,
            "linecolor": "white",
            "showbackground": true,
            "ticks": "",
            "zerolinecolor": "white"
           },
           "yaxis": {
            "backgroundcolor": "#E5ECF6",
            "gridcolor": "white",
            "gridwidth": 2,
            "linecolor": "white",
            "showbackground": true,
            "ticks": "",
            "zerolinecolor": "white"
           },
           "zaxis": {
            "backgroundcolor": "#E5ECF6",
            "gridcolor": "white",
            "gridwidth": 2,
            "linecolor": "white",
            "showbackground": true,
            "ticks": "",
            "zerolinecolor": "white"
           }
          },
          "shapedefaults": {
           "line": {
            "color": "#2a3f5f"
           }
          },
          "ternary": {
           "aaxis": {
            "gridcolor": "white",
            "linecolor": "white",
            "ticks": ""
           },
           "baxis": {
            "gridcolor": "white",
            "linecolor": "white",
            "ticks": ""
           },
           "bgcolor": "#E5ECF6",
           "caxis": {
            "gridcolor": "white",
            "linecolor": "white",
            "ticks": ""
           }
          },
          "title": {
           "x": 0.05
          },
          "xaxis": {
           "automargin": true,
           "gridcolor": "white",
           "linecolor": "white",
           "ticks": "",
           "title": {
            "standoff": 15
           },
           "zerolinecolor": "white",
           "zerolinewidth": 2
          },
          "yaxis": {
           "automargin": true,
           "gridcolor": "white",
           "linecolor": "white",
           "ticks": "",
           "title": {
            "standoff": 15
           },
           "zerolinecolor": "white",
           "zerolinewidth": 2
          }
         }
        },
        "title": {
         "text": "Tempo vs Duration with Energy (size) and Positiveness (color)"
        },
        "xaxis": {
         "title": {
          "text": "Tempo (BPM)"
         }
        },
        "yaxis": {
         "title": {
          "text": "Duration (min)"
         }
        }
       }
      }
     },
     "metadata": {},
     "output_type": "display_data"
    }
   ],
   "source": [
    "\n",
    "# Create Bubble Chart\n",
    "fig = go.Figure()\n",
    "# Add traces for each track\n",
    "for index, row in filtered_df.iterrows():\n",
    "    fig.add_trace(go.Scatter(\n",
    "        x=[row['Tempo']],\n",
    "        y=[row['Duration']/(1000*60)],\n",
    "        mode='markers',\n",
    "        marker=dict(\n",
    "            size=row['Energy'] * 50,  # Adjust the size of the bubbles based on Energy\n",
    "            color=row['Valence'],  # Use Valence for the color of the bubbles\n",
    "            #colorscale= 'RdYlBu',  # Set the color scale from red to blue\n",
    "            cmin=filtered_df['Valence'].min(),  # Set the minimum value for the color scale\n",
    "            cmax=filtered_df['Valence'].max(),  # Set the maximum value for the color scale\n",
    "            opacity= 0.7, # Set the opacity based on Normalized Loudness\n",
    "            colorbar=dict(\n",
    "                title='Positiveness'  # Label for the colorbar\n",
    "            )\n",
    "        ),\n",
    "        text=row['Track Name'],  # Text to display when hovering over the bubbles\n",
    "        hoverinfo='text',  showlegend=False,\n",
    "    ))\n",
    "\n",
    "# Update layout\n",
    "fig.update_layout(\n",
    "    title='Tempo vs Duration with Energy (size) and Positiveness (color)',\n",
    "    xaxis=dict(title='Tempo (BPM)'),\n",
    "    yaxis=dict(title='Duration (min)')\n",
    ")\n",
    "\n",
    "# Show the plot\n",
    "fig.show()"
   ]
  },
  {
   "cell_type": "code",
   "execution_count": 95,
   "metadata": {},
   "outputs": [],
   "source": [
    "pio.write_html(fig, file='tempoduration.html', auto_open=False)\n"
   ]
  },
  {
   "cell_type": "code",
   "execution_count": 82,
   "metadata": {},
   "outputs": [
    {
     "data": {
      "application/vnd.plotly.v1+json": {
       "config": {
        "plotlyServerURL": "https://plot.ly"
       },
       "data": [
        {
         "hoverinfo": "text",
         "marker": {
          "cmax": 0.975,
          "cmin": 0.0357,
          "color": 0.175,
          "colorbar": {
           "title": {
            "text": "Positiveness"
           }
          },
          "opacity": 0.7,
          "size": 49.567
         },
         "mode": "markers",
         "showlegend": false,
         "text": "A Day In The Life - Remastered 2009",
         "type": "scatter",
         "x": [
          0.457
         ],
         "y": [
          5.62355
         ]
        },
        {
         "hoverinfo": "text",
         "marker": {
          "cmax": 0.975,
          "cmin": 0.0357,
          "color": 0.879,
          "colorbar": {
           "title": {
            "text": "Positiveness"
           }
          },
          "opacity": 0.7,
          "size": 28.021
         },
         "mode": "markers",
         "showlegend": false,
         "text": "Sgt. Pepper's Lonely Hearts Club Band - Reprise / Remastered 2009",
         "type": "scatter",
         "x": [
          0.889
         ],
         "y": [
          1.3177833333333333
         ]
        },
        {
         "hoverinfo": "text",
         "marker": {
          "cmax": 0.975,
          "cmin": 0.0357,
          "color": 0.393,
          "colorbar": {
           "title": {
            "text": "Positiveness"
           }
          },
          "opacity": 0.7,
          "size": 40.701499999999996
         },
         "mode": "markers",
         "showlegend": false,
         "text": "She's Leaving Home - Remastered 2009",
         "type": "scatter",
         "x": [
          0.214
         ],
         "y": [
          3.586
         ]
        },
        {
         "hoverinfo": "text",
         "marker": {
          "cmax": 0.975,
          "cmin": 0.0357,
          "color": 0.63,
          "colorbar": {
           "title": {
            "text": "Positiveness"
           }
          },
          "opacity": 0.7,
          "size": 32.0285
         },
         "mode": "markers",
         "showlegend": false,
         "text": "Lovely Rita - Remastered 2009",
         "type": "scatter",
         "x": [
          0.471
         ],
         "y": [
          2.70155
         ]
        },
        {
         "hoverinfo": "text",
         "marker": {
          "cmax": 0.975,
          "cmin": 0.0357,
          "color": 0.661,
          "colorbar": {
           "title": {
            "text": "Positiveness"
           }
          },
          "opacity": 0.7,
          "size": 46.403
         },
         "mode": "markers",
         "showlegend": false,
         "text": "When I'm Sixty Four - Remastered 2009",
         "type": "scatter",
         "x": [
          0.241
         ],
         "y": [
          2.6277833333333334
         ]
        },
        {
         "hoverinfo": "text",
         "marker": {
          "cmax": 0.975,
          "cmin": 0.0357,
          "color": 0.354,
          "colorbar": {
           "title": {
            "text": "Positiveness"
           }
          },
          "opacity": 0.7,
          "size": 34.8775
         },
         "mode": "markers",
         "showlegend": false,
         "text": "Within You Without You - Remastered 2009",
         "type": "scatter",
         "x": [
          0.479
         ],
         "y": [
          5.0777833333333335
         ]
        },
        {
         "hoverinfo": "text",
         "marker": {
          "cmax": 0.975,
          "cmin": 0.0357,
          "color": 0.71,
          "colorbar": {
           "title": {
            "text": "Positiveness"
           }
          },
          "opacity": 0.7,
          "size": 34.5275
         },
         "mode": "markers",
         "showlegend": false,
         "text": "Being For The Benefit Of Mr. Kite! - Remastered 2009",
         "type": "scatter",
         "x": [
          0.413
         ],
         "y": [
          2.62555
         ]
        },
        {
         "hoverinfo": "text",
         "marker": {
          "cmax": 0.975,
          "cmin": 0.0357,
          "color": 0.619,
          "colorbar": {
           "title": {
            "text": "Positiveness"
           }
          },
          "opacity": 0.7,
          "size": 31.2095
         },
         "mode": "markers",
         "showlegend": false,
         "text": "Fixing A Hole - Remastered 2009",
         "type": "scatter",
         "x": [
          0.507
         ],
         "y": [
          2.613783333333333
         ]
        },
        {
         "hoverinfo": "text",
         "marker": {
          "cmax": 0.975,
          "cmin": 0.0357,
          "color": 0.764,
          "colorbar": {
           "title": {
            "text": "Positiveness"
           }
          },
          "opacity": 0.7,
          "size": 27.604499999999998
         },
         "mode": "markers",
         "showlegend": false,
         "text": "Getting Better - Remastered 2009",
         "type": "scatter",
         "x": [
          0.471
         ],
         "y": [
          2.802
         ]
        },
        {
         "hoverinfo": "text",
         "marker": {
          "cmax": 0.975,
          "cmin": 0.0357,
          "color": 0.803,
          "colorbar": {
           "title": {
            "text": "Positiveness"
           }
          },
          "opacity": 0.7,
          "size": 32.7005
         },
         "mode": "markers",
         "showlegend": false,
         "text": "With A Little Help From My Friends - Remastered 2009",
         "type": "scatter",
         "x": [
          0.515
         ],
         "y": [
          2.735116666666667
         ]
        },
        {
         "hoverinfo": "text",
         "marker": {
          "cmax": 0.975,
          "cmin": 0.0357,
          "color": 0.583,
          "colorbar": {
           "title": {
            "text": "Positiveness"
           }
          },
          "opacity": 0.7,
          "size": 31.9025
         },
         "mode": "markers",
         "showlegend": false,
         "text": "Sgt. Pepper's Lonely Hearts Club Band - Remastered 2009",
         "type": "scatter",
         "x": [
          0.673
         ],
         "y": [
          2.048216666666667
         ]
        },
        {
         "hoverinfo": "text",
         "marker": {
          "cmax": 0.975,
          "cmin": 0.0357,
          "color": 0.93,
          "colorbar": {
           "title": {
            "text": "Positiveness"
           }
          },
          "opacity": 0.7,
          "size": 31.066
         },
         "mode": "markers",
         "showlegend": false,
         "text": "Good Morning Good Morning - Remastered 2009",
         "type": "scatter",
         "x": [
          0.618
         ],
         "y": [
          2.687116666666667
         ]
        },
        {
         "hoverinfo": "text",
         "marker": {
          "cmax": 0.975,
          "cmin": 0.0357,
          "color": 0.668,
          "colorbar": {
           "title": {
            "text": "Positiveness"
           }
          },
          "opacity": 0.7,
          "size": 31.647
         },
         "mode": "markers",
         "showlegend": false,
         "text": "Lucy In The Sky With Diamonds - Remastered 2009",
         "type": "scatter",
         "x": [
          0.325
         ],
         "y": [
          3.47445
         ]
        },
        {
         "hoverinfo": "text",
         "marker": {
          "cmax": 0.975,
          "cmin": 0.0357,
          "color": 0.255,
          "colorbar": {
           "title": {
            "text": "Positiveness"
           }
          },
          "opacity": 0.7,
          "size": 33.7645
         },
         "mode": "markers",
         "showlegend": false,
         "text": "Strawberry Fields Forever - Stereo Mix 2015",
         "type": "scatter",
         "x": [
          0.627
         ],
         "y": [
          4.106883333333333
         ]
        },
        {
         "hoverinfo": "text",
         "marker": {
          "cmax": 0.975,
          "cmin": 0.0357,
          "color": 0.641,
          "colorbar": {
           "title": {
            "text": "Positiveness"
           }
          },
          "opacity": 0.7,
          "size": 26.6595
         },
         "mode": "markers",
         "showlegend": false,
         "text": "Penny Lane - Stereo Mix 2017",
         "type": "scatter",
         "x": [
          0.536
         ],
         "y": [
          2.9857833333333335
         ]
        },
        {
         "hoverinfo": "text",
         "marker": {
          "cmax": 0.975,
          "cmin": 0.0357,
          "color": 0.0378,
          "colorbar": {
           "title": {
            "text": "Positiveness"
           }
          },
          "opacity": 0.7,
          "size": 40.512499999999996
         },
         "mode": "markers",
         "showlegend": false,
         "text": "Blue Jay Way - Remastered 2009",
         "type": "scatter",
         "x": [
          0.407
         ],
         "y": [
          3.9177833333333334
         ]
        },
        {
         "hoverinfo": "text",
         "marker": {
          "cmax": 0.975,
          "cmin": 0.0357,
          "color": 0.338,
          "colorbar": {
           "title": {
            "text": "Positiveness"
           }
          },
          "opacity": 0.7,
          "size": 31.7275
         },
         "mode": "markers",
         "showlegend": false,
         "text": "Magical Mystery Tour - Remastered 2009",
         "type": "scatter",
         "x": [
          0.613
         ],
         "y": [
          2.8351166666666665
         ]
        },
        {
         "hoverinfo": "text",
         "marker": {
          "cmax": 0.975,
          "cmin": 0.0357,
          "color": 0.49,
          "colorbar": {
           "title": {
            "text": "Positiveness"
           }
          },
          "opacity": 0.7,
          "size": 37.0195
         },
         "mode": "markers",
         "showlegend": false,
         "text": "The Fool On The Hill - Remastered 2009",
         "type": "scatter",
         "x": [
          0.26
         ],
         "y": [
          2.985116666666667
         ]
        },
        {
         "hoverinfo": "text",
         "marker": {
          "cmax": 0.975,
          "cmin": 0.0357,
          "color": 0.261,
          "colorbar": {
           "title": {
            "text": "Positiveness"
           }
          },
          "opacity": 0.7,
          "size": 51.642500000000005
         },
         "mode": "markers",
         "showlegend": false,
         "text": "Flying - Remastered 2009",
         "type": "scatter",
         "x": [
          0.395
         ],
         "y": [
          2.2586666666666666
         ]
        },
        {
         "hoverinfo": "text",
         "marker": {
          "cmax": 0.975,
          "cmin": 0.0357,
          "color": 0.724,
          "colorbar": {
           "title": {
            "text": "Positiveness"
           }
          },
          "opacity": 0.7,
          "size": 39.7635
         },
         "mode": "markers",
         "showlegend": false,
         "text": "Your Mother Should Know - Remastered 2009",
         "type": "scatter",
         "x": [
          0.293
         ],
         "y": [
          2.47355
         ]
        },
        {
         "hoverinfo": "text",
         "marker": {
          "cmax": 0.975,
          "cmin": 0.0357,
          "color": 0.49,
          "colorbar": {
           "title": {
            "text": "Positiveness"
           }
          },
          "opacity": 0.7,
          "size": 28.770000000000003
         },
         "mode": "markers",
         "showlegend": false,
         "text": "Penny Lane - Remastered 2009",
         "type": "scatter",
         "x": [
          0.488
         ],
         "y": [
          3.014883333333333
         ]
        },
        {
         "hoverinfo": "text",
         "marker": {
          "cmax": 0.975,
          "cmin": 0.0357,
          "color": 0.806,
          "colorbar": {
           "title": {
            "text": "Positiveness"
           }
          },
          "opacity": 0.7,
          "size": 30.6355
         },
         "mode": "markers",
         "showlegend": false,
         "text": "Hello, Goodbye - Remastered 2009",
         "type": "scatter",
         "x": [
          0.733
         ],
         "y": [
          3.4806666666666666
         ]
        },
        {
         "hoverinfo": "text",
         "marker": {
          "cmax": 0.975,
          "cmin": 0.0357,
          "color": 0.289,
          "colorbar": {
           "title": {
            "text": "Positiveness"
           }
          },
          "opacity": 0.7,
          "size": 42.9695
         },
         "mode": "markers",
         "showlegend": false,
         "text": "Strawberry Fields Forever - Remastered 2009",
         "type": "scatter",
         "x": [
          0.502
         ],
         "y": [
          4.122
         ]
        },
        {
         "hoverinfo": "text",
         "marker": {
          "cmax": 0.975,
          "cmin": 0.0357,
          "color": 0.467,
          "colorbar": {
           "title": {
            "text": "Positiveness"
           }
          },
          "opacity": 0.7,
          "size": 33.7225
         },
         "mode": "markers",
         "showlegend": false,
         "text": "Baby, You're A Rich Man - Remastered 2009",
         "type": "scatter",
         "x": [
          0.625
         ],
         "y": [
          3.0217833333333335
         ]
        },
        {
         "hoverinfo": "text",
         "marker": {
          "cmax": 0.975,
          "cmin": 0.0357,
          "color": 0.653,
          "colorbar": {
           "title": {
            "text": "Positiveness"
           }
          },
          "opacity": 0.7,
          "size": 27.188
         },
         "mode": "markers",
         "showlegend": false,
         "text": "All You Need Is Love - Remastered 2009",
         "type": "scatter",
         "x": [
          0.48
         ],
         "y": [
          3.8397833333333335
         ]
        },
        {
         "hoverinfo": "text",
         "marker": {
          "cmax": 0.975,
          "cmin": 0.0357,
          "color": 0.654,
          "colorbar": {
           "title": {
            "text": "Positiveness"
           }
          },
          "opacity": 0.7,
          "size": 36.862
         },
         "mode": "markers",
         "showlegend": false,
         "text": "I Am The Walrus - Remastered 2009",
         "type": "scatter",
         "x": [
          0.556
         ],
         "y": [
          4.597783333333333
         ]
        },
        {
         "hoverinfo": "text",
         "marker": {
          "cmax": 0.975,
          "cmin": 0.0357,
          "color": 0.52,
          "colorbar": {
           "title": {
            "text": "Positiveness"
           }
          },
          "opacity": 0.7,
          "size": 31.8675
         },
         "mode": "markers",
         "showlegend": false,
         "text": "Piggies - Remastered 2009",
         "type": "scatter",
         "x": [
          0.445
         ],
         "y": [
          2.0711166666666667
         ]
        },
        {
         "hoverinfo": "text",
         "marker": {
          "cmax": 0.975,
          "cmin": 0.0357,
          "color": 0.372,
          "colorbar": {
           "title": {
            "text": "Positiveness"
           }
          },
          "opacity": 0.7,
          "size": 50.2635
         },
         "mode": "markers",
         "showlegend": false,
         "text": "Blackbird - Remastered 2009",
         "type": "scatter",
         "x": [
          0.127
         ],
         "y": [
          2.30645
         ]
        },
        {
         "hoverinfo": "text",
         "marker": {
          "cmax": 0.975,
          "cmin": 0.0357,
          "color": 0.717,
          "colorbar": {
           "title": {
            "text": "Positiveness"
           }
          },
          "opacity": 0.7,
          "size": 32.977000000000004
         },
         "mode": "markers",
         "showlegend": false,
         "text": "I'm So Tired - Remastered 2009",
         "type": "scatter",
         "x": [
          0.483
         ],
         "y": [
          2.0582166666666666
         ]
        },
        {
         "hoverinfo": "text",
         "marker": {
          "cmax": 0.975,
          "cmin": 0.0357,
          "color": 0.824,
          "colorbar": {
           "title": {
            "text": "Positiveness"
           }
          },
          "opacity": 0.7,
          "size": 40.5685
         },
         "mode": "markers",
         "showlegend": false,
         "text": "Martha My Dear - Remastered 2009",
         "type": "scatter",
         "x": [
          0.292
         ],
         "y": [
          2.4762166666666667
         ]
        },
        {
         "hoverinfo": "text",
         "marker": {
          "cmax": 0.975,
          "cmin": 0.0357,
          "color": 0.44,
          "colorbar": {
           "title": {
            "text": "Positiveness"
           }
          },
          "opacity": 0.7,
          "size": 33.6
         },
         "mode": "markers",
         "showlegend": false,
         "text": "Happiness Is A Warm Gun - Remastered 2009",
         "type": "scatter",
         "x": [
          0.54
         ],
         "y": [
          2.74245
         ]
        },
        {
         "hoverinfo": "text",
         "marker": {
          "cmax": 0.975,
          "cmin": 0.0357,
          "color": 0.648,
          "colorbar": {
           "title": {
            "text": "Positiveness"
           }
          },
          "opacity": 0.7,
          "size": 36.449
         },
         "mode": "markers",
         "showlegend": false,
         "text": "The Continuing Story Of Bungalow Bill - Remastered 2009",
         "type": "scatter",
         "x": [
          0.459
         ],
         "y": [
          3.236
         ]
        },
        {
         "hoverinfo": "text",
         "marker": {
          "cmax": 0.975,
          "cmin": 0.0357,
          "color": 0.152,
          "colorbar": {
           "title": {
            "text": "Positiveness"
           }
          },
          "opacity": 0.7,
          "size": 39.1475
         },
         "mode": "markers",
         "showlegend": false,
         "text": "Wild Honey Pie - Remastered 2009",
         "type": "scatter",
         "x": [
          0.763
         ],
         "y": [
          0.8828833333333334
         ]
        },
        {
         "hoverinfo": "text",
         "marker": {
          "cmax": 0.975,
          "cmin": 0.0357,
          "color": 0.975,
          "colorbar": {
           "title": {
            "text": "Positiveness"
           }
          },
          "opacity": 0.7,
          "size": 29.158499999999997
         },
         "mode": "markers",
         "showlegend": false,
         "text": "Ob-La-Di, Ob-La-Da - Remastered 2009",
         "type": "scatter",
         "x": [
          0.728
         ],
         "y": [
          3.1493333333333333
         ]
        },
        {
         "hoverinfo": "text",
         "marker": {
          "cmax": 0.975,
          "cmin": 0.0357,
          "color": 0.789,
          "colorbar": {
           "title": {
            "text": "Positiveness"
           }
          },
          "opacity": 0.7,
          "size": 34.3945
         },
         "mode": "markers",
         "showlegend": false,
         "text": "Glass Onion - Remastered 2009",
         "type": "scatter",
         "x": [
          0.51
         ],
         "y": [
          2.2973333333333334
         ]
        },
        {
         "hoverinfo": "text",
         "marker": {
          "cmax": 0.975,
          "cmin": 0.0357,
          "color": 0.332,
          "colorbar": {
           "title": {
            "text": "Positiveness"
           }
          },
          "opacity": 0.7,
          "size": 36.8655
         },
         "mode": "markers",
         "showlegend": false,
         "text": "Dear Prudence - Remastered 2009",
         "type": "scatter",
         "x": [
          0.529
         ],
         "y": [
          3.92955
         ]
        },
        {
         "hoverinfo": "text",
         "marker": {
          "cmax": 0.975,
          "cmin": 0.0357,
          "color": 0.494,
          "colorbar": {
           "title": {
            "text": "Positiveness"
           }
          },
          "opacity": 0.7,
          "size": 26.124000000000002
         },
         "mode": "markers",
         "showlegend": false,
         "text": "Back In The U.S.S.R. - Remastered 2009",
         "type": "scatter",
         "x": [
          0.969
         ],
         "y": [
          2.7242166666666665
         ]
        },
        {
         "hoverinfo": "text",
         "marker": {
          "cmax": 0.975,
          "cmin": 0.0357,
          "color": 0.648,
          "colorbar": {
           "title": {
            "text": "Positiveness"
           }
          },
          "opacity": 0.7,
          "size": 41.048
         },
         "mode": "markers",
         "showlegend": false,
         "text": "Rocky Raccoon - Remastered 2009",
         "type": "scatter",
         "x": [
          0.363
         ],
         "y": [
          3.5517833333333333
         ]
        },
        {
         "hoverinfo": "text",
         "marker": {
          "cmax": 0.975,
          "cmin": 0.0357,
          "color": 0.702,
          "colorbar": {
           "title": {
            "text": "Positiveness"
           }
          },
          "opacity": 0.7,
          "size": 30.9925
         },
         "mode": "markers",
         "showlegend": false,
         "text": "While My Guitar Gently Weeps - Remastered 2009",
         "type": "scatter",
         "x": [
          0.654
         ],
         "y": [
          4.75
         ]
        },
        {
         "hoverinfo": "text",
         "marker": {
          "cmax": 0.975,
          "cmin": 0.0357,
          "color": 0.946,
          "colorbar": {
           "title": {
            "text": "Positiveness"
           }
          },
          "opacity": 0.7,
          "size": 33.6595
         },
         "mode": "markers",
         "showlegend": false,
         "text": "Don't Pass Me By - Remastered 2009",
         "type": "scatter",
         "x": [
          0.537
         ],
         "y": [
          3.840883333333333
         ]
        },
        {
         "hoverinfo": "text",
         "marker": {
          "cmax": 0.975,
          "cmin": 0.0357,
          "color": 0.81,
          "colorbar": {
           "title": {
            "text": "Positiveness"
           }
          },
          "opacity": 0.7,
          "size": 30.1455
         },
         "mode": "markers",
         "showlegend": false,
         "text": "Everybody's Got Something To Hide Except Me And My Monkey - Remastered 2009",
         "type": "scatter",
         "x": [
          0.731
         ],
         "y": [
          2.4128833333333333
         ]
        },
        {
         "hoverinfo": "text",
         "marker": {
          "cmax": 0.975,
          "cmin": 0.0357,
          "color": 0.832,
          "colorbar": {
           "title": {
            "text": "Positiveness"
           }
          },
          "opacity": 0.7,
          "size": 40.3515
         },
         "mode": "markers",
         "showlegend": false,
         "text": "I Will - Remastered 2009",
         "type": "scatter",
         "x": [
          0.387
         ],
         "y": [
          1.76555
         ]
        },
        {
         "hoverinfo": "text",
         "marker": {
          "cmax": 0.975,
          "cmin": 0.0357,
          "color": 0.957,
          "colorbar": {
           "title": {
            "text": "Positiveness"
           }
          },
          "opacity": 0.7,
          "size": 30.512999999999998
         },
         "mode": "markers",
         "showlegend": false,
         "text": "Why Don't We Do It In The Road? - Remastered 2009",
         "type": "scatter",
         "x": [
          0.522
         ],
         "y": [
          1.686
         ]
        },
        {
         "hoverinfo": "text",
         "marker": {
          "cmax": 0.975,
          "cmin": 0.0357,
          "color": 0.178,
          "colorbar": {
           "title": {
            "text": "Positiveness"
           }
          },
          "opacity": 0.7,
          "size": 51.0405
         },
         "mode": "markers",
         "showlegend": false,
         "text": "Good Night - Remastered 2009",
         "type": "scatter",
         "x": [
          0.355
         ],
         "y": [
          3.2293333333333334
         ]
        },
        {
         "hoverinfo": "text",
         "marker": {
          "cmax": 0.975,
          "cmin": 0.0357,
          "color": 0.101,
          "colorbar": {
           "title": {
            "text": "Positiveness"
           }
          },
          "opacity": 0.7,
          "size": 53.539500000000004
         },
         "mode": "markers",
         "showlegend": false,
         "text": "Revolution 9 - Remastered 2009",
         "type": "scatter",
         "x": [
          0.615
         ],
         "y": [
          8.366883333333334
         ]
        },
        {
         "hoverinfo": "text",
         "marker": {
          "cmax": 0.975,
          "cmin": 0.0357,
          "color": 0.362,
          "colorbar": {
           "title": {
            "text": "Positiveness"
           }
          },
          "opacity": 0.7,
          "size": 41.478500000000004
         },
         "mode": "markers",
         "showlegend": false,
         "text": "Cry Baby Cry - Remastered 2009",
         "type": "scatter",
         "x": [
          0.529
         ],
         "y": [
          3.034666666666667
         ]
        },
        {
         "hoverinfo": "text",
         "marker": {
          "cmax": 0.975,
          "cmin": 0.0357,
          "color": 0.553,
          "colorbar": {
           "title": {
            "text": "Positiveness"
           }
          },
          "opacity": 0.7,
          "size": 54.082
         },
         "mode": "markers",
         "showlegend": false,
         "text": "Honey Pie - Remastered 2009",
         "type": "scatter",
         "x": [
          0.297
         ],
         "y": [
          2.686
         ]
        },
        {
         "hoverinfo": "text",
         "marker": {
          "cmax": 0.975,
          "cmin": 0.0357,
          "color": 0.695,
          "colorbar": {
           "title": {
            "text": "Positiveness"
           }
          },
          "opacity": 0.7,
          "size": 33.078500000000005
         },
         "mode": "markers",
         "showlegend": false,
         "text": "Revolution 1 - Remastered 2009",
         "type": "scatter",
         "x": [
          0.626
         ],
         "y": [
          4.261783333333334
         ]
        },
        {
         "hoverinfo": "text",
         "marker": {
          "cmax": 0.975,
          "cmin": 0.0357,
          "color": 0.793,
          "colorbar": {
           "title": {
            "text": "Positiveness"
           }
          },
          "opacity": 0.7,
          "size": 38.650499999999994
         },
         "mode": "markers",
         "showlegend": false,
         "text": "Savoy Truffle - Remastered 2009",
         "type": "scatter",
         "x": [
          0.544
         ],
         "y": [
          2.907783333333333
         ]
        },
        {
         "hoverinfo": "text",
         "marker": {
          "cmax": 0.975,
          "cmin": 0.0357,
          "color": 0.281,
          "colorbar": {
           "title": {
            "text": "Positiveness"
           }
          },
          "opacity": 0.7,
          "size": 29.641499999999997
         },
         "mode": "markers",
         "showlegend": false,
         "text": "Helter Skelter - Remastered 2009",
         "type": "scatter",
         "x": [
          0.831
         ],
         "y": [
          4.49645
         ]
        },
        {
         "hoverinfo": "text",
         "marker": {
          "cmax": 0.975,
          "cmin": 0.0357,
          "color": 0.671,
          "colorbar": {
           "title": {
            "text": "Positiveness"
           }
          },
          "opacity": 0.7,
          "size": 33.690999999999995
         },
         "mode": "markers",
         "showlegend": false,
         "text": "Sexy Sadie - Remastered 2009",
         "type": "scatter",
         "x": [
          0.624
         ],
         "y": [
          3.25445
         ]
        },
        {
         "hoverinfo": "text",
         "marker": {
          "cmax": 0.975,
          "cmin": 0.0357,
          "color": 0.401,
          "colorbar": {
           "title": {
            "text": "Positiveness"
           }
          },
          "opacity": 0.7,
          "size": 59.8815
         },
         "mode": "markers",
         "showlegend": false,
         "text": "Mother Nature's Son - Remastered 2009",
         "type": "scatter",
         "x": [
          0.178
         ],
         "y": [
          2.80045
         ]
        },
        {
         "hoverinfo": "text",
         "marker": {
          "cmax": 0.975,
          "cmin": 0.0357,
          "color": 0.435,
          "colorbar": {
           "title": {
            "text": "Positiveness"
           }
          },
          "opacity": 0.7,
          "size": 35.952
         },
         "mode": "markers",
         "showlegend": false,
         "text": "Yer Blues - Remastered 2009",
         "type": "scatter",
         "x": [
          0.525
         ],
         "y": [
          4.00755
         ]
        },
        {
         "hoverinfo": "text",
         "marker": {
          "cmax": 0.975,
          "cmin": 0.0357,
          "color": 0.91,
          "colorbar": {
           "title": {
            "text": "Positiveness"
           }
          },
          "opacity": 0.7,
          "size": 26.2815
         },
         "mode": "markers",
         "showlegend": false,
         "text": "Birthday - Remastered 2009",
         "type": "scatter",
         "x": [
          0.727
         ],
         "y": [
          2.718
         ]
        },
        {
         "hoverinfo": "text",
         "marker": {
          "cmax": 0.975,
          "cmin": 0.0357,
          "color": 0.193,
          "colorbar": {
           "title": {
            "text": "Positiveness"
           }
          },
          "opacity": 0.7,
          "size": 56.287000000000006
         },
         "mode": "markers",
         "showlegend": false,
         "text": "Julia - Remastered 2009",
         "type": "scatter",
         "x": [
          0.0953
         ],
         "y": [
          2.94445
         ]
        },
        {
         "hoverinfo": "text",
         "marker": {
          "cmax": 0.975,
          "cmin": 0.0357,
          "color": 0.163,
          "colorbar": {
           "title": {
            "text": "Positiveness"
           }
          },
          "opacity": 0.7,
          "size": 55.5905
         },
         "mode": "markers",
         "showlegend": false,
         "text": "Long, Long, Long - Remastered 2009",
         "type": "scatter",
         "x": [
          0.129
         ],
         "y": [
          3.1051166666666665
         ]
        },
        {
         "hoverinfo": "text",
         "marker": {
          "cmax": 0.975,
          "cmin": 0.0357,
          "color": 0.199,
          "colorbar": {
           "title": {
            "text": "Positiveness"
           }
          },
          "opacity": 0.7,
          "size": 27.573
         },
         "mode": "markers",
         "showlegend": false,
         "text": "It's All Too Much - Remastered 2009",
         "type": "scatter",
         "x": [
          0.781
         ],
         "y": [
          6.416883333333334
         ]
        },
        {
         "hoverinfo": "text",
         "marker": {
          "cmax": 0.975,
          "cmin": 0.0357,
          "color": 0.688,
          "colorbar": {
           "title": {
            "text": "Positiveness"
           }
          },
          "opacity": 0.7,
          "size": 35.2415
         },
         "mode": "markers",
         "showlegend": false,
         "text": "Yellow Submarine - Remastered 2009",
         "type": "scatter",
         "x": [
          0.536
         ],
         "y": [
          2.662
         ]
        },
        {
         "hoverinfo": "text",
         "marker": {
          "cmax": 0.975,
          "cmin": 0.0357,
          "color": 0.801,
          "colorbar": {
           "title": {
            "text": "Positiveness"
           }
          },
          "opacity": 0.7,
          "size": 29.193499999999997
         },
         "mode": "markers",
         "showlegend": false,
         "text": "Only A Northern Song - Remastered 2009",
         "type": "scatter",
         "x": [
          0.731
         ],
         "y": [
          3.4082166666666667
         ]
        },
        {
         "hoverinfo": "text",
         "marker": {
          "cmax": 0.975,
          "cmin": 0.0357,
          "color": 0.778,
          "colorbar": {
           "title": {
            "text": "Positiveness"
           }
          },
          "opacity": 0.7,
          "size": 33.232499999999995
         },
         "mode": "markers",
         "showlegend": false,
         "text": "All Together Now - Remastered 2009",
         "type": "scatter",
         "x": [
          0.431
         ],
         "y": [
          2.18155
         ]
        },
        {
         "hoverinfo": "text",
         "marker": {
          "cmax": 0.975,
          "cmin": 0.0357,
          "color": 0.947,
          "colorbar": {
           "title": {
            "text": "Positiveness"
           }
          },
          "opacity": 0.7,
          "size": 32.074
         },
         "mode": "markers",
         "showlegend": false,
         "text": "Hey Bulldog - Remastered 2009",
         "type": "scatter",
         "x": [
          0.617
         ],
         "y": [
          3.18845
         ]
        },
        {
         "hoverinfo": "text",
         "marker": {
          "cmax": 0.975,
          "cmin": 0.0357,
          "color": 0.627,
          "colorbar": {
           "title": {
            "text": "Positiveness"
           }
          },
          "opacity": 0.7,
          "size": 29.5925
         },
         "mode": "markers",
         "showlegend": false,
         "text": "All You Need Is Love - Remastered 2009",
         "type": "scatter",
         "x": [
          0.463
         ],
         "y": [
          3.85355
         ]
        },
        {
         "hoverinfo": "text",
         "marker": {
          "cmax": 0.975,
          "cmin": 0.0357,
          "color": 0.0489,
          "colorbar": {
           "title": {
            "text": "Positiveness"
           }
          },
          "opacity": 0.7,
          "size": 58.184
         },
         "mode": "markers",
         "showlegend": false,
         "text": "Sea Of Monsters - Remastered 2009",
         "type": "scatter",
         "x": [
          0.166
         ],
         "y": [
          3.61155
         ]
        },
        {
         "hoverinfo": "text",
         "marker": {
          "cmax": 0.975,
          "cmin": 0.0357,
          "color": 0.0629,
          "colorbar": {
           "title": {
            "text": "Positiveness"
           }
          },
          "opacity": 0.7,
          "size": 72.20150000000001
         },
         "mode": "markers",
         "showlegend": false,
         "text": "Sea Of Time - Remastered 2009",
         "type": "scatter",
         "x": [
          0.096
         ],
         "y": [
          3.00355
         ]
        },
        {
         "hoverinfo": "text",
         "marker": {
          "cmax": 0.975,
          "cmin": 0.0357,
          "color": 0.0357,
          "colorbar": {
           "title": {
            "text": "Positiveness"
           }
          },
          "opacity": 0.7,
          "size": 67.431
         },
         "mode": "markers",
         "showlegend": false,
         "text": "Sea Of Holes - Remastered 2009",
         "type": "scatter",
         "x": [
          0.0994
         ],
         "y": [
          2.278216666666667
         ]
        },
        {
         "hoverinfo": "text",
         "marker": {
          "cmax": 0.975,
          "cmin": 0.0357,
          "color": 0.16,
          "colorbar": {
           "title": {
            "text": "Positiveness"
           }
          },
          "opacity": 0.7,
          "size": 49.4095
         },
         "mode": "markers",
         "showlegend": false,
         "text": "March Of The Meanies - Remastered 2009",
         "type": "scatter",
         "x": [
          0.378
         ],
         "y": [
          2.3226666666666667
         ]
        },
        {
         "hoverinfo": "text",
         "marker": {
          "cmax": 0.975,
          "cmin": 0.0357,
          "color": 0.0462,
          "colorbar": {
           "title": {
            "text": "Positiveness"
           }
          },
          "opacity": 0.7,
          "size": 80.563
         },
         "mode": "markers",
         "showlegend": false,
         "text": "Pepperland Laid Waste - Remastered 2009",
         "type": "scatter",
         "x": [
          0.0902
         ],
         "y": [
          2.2128833333333335
         ]
        },
        {
         "hoverinfo": "text",
         "marker": {
          "cmax": 0.975,
          "cmin": 0.0357,
          "color": 0.271,
          "colorbar": {
           "title": {
            "text": "Positiveness"
           }
          },
          "opacity": 0.7,
          "size": 46.0425
         },
         "mode": "markers",
         "showlegend": false,
         "text": "Yellow Submarine In Pepperland - Remastered 2009",
         "type": "scatter",
         "x": [
          0.219
         ],
         "y": [
          2.2337833333333332
         ]
        },
        {
         "hoverinfo": "text",
         "marker": {
          "cmax": 0.975,
          "cmin": 0.0357,
          "color": 0.367,
          "colorbar": {
           "title": {
            "text": "Positiveness"
           }
          },
          "opacity": 0.7,
          "size": 43.519
         },
         "mode": "markers",
         "showlegend": false,
         "text": "Pepperland - Remastered 2009",
         "type": "scatter",
         "x": [
          0.281
         ],
         "y": [
          2.34555
         ]
        },
        {
         "hoverinfo": "text",
         "marker": {
          "cmax": 0.975,
          "cmin": 0.0357,
          "color": 0.187,
          "colorbar": {
           "title": {
            "text": "Positiveness"
           }
          },
          "opacity": 0.7,
          "size": 41.6955
         },
         "mode": "markers",
         "showlegend": false,
         "text": "Come Together - Remastered 2009",
         "type": "scatter",
         "x": [
          0.376
         ],
         "y": [
          4.33245
         ]
        },
        {
         "hoverinfo": "text",
         "marker": {
          "cmax": 0.975,
          "cmin": 0.0357,
          "color": 0.377,
          "colorbar": {
           "title": {
            "text": "Positiveness"
           }
          },
          "opacity": 0.7,
          "size": 38.052
         },
         "mode": "markers",
         "showlegend": false,
         "text": "Something - Remastered 2009",
         "type": "scatter",
         "x": [
          0.338
         ],
         "y": [
          3.0382166666666666
         ]
        },
        {
         "hoverinfo": "text",
         "marker": {
          "cmax": 0.975,
          "cmin": 0.0357,
          "color": 0.394,
          "colorbar": {
           "title": {
            "text": "Positiveness"
           }
          },
          "opacity": 0.7,
          "size": 36.694
         },
         "mode": "markers",
         "showlegend": false,
         "text": "Here Comes The Sun - Remastered 2009",
         "type": "scatter",
         "x": [
          0.54
         ],
         "y": [
          3.09555
         ]
        },
        {
         "hoverinfo": "text",
         "marker": {
          "cmax": 0.975,
          "cmin": 0.0357,
          "color": 0.549,
          "colorbar": {
           "title": {
            "text": "Positiveness"
           }
          },
          "opacity": 0.7,
          "size": 29.442000000000004
         },
         "mode": "markers",
         "showlegend": false,
         "text": "Oh! Darling - Remastered 2009",
         "type": "scatter",
         "x": [
          0.656
         ],
         "y": [
          3.454
         ]
        },
        {
         "hoverinfo": "text",
         "marker": {
          "cmax": 0.975,
          "cmin": 0.0357,
          "color": 0.73,
          "colorbar": {
           "title": {
            "text": "Positiveness"
           }
          },
          "opacity": 0.7,
          "size": 32.025
         },
         "mode": "markers",
         "showlegend": false,
         "text": "Octopus's Garden - Remastered 2009",
         "type": "scatter",
         "x": [
          0.512
         ],
         "y": [
          2.8453333333333335
         ]
        },
        {
         "hoverinfo": "text",
         "marker": {
          "cmax": 0.975,
          "cmin": 0.0357,
          "color": 0.42,
          "colorbar": {
           "title": {
            "text": "Positiveness"
           }
          },
          "opacity": 0.7,
          "size": 33.2045
         },
         "mode": "markers",
         "showlegend": false,
         "text": "I Want You (She's So Heavy) - Remastered 2009",
         "type": "scatter",
         "x": [
          0.515
         ],
         "y": [
          7.788666666666667
         ]
        },
        {
         "hoverinfo": "text",
         "marker": {
          "cmax": 0.975,
          "cmin": 0.0357,
          "color": 0.162,
          "colorbar": {
           "title": {
            "text": "Positiveness"
           }
          },
          "opacity": 0.7,
          "size": 41.2195
         },
         "mode": "markers",
         "showlegend": false,
         "text": "Because - Remastered 2009",
         "type": "scatter",
         "x": [
          0.249
         ],
         "y": [
          2.7611166666666667
         ]
        },
        {
         "hoverinfo": "text",
         "marker": {
          "cmax": 0.975,
          "cmin": 0.0357,
          "color": 0.726,
          "colorbar": {
           "title": {
            "text": "Positiveness"
           }
          },
          "opacity": 0.7,
          "size": 38.6575
         },
         "mode": "markers",
         "showlegend": false,
         "text": "Maxwell's Silver Hammer - Remastered 2009",
         "type": "scatter",
         "x": [
          0.426
         ],
         "y": [
          3.465333333333333
         ]
        },
        {
         "hoverinfo": "text",
         "marker": {
          "cmax": 0.975,
          "cmin": 0.0357,
          "color": 0.192,
          "colorbar": {
           "title": {
            "text": "Positiveness"
           }
          },
          "opacity": 0.7,
          "size": 61.7015
         },
         "mode": "markers",
         "showlegend": false,
         "text": "Sun King - Remastered 2009",
         "type": "scatter",
         "x": [
          0.177
         ],
         "y": [
          2.4377833333333334
         ]
        },
        {
         "hoverinfo": "text",
         "marker": {
          "cmax": 0.975,
          "cmin": 0.0357,
          "color": 0.223,
          "colorbar": {
           "title": {
            "text": "Positiveness"
           }
          },
          "opacity": 0.7,
          "size": 38.6785
         },
         "mode": "markers",
         "showlegend": false,
         "text": "You Never Give Me Your Money - Remastered 2009",
         "type": "scatter",
         "x": [
          0.416
         ],
         "y": [
          4.04955
         ]
        },
        {
         "hoverinfo": "text",
         "marker": {
          "cmax": 0.975,
          "cmin": 0.0357,
          "color": 0.522,
          "colorbar": {
           "title": {
            "text": "Positiveness"
           }
          },
          "opacity": 0.7,
          "size": 80.605
         },
         "mode": "markers",
         "showlegend": false,
         "text": "Her Majesty - Remastered 2009",
         "type": "scatter",
         "x": [
          0.215
         ],
         "y": [
          0.43311666666666665
         ]
        },
        {
         "hoverinfo": "text",
         "marker": {
          "cmax": 0.975,
          "cmin": 0.0357,
          "color": 0.704,
          "colorbar": {
           "title": {
            "text": "Positiveness"
           }
          },
          "opacity": 0.7,
          "size": 31.416000000000004
         },
         "mode": "markers",
         "showlegend": false,
         "text": "Carry That Weight - Remastered 2009",
         "type": "scatter",
         "x": [
          0.458
         ],
         "y": [
          1.6077833333333333
         ]
        },
        {
         "hoverinfo": "text",
         "marker": {
          "cmax": 0.975,
          "cmin": 0.0357,
          "color": 0.222,
          "colorbar": {
           "title": {
            "text": "Positiveness"
           }
          },
          "opacity": 0.7,
          "size": 35.4165
         },
         "mode": "markers",
         "showlegend": false,
         "text": "The End - Remastered 2009",
         "type": "scatter",
         "x": [
          0.487
         ],
         "y": [
          2.3602166666666666
         ]
        },
        {
         "hoverinfo": "text",
         "marker": {
          "cmax": 0.975,
          "cmin": 0.0357,
          "color": 0.69,
          "colorbar": {
           "title": {
            "text": "Positiveness"
           }
          },
          "opacity": 0.7,
          "size": 30.775499999999997
         },
         "mode": "markers",
         "showlegend": false,
         "text": "She Came In Through The Bathroom Window - Remastered 2009",
         "type": "scatter",
         "x": [
          0.72
         ],
         "y": [
          1.9771166666666666
         ]
        },
        {
         "hoverinfo": "text",
         "marker": {
          "cmax": 0.975,
          "cmin": 0.0357,
          "color": 0.239,
          "colorbar": {
           "title": {
            "text": "Positiveness"
           }
          },
          "opacity": 0.7,
          "size": 42.440999999999995
         },
         "mode": "markers",
         "showlegend": false,
         "text": "Golden Slumbers - Remastered 2009",
         "type": "scatter",
         "x": [
          0.152
         ],
         "y": [
          1.5293333333333334
         ]
        },
        {
         "hoverinfo": "text",
         "marker": {
          "cmax": 0.975,
          "cmin": 0.0357,
          "color": 0.499,
          "colorbar": {
           "title": {
            "text": "Positiveness"
           }
          },
          "opacity": 0.7,
          "size": 31.094
         },
         "mode": "markers",
         "showlegend": false,
         "text": "Polythene Pam - Remastered 2009",
         "type": "scatter",
         "x": [
          0.939
         ],
         "y": [
          1.2106666666666666
         ]
        },
        {
         "hoverinfo": "text",
         "marker": {
          "cmax": 0.975,
          "cmin": 0.0357,
          "color": 0.97,
          "colorbar": {
           "title": {
            "text": "Positiveness"
           }
          },
          "opacity": 0.7,
          "size": 31.874499999999998
         },
         "mode": "markers",
         "showlegend": false,
         "text": "Mean Mr Mustard - Remastered 2009",
         "type": "scatter",
         "x": [
          0.596
         ],
         "y": [
          1.1088833333333334
         ]
        },
        {
         "hoverinfo": "text",
         "marker": {
          "cmax": 0.975,
          "cmin": 0.0357,
          "color": 0.931,
          "colorbar": {
           "title": {
            "text": "Positiveness"
           }
          },
          "opacity": 0.7,
          "size": 37.649499999999996
         },
         "mode": "markers",
         "showlegend": false,
         "text": "Two Of Us - Remastered 2009",
         "type": "scatter",
         "x": [
          0.702
         ],
         "y": [
          3.61355
         ]
        },
        {
         "hoverinfo": "text",
         "marker": {
          "cmax": 0.975,
          "cmin": 0.0357,
          "color": 0.858,
          "colorbar": {
           "title": {
            "text": "Positiveness"
           }
          },
          "opacity": 0.7,
          "size": 41.258
         },
         "mode": "markers",
         "showlegend": false,
         "text": "Across The Universe - Remastered 2009",
         "type": "scatter",
         "x": [
          0.412
         ],
         "y": [
          3.802216666666667
         ]
        },
        {
         "hoverinfo": "text",
         "marker": {
          "cmax": 0.975,
          "cmin": 0.0357,
          "color": 0.525,
          "colorbar": {
           "title": {
            "text": "Positiveness"
           }
          },
          "opacity": 0.7,
          "size": 27.489
         },
         "mode": "markers",
         "showlegend": false,
         "text": "I Me Mine - Remastered 2009",
         "type": "scatter",
         "x": [
          0.638
         ],
         "y": [
          2.42645
         ]
        },
        {
         "hoverinfo": "text",
         "marker": {
          "cmax": 0.975,
          "cmin": 0.0357,
          "color": 0.67,
          "colorbar": {
           "title": {
            "text": "Positiveness"
           }
          },
          "opacity": 0.7,
          "size": 42.966
         },
         "mode": "markers",
         "showlegend": false,
         "text": "Dig It - Remastered 2009",
         "type": "scatter",
         "x": [
          0.489
         ],
         "y": [
          0.8411166666666666
         ]
        },
        {
         "hoverinfo": "text",
         "marker": {
          "cmax": 0.975,
          "cmin": 0.0357,
          "color": 0.41,
          "colorbar": {
           "title": {
            "text": "Positiveness"
           }
          },
          "opacity": 0.7,
          "size": 29.186500000000002
         },
         "mode": "markers",
         "showlegend": false,
         "text": "Let It Be - Remastered 2009",
         "type": "scatter",
         "x": [
          0.403
         ],
         "y": [
          4.05045
         ]
        },
        {
         "hoverinfo": "text",
         "marker": {
          "cmax": 0.975,
          "cmin": 0.0357,
          "color": 0.527,
          "colorbar": {
           "title": {
            "text": "Positiveness"
           }
          },
          "opacity": 0.7,
          "size": 31.349500000000003
         },
         "mode": "markers",
         "showlegend": false,
         "text": "Dig A Pony - Remastered 2009",
         "type": "scatter",
         "x": [
          0.478
         ],
         "y": [
          3.9166666666666665
         ]
        },
        {
         "hoverinfo": "text",
         "marker": {
          "cmax": 0.975,
          "cmin": 0.0357,
          "color": 0.364,
          "colorbar": {
           "title": {
            "text": "Positiveness"
           }
          },
          "opacity": 0.7,
          "size": 30.884
         },
         "mode": "markers",
         "showlegend": false,
         "text": "I've Got A Feeling - Remastered 2009",
         "type": "scatter",
         "x": [
          0.609
         ],
         "y": [
          3.626
         ]
        },
        {
         "hoverinfo": "text",
         "marker": {
          "cmax": 0.975,
          "cmin": 0.0357,
          "color": 0.888,
          "colorbar": {
           "title": {
            "text": "Positiveness"
           }
          },
          "opacity": 0.7,
          "size": 22.522499999999997
         },
         "mode": "markers",
         "showlegend": false,
         "text": "One After 909 - Remastered 2009",
         "type": "scatter",
         "x": [
          0.828
         ],
         "y": [
          2.8993333333333333
         ]
        },
        {
         "hoverinfo": "text",
         "marker": {
          "cmax": 0.975,
          "cmin": 0.0357,
          "color": 0.392,
          "colorbar": {
           "title": {
            "text": "Positiveness"
           }
          },
          "opacity": 0.7,
          "size": 35.336
         },
         "mode": "markers",
         "showlegend": false,
         "text": "The Long And Winding Road - Remastered 2009",
         "type": "scatter",
         "x": [
          0.329
         ],
         "y": [
          3.63645
         ]
        },
        {
         "hoverinfo": "text",
         "marker": {
          "cmax": 0.975,
          "cmin": 0.0357,
          "color": 0.955,
          "colorbar": {
           "title": {
            "text": "Positiveness"
           }
          },
          "opacity": 0.7,
          "size": 37.7055
         },
         "mode": "markers",
         "showlegend": false,
         "text": "For You Blue - Remastered 2009",
         "type": "scatter",
         "x": [
          0.556
         ],
         "y": [
          2.5368833333333334
         ]
        },
        {
         "hoverinfo": "text",
         "marker": {
          "cmax": 0.975,
          "cmin": 0.0357,
          "color": 0.332,
          "colorbar": {
           "title": {
            "text": "Positiveness"
           }
          },
          "opacity": 0.7,
          "size": 34.426
         },
         "mode": "markers",
         "showlegend": false,
         "text": "Get Back - Remastered 2009",
         "type": "scatter",
         "x": [
          0.592
         ],
         "y": [
          3.15645
         ]
        },
        {
         "hoverinfo": "text",
         "marker": {
          "cmax": 0.975,
          "cmin": 0.0357,
          "color": 0.524,
          "colorbar": {
           "title": {
            "text": "Positiveness"
           }
          },
          "opacity": 0.7,
          "size": 42.1225
         },
         "mode": "markers",
         "showlegend": false,
         "text": "Maggie Mae - Remastered 2009",
         "type": "scatter",
         "x": [
          0.515
         ],
         "y": [
          0.6673333333333333
         ]
        }
       ],
       "layout": {
        "template": {
         "data": {
          "bar": [
           {
            "error_x": {
             "color": "#2a3f5f"
            },
            "error_y": {
             "color": "#2a3f5f"
            },
            "marker": {
             "line": {
              "color": "#E5ECF6",
              "width": 0.5
             },
             "pattern": {
              "fillmode": "overlay",
              "size": 10,
              "solidity": 0.2
             }
            },
            "type": "bar"
           }
          ],
          "barpolar": [
           {
            "marker": {
             "line": {
              "color": "#E5ECF6",
              "width": 0.5
             },
             "pattern": {
              "fillmode": "overlay",
              "size": 10,
              "solidity": 0.2
             }
            },
            "type": "barpolar"
           }
          ],
          "carpet": [
           {
            "aaxis": {
             "endlinecolor": "#2a3f5f",
             "gridcolor": "white",
             "linecolor": "white",
             "minorgridcolor": "white",
             "startlinecolor": "#2a3f5f"
            },
            "baxis": {
             "endlinecolor": "#2a3f5f",
             "gridcolor": "white",
             "linecolor": "white",
             "minorgridcolor": "white",
             "startlinecolor": "#2a3f5f"
            },
            "type": "carpet"
           }
          ],
          "choropleth": [
           {
            "colorbar": {
             "outlinewidth": 0,
             "ticks": ""
            },
            "type": "choropleth"
           }
          ],
          "contour": [
           {
            "colorbar": {
             "outlinewidth": 0,
             "ticks": ""
            },
            "colorscale": [
             [
              0,
              "#0d0887"
             ],
             [
              0.1111111111111111,
              "#46039f"
             ],
             [
              0.2222222222222222,
              "#7201a8"
             ],
             [
              0.3333333333333333,
              "#9c179e"
             ],
             [
              0.4444444444444444,
              "#bd3786"
             ],
             [
              0.5555555555555556,
              "#d8576b"
             ],
             [
              0.6666666666666666,
              "#ed7953"
             ],
             [
              0.7777777777777778,
              "#fb9f3a"
             ],
             [
              0.8888888888888888,
              "#fdca26"
             ],
             [
              1,
              "#f0f921"
             ]
            ],
            "type": "contour"
           }
          ],
          "contourcarpet": [
           {
            "colorbar": {
             "outlinewidth": 0,
             "ticks": ""
            },
            "type": "contourcarpet"
           }
          ],
          "heatmap": [
           {
            "colorbar": {
             "outlinewidth": 0,
             "ticks": ""
            },
            "colorscale": [
             [
              0,
              "#0d0887"
             ],
             [
              0.1111111111111111,
              "#46039f"
             ],
             [
              0.2222222222222222,
              "#7201a8"
             ],
             [
              0.3333333333333333,
              "#9c179e"
             ],
             [
              0.4444444444444444,
              "#bd3786"
             ],
             [
              0.5555555555555556,
              "#d8576b"
             ],
             [
              0.6666666666666666,
              "#ed7953"
             ],
             [
              0.7777777777777778,
              "#fb9f3a"
             ],
             [
              0.8888888888888888,
              "#fdca26"
             ],
             [
              1,
              "#f0f921"
             ]
            ],
            "type": "heatmap"
           }
          ],
          "heatmapgl": [
           {
            "colorbar": {
             "outlinewidth": 0,
             "ticks": ""
            },
            "colorscale": [
             [
              0,
              "#0d0887"
             ],
             [
              0.1111111111111111,
              "#46039f"
             ],
             [
              0.2222222222222222,
              "#7201a8"
             ],
             [
              0.3333333333333333,
              "#9c179e"
             ],
             [
              0.4444444444444444,
              "#bd3786"
             ],
             [
              0.5555555555555556,
              "#d8576b"
             ],
             [
              0.6666666666666666,
              "#ed7953"
             ],
             [
              0.7777777777777778,
              "#fb9f3a"
             ],
             [
              0.8888888888888888,
              "#fdca26"
             ],
             [
              1,
              "#f0f921"
             ]
            ],
            "type": "heatmapgl"
           }
          ],
          "histogram": [
           {
            "marker": {
             "pattern": {
              "fillmode": "overlay",
              "size": 10,
              "solidity": 0.2
             }
            },
            "type": "histogram"
           }
          ],
          "histogram2d": [
           {
            "colorbar": {
             "outlinewidth": 0,
             "ticks": ""
            },
            "colorscale": [
             [
              0,
              "#0d0887"
             ],
             [
              0.1111111111111111,
              "#46039f"
             ],
             [
              0.2222222222222222,
              "#7201a8"
             ],
             [
              0.3333333333333333,
              "#9c179e"
             ],
             [
              0.4444444444444444,
              "#bd3786"
             ],
             [
              0.5555555555555556,
              "#d8576b"
             ],
             [
              0.6666666666666666,
              "#ed7953"
             ],
             [
              0.7777777777777778,
              "#fb9f3a"
             ],
             [
              0.8888888888888888,
              "#fdca26"
             ],
             [
              1,
              "#f0f921"
             ]
            ],
            "type": "histogram2d"
           }
          ],
          "histogram2dcontour": [
           {
            "colorbar": {
             "outlinewidth": 0,
             "ticks": ""
            },
            "colorscale": [
             [
              0,
              "#0d0887"
             ],
             [
              0.1111111111111111,
              "#46039f"
             ],
             [
              0.2222222222222222,
              "#7201a8"
             ],
             [
              0.3333333333333333,
              "#9c179e"
             ],
             [
              0.4444444444444444,
              "#bd3786"
             ],
             [
              0.5555555555555556,
              "#d8576b"
             ],
             [
              0.6666666666666666,
              "#ed7953"
             ],
             [
              0.7777777777777778,
              "#fb9f3a"
             ],
             [
              0.8888888888888888,
              "#fdca26"
             ],
             [
              1,
              "#f0f921"
             ]
            ],
            "type": "histogram2dcontour"
           }
          ],
          "mesh3d": [
           {
            "colorbar": {
             "outlinewidth": 0,
             "ticks": ""
            },
            "type": "mesh3d"
           }
          ],
          "parcoords": [
           {
            "line": {
             "colorbar": {
              "outlinewidth": 0,
              "ticks": ""
             }
            },
            "type": "parcoords"
           }
          ],
          "pie": [
           {
            "automargin": true,
            "type": "pie"
           }
          ],
          "scatter": [
           {
            "fillpattern": {
             "fillmode": "overlay",
             "size": 10,
             "solidity": 0.2
            },
            "type": "scatter"
           }
          ],
          "scatter3d": [
           {
            "line": {
             "colorbar": {
              "outlinewidth": 0,
              "ticks": ""
             }
            },
            "marker": {
             "colorbar": {
              "outlinewidth": 0,
              "ticks": ""
             }
            },
            "type": "scatter3d"
           }
          ],
          "scattercarpet": [
           {
            "marker": {
             "colorbar": {
              "outlinewidth": 0,
              "ticks": ""
             }
            },
            "type": "scattercarpet"
           }
          ],
          "scattergeo": [
           {
            "marker": {
             "colorbar": {
              "outlinewidth": 0,
              "ticks": ""
             }
            },
            "type": "scattergeo"
           }
          ],
          "scattergl": [
           {
            "marker": {
             "colorbar": {
              "outlinewidth": 0,
              "ticks": ""
             }
            },
            "type": "scattergl"
           }
          ],
          "scattermapbox": [
           {
            "marker": {
             "colorbar": {
              "outlinewidth": 0,
              "ticks": ""
             }
            },
            "type": "scattermapbox"
           }
          ],
          "scatterpolar": [
           {
            "marker": {
             "colorbar": {
              "outlinewidth": 0,
              "ticks": ""
             }
            },
            "type": "scatterpolar"
           }
          ],
          "scatterpolargl": [
           {
            "marker": {
             "colorbar": {
              "outlinewidth": 0,
              "ticks": ""
             }
            },
            "type": "scatterpolargl"
           }
          ],
          "scatterternary": [
           {
            "marker": {
             "colorbar": {
              "outlinewidth": 0,
              "ticks": ""
             }
            },
            "type": "scatterternary"
           }
          ],
          "surface": [
           {
            "colorbar": {
             "outlinewidth": 0,
             "ticks": ""
            },
            "colorscale": [
             [
              0,
              "#0d0887"
             ],
             [
              0.1111111111111111,
              "#46039f"
             ],
             [
              0.2222222222222222,
              "#7201a8"
             ],
             [
              0.3333333333333333,
              "#9c179e"
             ],
             [
              0.4444444444444444,
              "#bd3786"
             ],
             [
              0.5555555555555556,
              "#d8576b"
             ],
             [
              0.6666666666666666,
              "#ed7953"
             ],
             [
              0.7777777777777778,
              "#fb9f3a"
             ],
             [
              0.8888888888888888,
              "#fdca26"
             ],
             [
              1,
              "#f0f921"
             ]
            ],
            "type": "surface"
           }
          ],
          "table": [
           {
            "cells": {
             "fill": {
              "color": "#EBF0F8"
             },
             "line": {
              "color": "white"
             }
            },
            "header": {
             "fill": {
              "color": "#C8D4E3"
             },
             "line": {
              "color": "white"
             }
            },
            "type": "table"
           }
          ]
         },
         "layout": {
          "annotationdefaults": {
           "arrowcolor": "#2a3f5f",
           "arrowhead": 0,
           "arrowwidth": 1
          },
          "autotypenumbers": "strict",
          "coloraxis": {
           "colorbar": {
            "outlinewidth": 0,
            "ticks": ""
           }
          },
          "colorscale": {
           "diverging": [
            [
             0,
             "#8e0152"
            ],
            [
             0.1,
             "#c51b7d"
            ],
            [
             0.2,
             "#de77ae"
            ],
            [
             0.3,
             "#f1b6da"
            ],
            [
             0.4,
             "#fde0ef"
            ],
            [
             0.5,
             "#f7f7f7"
            ],
            [
             0.6,
             "#e6f5d0"
            ],
            [
             0.7,
             "#b8e186"
            ],
            [
             0.8,
             "#7fbc41"
            ],
            [
             0.9,
             "#4d9221"
            ],
            [
             1,
             "#276419"
            ]
           ],
           "sequential": [
            [
             0,
             "#0d0887"
            ],
            [
             0.1111111111111111,
             "#46039f"
            ],
            [
             0.2222222222222222,
             "#7201a8"
            ],
            [
             0.3333333333333333,
             "#9c179e"
            ],
            [
             0.4444444444444444,
             "#bd3786"
            ],
            [
             0.5555555555555556,
             "#d8576b"
            ],
            [
             0.6666666666666666,
             "#ed7953"
            ],
            [
             0.7777777777777778,
             "#fb9f3a"
            ],
            [
             0.8888888888888888,
             "#fdca26"
            ],
            [
             1,
             "#f0f921"
            ]
           ],
           "sequentialminus": [
            [
             0,
             "#0d0887"
            ],
            [
             0.1111111111111111,
             "#46039f"
            ],
            [
             0.2222222222222222,
             "#7201a8"
            ],
            [
             0.3333333333333333,
             "#9c179e"
            ],
            [
             0.4444444444444444,
             "#bd3786"
            ],
            [
             0.5555555555555556,
             "#d8576b"
            ],
            [
             0.6666666666666666,
             "#ed7953"
            ],
            [
             0.7777777777777778,
             "#fb9f3a"
            ],
            [
             0.8888888888888888,
             "#fdca26"
            ],
            [
             1,
             "#f0f921"
            ]
           ]
          },
          "colorway": [
           "#636efa",
           "#EF553B",
           "#00cc96",
           "#ab63fa",
           "#FFA15A",
           "#19d3f3",
           "#FF6692",
           "#B6E880",
           "#FF97FF",
           "#FECB52"
          ],
          "font": {
           "color": "#2a3f5f"
          },
          "geo": {
           "bgcolor": "white",
           "lakecolor": "white",
           "landcolor": "#E5ECF6",
           "showlakes": true,
           "showland": true,
           "subunitcolor": "white"
          },
          "hoverlabel": {
           "align": "left"
          },
          "hovermode": "closest",
          "mapbox": {
           "style": "light"
          },
          "paper_bgcolor": "white",
          "plot_bgcolor": "#E5ECF6",
          "polar": {
           "angularaxis": {
            "gridcolor": "white",
            "linecolor": "white",
            "ticks": ""
           },
           "bgcolor": "#E5ECF6",
           "radialaxis": {
            "gridcolor": "white",
            "linecolor": "white",
            "ticks": ""
           }
          },
          "scene": {
           "xaxis": {
            "backgroundcolor": "#E5ECF6",
            "gridcolor": "white",
            "gridwidth": 2,
            "linecolor": "white",
            "showbackground": true,
            "ticks": "",
            "zerolinecolor": "white"
           },
           "yaxis": {
            "backgroundcolor": "#E5ECF6",
            "gridcolor": "white",
            "gridwidth": 2,
            "linecolor": "white",
            "showbackground": true,
            "ticks": "",
            "zerolinecolor": "white"
           },
           "zaxis": {
            "backgroundcolor": "#E5ECF6",
            "gridcolor": "white",
            "gridwidth": 2,
            "linecolor": "white",
            "showbackground": true,
            "ticks": "",
            "zerolinecolor": "white"
           }
          },
          "shapedefaults": {
           "line": {
            "color": "#2a3f5f"
           }
          },
          "ternary": {
           "aaxis": {
            "gridcolor": "white",
            "linecolor": "white",
            "ticks": ""
           },
           "baxis": {
            "gridcolor": "white",
            "linecolor": "white",
            "ticks": ""
           },
           "bgcolor": "#E5ECF6",
           "caxis": {
            "gridcolor": "white",
            "linecolor": "white",
            "ticks": ""
           }
          },
          "title": {
           "x": 0.05
          },
          "xaxis": {
           "automargin": true,
           "gridcolor": "white",
           "linecolor": "white",
           "ticks": "",
           "title": {
            "standoff": 15
           },
           "zerolinecolor": "white",
           "zerolinewidth": 2
          },
          "yaxis": {
           "automargin": true,
           "gridcolor": "white",
           "linecolor": "white",
           "ticks": "",
           "title": {
            "standoff": 15
           },
           "zerolinecolor": "white",
           "zerolinewidth": 2
          }
         }
        },
        "title": {
         "text": "Energy vs Duration with Loudness (size) and Positiveness (color)"
        },
        "xaxis": {
         "title": {
          "text": "Energy"
         }
        },
        "yaxis": {
         "title": {
          "text": "Duration (min)"
         }
        }
       }
      }
     },
     "metadata": {},
     "output_type": "display_data"
    }
   ],
   "source": [
    "# Create Bubble Chart\n",
    "fig = go.Figure()\n",
    "\n",
    "# Add traces for each track\n",
    "for index, row in filtered_df.iterrows():\n",
    "    fig.add_trace(go.Scatter(\n",
    "        x=[row['Energy']],\n",
    "        y=[row['Duration']/(1000*60)],\n",
    "        mode='markers',\n",
    "        marker=dict(\n",
    "            size=abs(row['Loudness']) * 3.5,  # Take the absolute value of Loudness and adjust the size of the bubbles\n",
    "            color=row['Valence'],  # Use Valence for the color of the bubbles\n",
    "            #colorscale='RdYlBu',  # Set the color scale from red to blue\n",
    "            cmin=filtered_df['Valence'].min(),  # Set the minimum value for the color scale\n",
    "            cmax=filtered_df['Valence'].max(),  # Set the maximum value for the color scale\n",
    "            opacity=0.7,\n",
    "            colorbar=dict(\n",
    "                title='Positiveness'  # Label for the colorbar\n",
    "            )\n",
    "        ),\n",
    "        text=row['Track Name'],  # Text to display when hovering over the bubbles\n",
    "        hoverinfo='text', showlegend=False,\n",
    "    ))\n",
    "\n",
    "# Update layout\n",
    "fig.update_layout(\n",
    "    title='Energy vs Duration with Loudness (size) and Positiveness (color)',\n",
    "    xaxis=dict(title='Energy'),\n",
    "    yaxis=dict(title='Duration (min)')\n",
    ")\n",
    "\n",
    "# Show the plot\n",
    "fig.show()"
   ]
  },
  {
   "cell_type": "code",
   "execution_count": 83,
   "metadata": {},
   "outputs": [],
   "source": [
    "pio.write_html(fig, file='energyduration.html', auto_open=False)\n"
   ]
  },
  {
   "cell_type": "code",
   "execution_count": 87,
   "metadata": {},
   "outputs": [
    {
     "data": {
      "application/vnd.plotly.v1+json": {
       "config": {
        "plotlyServerURL": "https://plot.ly"
       },
       "data": [
        {
         "hoverinfo": "text",
         "marker": {
          "cmax": 0.975,
          "cmin": 0.0357,
          "color": 0.175,
          "colorbar": {
           "title": {
            "text": "Positiveness"
           }
          },
          "opacity": 0.7,
          "size": 3.6399999999999997
         },
         "mode": "markers",
         "showlegend": false,
         "text": "A Day In The Life - Remastered 2009",
         "type": "scatter",
         "x": [
          5.62355
         ],
         "y": [
          0.457
         ]
        },
        {
         "hoverinfo": "text",
         "marker": {
          "cmax": 0.975,
          "cmin": 0.0357,
          "color": 0.879,
          "colorbar": {
           "title": {
            "text": "Positiveness"
           }
          },
          "opacity": 0.7,
          "size": 6.53
         },
         "mode": "markers",
         "showlegend": false,
         "text": "Sgt. Pepper's Lonely Hearts Club Band - Reprise / Remastered 2009",
         "type": "scatter",
         "x": [
          1.3177833333333333
         ],
         "y": [
          0.889
         ]
        },
        {
         "hoverinfo": "text",
         "marker": {
          "cmax": 0.975,
          "cmin": 0.0357,
          "color": 0.393,
          "colorbar": {
           "title": {
            "text": "Positiveness"
           }
          },
          "opacity": 0.7,
          "size": 3.81
         },
         "mode": "markers",
         "showlegend": false,
         "text": "She's Leaving Home - Remastered 2009",
         "type": "scatter",
         "x": [
          3.586
         ],
         "y": [
          0.214
         ]
        },
        {
         "hoverinfo": "text",
         "marker": {
          "cmax": 0.975,
          "cmin": 0.0357,
          "color": 0.63,
          "colorbar": {
           "title": {
            "text": "Positiveness"
           }
          },
          "opacity": 0.7,
          "size": 6.1
         },
         "mode": "markers",
         "showlegend": false,
         "text": "Lovely Rita - Remastered 2009",
         "type": "scatter",
         "x": [
          2.70155
         ],
         "y": [
          0.471
         ]
        },
        {
         "hoverinfo": "text",
         "marker": {
          "cmax": 0.975,
          "cmin": 0.0357,
          "color": 0.661,
          "colorbar": {
           "title": {
            "text": "Positiveness"
           }
          },
          "opacity": 0.7,
          "size": 7.039999999999999
         },
         "mode": "markers",
         "showlegend": false,
         "text": "When I'm Sixty Four - Remastered 2009",
         "type": "scatter",
         "x": [
          2.6277833333333334
         ],
         "y": [
          0.241
         ]
        },
        {
         "hoverinfo": "text",
         "marker": {
          "cmax": 0.975,
          "cmin": 0.0357,
          "color": 0.354,
          "colorbar": {
           "title": {
            "text": "Positiveness"
           }
          },
          "opacity": 0.7,
          "size": 3.5199999999999996
         },
         "mode": "markers",
         "showlegend": false,
         "text": "Within You Without You - Remastered 2009",
         "type": "scatter",
         "x": [
          5.0777833333333335
         ],
         "y": [
          0.479
         ]
        },
        {
         "hoverinfo": "text",
         "marker": {
          "cmax": 0.975,
          "cmin": 0.0357,
          "color": 0.71,
          "colorbar": {
           "title": {
            "text": "Positiveness"
           }
          },
          "opacity": 0.7,
          "size": 5.26
         },
         "mode": "markers",
         "showlegend": false,
         "text": "Being For The Benefit Of Mr. Kite! - Remastered 2009",
         "type": "scatter",
         "x": [
          2.62555
         ],
         "y": [
          0.413
         ]
        },
        {
         "hoverinfo": "text",
         "marker": {
          "cmax": 0.975,
          "cmin": 0.0357,
          "color": 0.619,
          "colorbar": {
           "title": {
            "text": "Positiveness"
           }
          },
          "opacity": 0.7,
          "size": 4.6899999999999995
         },
         "mode": "markers",
         "showlegend": false,
         "text": "Fixing A Hole - Remastered 2009",
         "type": "scatter",
         "x": [
          2.613783333333333
         ],
         "y": [
          0.507
         ]
        },
        {
         "hoverinfo": "text",
         "marker": {
          "cmax": 0.975,
          "cmin": 0.0357,
          "color": 0.764,
          "colorbar": {
           "title": {
            "text": "Positiveness"
           }
          },
          "opacity": 0.7,
          "size": 6.32
         },
         "mode": "markers",
         "showlegend": false,
         "text": "Getting Better - Remastered 2009",
         "type": "scatter",
         "x": [
          2.802
         ],
         "y": [
          0.471
         ]
        },
        {
         "hoverinfo": "text",
         "marker": {
          "cmax": 0.975,
          "cmin": 0.0357,
          "color": 0.803,
          "colorbar": {
           "title": {
            "text": "Positiveness"
           }
          },
          "opacity": 0.7,
          "size": 7.05
         },
         "mode": "markers",
         "showlegend": false,
         "text": "With A Little Help From My Friends - Remastered 2009",
         "type": "scatter",
         "x": [
          2.735116666666667
         ],
         "y": [
          0.515
         ]
        },
        {
         "hoverinfo": "text",
         "marker": {
          "cmax": 0.975,
          "cmin": 0.0357,
          "color": 0.583,
          "colorbar": {
           "title": {
            "text": "Positiveness"
           }
          },
          "opacity": 0.7,
          "size": 4.51
         },
         "mode": "markers",
         "showlegend": false,
         "text": "Sgt. Pepper's Lonely Hearts Club Band - Remastered 2009",
         "type": "scatter",
         "x": [
          2.048216666666667
         ],
         "y": [
          0.673
         ]
        },
        {
         "hoverinfo": "text",
         "marker": {
          "cmax": 0.975,
          "cmin": 0.0357,
          "color": 0.93,
          "colorbar": {
           "title": {
            "text": "Positiveness"
           }
          },
          "opacity": 0.7,
          "size": 5.42
         },
         "mode": "markers",
         "showlegend": false,
         "text": "Good Morning Good Morning - Remastered 2009",
         "type": "scatter",
         "x": [
          2.687116666666667
         ],
         "y": [
          0.618
         ]
        },
        {
         "hoverinfo": "text",
         "marker": {
          "cmax": 0.975,
          "cmin": 0.0357,
          "color": 0.668,
          "colorbar": {
           "title": {
            "text": "Positiveness"
           }
          },
          "opacity": 0.7,
          "size": 3.11
         },
         "mode": "markers",
         "showlegend": false,
         "text": "Lucy In The Sky With Diamonds - Remastered 2009",
         "type": "scatter",
         "x": [
          3.47445
         ],
         "y": [
          0.325
         ]
        },
        {
         "hoverinfo": "text",
         "marker": {
          "cmax": 0.975,
          "cmin": 0.0357,
          "color": 0.255,
          "colorbar": {
           "title": {
            "text": "Positiveness"
           }
          },
          "opacity": 0.7,
          "size": 3.8
         },
         "mode": "markers",
         "showlegend": false,
         "text": "Strawberry Fields Forever - Stereo Mix 2015",
         "type": "scatter",
         "x": [
          4.106883333333333
         ],
         "y": [
          0.627
         ]
        },
        {
         "hoverinfo": "text",
         "marker": {
          "cmax": 0.975,
          "cmin": 0.0357,
          "color": 0.641,
          "colorbar": {
           "title": {
            "text": "Positiveness"
           }
          },
          "opacity": 0.7,
          "size": 6.24
         },
         "mode": "markers",
         "showlegend": false,
         "text": "Penny Lane - Stereo Mix 2017",
         "type": "scatter",
         "x": [
          2.9857833333333335
         ],
         "y": [
          0.536
         ]
        },
        {
         "hoverinfo": "text",
         "marker": {
          "cmax": 0.975,
          "cmin": 0.0357,
          "color": 0.0378,
          "colorbar": {
           "title": {
            "text": "Positiveness"
           }
          },
          "opacity": 0.7,
          "size": 2.94
         },
         "mode": "markers",
         "showlegend": false,
         "text": "Blue Jay Way - Remastered 2009",
         "type": "scatter",
         "x": [
          3.9177833333333334
         ],
         "y": [
          0.407
         ]
        },
        {
         "hoverinfo": "text",
         "marker": {
          "cmax": 0.975,
          "cmin": 0.0357,
          "color": 0.338,
          "colorbar": {
           "title": {
            "text": "Positiveness"
           }
          },
          "opacity": 0.7,
          "size": 2.9699999999999998
         },
         "mode": "markers",
         "showlegend": false,
         "text": "Magical Mystery Tour - Remastered 2009",
         "type": "scatter",
         "x": [
          2.8351166666666665
         ],
         "y": [
          0.613
         ]
        },
        {
         "hoverinfo": "text",
         "marker": {
          "cmax": 0.975,
          "cmin": 0.0357,
          "color": 0.49,
          "colorbar": {
           "title": {
            "text": "Positiveness"
           }
          },
          "opacity": 0.7,
          "size": 3.5599999999999996
         },
         "mode": "markers",
         "showlegend": false,
         "text": "The Fool On The Hill - Remastered 2009",
         "type": "scatter",
         "x": [
          2.985116666666667
         ],
         "y": [
          0.26
         ]
        },
        {
         "hoverinfo": "text",
         "marker": {
          "cmax": 0.975,
          "cmin": 0.0357,
          "color": 0.261,
          "colorbar": {
           "title": {
            "text": "Positiveness"
           }
          },
          "opacity": 0.7,
          "size": 5.510000000000001
         },
         "mode": "markers",
         "showlegend": false,
         "text": "Flying - Remastered 2009",
         "type": "scatter",
         "x": [
          2.2586666666666666
         ],
         "y": [
          0.395
         ]
        },
        {
         "hoverinfo": "text",
         "marker": {
          "cmax": 0.975,
          "cmin": 0.0357,
          "color": 0.724,
          "colorbar": {
           "title": {
            "text": "Positiveness"
           }
          },
          "opacity": 0.7,
          "size": 6.9799999999999995
         },
         "mode": "markers",
         "showlegend": false,
         "text": "Your Mother Should Know - Remastered 2009",
         "type": "scatter",
         "x": [
          2.47355
         ],
         "y": [
          0.293
         ]
        },
        {
         "hoverinfo": "text",
         "marker": {
          "cmax": 0.975,
          "cmin": 0.0357,
          "color": 0.49,
          "colorbar": {
           "title": {
            "text": "Positiveness"
           }
          },
          "opacity": 0.7,
          "size": 6.51
         },
         "mode": "markers",
         "showlegend": false,
         "text": "Penny Lane - Remastered 2009",
         "type": "scatter",
         "x": [
          3.014883333333333
         ],
         "y": [
          0.488
         ]
        },
        {
         "hoverinfo": "text",
         "marker": {
          "cmax": 0.975,
          "cmin": 0.0357,
          "color": 0.806,
          "colorbar": {
           "title": {
            "text": "Positiveness"
           }
          },
          "opacity": 0.7,
          "size": 4.79
         },
         "mode": "markers",
         "showlegend": false,
         "text": "Hello, Goodbye - Remastered 2009",
         "type": "scatter",
         "x": [
          3.4806666666666666
         ],
         "y": [
          0.733
         ]
        },
        {
         "hoverinfo": "text",
         "marker": {
          "cmax": 0.975,
          "cmin": 0.0357,
          "color": 0.289,
          "colorbar": {
           "title": {
            "text": "Positiveness"
           }
          },
          "opacity": 0.7,
          "size": 3.9000000000000004
         },
         "mode": "markers",
         "showlegend": false,
         "text": "Strawberry Fields Forever - Remastered 2009",
         "type": "scatter",
         "x": [
          4.122
         ],
         "y": [
          0.502
         ]
        },
        {
         "hoverinfo": "text",
         "marker": {
          "cmax": 0.975,
          "cmin": 0.0357,
          "color": 0.467,
          "colorbar": {
           "title": {
            "text": "Positiveness"
           }
          },
          "opacity": 0.7,
          "size": 6.1899999999999995
         },
         "mode": "markers",
         "showlegend": false,
         "text": "Baby, You're A Rich Man - Remastered 2009",
         "type": "scatter",
         "x": [
          3.0217833333333335
         ],
         "y": [
          0.625
         ]
        },
        {
         "hoverinfo": "text",
         "marker": {
          "cmax": 0.975,
          "cmin": 0.0357,
          "color": 0.653,
          "colorbar": {
           "title": {
            "text": "Positiveness"
           }
          },
          "opacity": 0.7,
          "size": 4
         },
         "mode": "markers",
         "showlegend": false,
         "text": "All You Need Is Love - Remastered 2009",
         "type": "scatter",
         "x": [
          3.8397833333333335
         ],
         "y": [
          0.48
         ]
        },
        {
         "hoverinfo": "text",
         "marker": {
          "cmax": 0.975,
          "cmin": 0.0357,
          "color": 0.654,
          "colorbar": {
           "title": {
            "text": "Positiveness"
           }
          },
          "opacity": 0.7,
          "size": 4.01
         },
         "mode": "markers",
         "showlegend": false,
         "text": "I Am The Walrus - Remastered 2009",
         "type": "scatter",
         "x": [
          4.597783333333333
         ],
         "y": [
          0.556
         ]
        },
        {
         "hoverinfo": "text",
         "marker": {
          "cmax": 0.975,
          "cmin": 0.0357,
          "color": 0.52,
          "colorbar": {
           "title": {
            "text": "Positiveness"
           }
          },
          "opacity": 0.7,
          "size": 5.42
         },
         "mode": "markers",
         "showlegend": false,
         "text": "Piggies - Remastered 2009",
         "type": "scatter",
         "x": [
          2.0711166666666667
         ],
         "y": [
          0.445
         ]
        },
        {
         "hoverinfo": "text",
         "marker": {
          "cmax": 0.975,
          "cmin": 0.0357,
          "color": 0.372,
          "colorbar": {
           "title": {
            "text": "Positiveness"
           }
          },
          "opacity": 0.7,
          "size": 6.86
         },
         "mode": "markers",
         "showlegend": false,
         "text": "Blackbird - Remastered 2009",
         "type": "scatter",
         "x": [
          2.30645
         ],
         "y": [
          0.127
         ]
        },
        {
         "hoverinfo": "text",
         "marker": {
          "cmax": 0.975,
          "cmin": 0.0357,
          "color": 0.717,
          "colorbar": {
           "title": {
            "text": "Positiveness"
           }
          },
          "opacity": 0.7,
          "size": 4.33
         },
         "mode": "markers",
         "showlegend": false,
         "text": "I'm So Tired - Remastered 2009",
         "type": "scatter",
         "x": [
          2.0582166666666666
         ],
         "y": [
          0.483
         ]
        },
        {
         "hoverinfo": "text",
         "marker": {
          "cmax": 0.975,
          "cmin": 0.0357,
          "color": 0.824,
          "colorbar": {
           "title": {
            "text": "Positiveness"
           }
          },
          "opacity": 0.7,
          "size": 4.72
         },
         "mode": "markers",
         "showlegend": false,
         "text": "Martha My Dear - Remastered 2009",
         "type": "scatter",
         "x": [
          2.4762166666666667
         ],
         "y": [
          0.292
         ]
        },
        {
         "hoverinfo": "text",
         "marker": {
          "cmax": 0.975,
          "cmin": 0.0357,
          "color": 0.44,
          "colorbar": {
           "title": {
            "text": "Positiveness"
           }
          },
          "opacity": 0.7,
          "size": 4.31
         },
         "mode": "markers",
         "showlegend": false,
         "text": "Happiness Is A Warm Gun - Remastered 2009",
         "type": "scatter",
         "x": [
          2.74245
         ],
         "y": [
          0.54
         ]
        },
        {
         "hoverinfo": "text",
         "marker": {
          "cmax": 0.975,
          "cmin": 0.0357,
          "color": 0.648,
          "colorbar": {
           "title": {
            "text": "Positiveness"
           }
          },
          "opacity": 0.7,
          "size": 6.21
         },
         "mode": "markers",
         "showlegend": false,
         "text": "The Continuing Story Of Bungalow Bill - Remastered 2009",
         "type": "scatter",
         "x": [
          3.236
         ],
         "y": [
          0.459
         ]
        },
        {
         "hoverinfo": "text",
         "marker": {
          "cmax": 0.975,
          "cmin": 0.0357,
          "color": 0.152,
          "colorbar": {
           "title": {
            "text": "Positiveness"
           }
          },
          "opacity": 0.7,
          "size": 7.92
         },
         "mode": "markers",
         "showlegend": false,
         "text": "Wild Honey Pie - Remastered 2009",
         "type": "scatter",
         "x": [
          0.8828833333333334
         ],
         "y": [
          0.763
         ]
        },
        {
         "hoverinfo": "text",
         "marker": {
          "cmax": 0.975,
          "cmin": 0.0357,
          "color": 0.975,
          "colorbar": {
           "title": {
            "text": "Positiveness"
           }
          },
          "opacity": 0.7,
          "size": 8.18
         },
         "mode": "markers",
         "showlegend": false,
         "text": "Ob-La-Di, Ob-La-Da - Remastered 2009",
         "type": "scatter",
         "x": [
          3.1493333333333333
         ],
         "y": [
          0.728
         ]
        },
        {
         "hoverinfo": "text",
         "marker": {
          "cmax": 0.975,
          "cmin": 0.0357,
          "color": 0.789,
          "colorbar": {
           "title": {
            "text": "Positiveness"
           }
          },
          "opacity": 0.7,
          "size": 5.23
         },
         "mode": "markers",
         "showlegend": false,
         "text": "Glass Onion - Remastered 2009",
         "type": "scatter",
         "x": [
          2.2973333333333334
         ],
         "y": [
          0.51
         ]
        },
        {
         "hoverinfo": "text",
         "marker": {
          "cmax": 0.975,
          "cmin": 0.0357,
          "color": 0.332,
          "colorbar": {
           "title": {
            "text": "Positiveness"
           }
          },
          "opacity": 0.7,
          "size": 3.88
         },
         "mode": "markers",
         "showlegend": false,
         "text": "Dear Prudence - Remastered 2009",
         "type": "scatter",
         "x": [
          3.92955
         ],
         "y": [
          0.529
         ]
        },
        {
         "hoverinfo": "text",
         "marker": {
          "cmax": 0.975,
          "cmin": 0.0357,
          "color": 0.494,
          "colorbar": {
           "title": {
            "text": "Positiveness"
           }
          },
          "opacity": 0.7,
          "size": 4.8
         },
         "mode": "markers",
         "showlegend": false,
         "text": "Back In The U.S.S.R. - Remastered 2009",
         "type": "scatter",
         "x": [
          2.7242166666666665
         ],
         "y": [
          0.969
         ]
        },
        {
         "hoverinfo": "text",
         "marker": {
          "cmax": 0.975,
          "cmin": 0.0357,
          "color": 0.648,
          "colorbar": {
           "title": {
            "text": "Positiveness"
           }
          },
          "opacity": 0.7,
          "size": 5.99
         },
         "mode": "markers",
         "showlegend": false,
         "text": "Rocky Raccoon - Remastered 2009",
         "type": "scatter",
         "x": [
          3.5517833333333333
         ],
         "y": [
          0.363
         ]
        },
        {
         "hoverinfo": "text",
         "marker": {
          "cmax": 0.975,
          "cmin": 0.0357,
          "color": 0.702,
          "colorbar": {
           "title": {
            "text": "Positiveness"
           }
          },
          "opacity": 0.7,
          "size": 4.53
         },
         "mode": "markers",
         "showlegend": false,
         "text": "While My Guitar Gently Weeps - Remastered 2009",
         "type": "scatter",
         "x": [
          4.75
         ],
         "y": [
          0.654
         ]
        },
        {
         "hoverinfo": "text",
         "marker": {
          "cmax": 0.975,
          "cmin": 0.0357,
          "color": 0.946,
          "colorbar": {
           "title": {
            "text": "Positiveness"
           }
          },
          "opacity": 0.7,
          "size": 5.99
         },
         "mode": "markers",
         "showlegend": false,
         "text": "Don't Pass Me By - Remastered 2009",
         "type": "scatter",
         "x": [
          3.840883333333333
         ],
         "y": [
          0.537
         ]
        },
        {
         "hoverinfo": "text",
         "marker": {
          "cmax": 0.975,
          "cmin": 0.0357,
          "color": 0.81,
          "colorbar": {
           "title": {
            "text": "Positiveness"
           }
          },
          "opacity": 0.7,
          "size": 5.23
         },
         "mode": "markers",
         "showlegend": false,
         "text": "Everybody's Got Something To Hide Except Me And My Monkey - Remastered 2009",
         "type": "scatter",
         "x": [
          2.4128833333333333
         ],
         "y": [
          0.731
         ]
        },
        {
         "hoverinfo": "text",
         "marker": {
          "cmax": 0.975,
          "cmin": 0.0357,
          "color": 0.832,
          "colorbar": {
           "title": {
            "text": "Positiveness"
           }
          },
          "opacity": 0.7,
          "size": 6.3100000000000005
         },
         "mode": "markers",
         "showlegend": false,
         "text": "I Will - Remastered 2009",
         "type": "scatter",
         "x": [
          1.76555
         ],
         "y": [
          0.387
         ]
        },
        {
         "hoverinfo": "text",
         "marker": {
          "cmax": 0.975,
          "cmin": 0.0357,
          "color": 0.957,
          "colorbar": {
           "title": {
            "text": "Positiveness"
           }
          },
          "opacity": 0.7,
          "size": 5.89
         },
         "mode": "markers",
         "showlegend": false,
         "text": "Why Don't We Do It In The Road? - Remastered 2009",
         "type": "scatter",
         "x": [
          1.686
         ],
         "y": [
          0.522
         ]
        },
        {
         "hoverinfo": "text",
         "marker": {
          "cmax": 0.975,
          "cmin": 0.0357,
          "color": 0.178,
          "colorbar": {
           "title": {
            "text": "Positiveness"
           }
          },
          "opacity": 0.7,
          "size": 1.46
         },
         "mode": "markers",
         "showlegend": false,
         "text": "Good Night - Remastered 2009",
         "type": "scatter",
         "x": [
          3.2293333333333334
         ],
         "y": [
          0.355
         ]
        },
        {
         "hoverinfo": "text",
         "marker": {
          "cmax": 0.975,
          "cmin": 0.0357,
          "color": 0.101,
          "colorbar": {
           "title": {
            "text": "Positiveness"
           }
          },
          "opacity": 0.7,
          "size": 2.08
         },
         "mode": "markers",
         "showlegend": false,
         "text": "Revolution 9 - Remastered 2009",
         "type": "scatter",
         "x": [
          8.366883333333334
         ],
         "y": [
          0.615
         ]
        },
        {
         "hoverinfo": "text",
         "marker": {
          "cmax": 0.975,
          "cmin": 0.0357,
          "color": 0.362,
          "colorbar": {
           "title": {
            "text": "Positiveness"
           }
          },
          "opacity": 0.7,
          "size": 5.17
         },
         "mode": "markers",
         "showlegend": false,
         "text": "Cry Baby Cry - Remastered 2009",
         "type": "scatter",
         "x": [
          3.034666666666667
         ],
         "y": [
          0.529
         ]
        },
        {
         "hoverinfo": "text",
         "marker": {
          "cmax": 0.975,
          "cmin": 0.0357,
          "color": 0.553,
          "colorbar": {
           "title": {
            "text": "Positiveness"
           }
          },
          "opacity": 0.7,
          "size": 5.37
         },
         "mode": "markers",
         "showlegend": false,
         "text": "Honey Pie - Remastered 2009",
         "type": "scatter",
         "x": [
          2.686
         ],
         "y": [
          0.297
         ]
        },
        {
         "hoverinfo": "text",
         "marker": {
          "cmax": 0.975,
          "cmin": 0.0357,
          "color": 0.695,
          "colorbar": {
           "title": {
            "text": "Positiveness"
           }
          },
          "opacity": 0.7,
          "size": 3.8600000000000003
         },
         "mode": "markers",
         "showlegend": false,
         "text": "Revolution 1 - Remastered 2009",
         "type": "scatter",
         "x": [
          4.261783333333334
         ],
         "y": [
          0.626
         ]
        },
        {
         "hoverinfo": "text",
         "marker": {
          "cmax": 0.975,
          "cmin": 0.0357,
          "color": 0.793,
          "colorbar": {
           "title": {
            "text": "Positiveness"
           }
          },
          "opacity": 0.7,
          "size": 6.23
         },
         "mode": "markers",
         "showlegend": false,
         "text": "Savoy Truffle - Remastered 2009",
         "type": "scatter",
         "x": [
          2.907783333333333
         ],
         "y": [
          0.544
         ]
        },
        {
         "hoverinfo": "text",
         "marker": {
          "cmax": 0.975,
          "cmin": 0.0357,
          "color": 0.281,
          "colorbar": {
           "title": {
            "text": "Positiveness"
           }
          },
          "opacity": 0.7,
          "size": 1.6600000000000001
         },
         "mode": "markers",
         "showlegend": false,
         "text": "Helter Skelter - Remastered 2009",
         "type": "scatter",
         "x": [
          4.49645
         ],
         "y": [
          0.831
         ]
        },
        {
         "hoverinfo": "text",
         "marker": {
          "cmax": 0.975,
          "cmin": 0.0357,
          "color": 0.671,
          "colorbar": {
           "title": {
            "text": "Positiveness"
           }
          },
          "opacity": 0.7,
          "size": 5.77
         },
         "mode": "markers",
         "showlegend": false,
         "text": "Sexy Sadie - Remastered 2009",
         "type": "scatter",
         "x": [
          3.25445
         ],
         "y": [
          0.624
         ]
        },
        {
         "hoverinfo": "text",
         "marker": {
          "cmax": 0.975,
          "cmin": 0.0357,
          "color": 0.401,
          "colorbar": {
           "title": {
            "text": "Positiveness"
           }
          },
          "opacity": 0.7,
          "size": 6.08
         },
         "mode": "markers",
         "showlegend": false,
         "text": "Mother Nature's Son - Remastered 2009",
         "type": "scatter",
         "x": [
          2.80045
         ],
         "y": [
          0.178
         ]
        },
        {
         "hoverinfo": "text",
         "marker": {
          "cmax": 0.975,
          "cmin": 0.0357,
          "color": 0.435,
          "colorbar": {
           "title": {
            "text": "Positiveness"
           }
          },
          "opacity": 0.7,
          "size": 3.27
         },
         "mode": "markers",
         "showlegend": false,
         "text": "Yer Blues - Remastered 2009",
         "type": "scatter",
         "x": [
          4.00755
         ],
         "y": [
          0.525
         ]
        },
        {
         "hoverinfo": "text",
         "marker": {
          "cmax": 0.975,
          "cmin": 0.0357,
          "color": 0.91,
          "colorbar": {
           "title": {
            "text": "Positiveness"
           }
          },
          "opacity": 0.7,
          "size": 5.41
         },
         "mode": "markers",
         "showlegend": false,
         "text": "Birthday - Remastered 2009",
         "type": "scatter",
         "x": [
          2.718
         ],
         "y": [
          0.727
         ]
        },
        {
         "hoverinfo": "text",
         "marker": {
          "cmax": 0.975,
          "cmin": 0.0357,
          "color": 0.193,
          "colorbar": {
           "title": {
            "text": "Positiveness"
           }
          },
          "opacity": 0.7,
          "size": 5.12
         },
         "mode": "markers",
         "showlegend": false,
         "text": "Julia - Remastered 2009",
         "type": "scatter",
         "x": [
          2.94445
         ],
         "y": [
          0.0953
         ]
        },
        {
         "hoverinfo": "text",
         "marker": {
          "cmax": 0.975,
          "cmin": 0.0357,
          "color": 0.163,
          "colorbar": {
           "title": {
            "text": "Positiveness"
           }
          },
          "opacity": 0.7,
          "size": 3.4899999999999998
         },
         "mode": "markers",
         "showlegend": false,
         "text": "Long, Long, Long - Remastered 2009",
         "type": "scatter",
         "x": [
          3.1051166666666665
         ],
         "y": [
          0.129
         ]
        },
        {
         "hoverinfo": "text",
         "marker": {
          "cmax": 0.975,
          "cmin": 0.0357,
          "color": 0.199,
          "colorbar": {
           "title": {
            "text": "Positiveness"
           }
          },
          "opacity": 0.7,
          "size": 3.9000000000000004
         },
         "mode": "markers",
         "showlegend": false,
         "text": "It's All Too Much - Remastered 2009",
         "type": "scatter",
         "x": [
          6.416883333333334
         ],
         "y": [
          0.781
         ]
        },
        {
         "hoverinfo": "text",
         "marker": {
          "cmax": 0.975,
          "cmin": 0.0357,
          "color": 0.688,
          "colorbar": {
           "title": {
            "text": "Positiveness"
           }
          },
          "opacity": 0.7,
          "size": 6.05
         },
         "mode": "markers",
         "showlegend": false,
         "text": "Yellow Submarine - Remastered 2009",
         "type": "scatter",
         "x": [
          2.662
         ],
         "y": [
          0.536
         ]
        },
        {
         "hoverinfo": "text",
         "marker": {
          "cmax": 0.975,
          "cmin": 0.0357,
          "color": 0.801,
          "colorbar": {
           "title": {
            "text": "Positiveness"
           }
          },
          "opacity": 0.7,
          "size": 1.75
         },
         "mode": "markers",
         "showlegend": false,
         "text": "Only A Northern Song - Remastered 2009",
         "type": "scatter",
         "x": [
          3.4082166666666667
         ],
         "y": [
          0.731
         ]
        },
        {
         "hoverinfo": "text",
         "marker": {
          "cmax": 0.975,
          "cmin": 0.0357,
          "color": 0.778,
          "colorbar": {
           "title": {
            "text": "Positiveness"
           }
          },
          "opacity": 0.7,
          "size": 5.869999999999999
         },
         "mode": "markers",
         "showlegend": false,
         "text": "All Together Now - Remastered 2009",
         "type": "scatter",
         "x": [
          2.18155
         ],
         "y": [
          0.431
         ]
        },
        {
         "hoverinfo": "text",
         "marker": {
          "cmax": 0.975,
          "cmin": 0.0357,
          "color": 0.947,
          "colorbar": {
           "title": {
            "text": "Positiveness"
           }
          },
          "opacity": 0.7,
          "size": 5.869999999999999
         },
         "mode": "markers",
         "showlegend": false,
         "text": "Hey Bulldog - Remastered 2009",
         "type": "scatter",
         "x": [
          3.18845
         ],
         "y": [
          0.617
         ]
        },
        {
         "hoverinfo": "text",
         "marker": {
          "cmax": 0.975,
          "cmin": 0.0357,
          "color": 0.627,
          "colorbar": {
           "title": {
            "text": "Positiveness"
           }
          },
          "opacity": 0.7,
          "size": 4
         },
         "mode": "markers",
         "showlegend": false,
         "text": "All You Need Is Love - Remastered 2009",
         "type": "scatter",
         "x": [
          3.85355
         ],
         "y": [
          0.463
         ]
        },
        {
         "hoverinfo": "text",
         "marker": {
          "cmax": 0.975,
          "cmin": 0.0357,
          "color": 0.0489,
          "colorbar": {
           "title": {
            "text": "Positiveness"
           }
          },
          "opacity": 0.7,
          "size": 2.5300000000000002
         },
         "mode": "markers",
         "showlegend": false,
         "text": "Sea Of Monsters - Remastered 2009",
         "type": "scatter",
         "x": [
          3.61155
         ],
         "y": [
          0.166
         ]
        },
        {
         "hoverinfo": "text",
         "marker": {
          "cmax": 0.975,
          "cmin": 0.0357,
          "color": 0.0629,
          "colorbar": {
           "title": {
            "text": "Positiveness"
           }
          },
          "opacity": 0.7,
          "size": 2.37
         },
         "mode": "markers",
         "showlegend": false,
         "text": "Sea Of Time - Remastered 2009",
         "type": "scatter",
         "x": [
          3.00355
         ],
         "y": [
          0.096
         ]
        },
        {
         "hoverinfo": "text",
         "marker": {
          "cmax": 0.975,
          "cmin": 0.0357,
          "color": 0.0357,
          "colorbar": {
           "title": {
            "text": "Positiveness"
           }
          },
          "opacity": 0.7,
          "size": 2.49
         },
         "mode": "markers",
         "showlegend": false,
         "text": "Sea Of Holes - Remastered 2009",
         "type": "scatter",
         "x": [
          2.278216666666667
         ],
         "y": [
          0.0994
         ]
        },
        {
         "hoverinfo": "text",
         "marker": {
          "cmax": 0.975,
          "cmin": 0.0357,
          "color": 0.16,
          "colorbar": {
           "title": {
            "text": "Positiveness"
           }
          },
          "opacity": 0.7,
          "size": 5.380000000000001
         },
         "mode": "markers",
         "showlegend": false,
         "text": "March Of The Meanies - Remastered 2009",
         "type": "scatter",
         "x": [
          2.3226666666666667
         ],
         "y": [
          0.378
         ]
        },
        {
         "hoverinfo": "text",
         "marker": {
          "cmax": 0.975,
          "cmin": 0.0357,
          "color": 0.0462,
          "colorbar": {
           "title": {
            "text": "Positiveness"
           }
          },
          "opacity": 0.7,
          "size": 2.6900000000000004
         },
         "mode": "markers",
         "showlegend": false,
         "text": "Pepperland Laid Waste - Remastered 2009",
         "type": "scatter",
         "x": [
          2.2128833333333335
         ],
         "y": [
          0.0902
         ]
        },
        {
         "hoverinfo": "text",
         "marker": {
          "cmax": 0.975,
          "cmin": 0.0357,
          "color": 0.271,
          "colorbar": {
           "title": {
            "text": "Positiveness"
           }
          },
          "opacity": 0.7,
          "size": 4.0600000000000005
         },
         "mode": "markers",
         "showlegend": false,
         "text": "Yellow Submarine In Pepperland - Remastered 2009",
         "type": "scatter",
         "x": [
          2.2337833333333332
         ],
         "y": [
          0.219
         ]
        },
        {
         "hoverinfo": "text",
         "marker": {
          "cmax": 0.975,
          "cmin": 0.0357,
          "color": 0.367,
          "colorbar": {
           "title": {
            "text": "Positiveness"
           }
          },
          "opacity": 0.7,
          "size": 3.54
         },
         "mode": "markers",
         "showlegend": false,
         "text": "Pepperland - Remastered 2009",
         "type": "scatter",
         "x": [
          2.34555
         ],
         "y": [
          0.281
         ]
        },
        {
         "hoverinfo": "text",
         "marker": {
          "cmax": 0.975,
          "cmin": 0.0357,
          "color": 0.187,
          "colorbar": {
           "title": {
            "text": "Positiveness"
           }
          },
          "opacity": 0.7,
          "size": 5.33
         },
         "mode": "markers",
         "showlegend": false,
         "text": "Come Together - Remastered 2009",
         "type": "scatter",
         "x": [
          4.33245
         ],
         "y": [
          0.376
         ]
        },
        {
         "hoverinfo": "text",
         "marker": {
          "cmax": 0.975,
          "cmin": 0.0357,
          "color": 0.377,
          "colorbar": {
           "title": {
            "text": "Positiveness"
           }
          },
          "opacity": 0.7,
          "size": 3.96
         },
         "mode": "markers",
         "showlegend": false,
         "text": "Something - Remastered 2009",
         "type": "scatter",
         "x": [
          3.0382166666666666
         ],
         "y": [
          0.338
         ]
        },
        {
         "hoverinfo": "text",
         "marker": {
          "cmax": 0.975,
          "cmin": 0.0357,
          "color": 0.394,
          "colorbar": {
           "title": {
            "text": "Positiveness"
           }
          },
          "opacity": 0.7,
          "size": 5.57
         },
         "mode": "markers",
         "showlegend": false,
         "text": "Here Comes The Sun - Remastered 2009",
         "type": "scatter",
         "x": [
          3.09555
         ],
         "y": [
          0.54
         ]
        },
        {
         "hoverinfo": "text",
         "marker": {
          "cmax": 0.975,
          "cmin": 0.0357,
          "color": 0.549,
          "colorbar": {
           "title": {
            "text": "Positiveness"
           }
          },
          "opacity": 0.7,
          "size": 4.22
         },
         "mode": "markers",
         "showlegend": false,
         "text": "Oh! Darling - Remastered 2009",
         "type": "scatter",
         "x": [
          3.454
         ],
         "y": [
          0.656
         ]
        },
        {
         "hoverinfo": "text",
         "marker": {
          "cmax": 0.975,
          "cmin": 0.0357,
          "color": 0.73,
          "colorbar": {
           "title": {
            "text": "Positiveness"
           }
          },
          "opacity": 0.7,
          "size": 6.26
         },
         "mode": "markers",
         "showlegend": false,
         "text": "Octopus's Garden - Remastered 2009",
         "type": "scatter",
         "x": [
          2.8453333333333335
         ],
         "y": [
          0.512
         ]
        },
        {
         "hoverinfo": "text",
         "marker": {
          "cmax": 0.975,
          "cmin": 0.0357,
          "color": 0.42,
          "colorbar": {
           "title": {
            "text": "Positiveness"
           }
          },
          "opacity": 0.7,
          "size": 3.7
         },
         "mode": "markers",
         "showlegend": false,
         "text": "I Want You (She's So Heavy) - Remastered 2009",
         "type": "scatter",
         "x": [
          7.788666666666667
         ],
         "y": [
          0.515
         ]
        },
        {
         "hoverinfo": "text",
         "marker": {
          "cmax": 0.975,
          "cmin": 0.0357,
          "color": 0.162,
          "colorbar": {
           "title": {
            "text": "Positiveness"
           }
          },
          "opacity": 0.7,
          "size": 3.2800000000000002
         },
         "mode": "markers",
         "showlegend": false,
         "text": "Because - Remastered 2009",
         "type": "scatter",
         "x": [
          2.7611166666666667
         ],
         "y": [
          0.249
         ]
        },
        {
         "hoverinfo": "text",
         "marker": {
          "cmax": 0.975,
          "cmin": 0.0357,
          "color": 0.726,
          "colorbar": {
           "title": {
            "text": "Positiveness"
           }
          },
          "opacity": 0.7,
          "size": 7.640000000000001
         },
         "mode": "markers",
         "showlegend": false,
         "text": "Maxwell's Silver Hammer - Remastered 2009",
         "type": "scatter",
         "x": [
          3.465333333333333
         ],
         "y": [
          0.426
         ]
        },
        {
         "hoverinfo": "text",
         "marker": {
          "cmax": 0.975,
          "cmin": 0.0357,
          "color": 0.192,
          "colorbar": {
           "title": {
            "text": "Positiveness"
           }
          },
          "opacity": 0.7,
          "size": 4.83
         },
         "mode": "markers",
         "showlegend": false,
         "text": "Sun King - Remastered 2009",
         "type": "scatter",
         "x": [
          2.4377833333333334
         ],
         "y": [
          0.177
         ]
        },
        {
         "hoverinfo": "text",
         "marker": {
          "cmax": 0.975,
          "cmin": 0.0357,
          "color": 0.223,
          "colorbar": {
           "title": {
            "text": "Positiveness"
           }
          },
          "opacity": 0.7,
          "size": 3.35
         },
         "mode": "markers",
         "showlegend": false,
         "text": "You Never Give Me Your Money - Remastered 2009",
         "type": "scatter",
         "x": [
          4.04955
         ],
         "y": [
          0.416
         ]
        },
        {
         "hoverinfo": "text",
         "marker": {
          "cmax": 0.975,
          "cmin": 0.0357,
          "color": 0.522,
          "colorbar": {
           "title": {
            "text": "Positiveness"
           }
          },
          "opacity": 0.7,
          "size": 7.029999999999999
         },
         "mode": "markers",
         "showlegend": false,
         "text": "Her Majesty - Remastered 2009",
         "type": "scatter",
         "x": [
          0.43311666666666665
         ],
         "y": [
          0.215
         ]
        },
        {
         "hoverinfo": "text",
         "marker": {
          "cmax": 0.975,
          "cmin": 0.0357,
          "color": 0.704,
          "colorbar": {
           "title": {
            "text": "Positiveness"
           }
          },
          "opacity": 0.7,
          "size": 5.430000000000001
         },
         "mode": "markers",
         "showlegend": false,
         "text": "Carry That Weight - Remastered 2009",
         "type": "scatter",
         "x": [
          1.6077833333333333
         ],
         "y": [
          0.458
         ]
        },
        {
         "hoverinfo": "text",
         "marker": {
          "cmax": 0.975,
          "cmin": 0.0357,
          "color": 0.222,
          "colorbar": {
           "title": {
            "text": "Positiveness"
           }
          },
          "opacity": 0.7,
          "size": 6.470000000000001
         },
         "mode": "markers",
         "showlegend": false,
         "text": "The End - Remastered 2009",
         "type": "scatter",
         "x": [
          2.3602166666666666
         ],
         "y": [
          0.487
         ]
        },
        {
         "hoverinfo": "text",
         "marker": {
          "cmax": 0.975,
          "cmin": 0.0357,
          "color": 0.69,
          "colorbar": {
           "title": {
            "text": "Positiveness"
           }
          },
          "opacity": 0.7,
          "size": 5.300000000000001
         },
         "mode": "markers",
         "showlegend": false,
         "text": "She Came In Through The Bathroom Window - Remastered 2009",
         "type": "scatter",
         "x": [
          1.9771166666666666
         ],
         "y": [
          0.72
         ]
        },
        {
         "hoverinfo": "text",
         "marker": {
          "cmax": 0.975,
          "cmin": 0.0357,
          "color": 0.239,
          "colorbar": {
           "title": {
            "text": "Positiveness"
           }
          },
          "opacity": 0.7,
          "size": 4.1899999999999995
         },
         "mode": "markers",
         "showlegend": false,
         "text": "Golden Slumbers - Remastered 2009",
         "type": "scatter",
         "x": [
          1.5293333333333334
         ],
         "y": [
          0.152
         ]
        },
        {
         "hoverinfo": "text",
         "marker": {
          "cmax": 0.975,
          "cmin": 0.0357,
          "color": 0.499,
          "colorbar": {
           "title": {
            "text": "Positiveness"
           }
          },
          "opacity": 0.7,
          "size": 4.74
         },
         "mode": "markers",
         "showlegend": false,
         "text": "Polythene Pam - Remastered 2009",
         "type": "scatter",
         "x": [
          1.2106666666666666
         ],
         "y": [
          0.939
         ]
        },
        {
         "hoverinfo": "text",
         "marker": {
          "cmax": 0.975,
          "cmin": 0.0357,
          "color": 0.97,
          "colorbar": {
           "title": {
            "text": "Positiveness"
           }
          },
          "opacity": 0.7,
          "size": 6.760000000000001
         },
         "mode": "markers",
         "showlegend": false,
         "text": "Mean Mr Mustard - Remastered 2009",
         "type": "scatter",
         "x": [
          1.1088833333333334
         ],
         "y": [
          0.596
         ]
        },
        {
         "hoverinfo": "text",
         "marker": {
          "cmax": 0.975,
          "cmin": 0.0357,
          "color": 0.931,
          "colorbar": {
           "title": {
            "text": "Positiveness"
           }
          },
          "opacity": 0.7,
          "size": 7.26
         },
         "mode": "markers",
         "showlegend": false,
         "text": "Two Of Us - Remastered 2009",
         "type": "scatter",
         "x": [
          3.61355
         ],
         "y": [
          0.702
         ]
        },
        {
         "hoverinfo": "text",
         "marker": {
          "cmax": 0.975,
          "cmin": 0.0357,
          "color": 0.858,
          "colorbar": {
           "title": {
            "text": "Positiveness"
           }
          },
          "opacity": 0.7,
          "size": 2.5700000000000003
         },
         "mode": "markers",
         "showlegend": false,
         "text": "Across The Universe - Remastered 2009",
         "type": "scatter",
         "x": [
          3.802216666666667
         ],
         "y": [
          0.412
         ]
        },
        {
         "hoverinfo": "text",
         "marker": {
          "cmax": 0.975,
          "cmin": 0.0357,
          "color": 0.525,
          "colorbar": {
           "title": {
            "text": "Positiveness"
           }
          },
          "opacity": 0.7,
          "size": 2.9099999999999997
         },
         "mode": "markers",
         "showlegend": false,
         "text": "I Me Mine - Remastered 2009",
         "type": "scatter",
         "x": [
          2.42645
         ],
         "y": [
          0.638
         ]
        },
        {
         "hoverinfo": "text",
         "marker": {
          "cmax": 0.975,
          "cmin": 0.0357,
          "color": 0.67,
          "colorbar": {
           "title": {
            "text": "Positiveness"
           }
          },
          "opacity": 0.7,
          "size": 5.4
         },
         "mode": "markers",
         "showlegend": false,
         "text": "Dig It - Remastered 2009",
         "type": "scatter",
         "x": [
          0.8411166666666666
         ],
         "y": [
          0.489
         ]
        },
        {
         "hoverinfo": "text",
         "marker": {
          "cmax": 0.975,
          "cmin": 0.0357,
          "color": 0.41,
          "colorbar": {
           "title": {
            "text": "Positiveness"
           }
          },
          "opacity": 0.7,
          "size": 4.43
         },
         "mode": "markers",
         "showlegend": false,
         "text": "Let It Be - Remastered 2009",
         "type": "scatter",
         "x": [
          4.05045
         ],
         "y": [
          0.403
         ]
        },
        {
         "hoverinfo": "text",
         "marker": {
          "cmax": 0.975,
          "cmin": 0.0357,
          "color": 0.527,
          "colorbar": {
           "title": {
            "text": "Positiveness"
           }
          },
          "opacity": 0.7,
          "size": 5.380000000000001
         },
         "mode": "markers",
         "showlegend": false,
         "text": "Dig A Pony - Remastered 2009",
         "type": "scatter",
         "x": [
          3.9166666666666665
         ],
         "y": [
          0.478
         ]
        },
        {
         "hoverinfo": "text",
         "marker": {
          "cmax": 0.975,
          "cmin": 0.0357,
          "color": 0.364,
          "colorbar": {
           "title": {
            "text": "Positiveness"
           }
          },
          "opacity": 0.7,
          "size": 4.4
         },
         "mode": "markers",
         "showlegend": false,
         "text": "I've Got A Feeling - Remastered 2009",
         "type": "scatter",
         "x": [
          3.626
         ],
         "y": [
          0.609
         ]
        },
        {
         "hoverinfo": "text",
         "marker": {
          "cmax": 0.975,
          "cmin": 0.0357,
          "color": 0.888,
          "colorbar": {
           "title": {
            "text": "Positiveness"
           }
          },
          "opacity": 0.7,
          "size": 5.540000000000001
         },
         "mode": "markers",
         "showlegend": false,
         "text": "One After 909 - Remastered 2009",
         "type": "scatter",
         "x": [
          2.8993333333333333
         ],
         "y": [
          0.828
         ]
        },
        {
         "hoverinfo": "text",
         "marker": {
          "cmax": 0.975,
          "cmin": 0.0357,
          "color": 0.392,
          "colorbar": {
           "title": {
            "text": "Positiveness"
           }
          },
          "opacity": 0.7,
          "size": 2.9899999999999998
         },
         "mode": "markers",
         "showlegend": false,
         "text": "The Long And Winding Road - Remastered 2009",
         "type": "scatter",
         "x": [
          3.63645
         ],
         "y": [
          0.329
         ]
        },
        {
         "hoverinfo": "text",
         "marker": {
          "cmax": 0.975,
          "cmin": 0.0357,
          "color": 0.955,
          "colorbar": {
           "title": {
            "text": "Positiveness"
           }
          },
          "opacity": 0.7,
          "size": 8.8
         },
         "mode": "markers",
         "showlegend": false,
         "text": "For You Blue - Remastered 2009",
         "type": "scatter",
         "x": [
          2.5368833333333334
         ],
         "y": [
          0.556
         ]
        },
        {
         "hoverinfo": "text",
         "marker": {
          "cmax": 0.975,
          "cmin": 0.0357,
          "color": 0.332,
          "colorbar": {
           "title": {
            "text": "Positiveness"
           }
          },
          "opacity": 0.7,
          "size": 7.61
         },
         "mode": "markers",
         "showlegend": false,
         "text": "Get Back - Remastered 2009",
         "type": "scatter",
         "x": [
          3.15645
         ],
         "y": [
          0.592
         ]
        },
        {
         "hoverinfo": "text",
         "marker": {
          "cmax": 0.975,
          "cmin": 0.0357,
          "color": 0.524,
          "colorbar": {
           "title": {
            "text": "Positiveness"
           }
          },
          "opacity": 0.7,
          "size": 5.16
         },
         "mode": "markers",
         "showlegend": false,
         "text": "Maggie Mae - Remastered 2009",
         "type": "scatter",
         "x": [
          0.6673333333333333
         ],
         "y": [
          0.515
         ]
        }
       ],
       "layout": {
        "template": {
         "data": {
          "bar": [
           {
            "error_x": {
             "color": "#2a3f5f"
            },
            "error_y": {
             "color": "#2a3f5f"
            },
            "marker": {
             "line": {
              "color": "#E5ECF6",
              "width": 0.5
             },
             "pattern": {
              "fillmode": "overlay",
              "size": 10,
              "solidity": 0.2
             }
            },
            "type": "bar"
           }
          ],
          "barpolar": [
           {
            "marker": {
             "line": {
              "color": "#E5ECF6",
              "width": 0.5
             },
             "pattern": {
              "fillmode": "overlay",
              "size": 10,
              "solidity": 0.2
             }
            },
            "type": "barpolar"
           }
          ],
          "carpet": [
           {
            "aaxis": {
             "endlinecolor": "#2a3f5f",
             "gridcolor": "white",
             "linecolor": "white",
             "minorgridcolor": "white",
             "startlinecolor": "#2a3f5f"
            },
            "baxis": {
             "endlinecolor": "#2a3f5f",
             "gridcolor": "white",
             "linecolor": "white",
             "minorgridcolor": "white",
             "startlinecolor": "#2a3f5f"
            },
            "type": "carpet"
           }
          ],
          "choropleth": [
           {
            "colorbar": {
             "outlinewidth": 0,
             "ticks": ""
            },
            "type": "choropleth"
           }
          ],
          "contour": [
           {
            "colorbar": {
             "outlinewidth": 0,
             "ticks": ""
            },
            "colorscale": [
             [
              0,
              "#0d0887"
             ],
             [
              0.1111111111111111,
              "#46039f"
             ],
             [
              0.2222222222222222,
              "#7201a8"
             ],
             [
              0.3333333333333333,
              "#9c179e"
             ],
             [
              0.4444444444444444,
              "#bd3786"
             ],
             [
              0.5555555555555556,
              "#d8576b"
             ],
             [
              0.6666666666666666,
              "#ed7953"
             ],
             [
              0.7777777777777778,
              "#fb9f3a"
             ],
             [
              0.8888888888888888,
              "#fdca26"
             ],
             [
              1,
              "#f0f921"
             ]
            ],
            "type": "contour"
           }
          ],
          "contourcarpet": [
           {
            "colorbar": {
             "outlinewidth": 0,
             "ticks": ""
            },
            "type": "contourcarpet"
           }
          ],
          "heatmap": [
           {
            "colorbar": {
             "outlinewidth": 0,
             "ticks": ""
            },
            "colorscale": [
             [
              0,
              "#0d0887"
             ],
             [
              0.1111111111111111,
              "#46039f"
             ],
             [
              0.2222222222222222,
              "#7201a8"
             ],
             [
              0.3333333333333333,
              "#9c179e"
             ],
             [
              0.4444444444444444,
              "#bd3786"
             ],
             [
              0.5555555555555556,
              "#d8576b"
             ],
             [
              0.6666666666666666,
              "#ed7953"
             ],
             [
              0.7777777777777778,
              "#fb9f3a"
             ],
             [
              0.8888888888888888,
              "#fdca26"
             ],
             [
              1,
              "#f0f921"
             ]
            ],
            "type": "heatmap"
           }
          ],
          "heatmapgl": [
           {
            "colorbar": {
             "outlinewidth": 0,
             "ticks": ""
            },
            "colorscale": [
             [
              0,
              "#0d0887"
             ],
             [
              0.1111111111111111,
              "#46039f"
             ],
             [
              0.2222222222222222,
              "#7201a8"
             ],
             [
              0.3333333333333333,
              "#9c179e"
             ],
             [
              0.4444444444444444,
              "#bd3786"
             ],
             [
              0.5555555555555556,
              "#d8576b"
             ],
             [
              0.6666666666666666,
              "#ed7953"
             ],
             [
              0.7777777777777778,
              "#fb9f3a"
             ],
             [
              0.8888888888888888,
              "#fdca26"
             ],
             [
              1,
              "#f0f921"
             ]
            ],
            "type": "heatmapgl"
           }
          ],
          "histogram": [
           {
            "marker": {
             "pattern": {
              "fillmode": "overlay",
              "size": 10,
              "solidity": 0.2
             }
            },
            "type": "histogram"
           }
          ],
          "histogram2d": [
           {
            "colorbar": {
             "outlinewidth": 0,
             "ticks": ""
            },
            "colorscale": [
             [
              0,
              "#0d0887"
             ],
             [
              0.1111111111111111,
              "#46039f"
             ],
             [
              0.2222222222222222,
              "#7201a8"
             ],
             [
              0.3333333333333333,
              "#9c179e"
             ],
             [
              0.4444444444444444,
              "#bd3786"
             ],
             [
              0.5555555555555556,
              "#d8576b"
             ],
             [
              0.6666666666666666,
              "#ed7953"
             ],
             [
              0.7777777777777778,
              "#fb9f3a"
             ],
             [
              0.8888888888888888,
              "#fdca26"
             ],
             [
              1,
              "#f0f921"
             ]
            ],
            "type": "histogram2d"
           }
          ],
          "histogram2dcontour": [
           {
            "colorbar": {
             "outlinewidth": 0,
             "ticks": ""
            },
            "colorscale": [
             [
              0,
              "#0d0887"
             ],
             [
              0.1111111111111111,
              "#46039f"
             ],
             [
              0.2222222222222222,
              "#7201a8"
             ],
             [
              0.3333333333333333,
              "#9c179e"
             ],
             [
              0.4444444444444444,
              "#bd3786"
             ],
             [
              0.5555555555555556,
              "#d8576b"
             ],
             [
              0.6666666666666666,
              "#ed7953"
             ],
             [
              0.7777777777777778,
              "#fb9f3a"
             ],
             [
              0.8888888888888888,
              "#fdca26"
             ],
             [
              1,
              "#f0f921"
             ]
            ],
            "type": "histogram2dcontour"
           }
          ],
          "mesh3d": [
           {
            "colorbar": {
             "outlinewidth": 0,
             "ticks": ""
            },
            "type": "mesh3d"
           }
          ],
          "parcoords": [
           {
            "line": {
             "colorbar": {
              "outlinewidth": 0,
              "ticks": ""
             }
            },
            "type": "parcoords"
           }
          ],
          "pie": [
           {
            "automargin": true,
            "type": "pie"
           }
          ],
          "scatter": [
           {
            "fillpattern": {
             "fillmode": "overlay",
             "size": 10,
             "solidity": 0.2
            },
            "type": "scatter"
           }
          ],
          "scatter3d": [
           {
            "line": {
             "colorbar": {
              "outlinewidth": 0,
              "ticks": ""
             }
            },
            "marker": {
             "colorbar": {
              "outlinewidth": 0,
              "ticks": ""
             }
            },
            "type": "scatter3d"
           }
          ],
          "scattercarpet": [
           {
            "marker": {
             "colorbar": {
              "outlinewidth": 0,
              "ticks": ""
             }
            },
            "type": "scattercarpet"
           }
          ],
          "scattergeo": [
           {
            "marker": {
             "colorbar": {
              "outlinewidth": 0,
              "ticks": ""
             }
            },
            "type": "scattergeo"
           }
          ],
          "scattergl": [
           {
            "marker": {
             "colorbar": {
              "outlinewidth": 0,
              "ticks": ""
             }
            },
            "type": "scattergl"
           }
          ],
          "scattermapbox": [
           {
            "marker": {
             "colorbar": {
              "outlinewidth": 0,
              "ticks": ""
             }
            },
            "type": "scattermapbox"
           }
          ],
          "scatterpolar": [
           {
            "marker": {
             "colorbar": {
              "outlinewidth": 0,
              "ticks": ""
             }
            },
            "type": "scatterpolar"
           }
          ],
          "scatterpolargl": [
           {
            "marker": {
             "colorbar": {
              "outlinewidth": 0,
              "ticks": ""
             }
            },
            "type": "scatterpolargl"
           }
          ],
          "scatterternary": [
           {
            "marker": {
             "colorbar": {
              "outlinewidth": 0,
              "ticks": ""
             }
            },
            "type": "scatterternary"
           }
          ],
          "surface": [
           {
            "colorbar": {
             "outlinewidth": 0,
             "ticks": ""
            },
            "colorscale": [
             [
              0,
              "#0d0887"
             ],
             [
              0.1111111111111111,
              "#46039f"
             ],
             [
              0.2222222222222222,
              "#7201a8"
             ],
             [
              0.3333333333333333,
              "#9c179e"
             ],
             [
              0.4444444444444444,
              "#bd3786"
             ],
             [
              0.5555555555555556,
              "#d8576b"
             ],
             [
              0.6666666666666666,
              "#ed7953"
             ],
             [
              0.7777777777777778,
              "#fb9f3a"
             ],
             [
              0.8888888888888888,
              "#fdca26"
             ],
             [
              1,
              "#f0f921"
             ]
            ],
            "type": "surface"
           }
          ],
          "table": [
           {
            "cells": {
             "fill": {
              "color": "#EBF0F8"
             },
             "line": {
              "color": "white"
             }
            },
            "header": {
             "fill": {
              "color": "#C8D4E3"
             },
             "line": {
              "color": "white"
             }
            },
            "type": "table"
           }
          ]
         },
         "layout": {
          "annotationdefaults": {
           "arrowcolor": "#2a3f5f",
           "arrowhead": 0,
           "arrowwidth": 1
          },
          "autotypenumbers": "strict",
          "coloraxis": {
           "colorbar": {
            "outlinewidth": 0,
            "ticks": ""
           }
          },
          "colorscale": {
           "diverging": [
            [
             0,
             "#8e0152"
            ],
            [
             0.1,
             "#c51b7d"
            ],
            [
             0.2,
             "#de77ae"
            ],
            [
             0.3,
             "#f1b6da"
            ],
            [
             0.4,
             "#fde0ef"
            ],
            [
             0.5,
             "#f7f7f7"
            ],
            [
             0.6,
             "#e6f5d0"
            ],
            [
             0.7,
             "#b8e186"
            ],
            [
             0.8,
             "#7fbc41"
            ],
            [
             0.9,
             "#4d9221"
            ],
            [
             1,
             "#276419"
            ]
           ],
           "sequential": [
            [
             0,
             "#0d0887"
            ],
            [
             0.1111111111111111,
             "#46039f"
            ],
            [
             0.2222222222222222,
             "#7201a8"
            ],
            [
             0.3333333333333333,
             "#9c179e"
            ],
            [
             0.4444444444444444,
             "#bd3786"
            ],
            [
             0.5555555555555556,
             "#d8576b"
            ],
            [
             0.6666666666666666,
             "#ed7953"
            ],
            [
             0.7777777777777778,
             "#fb9f3a"
            ],
            [
             0.8888888888888888,
             "#fdca26"
            ],
            [
             1,
             "#f0f921"
            ]
           ],
           "sequentialminus": [
            [
             0,
             "#0d0887"
            ],
            [
             0.1111111111111111,
             "#46039f"
            ],
            [
             0.2222222222222222,
             "#7201a8"
            ],
            [
             0.3333333333333333,
             "#9c179e"
            ],
            [
             0.4444444444444444,
             "#bd3786"
            ],
            [
             0.5555555555555556,
             "#d8576b"
            ],
            [
             0.6666666666666666,
             "#ed7953"
            ],
            [
             0.7777777777777778,
             "#fb9f3a"
            ],
            [
             0.8888888888888888,
             "#fdca26"
            ],
            [
             1,
             "#f0f921"
            ]
           ]
          },
          "colorway": [
           "#636efa",
           "#EF553B",
           "#00cc96",
           "#ab63fa",
           "#FFA15A",
           "#19d3f3",
           "#FF6692",
           "#B6E880",
           "#FF97FF",
           "#FECB52"
          ],
          "font": {
           "color": "#2a3f5f"
          },
          "geo": {
           "bgcolor": "white",
           "lakecolor": "white",
           "landcolor": "#E5ECF6",
           "showlakes": true,
           "showland": true,
           "subunitcolor": "white"
          },
          "hoverlabel": {
           "align": "left"
          },
          "hovermode": "closest",
          "mapbox": {
           "style": "light"
          },
          "paper_bgcolor": "white",
          "plot_bgcolor": "#E5ECF6",
          "polar": {
           "angularaxis": {
            "gridcolor": "white",
            "linecolor": "white",
            "ticks": ""
           },
           "bgcolor": "#E5ECF6",
           "radialaxis": {
            "gridcolor": "white",
            "linecolor": "white",
            "ticks": ""
           }
          },
          "scene": {
           "xaxis": {
            "backgroundcolor": "#E5ECF6",
            "gridcolor": "white",
            "gridwidth": 2,
            "linecolor": "white",
            "showbackground": true,
            "ticks": "",
            "zerolinecolor": "white"
           },
           "yaxis": {
            "backgroundcolor": "#E5ECF6",
            "gridcolor": "white",
            "gridwidth": 2,
            "linecolor": "white",
            "showbackground": true,
            "ticks": "",
            "zerolinecolor": "white"
           },
           "zaxis": {
            "backgroundcolor": "#E5ECF6",
            "gridcolor": "white",
            "gridwidth": 2,
            "linecolor": "white",
            "showbackground": true,
            "ticks": "",
            "zerolinecolor": "white"
           }
          },
          "shapedefaults": {
           "line": {
            "color": "#2a3f5f"
           }
          },
          "ternary": {
           "aaxis": {
            "gridcolor": "white",
            "linecolor": "white",
            "ticks": ""
           },
           "baxis": {
            "gridcolor": "white",
            "linecolor": "white",
            "ticks": ""
           },
           "bgcolor": "#E5ECF6",
           "caxis": {
            "gridcolor": "white",
            "linecolor": "white",
            "ticks": ""
           }
          },
          "title": {
           "x": 0.05
          },
          "xaxis": {
           "automargin": true,
           "gridcolor": "white",
           "linecolor": "white",
           "ticks": "",
           "title": {
            "standoff": 15
           },
           "zerolinecolor": "white",
           "zerolinewidth": 2
          },
          "yaxis": {
           "automargin": true,
           "gridcolor": "white",
           "linecolor": "white",
           "ticks": "",
           "title": {
            "standoff": 15
           },
           "zerolinecolor": "white",
           "zerolinewidth": 2
          }
         }
        },
        "title": {
         "text": "Duration vs Energy with Danceability (size) and Positiveness (color)"
        },
        "xaxis": {
         "title": {
          "text": "Duration"
         }
        },
        "yaxis": {
         "title": {
          "text": "Energy"
         }
        }
       }
      }
     },
     "metadata": {},
     "output_type": "display_data"
    }
   ],
   "source": [
    "fig = go.Figure()\n",
    "\n",
    "# Add traces for each track\n",
    "for index, row in filtered_df.iterrows():\n",
    "    fig.add_trace(go.Scatter(\n",
    "        x=[row['Duration']/(1000*60)],\n",
    "        y=[row['Energy']],\n",
    "        mode='markers',\n",
    "        marker=dict(\n",
    "            size=row['Danceability'] * 10,  # Adjust the size of the bubbles based on Energy\n",
    "            color=row['Valence'],  # Use Valence for the color of the bubbles\n",
    "            #colorscale='RdBu',  # Set the color scale from red to blue\n",
    "            cmin=filtered_df['Valence'].min(),  # Set the minimum value for the color scale\n",
    "            cmax=filtered_df['Valence'].max(),  # Set the maximum value for the color scale\n",
    "            opacity= 0.7, # row['Normalized Loudness'],  # Set the opacity based on Normalized Loudness\n",
    "            colorbar=dict(\n",
    "                title='Positiveness'  # Label for the colorbar\n",
    "            )\n",
    "        ),\n",
    "        text=row['Track Name'],  # Text to display when hovering over the bubbles\n",
    "        hoverinfo='text', showlegend=False,\n",
    "    ))\n",
    "\n",
    "# Update layout\n",
    "fig.update_layout(\n",
    "    title='Duration vs Energy with Danceability (size) and Positiveness (color)',\n",
    "    xaxis=dict(title='Duration'),\n",
    "    yaxis=dict(title='Energy')\n",
    ")\n",
    "\n",
    "# Show the plot\n",
    "fig.show()"
   ]
  }
 ],
 "metadata": {
  "kernelspec": {
   "display_name": "Python 3",
   "language": "python",
   "name": "python3"
  },
  "language_info": {
   "codemirror_mode": {
    "name": "ipython",
    "version": 3
   },
   "file_extension": ".py",
   "mimetype": "text/x-python",
   "name": "python",
   "nbconvert_exporter": "python",
   "pygments_lexer": "ipython3",
   "version": "3.11.2"
  },
  "orig_nbformat": 4
 },
 "nbformat": 4,
 "nbformat_minor": 2
}
